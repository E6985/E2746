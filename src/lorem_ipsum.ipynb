{
 "cells": [
  {
   "cell_type": "markdown",
   "metadata": {},
   "source": [
    "# lorem_ipsum\n",
    "> [TABLE OF CONTENTS](https://github.com/E6985/E2746/blob/master/README.md)\n",
    "***"
   ]
  },
  {
   "cell_type": "markdown",
   "metadata": {},
   "source": [
    "### markers\n",
    "***"
   ]
  },
  {
   "cell_type": "markdown",
   "metadata": {},
   "source": [
    "blank &#x26AA; &#x26AA\\;"
   ]
  },
  {
   "cell_type": "markdown",
   "metadata": {},
   "source": [
    "beginner &#x1F530; &#x1F530\\;"
   ]
  },
  {
   "cell_type": "markdown",
   "metadata": {},
   "source": [
    "pending &#x1F534; &#x1F534\\;"
   ]
  },
  {
   "cell_type": "markdown",
   "metadata": {},
   "source": [
    "review &#x1F4CC; &#x1F4CC\\;"
   ]
  },
  {
   "cell_type": "markdown",
   "metadata": {},
   "source": [
    "errors &#x2623; &#x2623\\;"
   ]
  },
  {
   "cell_type": "markdown",
   "metadata": {},
   "source": [
    "code &#x00A9; &#x00A9\\;"
   ]
  },
  {
   "cell_type": "markdown",
   "metadata": {},
   "source": [
    "revert &#x1F7E1; &#x1F7E1\\;"
   ]
  },
  {
   "cell_type": "markdown",
   "metadata": {},
   "source": [
    "finish &#x1F7E2; &#x1F7E2\\;"
   ]
  },
  {
   "cell_type": "markdown",
   "metadata": {},
   "source": [
    "end &#x1F3C1; &#x1F3C1\\;"
   ]
  },
  {
   "cell_type": "markdown",
   "metadata": {},
   "source": [
    "***\n",
    "### END"
   ]
  },
  {
   "cell_type": "markdown",
   "metadata": {},
   "source": [
    "### github\n",
    "***"
   ]
  },
  {
   "cell_type": "markdown",
   "metadata": {},
   "source": [
    "```\n",
    "git reset HEAD~\n",
    "```"
   ]
  },
  {
   "cell_type": "markdown",
   "metadata": {},
   "source": [
    "```\n",
    "git push -f origin HEAD^:master\n",
    "```"
   ]
  },
  {
   "cell_type": "markdown",
   "metadata": {},
   "source": [
    "***\n",
    "### END"
   ]
  },
  {
   "cell_type": "markdown",
   "metadata": {},
   "source": [
    "***\n",
    "# END"
   ]
  }
 ],
 "metadata": {
  "kernelspec": {
   "display_name": "Python 3",
   "language": "python",
   "name": "python3"
  },
  "language_info": {
   "codemirror_mode": {
    "name": "ipython",
    "version": 3
   },
   "file_extension": ".py",
   "mimetype": "text/x-python",
   "name": "python",
   "nbconvert_exporter": "python",
   "pygments_lexer": "ipython3",
   "version": "3.7.6"
  }
 },
 "nbformat": 4,
 "nbformat_minor": 4
}
