{
 "cells": [
  {
   "cell_type": "markdown",
   "metadata": {},
   "source": [
    "# data-database-types-non-relational-NoSQL-MongoDB-JSON-BSON-document\n",
    "> [TABLE OF CONTENTS](https://github.com/E6985/E2746/blob/master/README.md)\n",
    "***"
   ]
  },
  {
   "cell_type": "markdown",
   "metadata": {},
   "source": [
    "- relational_row-record-tuple - mongodb_document - in a - relational_table-entity-relation - mongodb_collection - is the basic unit of data - mongodb_document - analogous to or equal to - json objects - or - relational_row-record-tuple in a rdbms - relational_row-record-tuple - mongodb_document - five name/value pairs - \\_id - name - house - street - town [7]"
   ]
  },
  {
   "cell_type": "markdown",
   "metadata": {},
   "source": [
    "```json\n",
    "{\n",
    "    \"_id\":ObjectId(\"5919fecf0822ef8ecec132f8\"),\n",
    "    \"name\":\"Ted\",\n",
    "    \"house\":31,\n",
    "    \"street\":\"Main St.\",\n",
    "    \"town\":\"Athenry\"\n",
    "}\n",
    "```\n",
    "\n",
    "```json\n",
    "{\"_id\":ObjectId(\"5919fecf0822ef8ecec132f8\"),\"name\":\"Ted\",\"house\":31,\"street\":\"Main St.\",\"town\":\"Athenry\"}\n",
    "```"
   ]
  },
  {
   "cell_type": "markdown",
   "metadata": {},
   "source": [
    "***\n",
    "# END"
   ]
  }
 ],
 "metadata": {
  "kernelspec": {
   "display_name": "Python 3",
   "language": "python",
   "name": "python3"
  },
  "language_info": {
   "codemirror_mode": {
    "name": "ipython",
    "version": 3
   },
   "file_extension": ".py",
   "mimetype": "text/x-python",
   "name": "python",
   "nbconvert_exporter": "python",
   "pygments_lexer": "ipython3",
   "version": "3.7.6"
  }
 },
 "nbformat": 4,
 "nbformat_minor": 4
}
