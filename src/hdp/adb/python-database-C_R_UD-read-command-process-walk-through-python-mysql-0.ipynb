{
 "cells": [
  {
   "cell_type": "markdown",
   "metadata": {},
   "source": [
    "# python-database-C_R_UD-read-command-process-walk-through-python-mysql-0\n",
    "> [TABLE OF CONTENTS](https://github.com/E6985/E2746/blob/master/README.md)\n",
    "***"
   ]
  },
  {
   "cell_type": "markdown",
   "metadata": {},
   "source": [
    "```sql\n",
    "mysql> use school;\n",
    "Database changed\n",
    "```"
   ]
  },
  {
   "cell_type": "markdown",
   "metadata": {},
   "source": [
    "```sql\n",
    "mysql> show tables;\n",
    "+------------------+\n",
    "| Tables_in_school |\n",
    "+------------------+\n",
    "| subject          |\n",
    "| teacher          |\n",
    "+------------------+\n",
    "2 rows in set (0.00 sec)\n",
    "```"
   ]
  },
  {
   "cell_type": "markdown",
   "metadata": {},
   "source": [
    "```sql\n",
    "mysql> SELECT *\n",
    "    -> FROM teacher;\n",
    "+-----+--------------+-------+------------+------------+\n",
    "| tid | Name         | level | experience | dob        |\n",
    "+-----+--------------+-------+------------+------------+\n",
    "|   1 | Mr. Pasteur  | L     |         15 | 1960-02-02 |\n",
    "|   2 | Ms. Dubois   | L     |         22 | 1967-09-02 |\n",
    "|   3 | Ms. Smith    | J     |          4 | 1980-03-23 |\n",
    "|   4 | Mr. Hawking  | L     |         40 | 1951-02-19 |\n",
    "|   5 | Mr. Kavanagh | J     |         50 | 1949-11-01 |\n",
    "|   6 | Mr. Picasso  | J     |         42 | 1939-03-30 |\n",
    "|   7 | Fr. Lynch    | L     |         55 | 1939-03-31 |\n",
    "+-----+--------------+-------+------------+------------+\n",
    "7 rows in set (0.00 sec)\n",
    "```"
   ]
  },
  {
   "cell_type": "markdown",
   "metadata": {},
   "source": [
    "- take a number in from the console representing experience and return all details of all teachers whose experience is less than that number [7]"
   ]
  },
  {
   "cell_type": "markdown",
   "metadata": {},
   "source": [
    "```sql\n",
    "mysql> SELECT *\n",
    "    -> FROM teacher\n",
    "    -> WHERE experience<20;\n",
    "+-----+-------------+-------+------------+------------+\n",
    "| tid | Name        | level | experience | dob        |\n",
    "+-----+-------------+-------+------------+------------+\n",
    "|   1 | Mr. Pasteur | L     |         15 | 1960-02-02 |\n",
    "|   3 | Ms. Smith   | J     |          4 | 1980-03-23 |\n",
    "+-----+-------------+-------+------------+------------+\n",
    "2 rows in set (0.00 sec)\n",
    "```"
   ]
  },
  {
   "cell_type": "markdown",
   "metadata": {},
   "source": [
    "```\n",
    "$ vi py/schoolDB.py\n",
    "```"
   ]
  },
  {
   "cell_type": "markdown",
   "metadata": {},
   "source": [
    "```python\n",
    "import pymysql\n",
    "\n",
    "conn=None\n",
    "\n",
    "# define function - fConnectDB\n",
    "def fConnectDB():\n",
    "    # accessible any function\n",
    "    global conn\n",
    "    conn=pymysql.connect(\n",
    "    \thost=\"localhost\",\n",
    "    \tuser=\"root\",\n",
    "    \tpassword=\"******\",\n",
    "    \tdb=\"school\",\n",
    "    \tcursorclass=pymysql.cursors.DictCursor)\n",
    "\n",
    "# define function - fGetExperience\n",
    "def fGetExperience(nParN):\n",
    "    # check database connection\n",
    "    if (not conn):\n",
    "        # function fConnectDB - call\n",
    "        fConnectDB() # connect database - school\n",
    "\t\n",
    "    # parameter - nParN - %s\n",
    "    nQuery=\"SELECT * FROM teacher WHERE experience<%s\"\n",
    "\n",
    "    with conn:\n",
    "        # create object - cursor\n",
    "        cursor=conn.cursor()\n",
    "        # execute sql - nQuery - pass parameter - nParN\n",
    "        cursor.execute(nQuery,(nParN))\n",
    "        # return - cursor - all rows \n",
    "        nResult=cursor.fetchall()\n",
    "        # return - caller function  \n",
    "        return nResult\n",
    "```"
   ]
  },
  {
   "cell_type": "markdown",
   "metadata": {},
   "source": [
    "```\n",
    "$ vi py/python-mysql-0.py\n",
    "```"
   ]
  },
  {
   "cell_type": "markdown",
   "metadata": {},
   "source": [
    "```python\n",
    "import schoolDB\n",
    "\n",
    "# define function - main\n",
    "def main():\n",
    "\t# function fGetNumber - call\n",
    "    nNumber=fGetNumber()\n",
    "\t# function schoolDB.fGetExperience - call\n",
    "    nTeachers=schoolDB.fGetExperience(nNumber)\n",
    "    # db - rows - columns\n",
    "    print(nTeachers)\n",
    "    \n",
    "# define function - fGetNumber\n",
    "def fGetNumber():\n",
    "    return input(\"Enter Number: \")\n",
    "\n",
    "# keyword - __name__ - evaluate current module [1]\n",
    "if __name__==\"__main__\":\n",
    "    # function main - call\n",
    "    main()\n",
    "```"
   ]
  },
  {
   "cell_type": "markdown",
   "metadata": {},
   "source": [
    "```\n",
    "$ python py/python-mysql-0.py\n",
    "```"
   ]
  },
  {
   "cell_type": "markdown",
   "metadata": {},
   "source": [
    "```python\n",
    "Enter Number: 20\n",
    "[{'tid': 1, 'Name': 'Mr. Pasteur', 'level': 'L', 'experience': 15, 'dob': datetime.date(1960, 2, 2)}, {'tid': 3, 'Name': 'Ms. Smith', 'level': 'J', 'experience': 4, 'dob': datetime.date(1980, 3, 23)}]\n",
    "```"
   ]
  },
  {
   "cell_type": "markdown",
   "metadata": {},
   "source": [
    "```mysql\n",
    "mysql> SELECT tid\n",
    "    -> FROM teacher\n",
    "    -> WHERE experience<20;\n",
    "+-----+\n",
    "| tid |\n",
    "+-----+\n",
    "|   1 |\n",
    "|   3 |\n",
    "+-----+\n",
    "2 rows in set (0.00 sec)\n",
    "```"
   ]
  },
  {
   "cell_type": "markdown",
   "metadata": {},
   "source": [
    "```\n",
    "$ vi py/python-mysql-0.py\n",
    "```"
   ]
  },
  {
   "cell_type": "markdown",
   "metadata": {},
   "source": [
    "```python\n",
    "import schoolDB\n",
    "\n",
    "# define function - main\n",
    "def main():\n",
    "\t# function fGetNumber - call\n",
    "    nNumber=fGetNumber()\n",
    "\t# function schoolDB.fGetExperience - call\n",
    "    nTeachers=schoolDB.fGetExperience(nNumber)\n",
    "    for nEachRow in nTeachers:\n",
    "    \t# db - rows - column - tid\n",
    "    \tprint(nEachRow[\"tid\"])\n",
    "\n",
    "# define function - fGetNumber\n",
    "def fGetNumber():\n",
    "    return input(\"Enter Number: \")\n",
    "\n",
    "# keyword - __name__ - evaluate current module [1]\n",
    "if __name__==\"__main__\":\n",
    "    # function main - call\n",
    "    main()\n",
    "```"
   ]
  },
  {
   "cell_type": "markdown",
   "metadata": {},
   "source": [
    "```\n",
    "$ python py/python-mysql-0.py\n",
    "```"
   ]
  },
  {
   "cell_type": "markdown",
   "metadata": {},
   "source": [
    "```python\n",
    "Enter Number: 20\n",
    "1\n",
    "3\n",
    "```"
   ]
  },
  {
   "cell_type": "markdown",
   "metadata": {},
   "source": [
    "```mysql\n",
    "mysql> SELECT *\n",
    "    -> FROM teacher\n",
    "    -> WHERE experience<30;\n",
    "+-----+-------------+-------+------------+------------+\n",
    "| tid | Name        | level | experience | dob        |\n",
    "+-----+-------------+-------+------------+------------+\n",
    "|   1 | Mr. Pasteur | L     |         15 | 1960-02-02 |\n",
    "|   2 | Ms. Dubois  | L     |         22 | 1967-09-02 |\n",
    "|   3 | Ms. Smith   | J     |          4 | 1980-03-23 |\n",
    "+-----+-------------+-------+------------+------------+\n",
    "3 rows in set (0.00 sec)\n",
    "```"
   ]
  },
  {
   "cell_type": "markdown",
   "metadata": {},
   "source": [
    "```\n",
    "$ vi py/python-mysql-0.py\n",
    "```"
   ]
  },
  {
   "cell_type": "markdown",
   "metadata": {},
   "source": [
    "```python\n",
    "import schoolDB\n",
    "\n",
    "# define function - main\n",
    "def main():\n",
    "\t# function fGetNumber - call\n",
    "    nNumber=fGetNumber()\n",
    "\t# function schoolDB.fGetExperience - call\n",
    "    nTeachers=schoolDB.fGetExperience(nNumber)\n",
    "    for nEachRow in nTeachers:\n",
    "    \t# db - rows - columns - tid - Name - level - experience - dob\n",
    "    \tprint(nEachRow[\"tid\"],\"|\",\n",
    "    \t\tnEachRow[\"Name\"],\"|\",\n",
    "    \t\tnEachRow[\"level\"],\"|\",\n",
    "    \t\tnEachRow[\"experience\"],\"|\",\n",
    "    \t\tnEachRow[\"dob\"] )\n",
    "\n",
    "# define function - fGetNumber\n",
    "def fGetNumber():\n",
    "    return input(\"Enter Number: \")\n",
    "\n",
    "# keyword - __name__ - evaluate current module [1]\n",
    "if __name__==\"__main__\":\n",
    "    # function main - call\n",
    "    main()\n",
    "```"
   ]
  },
  {
   "cell_type": "markdown",
   "metadata": {},
   "source": [
    "```\n",
    "$ python py/python-mysql-0.py\n",
    "```"
   ]
  },
  {
   "cell_type": "markdown",
   "metadata": {},
   "source": [
    "```python\n",
    "Enter Number: 30\n",
    "1 | Mr. Pasteur | L | 15 | 1960-02-02\n",
    "2 | Ms. Dubois | L | 22 | 1967-09-02\n",
    "3 | Ms. Smith | J | 4 | 1980-03-23\n",
    "```"
   ]
  },
  {
   "cell_type": "markdown",
   "metadata": {},
   "source": [
    "```\n",
    "$ python py/python-mysql-0.py\n",
    "```"
   ]
  },
  {
   "cell_type": "markdown",
   "metadata": {},
   "source": [
    "```python\n",
    "Enter Number: thirty\n",
    "C:\\ProgramData\\Anaconda3\\lib\\site-packages\\pymysql\\cursors.py:329: Warning: (1292, \"Truncated incorrect DOUBLE value: 'a'\")\n",
    "  self._do_get_result()\n",
    "```"
   ]
  },
  {
   "cell_type": "markdown",
   "metadata": {},
   "source": [
    "```\n",
    "$ vi py/python-mysql-0.py\n",
    "```"
   ]
  },
  {
   "cell_type": "markdown",
   "metadata": {},
   "source": [
    "```python\n",
    "import schoolDB\n",
    "\n",
    "# define function - main\n",
    "def main():\n",
    "\twhile True: # infinite\n",
    "\t\t# db - send actual number\n",
    "\t\ttry:\n",
    "\t\t\t# function fGetNumber - call\n",
    "\t\t    nNumber=int(fGetNumber())\n",
    "\t\t\t# function schoolDB.fGetExperience - call\n",
    "\t\t    nTeachers=schoolDB.fGetExperience(nNumber)\n",
    "\t\t    for nEachRow in nTeachers:\n",
    "\t\t    \t# db - rows - columns - tid - Name - level - experience - dob\n",
    "\t\t    \tprint(nEachRow[\"tid\"],\"|\",\n",
    "\t\t    \t\tnEachRow[\"Name\"],\"|\",\n",
    "\t\t    \t\tnEachRow[\"level\"],\"|\",\n",
    "\t\t    \t\tnEachRow[\"experience\"],\"|\",\n",
    "\t\t    \t\tnEachRow[\"dob\"] )\n",
    "\t\t    break # - valid nNumber - exit\n",
    "\t\t# not actual number - iterate\n",
    "\t\texcept Exception as nE:\n",
    "\t\t\tprint(\"Invalid Number - Try Again\")\n",
    "\n",
    "# define function - fGetNumber\n",
    "def fGetNumber():\n",
    "    return input(\"Enter Number: \")\n",
    "\n",
    "# keyword - __name__ - evaluate current module [1]\n",
    "if __name__==\"__main__\":\n",
    "    # function main - call\n",
    "    main()\n",
    "```"
   ]
  },
  {
   "cell_type": "markdown",
   "metadata": {},
   "source": [
    "```\n",
    "$ python py/python-mysql-0.py\n",
    "```"
   ]
  },
  {
   "cell_type": "markdown",
   "metadata": {},
   "source": [
    "```python\n",
    "Enter Number: thirty\n",
    "Invalid Number - Try Again\n",
    "Enter Number: 30\n",
    "1 | Mr. Pasteur | L | 15 | 1960-02-02\n",
    "2 | Ms. Dubois | L | 22 | 1967-09-02\n",
    "3 | Ms. Smith | J | 4 | 1980-03-23\n",
    "```"
   ]
  },
  {
   "cell_type": "markdown",
   "metadata": {},
   "source": [
    "***\n",
    "# END"
   ]
  }
 ],
 "metadata": {
  "kernelspec": {
   "display_name": "Python 3",
   "language": "python",
   "name": "python3"
  },
  "language_info": {
   "codemirror_mode": {
    "name": "ipython",
    "version": 3
   },
   "file_extension": ".py",
   "mimetype": "text/x-python",
   "name": "python",
   "nbconvert_exporter": "python",
   "pygments_lexer": "ipython3",
   "version": "3.7.6"
  }
 },
 "nbformat": 4,
 "nbformat_minor": 4
}
