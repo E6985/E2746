{
 "cells": [
  {
   "cell_type": "markdown",
   "metadata": {},
   "source": [
    "# data-database-types-non-relational-NoSQL-MongoDB-JSON-BSON-document-method-find\n",
    "> [TABLE OF CONTENTS](https://github.com/E6985/E2746/blob/master/README.md)\n",
    "***"
   ]
  },
  {
   "cell_type": "markdown",
   "metadata": {},
   "source": [
    "- method - find - data in - relational_table-entity-relation - mongodb_collection - syntax - optional parameter - query - optional parameter - projection [7]"
   ]
  },
  {
   "cell_type": "markdown",
   "metadata": {},
   "source": [
    "```json\n",
    "find(query,projection)\n",
    "```"
   ]
  },
  {
   "cell_type": "markdown",
   "metadata": {},
   "source": [
    "```json\n",
    "> show dbs;     \n",
    "admin    0.000GB\n",
    "config   0.000GB\n",
    "demo1    0.000GB\n",
    "local    0.000GB\n",
    "mdb      0.000GB\n",
    "myNewDB  0.000GB\n",
    "```"
   ]
  },
  {
   "cell_type": "markdown",
   "metadata": {},
   "source": [
    "```json\n",
    "> use mdb;\n",
    "switched to db mdb\n",
    "```"
   ]
  },
  {
   "cell_type": "markdown",
   "metadata": {},
   "source": [
    "```json\n",
    "> db;\n",
    "mdb\n",
    "```"
   ]
  },
  {
   "cell_type": "markdown",
   "metadata": {},
   "source": [
    "```json\n",
    "> show collections;\n",
    "mydoc\n",
    "```"
   ]
  },
  {
   "cell_type": "markdown",
   "metadata": {},
   "source": [
    "- find all - relational_rows-records-tuples - mongodb_documents - method - find [7]\n",
    "\n",
    "```json\n",
    ".find()\n",
    "```\n",
    "\n",
    "- method - find - passing to the method - no parameters - or empty - {} - all relational_rows-records-tuples - mongodb_documents - returned - must specify where the - relational_rows-records-tuples - mongodb_documents - sought are to be matched in the - relational_table-entity-relation - mongodb_collection - mydoc [7]\n",
    "\n",
    "```json\n",
    ".mydoc\n",
    "```\n",
    "\n",
    "- must specify which database to save to - db - reference to the current database - mdb [7]\n",
    "\n",
    "```json\n",
    "db\n",
    "```"
   ]
  },
  {
   "cell_type": "markdown",
   "metadata": {},
   "source": [
    "```json\n",
    "> db.mydoc.find();\n",
    "{ \"_id\" : 1, \"name\" : \"Tom\", \"age\" : 37 }\n",
    "{ \"_id\" : 2, \"name\" : \"Bill\", \"age\" : 44 }\n",
    "{ \"_id\" : 3, \"name\" : \"Mary\", \"age\" : 29 }\n",
    "{ \"_id\" : 4, \"name\" : \"Susan\", \"age\" : 37 }\n",
    "```"
   ]
  },
  {
   "cell_type": "markdown",
   "metadata": {},
   "source": [
    "```json\n",
    "> db.mydoc.find({});\n",
    "{ \"_id\" : 1, \"name\" : \"Tom\", \"age\" : 37 }\n",
    "{ \"_id\" : 2, \"name\" : \"Bill\", \"age\" : 44 }\n",
    "{ \"_id\" : 3, \"name\" : \"Mary\", \"age\" : 29 }\n",
    "{ \"_id\" : 4, \"name\" : \"Susan\", \"age\" : 37 }\n",
    "```"
   ]
  },
  {
   "cell_type": "markdown",
   "metadata": {},
   "source": [
    "- mysql - can limit number of rows - records - tuples - returned - mongodb - can also limit the - relational_rows-records-tuples - mongodb_documents - returned - method - find - can get certain - relational_rows-records-tuples - mongodb_documents - matching a query by supplying a query parameter to - method - find - only find - relational_rows-records-tuples - mongodb_documents - name/value pair - age - 37 [7]\n",
    "\n",
    "```json\n",
    "{\n",
    "    \"age\":37\n",
    "}\n",
    "```\n",
    "\n",
    "```json\n",
    "{\"age\":37}\n",
    "```\n",
    "\n",
    "- query - is like a smaller - relational_row-record-tuple - mongodb_document - looking for all - relational_rows-records-tuples - mongodb_documents in the - relational_table-entity-relation - mongodb_collection - mydoc - matching - name - age - value associated - 37 [7]"
   ]
  },
  {
   "cell_type": "markdown",
   "metadata": {},
   "source": [
    "```json\n",
    "> db.mydoc.find({\"age\":37});\n",
    "{ \"_id\" : 1, \"name\" : \"Tom\", \"age\" : 37 }\n",
    "{ \"_id\" : 4, \"name\" : \"Susan\", \"age\" : 37 }\n",
    "```"
   ]
  },
  {
   "cell_type": "markdown",
   "metadata": {},
   "source": [
    "- query - parameter - method - find - only find - relational_rows-records-tuples - mongodb_documents - name/value pair - age - 37 - name/value pair - \\_id - 1 [7]\n",
    "\n",
    "```json\n",
    "{\n",
    "    \"age\":37,\n",
    "    \"_id\":1\n",
    "}\n",
    "```\n",
    "\n",
    "```json\n",
    "{\"age\":37,\"_id\":1}\n",
    "```"
   ]
  },
  {
   "cell_type": "markdown",
   "metadata": {},
   "source": [
    "```json\n",
    "> db.mydoc.find({\"age\":37,\"_id\":1});\n",
    "{ \"_id\" : 1, \"name\" : \"Tom\", \"age\" : 37 }\n",
    "```"
   ]
  },
  {
   "cell_type": "markdown",
   "metadata": {},
   "source": [
    "- query - parameter - method - find - operator - and - specify an array of items to be true - first item in the array [7]\n",
    "\n",
    "```json\n",
    "{\n",
    "    \"age\":37\n",
    "}\n",
    "```\n",
    "\n",
    "```json\n",
    "{\"age\":37}\n",
    "```\n",
    "\n",
    "- second item in the array [7]\n",
    "\n",
    "```json\n",
    "{\n",
    "    \"_id\":1\n",
    "}\n",
    "```\n",
    "\n",
    "```json\n",
    "{\"_id\":1}\n",
    "```\n",
    "\n",
    "- array [7]\n",
    "\n",
    "```json\n",
    "[{\"age\":37},{\"_id\":1}]\n",
    "```"
   ]
  },
  {
   "cell_type": "markdown",
   "metadata": {},
   "source": [
    "```json\n",
    "> db.mydoc.find({$and:[{\"age\":37},{\"_id\":1}]})\n",
    "{ \"_id\" : 1, \"name\" : \"Tom\", \"age\" : 37 }\n",
    "```"
   ]
  },
  {
   "cell_type": "markdown",
   "metadata": {},
   "source": [
    "- query - parameter - method - find - operator - or - age is 22 or 30 [7]"
   ]
  },
  {
   "cell_type": "markdown",
   "metadata": {},
   "source": [
    "```json\n",
    "> db.mydoc.find({$or:[{\"age\":37},{\"age\":44}]});\n",
    "{ \"_id\" : 1, \"name\" : \"Tom\", \"age\" : 37 }\n",
    "{ \"_id\" : 2, \"name\" : \"Bill\", \"age\" : 44 }\n",
    "{ \"_id\" : 4, \"name\" : \"Susan\", \"age\" : 37 }\n",
    "```"
   ]
  },
  {
   "cell_type": "markdown",
   "metadata": {},
   "source": [
    "- query - parameter - method - find - operator - in - age is 22 or 30 - selects - relational_rows-records-tuples - mongodb_documents - whereby the - relational_column-attribute-field - mongodb_attribute - value - equals any value in the specified array [7]"
   ]
  },
  {
   "cell_type": "markdown",
   "metadata": {},
   "source": [
    "```json\n",
    "> db.mydoc.find({\"age\":{$in:[44,37]}});\n",
    "{ \"_id\" : 1, \"name\" : \"Tom\", \"age\" : 37 }\n",
    "{ \"_id\" : 2, \"name\" : \"Bill\", \"age\" : 44 }\n",
    "{ \"_id\" : 4, \"name\" : \"Susan\", \"age\" : 37 }\n",
    "```"
   ]
  },
  {
   "cell_type": "markdown",
   "metadata": {},
   "source": [
    "***\n",
    "# END"
   ]
  }
 ],
 "metadata": {
  "kernelspec": {
   "display_name": "Python 3",
   "language": "python",
   "name": "python3"
  },
  "language_info": {
   "codemirror_mode": {
    "name": "ipython",
    "version": 3
   },
   "file_extension": ".py",
   "mimetype": "text/x-python",
   "name": "python",
   "nbconvert_exporter": "python",
   "pygments_lexer": "ipython3",
   "version": "3.7.6"
  }
 },
 "nbformat": 4,
 "nbformat_minor": 4
}
