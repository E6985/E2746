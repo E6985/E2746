{
 "cells": [
  {
   "cell_type": "markdown",
   "metadata": {},
   "source": [
    "# data-database-types-non-relational-NoSQL-MongoDB-JSON-BSON-document-attribute-_id\n",
    "> [TABLE OF CONTENTS](https://github.com/E6985/E2746/blob/master/README.md)\n",
    "***"
   ]
  },
  {
   "cell_type": "markdown",
   "metadata": {},
   "source": [
    "- relational_column-attribute-field - mongodb_attribute - \\_id - is the only mandatory part of a - relational_row_record_tuple - mongodb_document - can be any value except an array [7]"
   ]
  },
  {
   "cell_type": "markdown",
   "metadata": {},
   "source": [
    "```json\n",
    "> show dbs;\n",
    "admin    0.000GB\n",
    "config   0.000GB\n",
    "local    0.000GB\n",
    "myNewDB  0.000GB\n",
    "```"
   ]
  },
  {
   "cell_type": "markdown",
   "metadata": {},
   "source": [
    "```json\n",
    "> use myNewDB;\n",
    "switched to db myNewDB\n",
    "```"
   ]
  },
  {
   "cell_type": "markdown",
   "metadata": {},
   "source": [
    "```json\n",
    "> db;\n",
    "myNewDB\n",
    "```"
   ]
  },
  {
   "cell_type": "markdown",
   "metadata": {},
   "source": [
    "- method - save - relational_row_record_tuple - mongodb_document - to the - relational_table-entity-relation - mongodb_collection - Test - in the current database - indicated by - db - specifying two name/value pairs - name - \\_id - value - 1 - name - name - value - Ted [7]"
   ]
  },
  {
   "cell_type": "markdown",
   "metadata": {},
   "source": [
    "```json\n",
    "> db.Test.save({_id: 1, name: \"Ted\"});\n",
    "WriteResult({ \"nMatched\" : 1, \"nUpserted\" : 0, \"nModified\" : 0 })\n",
    "```"
   ]
  },
  {
   "cell_type": "markdown",
   "metadata": {},
   "source": [
    "- method - find - relational_rows_records_tuples - mongodb_documents - name - equal to - value - Ted  - relational_row_record_tuple - mongodb_document - has the same name/value pairs as specified in the method - save [7]"
   ]
  },
  {
   "cell_type": "markdown",
   "metadata": {},
   "source": [
    "```json\n",
    "> db.Test.find({name: \"Ted\"});\n",
    "{ \"_id\" : 1, \"name\" : \"Ted\" }\n",
    "```"
   ]
  },
  {
   "cell_type": "markdown",
   "metadata": {},
   "source": [
    "- method - save - relational_row-record-tuple - mongodb_document - specifying one - name/value pair - leaving out the mandatory - relational_column-attribute-field - mongodb_attribute - \\_id [7]"
   ]
  },
  {
   "cell_type": "markdown",
   "metadata": {},
   "source": [
    "```json\n",
    "> db.Test.save({name: \"Billy\"});\n",
    "WriteResult({ \"nInserted\" : 1 })\n",
    "```"
   ]
  },
  {
   "cell_type": "markdown",
   "metadata": {},
   "source": [
    "- method - find - relational_row-record-tuple - mongodb_document - name - equal to - value - Billy - attached - relational_column-attribute-field - mongodb_attribute - \\_id - equal to - ObjectId - bson - data type  [7]"
   ]
  },
  {
   "cell_type": "markdown",
   "metadata": {},
   "source": [
    "```json\n",
    "> db.Test.find({name: \"Billy\"});\n",
    "{ \"_id\" : ObjectId(\"5f0b525bfc3998265b7c997d\"), \"name\" : \"Billy\" }\n",
    "```"
   ]
  },
  {
   "cell_type": "markdown",
   "metadata": {},
   "source": [
    "- relational_column-attribute-field - mongodb_attribute - \\_id - like a primary key - each - relational_row-record-tuple - mongodb_document - stored in a - relational_table-entity-relation - mongodb_collection - requires the unique - relational_column-attribute-field - mongodb_attribute - \\_id - if none specified when inserting a - relational_row-record-tuple - mongodb_document - ObjectId - automatically generated for the - relational_column-attribute-field - mongodb_attribute - \\_id - analogous to the relational schema - Extra - auto_increment - for a primary key in mysql - do not care what it is as long as its unique [7]"
   ]
  },
  {
   "cell_type": "markdown",
   "metadata": {},
   "source": [
    "***\n",
    "# END"
   ]
  }
 ],
 "metadata": {
  "kernelspec": {
   "display_name": "Python 3",
   "language": "python",
   "name": "python3"
  },
  "language_info": {
   "codemirror_mode": {
    "name": "ipython",
    "version": 3
   },
   "file_extension": ".py",
   "mimetype": "text/x-python",
   "name": "python",
   "nbconvert_exporter": "python",
   "pygments_lexer": "ipython3",
   "version": "3.7.6"
  }
 },
 "nbformat": 4,
 "nbformat_minor": 4
}
