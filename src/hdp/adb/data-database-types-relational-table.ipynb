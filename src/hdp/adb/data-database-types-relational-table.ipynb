{
 "cells": [
  {
   "cell_type": "markdown",
   "metadata": {},
   "source": [
    "# data-database-types-relational-table\n",
    "> [TABLE OF CONTENTS](https://github.com/E6985/E2746/blob/master/README.md)\n",
    "***"
   ]
  },
  {
   "cell_type": "markdown",
   "metadata": {},
   "source": [
    "- relational database - consists of a set of - tables  - entities - relations - used for storing data - collection of related data - each table - entity - relation - has a unique name and may relate to one or more other tables - entities - relations - in the database through common values - table - entity - relation - in a database is a collection of columns - attributes - fields - and rows - records - tuples [7]"
   ]
  },
  {
   "cell_type": "markdown",
   "metadata": {},
   "source": [
    "***\n",
    "# END"
   ]
  }
 ],
 "metadata": {
  "kernelspec": {
   "display_name": "Python 3",
   "language": "python",
   "name": "python3"
  },
  "language_info": {
   "codemirror_mode": {
    "name": "ipython",
    "version": 3
   },
   "file_extension": ".py",
   "mimetype": "text/x-python",
   "name": "python",
   "nbconvert_exporter": "python",
   "pygments_lexer": "ipython3",
   "version": "3.7.6"
  }
 },
 "nbformat": 4,
 "nbformat_minor": 4
}
