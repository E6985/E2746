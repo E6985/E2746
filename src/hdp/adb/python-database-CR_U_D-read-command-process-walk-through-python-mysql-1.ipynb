{
 "cells": [
  {
   "cell_type": "markdown",
   "metadata": {},
   "source": [
    "# python-database-CR_U_D-read-command-process-walk-through-python-mysql-1\n",
    "> [TABLE OF CONTENTS](https://github.com/E6985/E2746/blob/master/README.md)\n",
    "***"
   ]
  },
  {
   "cell_type": "markdown",
   "metadata": {},
   "source": [
    "```sql\n",
    "mysql> use school;\n",
    "Database changed\n",
    "```"
   ]
  },
  {
   "cell_type": "markdown",
   "metadata": {},
   "source": [
    "```sql\n",
    "mysql> show tables;\n",
    "+------------------+\n",
    "| Tables_in_school |\n",
    "+------------------+\n",
    "| subject          |\n",
    "| teacher          |\n",
    "+------------------+\n",
    "2 rows in set (0.00 sec)\n",
    "```"
   ]
  },
  {
   "cell_type": "markdown",
   "metadata": {},
   "source": [
    "```sql\n",
    "mysql> SELECT *\n",
    "    -> FROM teacher;\n",
    "+-----+--------------+-------+------------+------------+\n",
    "| tid | Name         | level | experience | dob        |\n",
    "+-----+--------------+-------+------------+------------+\n",
    "|   1 | Mr. Pasteur  | L     |         15 | 1960-02-02 |\n",
    "|   2 | Ms. Dubois   | L     |         22 | 1967-09-02 |\n",
    "|   3 | Ms. Smith    | J     |          4 | 1980-03-23 |\n",
    "|   4 | Mr. Hawking  | L     |         40 | 1951-02-19 |\n",
    "|   5 | Mr. Kavanagh | J     |         50 | 1949-11-01 |\n",
    "|   6 | Mr. Picasso  | J     |         42 | 1939-03-30 |\n",
    "|   7 | Fr. Lynch    | L     |         55 | 1939-03-31 |\n",
    "+-----+--------------+-------+------------+------------+\n",
    "7 rows in set (0.00 sec)\n",
    "```"
   ]
  },
  {
   "cell_type": "markdown",
   "metadata": {},
   "source": [
    "```sql\n",
    "mysql> SELECT  *\n",
    "    -> FROM subject;\n",
    "+-----------+--------------+---------------+\n",
    "| Name      | Teacher      | OnLeavingCert |\n",
    "+-----------+--------------+---------------+\n",
    "| Biology   | Mr. Pasteur  |             1 |\n",
    "| Colouring | Mr. Picasso  |             0 |\n",
    "| English   | Mr. Kavanagh |             1 |\n",
    "| French    | Ms. Dubois   |             1 |\n",
    "| Maths     | Mr. Hawking  |             1 |\n",
    "| Religion  | Fr. Lynch    |             1 |\n",
    "| Spelling  | Ms. Smith    |             0 |\n",
    "+-----------+--------------+---------------+\n",
    "7 rows in set (0.00 sec)\n",
    "```"
   ]
  },
  {
   "cell_type": "markdown",
   "metadata": {},
   "source": [
    "- ask user to enter details of a new subject and adds it to the database [7]"
   ]
  },
  {
   "cell_type": "markdown",
   "metadata": {},
   "source": [
    "```\n",
    "$ vi py/schoolUpdateDB.py\n",
    "```"
   ]
  },
  {
   "cell_type": "markdown",
   "metadata": {},
   "source": [
    "```python\n",
    "import pymysql\n",
    "\n",
    "# define connection - name - conn\n",
    "conn=None\n",
    "\n",
    "# define function - fConnectDB\n",
    "def fConnectDB():\n",
    "    # accessible any function\n",
    "    global conn\n",
    "    conn=pymysql.connect(\n",
    "    \thost=\"localhost\",\n",
    "    \tuser=\"root\",\n",
    "    \tpassword=\"******\",\n",
    "    \tdb=\"school\",\n",
    "    \tcursorclass=pymysql.cursors.DictCursor)\n",
    "\n",
    "# define function - fAddSubject\n",
    "def  fAddSubject(nParN,nParT,nParLC):\n",
    "    # check database connection\n",
    "    if (not conn):\n",
    "        # function fConnectDB - call\n",
    "        fConnectDB() # connect database - school\n",
    "\n",
    "\t# parameter - %s - %s - %s -  nParN - nParT - nParLC\n",
    "    nInsert=\"INSERT INTO subject (Name,Teacher,OnLeavingCert) VALUES(%s,%s,%s)\"\n",
    "\n",
    "    # close when finished\n",
    "    with conn:\n",
    "        # create object - cursor on connection\n",
    "        cursor=conn.cursor()\n",
    "        # execute sql - nQuery\n",
    "        nCheckUpdate=cursor.execute(nInsert,(nParN,nParT,nParLC))\n",
    "        print(nCheckUpdate)\n",
    "```"
   ]
  },
  {
   "cell_type": "markdown",
   "metadata": {},
   "source": [
    "```\n",
    "$ vi py/python-mysql-1.py\n",
    "```"
   ]
  },
  {
   "cell_type": "markdown",
   "metadata": {},
   "source": [
    "```python\n",
    "import schoolUpdateDB\n",
    "\n",
    "# define function - main\n",
    "def main():\n",
    "\tnName=input(\"Enter Subject:  \")\n",
    "\tnTeacher=input(\"Enter Teacher: \")\n",
    "\tnLOC=input(\"Enter on Leaving Cert <1/0>: \")\n",
    "\n",
    "\t# function schoolUpdateDB.fAddSubject - call\n",
    "\tschoolUpdateDB.fAddSubject(nName,nTeacher,nLOC)\n",
    "\n",
    "# keyword - __name__ - evaluate current module [1]\n",
    "if __name__==\"__main__\":\n",
    "    # function main - call\n",
    "    main()\n",
    "```"
   ]
  },
  {
   "cell_type": "markdown",
   "metadata": {},
   "source": [
    "```\n",
    "$ python py/python-mysql-1.py\n",
    "```"
   ]
  },
  {
   "cell_type": "markdown",
   "metadata": {},
   "source": [
    "```python\n",
    "Enter Subject:  New Subject\n",
    "Enter Teacher: New Teacher\n",
    "Enter on Leaving Cert <1/0>: 1\n",
    "1\n",
    "```"
   ]
  },
  {
   "cell_type": "markdown",
   "metadata": {},
   "source": [
    "```sql\n",
    "mysql> SELECT *\n",
    "    -> FROM subject;\n",
    "+-------------+--------------+---------------+\n",
    "| Name        | Teacher      | OnLeavingCert |\n",
    "+-------------+--------------+---------------+\n",
    "| Biology     | Mr. Pasteur  |             1 |\n",
    "| Colouring   | Mr. Picasso  |             0 |\n",
    "| English     | Mr. Kavanagh |             1 |\n",
    "| French      | Ms. Dubois   |             1 |\n",
    "| Maths       | Mr. Hawking  |             1 |\n",
    "| New Subject | New Teacher  |             1 |\n",
    "| Religion    | Fr. Lynch    |             1 |\n",
    "| Spelling    | Ms. Smith    |             0 |\n",
    "+-------------+--------------+---------------+\n",
    "8 rows in set (0.00 sec)\n",
    "```"
   ]
  },
  {
   "cell_type": "markdown",
   "metadata": {},
   "source": [
    "```\n",
    "$ python py/python-mysql-1.py\n",
    "```"
   ]
  },
  {
   "cell_type": "markdown",
   "metadata": {},
   "source": [
    "```python\n",
    "Enter Subject:  Another Subject\n",
    "Enter Teacher: Another Teacher\n",
    "Enter on Leaving Cert <1/0>: 0\n",
    "1\n",
    "```"
   ]
  },
  {
   "cell_type": "markdown",
   "metadata": {},
   "source": [
    "```sql\n",
    "mysql> SELECT *\n",
    "    -> FROM subject;\n",
    "+-----------------+-----------------+---------------+\n",
    "| Name            | Teacher         | OnLeavingCert |\n",
    "+-----------------+-----------------+---------------+\n",
    "| Another Subject | Another Teacher |             0 |\n",
    "| Biology         | Mr. Pasteur     |             1 |\n",
    "| Colouring       | Mr. Picasso     |             0 |\n",
    "| English         | Mr. Kavanagh    |             1 |\n",
    "| French          | Ms. Dubois      |             1 |\n",
    "| Maths           | Mr. Hawking     |             1 |\n",
    "| New Subject     | New Teacher     |             1 |\n",
    "| Religion        | Fr. Lynch       |             1 |\n",
    "| Spelling        | Ms. Smith       |             0 |\n",
    "+-----------------+-----------------+---------------+\n",
    "9 rows in set (0.00 sec)\n",
    "```"
   ]
  },
  {
   "cell_type": "markdown",
   "metadata": {},
   "source": [
    "```\n",
    "$ python py/python-mysql-1.py\n",
    "```"
   ]
  },
  {
   "cell_type": "markdown",
   "metadata": {},
   "source": [
    "```python\n",
    "Enter Subject:  Another Subject\n",
    "Enter Teacher: Another Teacher\n",
    "Enter on Leaving Cert <1/0>: 0\n",
    "...\n",
    "...\n",
    "...\n",
    "pymysql.err.IntegrityError: (1062, \"Duplicate entry 'Another Subject' for key 'subject.PRIMARY'\")\n",
    "```"
   ]
  },
  {
   "cell_type": "markdown",
   "metadata": {},
   "source": [
    "```\n",
    "$ vi py/python-mysql-1.py\n",
    "```"
   ]
  },
  {
   "cell_type": "markdown",
   "metadata": {},
   "source": [
    "```python\n",
    "import schoolUpdateDB\n",
    "\n",
    "# define function - main\n",
    "def main():\n",
    "\tnName=input(\"Enter Subject:  \")\n",
    "\tnTeacher=input(\"Enter Teacher: \")\n",
    "\tnLOC=input(\"Enter on Leaving Cert <1/0>: \")\n",
    "\n",
    "\ttry:\n",
    "\t\t# function schoolUpdateDB.fAddSubject - call\n",
    "\t\tschoolUpdateDB.fAddSubject(nName,nTeacher,nLOC)\n",
    "\texcept:\n",
    "\t\tprint(\"Error -\",nName,\"Already Exists\")\n",
    "\n",
    "# keyword - __name__ - evaluate current module [1]\n",
    "if __name__==\"__main__\":\n",
    "    # function main - call\n",
    "    main()\n",
    "```"
   ]
  },
  {
   "cell_type": "markdown",
   "metadata": {},
   "source": [
    "```\n",
    "$ python py/python-mysql-1.py\n",
    "```"
   ]
  },
  {
   "cell_type": "markdown",
   "metadata": {},
   "source": [
    "```python\n",
    "Enter Subject:  Maths\n",
    "Enter Teacher: Mr. Smith\n",
    "Enter on Leaving Cert <1/0>: 1\n",
    "Error - Maths Already Exists\n",
    "```"
   ]
  },
  {
   "cell_type": "markdown",
   "metadata": {},
   "source": [
    "- no distinction betweeen errors - only printing out [7]\n",
    "\n",
    "```python\n",
    "\ttry:\n",
    "\t\t# function schoolUpdateDB.fAddSubject - call\n",
    "\t\tschoolUpdateDB.fAddSubject(nName,nTeacher,nLOC)\n",
    "\texcept:\n",
    "\t\tprint(\"Error -\",nName,\"Already Exists\")\n",
    "```"
   ]
  },
  {
   "cell_type": "markdown",
   "metadata": {},
   "source": [
    "[pymysql - exceptions](https://github.com/PyMySQL/PyMySQL/blob/master/pymysql/err.py)"
   ]
  },
  {
   "cell_type": "markdown",
   "metadata": {},
   "source": [
    "```\n",
    "$ vi py/python-mysql-1.py\n",
    "```"
   ]
  },
  {
   "cell_type": "markdown",
   "metadata": {},
   "source": [
    "```python\n",
    "import schoolUpdateDB\n",
    "\n",
    "# define function - main\n",
    "def main():\n",
    "\tnName=input(\"Enter Subject:  \")\n",
    "\tnTeacher=input(\"Enter Teacher: \")\n",
    "\tnLOC=input(\"Enter on Leaving Cert <1/0>: \")\n",
    "\n",
    "\ttry:\n",
    "\t\t# function schoolUpdateDB.fAddSubject - call\n",
    "\t\tschoolUpdateDB.fAddSubject(nName,nTeacher,nLOC)\n",
    "\texcept Exception as nE:\n",
    "\t\tprint(\"Error -\",nE)\n",
    "\n",
    "# keyword - __name__ - evaluate current module [1]\n",
    "if __name__==\"__main__\":\n",
    "    # function main - call\n",
    "    main()\n",
    "```"
   ]
  },
  {
   "cell_type": "markdown",
   "metadata": {},
   "source": [
    "```\n",
    "$ python py/python-mysql-1.py\n",
    "```"
   ]
  },
  {
   "cell_type": "markdown",
   "metadata": {},
   "source": [
    "```python\n",
    "Enter Subject:  Maths\n",
    "Enter Teacher: Mr. Smith\n",
    "Enter on Leaving Cert <1/0>: 1\n",
    "Error - (1062, \"Duplicate entry 'Maths' for key 'subject.PRIMARY'\")\n",
    "```"
   ]
  },
  {
   "cell_type": "markdown",
   "metadata": {},
   "source": [
    "```\n",
    "$ vi py/python-mysql-1.py\n",
    "```"
   ]
  },
  {
   "cell_type": "markdown",
   "metadata": {},
   "source": [
    "```python\n",
    "import  pymysql\n",
    "import schoolUpdateDB\n",
    "\n",
    "# define function - main\n",
    "def main():\n",
    "\tnName=input(\"Enter Subject:  \")\n",
    "\tnTeacher=input(\"Enter Teacher: \")\n",
    "\tnLOC=input(\"Enter on Leaving Cert <1/0>: \")\n",
    "\n",
    "\ttry:\n",
    "\t\t# function schoolUpdateDB.fAddSubject - call\n",
    "\t\tschoolUpdateDB.fAddSubject(nName,nTeacher,nLOC)\n",
    "\texcept pymysql.err.IntegrityError as nE:\n",
    "\t\tprint(\"Subject Already Exists -\",nE)\n",
    "\t# catch all errors\n",
    "\texcept Exception as nE:\n",
    "\t\tprint(\"Generic ERROR\",nE)\n",
    "\n",
    "# keyword - __name__ - evaluate current module [1]\n",
    "if __name__==\"__main__\":\n",
    "    # function main - call\n",
    "    main()\n",
    "```"
   ]
  },
  {
   "cell_type": "markdown",
   "metadata": {},
   "source": [
    "```\n",
    "$ python py/python-mysql-1.py\n",
    "```"
   ]
  },
  {
   "cell_type": "markdown",
   "metadata": {},
   "source": [
    "```python\n",
    "Enter Subject:  Maths\n",
    "Enter Teacher: Mr. Smith\n",
    "Enter on Leaving Cert <1/0>: 1\n",
    "Subject Already Exists - (1062, \"Duplicate entry 'Maths' for key 'subject.PRIMARY'\")\n",
    "```"
   ]
  },
  {
   "cell_type": "markdown",
   "metadata": {},
   "source": [
    "***\n",
    "# END"
   ]
  }
 ],
 "metadata": {
  "kernelspec": {
   "display_name": "Python 3",
   "language": "python",
   "name": "python3"
  },
  "language_info": {
   "codemirror_mode": {
    "name": "ipython",
    "version": 3
   },
   "file_extension": ".py",
   "mimetype": "text/x-python",
   "name": "python",
   "nbconvert_exporter": "python",
   "pygments_lexer": "ipython3",
   "version": "3.7.6"
  }
 },
 "nbformat": 4,
 "nbformat_minor": 4
}
