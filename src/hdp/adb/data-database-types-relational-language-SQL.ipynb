{
 "cells": [
  {
   "cell_type": "markdown",
   "metadata": {},
   "source": [
    "# data-database-types-relational-language-SQL\n",
    "> [TABLE OF CONTENTS](https://github.com/E6985/E2746/blob/master/README.md)\n",
    "***"
   ]
  },
  {
   "cell_type": "markdown",
   "metadata": {},
   "source": [
    "- structured query language - S.Q.L - See-Quell - is the standard relational database language - sql - is an ANSI/ISO standard - different databases - mysql - sql server - oracle - use their own propreitary extensions on top of the standard - sql\n",
    "    - create - access - manipulate - databases - database is a collection of related data - to store that data - sql - allows the creation of databases - in relational databases the data is stored in tables - entities - relations - created by - sql - to have different - properties - or - columns - attributes - fields - without data in a database the database is not of use - sql - allows the populating of tables - entities - relations - in a database - getting useful information from the stored data in a database is an important part of - sql - sometimes the information in a database needs to be updated - a table - entity - relation -  storing information about an employee - salary information may need to be updated - given data protection regulations - GDPR - people may require data to be removed from databases - customer may no longer wish to have information stored in a company database\n",
    "    - CRUD - core functions of any database \n",
    "        - \\_C\\_reate tables - entities - relations - in a database \n",
    "        - \\_R\\_ead data from a database \n",
    "        - \\_U\\_pdate data in a database \n",
    "        - \\_D\\_elete data from a database \n",
    "    - transaction - either completed entirely or fails totally - sql - allows the grouping of individual operations into transactions\n",
    "    - concurrency - when two or more users access the same data at the same time - customer purchasing item online which gets its information from a database - while the customer is completing this the site administrator is changing the price - which price should the user see - should the administrator be allowed to change the price when the customer is accessing it - the conflicts that arise when multiple people are accessing the same data and at the same time can be managed in different ways using - sql \n",
    "    - offers commands to backup the database - in the event of failure the backed up version can be restored \n",
    "    - allows the creation of different users with different privileges in the database - some users may only be able to read the database - some users may only be able to read certain tables - entities - relations or columns - attributes - fields of a table - entity - relation - other users may be able to insert data in some tables - entities - relations - but not into other tables - entities - relations - sql - offers a range of tools to manipulate relational databases [7]"
   ]
  },
  {
   "cell_type": "markdown",
   "metadata": {},
   "source": [
    "***\n",
    "# END"
   ]
  }
 ],
 "metadata": {
  "kernelspec": {
   "display_name": "Python 3",
   "language": "python",
   "name": "python3"
  },
  "language_info": {
   "codemirror_mode": {
    "name": "ipython",
    "version": 3
   },
   "file_extension": ".py",
   "mimetype": "text/x-python",
   "name": "python",
   "nbconvert_exporter": "python",
   "pygments_lexer": "ipython3",
   "version": "3.7.6"
  }
 },
 "nbformat": 4,
 "nbformat_minor": 4
}
