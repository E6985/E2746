{
 "cells": [
  {
   "cell_type": "markdown",
   "metadata": {},
   "source": [
    "# python-database-C_R_UD-read-command-process\n",
    "> [TABLE OF CONTENTS](https://github.com/E6985/E2746/blob/master/README.md)\n",
    "***"
   ]
  },
  {
   "cell_type": "markdown",
   "metadata": {},
   "source": [
    "- executing - query - run the same query with different values - finding all employees on a salary greater than 42000 [7]\n",
    "\n",
    "```sql\n",
    "SELECT *\n",
    "FROM employees\n",
    "WHERE salary>42000;\n",
    "```\n",
    "\n",
    "- finding all employees on a salary less than 30000 [7]\n",
    "\n",
    "```sql\n",
    "SELECT *\n",
    "FROM employees\n",
    "WHERE salary<30000;\n",
    "```\n"
   ]
  },
  {
   "cell_type": "markdown",
   "metadata": {},
   "source": [
    "- automate the task - show the subjects taught by female teachers - Ms. [7]"
   ]
  },
  {
   "cell_type": "markdown",
   "metadata": {},
   "source": [
    "<img src=\"img/0-2-1.png\" />"
   ]
  },
  {
   "cell_type": "markdown",
   "metadata": {},
   "source": [
    "- database connection [7]\n",
    "\n",
    "```python\n",
    "conn=pymysql.connect(user=\"root\",\n",
    "\t\t\t\t\tcursorclass=pymysql.cursors.DictCursor,\n",
    "\t\t\t\t\tpassword=\"******\",\n",
    "\t\t\t\t\thost=\"localhost\",\n",
    "\t\t\t\t\tdb=\"school\",\n",
    "\t\t\t\t\tport=3306)\n",
    "```"
   ]
  },
  {
   "cell_type": "markdown",
   "metadata": {},
   "source": [
    "```sql\n",
    "mysql> use school\n",
    "Database changed\n",
    "```"
   ]
  },
  {
   "cell_type": "markdown",
   "metadata": {},
   "source": [
    "```sql\n",
    "mysql> show tables;\n",
    "+------------------+\n",
    "| Tables_in_school |\n",
    "+------------------+\n",
    "| subject          |\n",
    "| teacher          |\n",
    "+------------------+\n",
    "2 rows in set (0.01 sec)\n",
    "```"
   ]
  },
  {
   "cell_type": "markdown",
   "metadata": {},
   "source": [
    "```mysql\n",
    "mysql> DESCRIBE teacher;\n",
    "+------------+---------------+------+-----+---------+----------------+\n",
    "| Field      | Type          | Null | Key | Default | Extra          |\n",
    "+------------+---------------+------+-----+---------+----------------+\n",
    "| tid        | int           | NO   | PRI | NULL    | auto_increment |\n",
    "| Name       | varchar(20)   | YES  |     | NULL    |                |\n",
    "| level      | enum('J','L') | YES  |     | NULL    |                |\n",
    "| experience | int           | YES  |     | NULL    |                |\n",
    "| dob        | date          | YES  |     | NULL    |                |\n",
    "+------------+---------------+------+-----+---------+----------------+\n",
    "5 rows in set (0.00 sec)\n",
    "```"
   ]
  },
  {
   "cell_type": "markdown",
   "metadata": {},
   "source": [
    "- query - column - attribute - field - teacher - operator - LIKE - %s - represents a parameter passed to the query later [7]\n",
    "\n",
    "```python\n",
    "nQuery= \"SELECT * FROM subject\n",
    "\t\tWHERE teacher LIKE %s\"\n",
    "```"
   ]
  },
  {
   "cell_type": "markdown",
   "metadata": {},
   "source": [
    "- create a cursor on connection [7]\n",
    "\n",
    "```python\n",
    "with conn:\n",
    "\tcursor=conn.cursor()\n",
    "```\n",
    "\n",
    "- name - cursor - method - execute - parameters - i) sql code - nQuery - ii) value or values of any parameters defined in the query - one parameter - %s [7]\n",
    "\n",
    "\n",
    "- method - execute - second parameter - Ms% - results of the query are not returned - method - execute - stored in the - name - cursor [7]\n",
    "\n",
    "\n",
    "- method - fetchall - all from - name - cursor - results - name - subjects - array of objects [7]\n",
    "\n",
    "\n",
    "- for loop - iterates over the array [7]\n",
    "\n",
    "\n",
    "- name - nEachRow - equal to each item - element - of the array [7]\n",
    "\n",
    "\n",
    "- access column - attribute - field - Name - print out the name of each subject in the - array - subjects [7]\n",
    "\n",
    "```python\n",
    "with conn:\n",
    "\tcursor=conn.cursor()\n",
    "\tcursor.execute(query,(\"Ms.%\"))\n",
    "    subjects=cursor.fetchall()\n",
    "    for nEachRow in subjects:\n",
    "        print(nEachRow[\"Name\"])\n",
    "```"
   ]
  },
  {
   "cell_type": "markdown",
   "metadata": {},
   "source": [
    "<img src=\"img/0-2-2.png\" />"
   ]
  },
  {
   "cell_type": "markdown",
   "metadata": {},
   "source": [
    "***\n",
    "# END"
   ]
  }
 ],
 "metadata": {
  "kernelspec": {
   "display_name": "Python 3",
   "language": "python",
   "name": "python3"
  },
  "language_info": {
   "codemirror_mode": {
    "name": "ipython",
    "version": 3
   },
   "file_extension": ".py",
   "mimetype": "text/x-python",
   "name": "python",
   "nbconvert_exporter": "python",
   "pygments_lexer": "ipython3",
   "version": "3.7.6"
  }
 },
 "nbformat": 4,
 "nbformat_minor": 4
}
