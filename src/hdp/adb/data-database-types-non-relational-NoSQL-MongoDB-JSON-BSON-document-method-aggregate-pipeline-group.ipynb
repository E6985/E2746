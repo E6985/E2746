{
 "cells": [
  {
   "cell_type": "markdown",
   "metadata": {},
   "source": [
    "# data-database-types-non-relational-NoSQL-MongoDB-JSON-BSON-document-method-aggregate-pipeline-group\n",
    "> [TABLE OF CONTENTS](https://github.com/E6985/E2746/blob/master/README.md)\n",
    "***"
   ]
  },
  {
   "cell_type": "markdown",
   "metadata": {},
   "source": [
    "- method - aggregate - pipeline stages - $group - mysql - GROUP BY - equivalent [7]"
   ]
  },
  {
   "cell_type": "markdown",
   "metadata": {},
   "source": [
    "```json\n",
    "> show databases;\n",
    "admin    0.000GB\n",
    "config   0.000GB\n",
    "demo1    0.000GB\n",
    "local    0.000GB\n",
    "mdb      0.000GB\n",
    "myNewDB  0.000GB\n",
    "```"
   ]
  },
  {
   "cell_type": "markdown",
   "metadata": {},
   "source": [
    "```json\n",
    "> use mdb;\n",
    "switched to db mdb\n",
    "```"
   ]
  },
  {
   "cell_type": "markdown",
   "metadata": {},
   "source": [
    "```json\n",
    "> db;\n",
    "mdb\n",
    "```"
   ]
  },
  {
   "cell_type": "markdown",
   "metadata": {},
   "source": [
    "```json\n",
    "> show collections;\n",
    "emp\n",
    "gpa\n",
    "mydoc\n",
    "user\n",
    "```"
   ]
  },
  {
   "cell_type": "markdown",
   "metadata": {},
   "source": [
    "```json\n",
    "> db.gpa.find();\n",
    "{ \"_id\" : 1, \"name\" : \"John\", \"age\" : 23, \"gpa\" : 4.5, \"sex\" : \"M\" }\n",
    "{ \"_id\" : 2, \"name\" : \"Tom\", \"age\" : 22, \"gpa\" : 3.5, \"sex\" : \"M\" }\n",
    "{ \"_id\" : 3, \"name\" : \"Mary\", \"age\" : 24, \"gpa\" : 3.5, \"sex\" : \"F\" }\n",
    "{ \"_id\" : 4, \"name\" : \"Sarah\", \"age\" : 22, \"gpa\" : 4, \"sex\" : \"F\" }\n",
    "{ \"_id\" : 5, \"name\" : \"Bill\", \"age\" : 23, \"gpa\" : 3, \"sex\" : \"M\" }\n",
    "```"
   ]
  },
  {
   "cell_type": "markdown",
   "metadata": {},
   "source": [
    "- obtain average gpa for all students - method - aggregate - pipeline stages - name - $group [7]\n",
    "\n",
    "```json\n",
    "$group\n",
    "```\n",
    "\n",
    "- name - $group - value - relational_row-record-tuple - mongodb_document [7]\n",
    "\n",
    "```json\n",
    "{\"_id\":null,AVERAGE:{$avg:\"$gpa\"}}\n",
    "```\n",
    "\n",
    "- name - \\_id - mandatory - value - null - refers to the - relational_column-attribute-field - mongodb_attribute - to group by - not grouping by any - relational_column-attribute-field - mongodb_attribute - given requirement for average gpa for all students [7]\n",
    "\n",
    "```json\n",
    "\"_id\":null\n",
    "```\n",
    "\n",
    "- specify a string - average to be displayed as [7]\n",
    "\n",
    "```json\n",
    "\"AVERAGE\"\n",
    "```\n",
    "\n",
    "- name - aggregation - operator - avg - value - average of - relational_column-attribute-field - mongodb_attribute - gpa - prefixed by the dollar symbol [7]\n",
    "\n",
    "```json\n",
    "$avg:\"$gpa\"\n",
    "```"
   ]
  },
  {
   "cell_type": "markdown",
   "metadata": {},
   "source": [
    "```json\n",
    "> db.gpa.aggregate([{$group:{\"_id\":null,\"AVERAGE\":{$avg:\"$gpa\"}}}]);\n",
    "{ \"_id\" : null, \"AVERAGE\" : 3.7 }\n",
    "```"
   ]
  },
  {
   "cell_type": "markdown",
   "metadata": {},
   "source": [
    "***\n",
    "# END"
   ]
  }
 ],
 "metadata": {
  "kernelspec": {
   "display_name": "Python 3",
   "language": "python",
   "name": "python3"
  },
  "language_info": {
   "codemirror_mode": {
    "name": "ipython",
    "version": 3
   },
   "file_extension": ".py",
   "mimetype": "text/x-python",
   "name": "python",
   "nbconvert_exporter": "python",
   "pygments_lexer": "ipython3",
   "version": "3.7.6"
  }
 },
 "nbformat": 4,
 "nbformat_minor": 4
}
