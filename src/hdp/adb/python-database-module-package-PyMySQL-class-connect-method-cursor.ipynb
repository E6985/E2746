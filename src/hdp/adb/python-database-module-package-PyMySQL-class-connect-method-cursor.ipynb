{
 "cells": [
  {
   "cell_type": "markdown",
   "metadata": {},
   "source": [
    "# python-database-module-package-PyMySQL-class-connect-method-cursor\n",
    "> [TABLE OF CONTENTS](https://github.com/E6985/E2746/blob/master/README.md)\n",
    "***"
   ]
  },
  {
   "cell_type": "markdown",
   "metadata": {},
   "source": [
    "- database connection [7]\n",
    "\n",
    "```python\n",
    "conn=pymysql.connect(user=\"root\",\n",
    "\t\t\t\t\tcursorclass=pymysql.cursors.DictCursor,\n",
    "\t\t\t\t\tpassword=\"******\",\n",
    "\t\t\t\t\thost=\"localhost\",\n",
    "\t\t\t\t\tdb=\"school\",\n",
    "\t\t\t\t\tport=3306)\n",
    "```"
   ]
  },
  {
   "cell_type": "markdown",
   "metadata": {},
   "source": [
    "- got connection to database - send query - retrieve data - define the query - mysql statement - no requirement for semi-colon [7]\n",
    "\n",
    "```python\n",
    "query=\"SELECT * FROM subject\"\n",
    "```"
   ]
  },
  {
   "cell_type": "markdown",
   "metadata": {},
   "source": [
    "- name - conn - connection to the database returned from - class - connect - keyword - with - automatically releases resources - provides some error handling [7]\n",
    "\n",
    "```python\n",
    "with conn:\n",
    "```"
   ]
  },
  {
   "cell_type": "markdown",
   "metadata": {},
   "source": [
    "- name - conn - create - name - cursor - used to iterate over the rows - records - tuples - returned from query [7]\n",
    "\n",
    "\n",
    "- cursor - common structure - programming languages - interact with databases [7]\n",
    "\n",
    "```python\n",
    "with conn:\n",
    "\tcursor=conn.cursor()\n",
    "```"
   ]
  },
  {
   "cell_type": "markdown",
   "metadata": {},
   "source": [
    "***\n",
    "# END"
   ]
  }
 ],
 "metadata": {
  "kernelspec": {
   "display_name": "Python 3",
   "language": "python",
   "name": "python3"
  },
  "language_info": {
   "codemirror_mode": {
    "name": "ipython",
    "version": 3
   },
   "file_extension": ".py",
   "mimetype": "text/x-python",
   "name": "python",
   "nbconvert_exporter": "python",
   "pygments_lexer": "ipython3",
   "version": "3.7.6"
  }
 },
 "nbformat": 4,
 "nbformat_minor": 4
}
