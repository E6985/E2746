{
 "cells": [
  {
   "cell_type": "markdown",
   "metadata": {},
   "source": [
    "# python-database-CRU_D_-read-command-process\n",
    "> [TABLE OF CONTENTS](https://github.com/E6985/E2746/blob/master/README.md)\n",
    "***"
   ]
  },
  {
   "cell_type": "markdown",
   "metadata": {},
   "source": [
    "- delete from table - entity - relation - subject - the column - attribute - field - Name - rows - records - tuples - value - Maths - from the database - school [7]"
   ]
  },
  {
   "cell_type": "markdown",
   "metadata": {},
   "source": [
    "```sql\n",
    "mysql> use school;\n",
    "Database changed\n",
    "```"
   ]
  },
  {
   "cell_type": "markdown",
   "metadata": {},
   "source": [
    "```sql\n",
    "mysql> show tables;\n",
    "+------------------+\n",
    "| Tables_in_school |\n",
    "+------------------+\n",
    "| subject          |\n",
    "| teacher          |\n",
    "+------------------+\n",
    "2 rows in set (0.00 sec)\n",
    "```"
   ]
  },
  {
   "cell_type": "markdown",
   "metadata": {},
   "source": [
    "```sql\n",
    "mysql> DESCRIBE subject;\n",
    "+---------------+-------------+------+-----+---------+-------+\n",
    "| Field         | Type        | Null | Key | Default | Extra |\n",
    "+---------------+-------------+------+-----+---------+-------+\n",
    "| Name          | varchar(15) | NO   | PRI | NULL    |       |\n",
    "| Teacher       | varchar(20) | YES  |     | NULL    |       |\n",
    "| OnLeavingCert | tinyint(1)  | YES  |     | NULL    |       |\n",
    "+---------------+-------------+------+-----+---------+-------+\n",
    "3 rows in set (0.00 sec)\n",
    "```"
   ]
  },
  {
   "cell_type": "markdown",
   "metadata": {},
   "source": [
    "```sql\n",
    "mysql> SELECT *\n",
    "    -> FROM subject;\n",
    "+-----------+--------------+---------------+\n",
    "| Name      | Teacher      | OnLeavingCert |\n",
    "+-----------+--------------+---------------+\n",
    "| Biology   | Mr. Pasteur  |             1 |\n",
    "| Colouring | Mr. Picasso  |             0 |\n",
    "| English   | Mr. Kavanagh |             1 |\n",
    "| French    | Ms. Dubois   |             1 |\n",
    "| Maths     | Mr. Hawking  |             1 |\n",
    "| Religion  | Fr. Lynch    |             1 |\n",
    "| Spelling  | Ms. Smith    |             0 |\n",
    "+-----------+--------------+---------------+\n",
    "7 rows in set (0.00 sec)\n",
    "```"
   ]
  },
  {
   "cell_type": "markdown",
   "metadata": {},
   "source": [
    "- given the column - attribute - field - Name - primary key - can only be one subject called Maths - do not have to worry about deleting something that does not exist [7]"
   ]
  },
  {
   "cell_type": "markdown",
   "metadata": {},
   "source": [
    "- mysql - delete rows - records - tuples - from a table - entity - relation - none match value - no error - nothing happens - using python to interact with mysql is the same - python does not decide what should get deleted or inserted or if the data types for each column are correct - mysql - decides this - passes the information back to python - just as it would inform if using - mysql - console - error messages - mysql - workbench - error messages [7]"
   ]
  },
  {
   "cell_type": "markdown",
   "metadata": {},
   "source": [
    "- function - execute - returns - number of rows - records - tuples - affected by the query - if number of rows - records - tuples - deleted - zero - no rows - records - tuples - deleted - otherwise - number of rows - records - tuples - deleted are returned - use - except - catch any exceptions or errors returned from - mysql [7]"
   ]
  },
  {
   "cell_type": "markdown",
   "metadata": {},
   "source": [
    "```python\n",
    "nQDelete=\"DELETE FROM subject WHERE Name=%s\"\n",
    "nName=\"Maths\"\n",
    "with conn:\n",
    "\ttry:\n",
    "\t\tcursor=conn.cursor()\n",
    "\t\tnRowsAffected=cursor.execute(nQDelete,(nName))\n",
    "\t\tconn.commit()\n",
    "\t\tif (nRowsAffected==0):\n",
    "\t\t\tprint(\"Nothing deleted -\",nName,\"- never existed\")\n",
    "\t\telse:\n",
    "\t\t\tprint(nRowsAffected,\"row(s) deleted\")\n",
    "\texcept Exception as nE:\n",
    "\t\tprint(\"error\",nE)\n",
    "```"
   ]
  },
  {
   "cell_type": "markdown",
   "metadata": {},
   "source": [
    "***\n",
    "# END"
   ]
  }
 ],
 "metadata": {
  "kernelspec": {
   "display_name": "Python 3",
   "language": "python",
   "name": "python3"
  },
  "language_info": {
   "codemirror_mode": {
    "name": "ipython",
    "version": 3
   },
   "file_extension": ".py",
   "mimetype": "text/x-python",
   "name": "python",
   "nbconvert_exporter": "python",
   "pygments_lexer": "ipython3",
   "version": "3.7.6"
  }
 },
 "nbformat": 4,
 "nbformat_minor": 4
}
