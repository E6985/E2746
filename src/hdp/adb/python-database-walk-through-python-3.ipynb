{
 "cells": [
  {
   "cell_type": "markdown",
   "metadata": {},
   "source": [
    "# python-database-walk-through-python-3\n",
    "> [TABLE OF CONTENTS](https://github.com/E6985/E2746/blob/master/README.md)\n",
    "***"
   ]
  },
  {
   "attachments": {
    "image.png": {
     "image/png": "[encoded data removed]"
    }
   },
   "cell_type": "markdown",
   "metadata": {},
   "source": [
    "- main menu is shown [7]\n",
    "\n",
    "![image.png](attachment:image.png)"
   ]
  },
  {
   "attachments": {
    "image.png": {
     "image/png": "[encoded data removed]"
    }
   },
   "cell_type": "markdown",
   "metadata": {},
   "source": [
    "- option 1 - user chooses - should be prompted to keep entering numbers until -1 is entered - numbers up to but not including -1 should be stored in an array [7]\n",
    "\n",
    "![image.png](attachment:image.png)"
   ]
  },
  {
   "cell_type": "code",
   "execution_count": 1,
   "metadata": {},
   "outputs": [
    {
     "name": "stdout",
     "output_type": "stream",
     "text": [
      "\n",
      "MENU\n",
      "====\n",
      "1 - Fill Array\n",
      "2 - Print Array\n",
      "3 - Find > in Array\n",
      "4 - Exit\n",
      "Enter choice: 1\n",
      "Enter Number(s): 1\n",
      "Enter Number(s): 9\n",
      "Enter Number(s): 23\n",
      "Enter Number(s): 14\n",
      "Enter Number(s): 77\n",
      "Enter Number(s): 14\n",
      "Enter Number(s): 1\n",
      "Enter Number(s): -1\n",
      "\n",
      "MENU\n",
      "====\n",
      "1 - Fill Array\n",
      "2 - Print Array\n",
      "3 - Find > in Array\n",
      "4 - Exit\n",
      "Enter choice: 4\n"
     ]
    }
   ],
   "source": [
    "# define function - main\n",
    "def main():\n",
    "    nArray=[]\n",
    "    # function fDisplayMenu - call\n",
    "    fDisplayMenu()\n",
    "    while True: # infinite\n",
    "        nChoice=input(\"Enter choice: \")\n",
    "        if (nChoice==\"1\"):\n",
    "            # function fFillArray - call\n",
    "            nArray=fFillArray()\n",
    "            # function fDisplayMenu - call\n",
    "            fDisplayMenu()\n",
    "        elif (nChoice==\"2\"):\n",
    "            # function fDisplayMenu - call\n",
    "            fDisplayMenu()\n",
    "        elif (nChoice==\"3\"):\n",
    "            # function fDisplayMenu - call\n",
    "            fDisplayMenu()\n",
    "        elif (nChoice==\"4\"):\n",
    "            break; # exit\n",
    "        else:\n",
    "            # function fDisplayMenu - call\n",
    "            fDisplayMenu()\n",
    "\n",
    "# define function - fDisplayMenu\n",
    "def fDisplayMenu():\n",
    "    print(\"\")\n",
    "    print(\"MENU\")\n",
    "    print(\"=\" * 4)\n",
    "    print(\"1 - Fill Array\")\n",
    "    print(\"2 - Print Array\")\n",
    "    print(\"3 - Find > in Array\")\n",
    "    print(\"4 - Exit\")\n",
    "\n",
    "def fFillArray():\n",
    "    nLocArray=[]\n",
    "    while True: # infinite\n",
    "        nLocX=int(input(\"Enter Number(s): \"))\n",
    "        if (nLocX==-1):\n",
    "            break # exit\n",
    "        nLocArray.append(nLocX)\n",
    "    return nLocArray\n",
    "\n",
    "# keyword - __name__ - evaluate current module [1]\n",
    "if __name__==\"__main__\":\n",
    "    # function main - call\n",
    "    main()"
   ]
  },
  {
   "attachments": {
    "image.png": {
     "image/png": "[encoded data removed]"
    }
   },
   "cell_type": "markdown",
   "metadata": {},
   "source": [
    "- option 2 - contents of the array should be printed [7]\n",
    "\n",
    "![image.png](attachment:image.png)"
   ]
  },
  {
   "cell_type": "code",
   "execution_count": 2,
   "metadata": {},
   "outputs": [
    {
     "name": "stdout",
     "output_type": "stream",
     "text": [
      "\n",
      "MENU\n",
      "====\n",
      "1 - Fill Array\n",
      "2 - Print Array\n",
      "3 - Find > in Array\n",
      "4 - Exit\n",
      "Enter choice: 2\n",
      "[]\n",
      "\n",
      "MENU\n",
      "====\n",
      "1 - Fill Array\n",
      "2 - Print Array\n",
      "3 - Find > in Array\n",
      "4 - Exit\n",
      "Enter choice: 1\n",
      "Enter Number(s): 1\n",
      "Enter Number(s): 9\n",
      "Enter Number(s): 23\n",
      "Enter Number(s): 14\n",
      "Enter Number(s): 7\n",
      "Enter Number(s): 14\n",
      "Enter Number(s): 1\n",
      "Enter Number(s): -1\n",
      "\n",
      "MENU\n",
      "====\n",
      "1 - Fill Array\n",
      "2 - Print Array\n",
      "3 - Find > in Array\n",
      "4 - Exit\n",
      "Enter choice: 2\n",
      "[1, 9, 23, 14, 7, 14, 1]\n",
      "\n",
      "MENU\n",
      "====\n",
      "1 - Fill Array\n",
      "2 - Print Array\n",
      "3 - Find > in Array\n",
      "4 - Exit\n",
      "Enter choice: 4\n"
     ]
    }
   ],
   "source": [
    "# define function - main\n",
    "def main():\n",
    "    nArray=[]\n",
    "    # function fDisplayMenu - call\n",
    "    fDisplayMenu()\n",
    "    while True: # infinite\n",
    "        nChoice=input(\"Enter choice: \")\n",
    "        if (nChoice==\"1\"):\n",
    "            # function fFillArray - call\n",
    "            nArray=fFillArray()\n",
    "            # function fDisplayMenu - call\n",
    "            fDisplayMenu()\n",
    "        elif (nChoice==\"2\"):\n",
    "            print(nArray)\n",
    "            # function fDisplayMenu - call\n",
    "            fDisplayMenu()\n",
    "        elif (nChoice==\"3\"):\n",
    "            # function fDisplayMenu - call\n",
    "            fDisplayMenu()\n",
    "        elif (nChoice==\"4\"):\n",
    "            break; # exit\n",
    "        else:\n",
    "            # function fDisplayMenu - call\n",
    "            fDisplayMenu()\n",
    "\n",
    "# define function - fDisplayMenu\n",
    "def fDisplayMenu():\n",
    "    print(\"\")\n",
    "    print(\"MENU\")\n",
    "    print(\"=\" * 4)\n",
    "    print(\"1 - Fill Array\")\n",
    "    print(\"2 - Print Array\")\n",
    "    print(\"3 - Find > in Array\")\n",
    "    print(\"4 - Exit\")\n",
    "\n",
    "# define function - fFillArray\n",
    "def fFillArray():\n",
    "    nLocArray=[]\n",
    "    while True: # infinite\n",
    "        nLocX=int(input(\"Enter Number(s): \"))\n",
    "        if (nLocX==-1):\n",
    "            break # exit\n",
    "        nLocArray.append(nLocX)\n",
    "    return nLocArray\n",
    "\n",
    "# keyword - __name__ - evaluate current module [1]\n",
    "if __name__==\"__main__\":\n",
    "    # function main - call\n",
    "    main()"
   ]
  },
  {
   "attachments": {
    "image.png": {
     "image/png": "[encoded data removed]"
    }
   },
   "cell_type": "markdown",
   "metadata": {},
   "source": [
    "- option 3 - should be prompted to enter a number - any numbers in the array greater than the number entered should be printed [7]\n",
    "\n",
    "![image.png](attachment:image.png)"
   ]
  },
  {
   "cell_type": "code",
   "execution_count": 3,
   "metadata": {},
   "outputs": [
    {
     "name": "stdout",
     "output_type": "stream",
     "text": [
      "\n",
      "MENU\n",
      "====\n",
      "1 - Fill Array\n",
      "2 - Print Array\n",
      "3 - Find > in Array\n",
      "4 - Exit\n",
      "Enter choice: 2\n",
      "[]\n",
      "\n",
      "MENU\n",
      "====\n",
      "1 - Fill Array\n",
      "2 - Print Array\n",
      "3 - Find > in Array\n",
      "4 - Exit\n",
      "Enter choice: 1\n",
      "Enter Number(s): 1\n",
      "Enter Number(s): 9\n",
      "Enter Number(s): 23\n",
      "Enter Number(s): 14\n",
      "Enter Number(s): 77\n",
      "Enter Number(s): 14\n",
      "Enter Number(s): 1\n",
      "Enter Number(s): -1\n",
      "\n",
      "MENU\n",
      "====\n",
      "1 - Fill Array\n",
      "2 - Print Array\n",
      "3 - Find > in Array\n",
      "4 - Exit\n",
      "Enter choice: 2\n",
      "[1, 9, 23, 14, 77, 14, 1]\n",
      "\n",
      "MENU\n",
      "====\n",
      "1 - Fill Array\n",
      "2 - Print Array\n",
      "3 - Find > in Array\n",
      "4 - Exit\n",
      "Enter choice: 3\n",
      "\n",
      "MENU\n",
      "====\n",
      "1 - Fill Array\n",
      "2 - Print Array\n",
      "3 - Find > in Array\n",
      "4 - Exit\n",
      "Enter Number: 12\n",
      "[23, 14, 77, 14]\n",
      "Enter choice: 4\n"
     ]
    }
   ],
   "source": [
    "# define function - main\n",
    "def main():\n",
    "    nArray=[]\n",
    "    # function fDisplayMenu - call\n",
    "    fDisplayMenu()\n",
    "    while True: # infinite\n",
    "        nChoice=input(\"Enter choice: \")\n",
    "        if (nChoice==\"1\"):\n",
    "            # function fFillArray - call\n",
    "            nArray=fFillArray()\n",
    "            # function fDisplayMenu - call\n",
    "            fDisplayMenu()\n",
    "        elif (nChoice==\"2\"):\n",
    "            print(nArray)\n",
    "            # function fDisplayMenu - call\n",
    "            fDisplayMenu()\n",
    "        elif (nChoice==\"3\"):\n",
    "            # function fDisplayMenu - call\n",
    "            fDisplayMenu()\n",
    "            # function fFindGtInArray - call\n",
    "            fFindGtInArray(nArray)\n",
    "        elif (nChoice==\"4\"):\n",
    "            break; # exit\n",
    "        else:\n",
    "            # function fDisplayMenu - call\n",
    "            fDisplayMenu()\n",
    "\n",
    "# define function - fDisplayMenu\n",
    "def fDisplayMenu():\n",
    "    print(\"\")\n",
    "    print(\"MENU\")\n",
    "    print(\"=\" * 4)\n",
    "    print(\"1 - Fill Array\")\n",
    "    print(\"2 - Print Array\")\n",
    "    print(\"3 - Find > in Array\")\n",
    "    print(\"4 - Exit\")\n",
    "\n",
    "# define function - fFillArray\n",
    "def fFillArray():\n",
    "    nLocArray=[]\n",
    "    while True: # infinite\n",
    "        nLocX=int(input(\"Enter Number(s): \"))\n",
    "        if (nLocX==-1):\n",
    "            break # exit\n",
    "        nLocArray.append(nLocX)\n",
    "    return nLocArray\n",
    "\n",
    "# define function - fFindGtInArray\n",
    "def fFindGtInArray(nParArray):\n",
    "    nLocArrayGT=[]\n",
    "    nLocGT=int(input(\"Enter Number: \"))\n",
    "    for nEachValue in nParArray:\n",
    "        if (nEachValue>nLocGT):\n",
    "            nLocArrayGT.append(nEachValue)\n",
    "    print(nLocArrayGT)\n",
    "\n",
    "# keyword - __name__ - evaluate current module [1]\n",
    "if __name__==\"__main__\":\n",
    "    # function main - call\n",
    "    main()"
   ]
  },
  {
   "cell_type": "markdown",
   "metadata": {},
   "source": [
    "***\n",
    "# END"
   ]
  }
 ],
 "metadata": {
  "kernelspec": {
   "display_name": "Python 3",
   "language": "python",
   "name": "python3"
  },
  "language_info": {
   "codemirror_mode": {
    "name": "ipython",
    "version": 3
   },
   "file_extension": ".py",
   "mimetype": "text/x-python",
   "name": "python",
   "nbconvert_exporter": "python",
   "pygments_lexer": "ipython3",
   "version": "3.7.6"
  }
 },
 "nbformat": 4,
 "nbformat_minor": 4
}
