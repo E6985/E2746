{
 "cells": [
  {
   "cell_type": "markdown",
   "metadata": {},
   "source": [
    "# data-database-types-relational-language-SQL-MySQL-command-CREATE-TABLE\n",
    "> [TABLE OF CONTENTS](https://github.com/E6985/E2746/blob/master/README.md)\n",
    "***"
   ]
  },
  {
   "cell_type": "markdown",
   "metadata": {},
   "source": [
    "- knowing the characteristics - columns - attributes - fields - and what a table - entity - relation - has and the type of data each column - attribute - field - should store - now issue - sql - command to create it - command [7]\n",
    "\n",
    "```\n",
    "CREATE TABLE <___> (\n",
    "<column1> <datatype>,\n",
    "<column2> <datatype>,\n",
    "<column3> <datatype>\n",
    ");\n",
    "```"
   ]
  },
  {
   "cell_type": "markdown",
   "metadata": {},
   "source": [
    "```sql\n",
    "mysq> -- db - car\n",
    "mysql> CREATE TABLE car (\n",
    "    -> make VARCHAR(20),\n",
    "    -> model VARCHAR(20),\n",
    "    -> registration VARCHAR(15),\n",
    "    -> colour VARCHAR(10),\n",
    "    -> mileage INTEGER,\n",
    "    -> engineSize FLOAT(2,1)\n",
    "    -> );\n",
    "Query OK, 0 rows affected, 1 warning (0.02 sec)\n",
    "```"
   ]
  },
  {
   "cell_type": "markdown",
   "metadata": {},
   "source": [
    "- store data about a person - people have a lot of characteristics - person column - attribute - field - name - define as a string - 20 characters - cannot be NULL or blank [7]\n",
    "\n",
    "```sql\n",
    "VARCHAR(20) NOT NULL\n",
    "```"
   ]
  },
  {
   "cell_type": "markdown",
   "metadata": {},
   "source": [
    "- age column - attribute - field - define as an integer [7]\n",
    "\n",
    "```sql\n",
    "age INTEGER\n",
    "```"
   ]
  },
  {
   "cell_type": "markdown",
   "metadata": {},
   "source": [
    "- sex column - attribute - field - define as enumerate - either male or female - no sex entered then default to male [7]\n",
    "\n",
    "```sql\n",
    "sex ENUM(\"M\",\"F\") default \"M\"\n",
    "```"
   ]
  },
  {
   "cell_type": "markdown",
   "metadata": {},
   "source": [
    "- date of birth column - attribute - field - define as date [7]\n",
    "\n",
    "```sql\n",
    "dob DATE\n",
    "```"
   ]
  },
  {
   "cell_type": "markdown",
   "metadata": {},
   "source": [
    "- if student column - attribute - field - defined as a boolean - True - False - TINYINT(1) - can be used to represent boolean - zero is assumed - False - any other number is assumed - True [7]\n",
    "\n",
    "```sql\n",
    "isStudent TINYINT(1)\n",
    "```"
   ]
  },
  {
   "cell_type": "markdown",
   "metadata": {},
   "source": [
    "```sql\n",
    "mysql> -- db - person\n",
    "mysql> CREATE TABLE person (\n",
    "    -> name VARCHAR(20) NOT NULL,\n",
    "    -> age INTEGER,\n",
    "    -> sex ENUM(\"M\",\"F\") DEFAULT \"M\",\n",
    "    -> dob DATE,\n",
    "    -> isStudent TINYINT(1)\n",
    "    -> );\n",
    "Query OK, 0 rows affected, 1 warning (0.03 sec)\n",
    "```"
   ]
  },
  {
   "cell_type": "markdown",
   "metadata": {},
   "source": [
    "***\n",
    "# END"
   ]
  }
 ],
 "metadata": {
  "kernelspec": {
   "display_name": "Python 3",
   "language": "python",
   "name": "python3"
  },
  "language_info": {
   "codemirror_mode": {
    "name": "ipython",
    "version": 3
   },
   "file_extension": ".py",
   "mimetype": "text/x-python",
   "name": "python",
   "nbconvert_exporter": "python",
   "pygments_lexer": "ipython3",
   "version": "3.7.6"
  }
 },
 "nbformat": 4,
 "nbformat_minor": 4
}
