{
 "cells": [
  {
   "cell_type": "markdown",
   "metadata": {},
   "source": [
    "# python-database-walk-through-python-1\n",
    "> [TABLE OF CONTENTS](https://github.com/E6985/E2746/blob/master/README.md)\n",
    "***"
   ]
  },
  {
   "cell_type": "markdown",
   "metadata": {},
   "source": [
    "- shows a menu [7]\n",
    "\n",
    "```\n",
    "MENU\n",
    "====\n",
    "1 - Get Name\n",
    "2 - Get Age\n",
    "3 - Exit\n",
    "```\n",
    "\n",
    "- option 1 - function should be called to allow the user to enter his/her name - the string to prompt the user for his/her name should be passed as a parameter to the function - the name entered should be returned from the function to the main method - an uppercase version of the name should be printed - the user should be able to enter another choice [7]\n",
    "\n",
    "```\n",
    "Choice: 1\n",
    "Enter Name: tom\n",
    "TOM\n",
    "```\n",
    "\n",
    "- option 2 - function should be called to allow the user to enter his/her age - the string to prompt the user for his/her age should be passed as a parameter to the function - the age entered should be returned from the function to the main method - the age plus one should be printed - the user should be able to enter another choice [7]\n",
    "\n",
    "```python\n",
    "Choice: 2\n",
    "Enter Age: 3\n",
    "4\n",
    "```\n",
    "\n",
    "- option 3 - program should end [7]"
   ]
  },
  {
   "cell_type": "code",
   "execution_count": 1,
   "metadata": {},
   "outputs": [
    {
     "name": "stdout",
     "output_type": "stream",
     "text": [
      "MENU\n",
      "====\n",
      "1 - Get Name\n",
      "2 - Get Age\n",
      "3 - Exit\n"
     ]
    }
   ],
   "source": [
    "# define function - main\n",
    "def main():\n",
    "    fDisplayMenu()\n",
    "\n",
    "# define function - fDisplayMenu\n",
    "def fDisplayMenu():\n",
    "    print(\"MENU\")\n",
    "    print(\"====\")\n",
    "    print(\"1 - Get Name\")\n",
    "    print(\"2 - Get Age\")\n",
    "    print(\"3 - Exit\")\n",
    "\n",
    "# keyword - __name__ - evaluate current module [1]\n",
    "if __name__==\"__main__\":\n",
    "    # function main - call\n",
    "    main()"
   ]
  },
  {
   "cell_type": "markdown",
   "metadata": {},
   "source": [
    "- option 1 - function should be called to allow the user to enter his/her name - the string to prompt the user for his/her name should be passed as a parameter to the function - the name entered should be returned from the function to the main method - an uppercase version of the name should be printed - the user should be able to enter another choice [7]\n",
    "\n",
    "```\n",
    "Choice: 1\n",
    "Enter Name: tom\n",
    "TOM\n",
    "```"
   ]
  },
  {
   "cell_type": "code",
   "execution_count": 2,
   "metadata": {},
   "outputs": [
    {
     "name": "stdout",
     "output_type": "stream",
     "text": [
      "\n",
      "MENU\n",
      "====\n",
      "1 - Get Name\n",
      "2 - Get Age\n",
      "3 - Exit\n",
      "Choice: 1\n",
      "Enter Name: tom\n",
      "TOM\n",
      "\n",
      "MENU\n",
      "====\n",
      "1 - Get Name\n",
      "2 - Get Age\n",
      "3 - Exit\n",
      "Choice: 3\n"
     ]
    }
   ],
   "source": [
    "# define function - main\n",
    "def main():\n",
    "    # function fPromptEnterName - call\n",
    "    nNameStr=fPromptEnterName()\n",
    "    while True: # infinite\n",
    "        # function fDisplayMenu - call\n",
    "        fDisplayMenu()\n",
    "        nChoice=input(\"Choice: \")\n",
    "        if (nChoice==\"3\"):\n",
    "            break # exit\n",
    "        elif (nChoice==\"1\"):\n",
    "            # function fGetName - call\n",
    "            nName=fGetName(nNameStr)\n",
    "            print(nName.upper())\n",
    "\n",
    "# define function - fDisplayMenu\n",
    "def fDisplayMenu():\n",
    "    print(\"\")\n",
    "    print(\"MENU\")\n",
    "    print(\"====\")\n",
    "    print(\"1 - Get Name\")\n",
    "    print(\"2 - Get Age\")\n",
    "    print(\"3 - Exit\")\n",
    "\n",
    "# define function - fPromptEnterName\n",
    "def fPromptEnterName():\n",
    "    return \"Enter Name: \"\n",
    "\n",
    "# define function - fGetName\n",
    "def fGetName(nParName):\n",
    "    return input(nParName)\n",
    "\n",
    "# keyword - __name__ - evaluate current module [1]\n",
    "if __name__==\"__main__\":\n",
    "    # function  main - call\n",
    "    main()"
   ]
  },
  {
   "cell_type": "markdown",
   "metadata": {},
   "source": [
    "- option 2 - function should be called to allow the user to enter his/her age - the string to prompt the user for his/her age should be passed as a parameter to the function - the age entered should be returned from the function to the main method - the age plus one should be printed - the user should be able to enter another choice [7]\n",
    "\n",
    "```python\n",
    "Choice: 2\n",
    "Enter Age: 2\n",
    "3\n",
    "```"
   ]
  },
  {
   "cell_type": "code",
   "execution_count": 3,
   "metadata": {},
   "outputs": [
    {
     "name": "stdout",
     "output_type": "stream",
     "text": [
      "\n",
      "MENU\n",
      "====\n",
      "1 - Get Name\n",
      "2 - Get Age\n",
      "3 - Exit\n",
      "Choice: 2\n",
      "Enter Age: 2\n",
      "3\n",
      "\n",
      "MENU\n",
      "====\n",
      "1 - Get Name\n",
      "2 - Get Age\n",
      "3 - Exit\n",
      "Choice: 3\n"
     ]
    }
   ],
   "source": [
    "# define function - main\n",
    "def main():\n",
    "    # function fPromptEnterName - call\n",
    "    nNameStr=fPromptEnterName()\n",
    "    # function fPromptEnterAge - call\n",
    "    nAgeStr=fPromptEnterAge()\n",
    "    while True: # infinite\n",
    "        # function fDisplayMenu - call\n",
    "        fDisplayMenu()\n",
    "        nChoice=input(\"Choice: \")\n",
    "        if (nChoice==\"3\"):\n",
    "            break # exit\n",
    "        elif (nChoice==\"1\"):\n",
    "            # function fGetName - call\n",
    "            nName=fGetName(nNameStr)\n",
    "            print(nName.upper())\n",
    "        elif (nChoice==\"2\"):\n",
    "            try:\n",
    "                # function fGetAge - call\n",
    "                nAge=fGetAge(nAgeStr)\n",
    "                print(nAge+1)\n",
    "            except:\n",
    "                print(\"> Invalid Age Entered\")\n",
    "\n",
    "# define function - fDisplayMenu\n",
    "def fDisplayMenu():\n",
    "    print(\"\")\n",
    "    print(\"MENU\")\n",
    "    print(\"====\")\n",
    "    print(\"1 - Get Name\")\n",
    "    print(\"2 - Get Age\")\n",
    "    print(\"3 - Exit\")\n",
    "\n",
    "# define function - fPromptEnterName\n",
    "def fPromptEnterName():\n",
    "    return \"Enter Name: \"\n",
    "\n",
    "# define function - fPromptEnterAge\n",
    "def fPromptEnterAge():\n",
    "    return \"Enter Age: \"\n",
    "\n",
    "# define function - fGetName\n",
    "def fGetName(nParName):\n",
    "    return input(nParName)\n",
    "\n",
    "# define function - fGetAge\n",
    "def fGetAge(nParAge):\n",
    "    return int(input(nParAge))\n",
    "\n",
    "# keyword - __name__ - evaluate current module [1]\n",
    "if __name__==\"__main__\":\n",
    "    # function main - call\n",
    "    main()"
   ]
  },
  {
   "cell_type": "markdown",
   "metadata": {},
   "source": [
    "- option 3 - program should end [7]"
   ]
  },
  {
   "cell_type": "code",
   "execution_count": 4,
   "metadata": {},
   "outputs": [
    {
     "name": "stdout",
     "output_type": "stream",
     "text": [
      "MENU\n",
      "====\n",
      "1 - Get Name\n",
      "2 - Get Age\n",
      "3 - Exit\n",
      "Choice: 3\n"
     ]
    }
   ],
   "source": [
    "# define function - main\n",
    "def main():\n",
    "    while True: # infinite\n",
    "        # function fDisplayMenu - call\n",
    "        fDisplayMenu()\n",
    "        nChoice=input(\"Choice: \")\n",
    "        if (nChoice==\"3\"):\n",
    "            break # exit\n",
    "\n",
    "# define function - fDisplayMenu\n",
    "def fDisplayMenu():\n",
    "    print(\"MENU\")\n",
    "    print(\"====\")\n",
    "    print(\"1 - Get Name\")\n",
    "    print(\"2 - Get Age\")\n",
    "    print(\"3 - Exit\")\n",
    "\n",
    "# keyword - __name__ - evaluate current module [1]\n",
    "if __name__==\"__main__\":\n",
    "    # function main - call\n",
    "    main()"
   ]
  },
  {
   "cell_type": "markdown",
   "metadata": {},
   "source": [
    "***\n",
    "# END"
   ]
  }
 ],
 "metadata": {
  "kernelspec": {
   "display_name": "Python 3",
   "language": "python",
   "name": "python3"
  },
  "language_info": {
   "codemirror_mode": {
    "name": "ipython",
    "version": 3
   },
   "file_extension": ".py",
   "mimetype": "text/x-python",
   "name": "python",
   "nbconvert_exporter": "python",
   "pygments_lexer": "ipython3",
   "version": "3.7.6"
  }
 },
 "nbformat": 4,
 "nbformat_minor": 4
}
