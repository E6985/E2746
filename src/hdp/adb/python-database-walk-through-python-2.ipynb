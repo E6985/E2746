{
 "cells": [
  {
   "cell_type": "markdown",
   "metadata": {},
   "source": [
    "# python-database-walk-through-python-2\n",
    "> [TABLE OF CONTENTS](https://github.com/E6985/E2746/blob/master/README.md)\n",
    "***"
   ]
  },
  {
   "cell_type": "markdown",
   "metadata": {},
   "source": [
    "- has 2 arrays in the main function - one containing several elements which are numbers - the other empty [7]"
   ]
  },
  {
   "cell_type": "code",
   "execution_count": 1,
   "metadata": {},
   "outputs": [],
   "source": [
    "# define function - main\n",
    "def main():\n",
    "    nListPrime=[2,3,5,7]\n",
    "    nListEmpty=[]\n",
    "\n",
    "# keyword - __name__ - evaluate current module [1]\n",
    "if __name__==\"__main__\":\n",
    "    # function main - call\n",
    "    main()"
   ]
  },
  {
   "cell_type": "markdown",
   "metadata": {},
   "source": [
    "- another function which accepts a number as a parameter and returns the number doubled [7]"
   ]
  },
  {
   "cell_type": "code",
   "execution_count": 2,
   "metadata": {},
   "outputs": [
    {
     "name": "stdout",
     "output_type": "stream",
     "text": [
      "16\n"
     ]
    }
   ],
   "source": [
    "# define function - main\n",
    "def main():\n",
    "    nListPrime=[2,3,5,7]\n",
    "    nListEmpty=[]\n",
    "    # function fDoubleNumber - call\n",
    "    print(fDoubleNumber(8))\n",
    "\n",
    "# define function - fDoubleNumber\n",
    "def fDoubleNumber(nParNumber):\n",
    "    return nParNumber*2\n",
    "\n",
    "# keyword - __name__ - evaluate current module [1]\n",
    "if __name__==\"__main__\":\n",
    "    # function main - call\n",
    "    main()"
   ]
  },
  {
   "cell_type": "markdown",
   "metadata": {},
   "source": [
    "- main function should call this function for each element of the 1st array and populate the 2nd array with the doubled values - when the 2nd array is full it should be printed out [7]"
   ]
  },
  {
   "cell_type": "code",
   "execution_count": 3,
   "metadata": {},
   "outputs": [
    {
     "name": "stdout",
     "output_type": "stream",
     "text": [
      "[4, 6, 10, 14]\n"
     ]
    }
   ],
   "source": [
    "# define function - main\n",
    "def main():\n",
    "    nListPrime=[2,3,5,7]\n",
    "    nListEmpty=[]\n",
    "    for nEachValue in nListPrime:\n",
    "        # function fDoubleNumber - call\n",
    "        nListEmpty.append(fDoubleNumber(nEachValue))\n",
    "    print(nListEmpty)\n",
    "\n",
    "# define function - fDoubleNumber\n",
    "def fDoubleNumber(nParNumber):\n",
    "    return nParNumber*2\n",
    "\n",
    "# keyword - __name__ - evaluate current module [1]\n",
    "if __name__==\"__main__\":\n",
    "    # function main - call\n",
    "    main()"
   ]
  },
  {
   "cell_type": "markdown",
   "metadata": {},
   "source": [
    "***\n",
    "# END"
   ]
  }
 ],
 "metadata": {
  "kernelspec": {
   "display_name": "Python 3",
   "language": "python",
   "name": "python3"
  },
  "language_info": {
   "codemirror_mode": {
    "name": "ipython",
    "version": 3
   },
   "file_extension": ".py",
   "mimetype": "text/x-python",
   "name": "python",
   "nbconvert_exporter": "python",
   "pygments_lexer": "ipython3",
   "version": "3.7.6"
  }
 },
 "nbformat": 4,
 "nbformat_minor": 4
}
