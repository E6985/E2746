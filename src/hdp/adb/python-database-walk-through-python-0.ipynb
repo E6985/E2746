{
 "cells": [
  {
   "cell_type": "markdown",
   "metadata": {},
   "source": [
    "# python-database-walk-through-python-0\n",
    "> [TABLE OF CONTENTS](https://github.com/E6985/E2746/blob/master/README.md)\n",
    "***"
   ]
  },
  {
   "cell_type": "markdown",
   "metadata": {},
   "source": [
    "- takes as input - name - age - from the console - if - age - less than eighteen - print - \"Too Young\" - otherwise - print - name followed by - \"@somecompany.ie\" - plus - age - incremented by 2 [7]"
   ]
  },
  {
   "cell_type": "code",
   "execution_count": 1,
   "metadata": {},
   "outputs": [
    {
     "name": "stdout",
     "output_type": "stream",
     "text": [
      "Enter Name: tom\n",
      "Enter Age: 20\n",
      "tom@somecompany.ie 22\n"
     ]
    }
   ],
   "source": [
    "# define function - main\n",
    "def main():\n",
    "    nName=input(\"Enter Name: \")\n",
    "    # try - nAge - convert to integer\n",
    "    try:\n",
    "        # int - string to integer\n",
    "        nAge=int(input(\"Enter Age: \"))\n",
    "    # except - try block exception \n",
    "    except:\n",
    "        print(\"Invalid Age\")\n",
    "        # program end\n",
    "        return\n",
    "    if (nAge<18):\n",
    "        print(\"Too Young\")\n",
    "    else:\n",
    "        nNewAge=nAge+2\n",
    "        print(nName+\"@somecompany.ie\",nNewAge)\n",
    "\n",
    "# keyword - __name__ - evaluate current module\n",
    "if __name__==\"__main__\":\n",
    "    # function main - call\n",
    "    main()"
   ]
  },
  {
   "cell_type": "markdown",
   "metadata": {},
   "source": [
    "***\n",
    "# END"
   ]
  }
 ],
 "metadata": {
  "kernelspec": {
   "display_name": "Python 3",
   "language": "python",
   "name": "python3"
  },
  "language_info": {
   "codemirror_mode": {
    "name": "ipython",
    "version": 3
   },
   "file_extension": ".py",
   "mimetype": "text/x-python",
   "name": "python",
   "nbconvert_exporter": "python",
   "pygments_lexer": "ipython3",
   "version": "3.7.6"
  }
 },
 "nbformat": 4,
 "nbformat_minor": 4
}
