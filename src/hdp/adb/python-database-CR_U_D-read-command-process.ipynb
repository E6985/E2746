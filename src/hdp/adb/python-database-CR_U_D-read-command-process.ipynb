{
 "cells": [
  {
   "cell_type": "markdown",
   "metadata": {},
   "source": [
    "# python-database-CR_U_D-read-command-process\n",
    "> [TABLE OF CONTENTS](https://github.com/E6985/E2746/blob/master/README.md)\n",
    "***"
   ]
  },
  {
   "cell_type": "markdown",
   "metadata": {},
   "source": [
    "- add new data - INSERT [7]"
   ]
  },
  {
   "cell_type": "markdown",
   "metadata": {},
   "source": [
    "- database connection [7]\n",
    "\n",
    "```python\n",
    "conn=pymysql.connect(user=\"root\",\n",
    "\t\t\t\t\tcursorclass=pymysql.cursors.DictCursor,\n",
    "\t\t\t\t\tpassword=\"******\",\n",
    "\t\t\t\t\thost=\"localhost\",\n",
    "\t\t\t\t\tdb=\"school\",\n",
    "\t\t\t\t\tport=3306)\n",
    "```"
   ]
  },
  {
   "cell_type": "markdown",
   "metadata": {},
   "source": [
    "```sql\n",
    "mysql> use school\n",
    "Database changed\n",
    "```"
   ]
  },
  {
   "cell_type": "markdown",
   "metadata": {},
   "source": [
    "```sql\n",
    "mysql> show tables;\n",
    "+------------------+\n",
    "| Tables_in_school |\n",
    "+------------------+\n",
    "| subject          |\n",
    "| teacher          |\n",
    "+------------------+\n",
    "2 rows in set (0.01 sec)\n",
    "```"
   ]
  },
  {
   "cell_type": "markdown",
   "metadata": {},
   "source": [
    "```sql\n",
    "mysql> DESCRIBE subject;\n",
    "+---------------+-------------+------+-----+---------+-------+\n",
    "| Field         | Type        | Null | Key | Default | Extra |\n",
    "+---------------+-------------+------+-----+---------+-------+\n",
    "| Name          | varchar(15) | NO   | PRI | NULL    |       |\n",
    "| Teacher       | varchar(20) | YES  |     | NULL    |       |\n",
    "| OnLeavingCert | tinyint(1)  | YES  |     | NULL    |       |\n",
    "+---------------+-------------+------+-----+---------+-------+\n",
    "3 rows in set (0.00 sec)\n",
    "```"
   ]
  },
  {
   "cell_type": "markdown",
   "metadata": {},
   "source": [
    "- insert command - instead of hard coding the values - insert later [7]\n",
    "\n",
    "```python\n",
    "nInsert=\"INSERT INTO subject\n",
    "\t\t(Name,Teacher,OnLeavingCert)\n",
    "\t\tVALUES (%s,%s,%s)\"\n",
    "```"
   ]
  },
  {
   "cell_type": "markdown",
   "metadata": {},
   "source": [
    "- create a cursor on connection [7]\n",
    "\n",
    "```python\n",
    "with conn:\n",
    "\tcursor=conn.cursor()\n",
    "```\n",
    "\n",
    "- name - cursor - method - execute - parameters - i) sql code - nInsert - ii) value or values of any parameters defined in the query - pass three parameters - Maths -  Ms. Jones - 1 - into the three placeholders in the query represented by - %s [7]\n",
    "\n",
    "\n",
    "- method - commit - need to commit this change to the database - when called the actual database is physically updated - method - rollback - undo - INSERT [7]\n",
    "\n",
    "\n",
    "- name - nInsert - does not return rows - nothing to fetch from the cursor [7]\n",
    "\n",
    "\n",
    "- program run - cause an error - trying to insert a subject called Maths albeit already a row - record - tuple - Maths - in the table - entity - relation - primary key - mysql - disallow - return error - printed to the console - error message might not make much sense to the user - better - if print out a more user friendly message - try except block [7]\n",
    "\n",
    "```python\n",
    "with conn:\n",
    "\tcursor=conn.cursor()\n",
    "\tcursor.execute(nInsert,(\"Maths\",\"Ms. Jones\",1))\n",
    "\tconn.commit()\n",
    "```"
   ]
  },
  {
   "cell_type": "markdown",
   "metadata": {},
   "source": [
    "- try - attempt - indented - after the try statement [7] \n",
    "\n",
    "\n",
    "- conn.cursor - execute [7]\n",
    "\n",
    "\n",
    "- cursor.execute - result - error - exception given the column - attribute - field - Name - Maths - already exists in the database [7]\n",
    "\n",
    "\n",
    "- execution jumps to the except block - remaining code in the try block not executed [7]\n",
    "\n",
    "\n",
    "- conn.commit - print - Insert Successful - not executed - print - Maths already exists - executed [7]\n",
    "\n",
    "\n",
    "- rather than showing a hard to read automatically generated error message if an error does exist - printing something much easier to read - accept block - rather than just print an error message could retry execute - asked the user for a different subject name [7]\n",
    "\n",
    "\n",
    "- except is a generic catch all - different types of exception [7]\n",
    "\n",
    "\n",
    "- if had specified a different subject name - one that does not exist in the database - between the time connected to the database - the time before running method - execute - database gone offline - get an exception back - printing the wrong error message\n",
    "\n",
    "\n",
    "- different types of exception - exception that would occur would be integrity error - Maths - already exists [7]\n",
    "\n",
    "```python\n",
    "nName=\"Maths\"\n",
    "nTeacher=\"Ms.Jones\"\n",
    "nOLC=1\n",
    "with conn:\n",
    "\ttry:\n",
    "\t\tcursor=conn.cursor()\n",
    "\t\tcursor.execute(query,(nName,nTeacher,nOLC))\n",
    "\t\tconn.commit()\n",
    "\t\tprint(\"Insert Successful\")\n",
    "\texcept pymysql.err.InternalError as nE:\n",
    "\t\tprint(\"Internal Error,nE\")\n",
    "\texcept pymysql.err.IntegrityError:\n",
    "\t\tprint(\"Error\",nName,\"already exists\")\n",
    "\texcept Exception as nE:\n",
    "\t\tprint(\"error\",nE)\n",
    "```"
   ]
  },
  {
   "cell_type": "markdown",
   "metadata": {},
   "source": [
    "- subject - Spanish - does not exist in the database - defined nOLC - equal - string - yes [7]\n",
    "\n",
    "\n",
    "- table - entity - relation - school - column - attribute - field - OnLeavingCert - data type - TINYINT(1) -  not accept - value - yes - get an error - try to do it via python - exception - InternalError - defined - name - nE - will be used to print out more information [7]\n",
    "\n",
    "```python\n",
    "nName=\"Spanish\"\n",
    "nTeacher=\"Ms.Jones\"\n",
    "nOLC=\"yes\"\n",
    "with conn:\n",
    "\ttry:\n",
    "\t\tcursor=conn.cursor()\n",
    "\t\tcursor.execute(query,(nName,nTeacher,nOLC))\n",
    "\t\tconn.commit()\n",
    "\t\tprint(\"Insert Successful\")\n",
    "\texcept pymysql.err.InternalError as nE:\n",
    "\t\tprint(\"Internal Error,nE\")\n",
    "\texcept pymysql.err.IntegrityError:\n",
    "\t\tprint(\"Error\",nName,\"already exists\")\n",
    "\texcept Exception as nE:\n",
    "\t\tprint(\"error\",nE)\n",
    "```"
   ]
  },
  {
   "cell_type": "markdown",
   "metadata": {},
   "source": [
    "- name - nRowsAffected - checking the number of rows - records - tuples - affected by the query - zero - nothing has been updated - otherwise - print the number of rows - records - tuples - updated [7]\n",
    "\n",
    "\n",
    "- catch any errors - print the error message - name - nE [7]\n",
    "\n",
    "```python\n",
    "nQUpdate=\"UPDATE subject SET Teacher=%s  WHERE Name=%s\"\n",
    "nSubject=\"Maths\"\n",
    "nNewTeacher=\"Mr. Murphy\"\n",
    "\n",
    "with conn:\n",
    "\ttry:\n",
    "\t\tcursor=conn.cursor()\n",
    "\t\tnRowsAffected=cursor.execute(nQUpdate,nSubject)\n",
    "\t\tconn.commit()\n",
    "\t\tif (nRowsAffected==0):\n",
    "\t\t\tprint(\"Nothing updated -\",nSubject,\"- not updated\")\n",
    "\t\telse:\n",
    "\t\t\tprint(nSubject, \"now taught by\", nNewTeacher)\n",
    "\texcept Exception as nE:\n",
    "\t\tprint(\"error\",nE)\n",
    "```"
   ]
  },
  {
   "cell_type": "markdown",
   "metadata": {},
   "source": [
    "***\n",
    "# END"
   ]
  }
 ],
 "metadata": {
  "kernelspec": {
   "display_name": "Python 3",
   "language": "python",
   "name": "python3"
  },
  "language_info": {
   "codemirror_mode": {
    "name": "ipython",
    "version": 3
   },
   "file_extension": ".py",
   "mimetype": "text/x-python",
   "name": "python",
   "nbconvert_exporter": "python",
   "pygments_lexer": "ipython3",
   "version": "3.7.6"
  }
 },
 "nbformat": 4,
 "nbformat_minor": 4
}
