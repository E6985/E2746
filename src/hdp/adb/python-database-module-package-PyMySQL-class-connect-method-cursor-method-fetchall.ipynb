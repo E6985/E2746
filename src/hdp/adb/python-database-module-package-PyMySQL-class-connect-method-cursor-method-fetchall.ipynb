{
 "cells": [
  {
   "cell_type": "markdown",
   "metadata": {},
   "source": [
    "# python-database-module-package-PyMySQL-class-connect-method-cursor-method-fetchall\n",
    "> [TABLE OF CONTENTS](https://github.com/E6985/E2746/blob/master/README.md)\n",
    "***"
   ]
  },
  {
   "cell_type": "markdown",
   "metadata": {},
   "source": [
    "- database connection [7]\n",
    "\n",
    "```python\n",
    "conn=pymysql.connect(user=\"root\",\n",
    "\t\t\t\t\tcursorclass=pymysql.cursors.DictCursor,\n",
    "\t\t\t\t\tpassword=\"******\",\n",
    "\t\t\t\t\thost=\"localhost\",\n",
    "\t\t\t\t\tdb=\"school\",\n",
    "\t\t\t\t\tport=3306)\n",
    "```"
   ]
  },
  {
   "cell_type": "markdown",
   "metadata": {},
   "source": [
    "```python\n",
    "query=\"SELECT * FROM subject\"\n",
    "```"
   ]
  },
  {
   "cell_type": "markdown",
   "metadata": {},
   "source": [
    "- name - subjects - store results - array of objects -  documents [7]\n",
    "\n",
    "\n",
    "- method - fetchall - result - all - from object - name - cursor [7]\n",
    "\n",
    "```python\n",
    "with conn:\n",
    "\tcursor=conn.cursor()\n",
    "\tcursor.execute(query)\n",
    "\tsubjects=cursor.fetchall()\n",
    "```"
   ]
  },
  {
   "cell_type": "markdown",
   "metadata": {},
   "source": [
    "- for loop - iterating - sequence - array - name - subjects - can access the individual items - elements - name - nEachRow - corresponding to a row - record - tuple - in the table - entity - relation - subject [7]\n",
    "\n",
    "```python\n",
    "with conn:\n",
    "\tcursor=conn.cursor()\n",
    "\tcursor.execute(query)\n",
    "\tsubjects=cursor.fetchall()\n",
    "\tfor nEachRow in subjects:\n",
    "```\n"
   ]
  },
  {
   "cell_type": "markdown",
   "metadata": {},
   "source": [
    "- access column - attribute - field - Name - in the table - entity - relation - subject - print out the name of each subject in the - name - subjects - array [7]\n",
    "\n",
    "```python\n",
    "with conn:\n",
    "\tcursor=conn.cursor()\n",
    "\tcursor.execute(query)\n",
    "\tsubjects=cursor.fetchall()\n",
    "\tfor nEachRow in subjects:\n",
    "\t\tprint(nEachRow[\"Name\"])\n",
    "```"
   ]
  },
  {
   "cell_type": "markdown",
   "metadata": {},
   "source": [
    "***\n",
    "# END"
   ]
  }
 ],
 "metadata": {
  "kernelspec": {
   "display_name": "Python 3",
   "language": "python",
   "name": "python3"
  },
  "language_info": {
   "codemirror_mode": {
    "name": "ipython",
    "version": 3
   },
   "file_extension": ".py",
   "mimetype": "text/x-python",
   "name": "python",
   "nbconvert_exporter": "python",
   "pygments_lexer": "ipython3",
   "version": "3.7.6"
  }
 },
 "nbformat": 4,
 "nbformat_minor": 4
}
