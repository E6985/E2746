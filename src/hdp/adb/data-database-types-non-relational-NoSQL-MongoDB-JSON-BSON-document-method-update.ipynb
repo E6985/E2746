{
 "cells": [
  {
   "cell_type": "markdown",
   "metadata": {},
   "source": [
    "# data-database-types-non-relational-NoSQL-MongoDB-JSON-BSON-document-method-update\n",
    "> [TABLE OF CONTENTS](https://github.com/E6985/E2746/blob/master/README.md)\n",
    "***"
   ]
  },
  {
   "cell_type": "markdown",
   "metadata": {},
   "source": [
    "- method - update - modifies - relational_rows-records-tuples - mongodb_documents - in a - relational_table-entity-relation - mongodb_collection - parameter - query - selection criteria to be updated - parameter - update - modification to be applied - optional parameter - options - can be used to change the way the - method - update - works [7]"
   ]
  },
  {
   "cell_type": "markdown",
   "metadata": {},
   "source": [
    "```json\n",
    "update(query,update,options)\n",
    "```"
   ]
  },
  {
   "cell_type": "markdown",
   "metadata": {},
   "source": [
    "```json\n",
    "> show databases;\n",
    "admin    0.000GB\n",
    "config   0.000GB\n",
    "demo1    0.000GB\n",
    "local    0.000GB\n",
    "mdb      0.000GB\n",
    "myNewDB  0.000GB\n",
    "```"
   ]
  },
  {
   "cell_type": "markdown",
   "metadata": {},
   "source": [
    "```json\n",
    "> use mdb;\n",
    "switched to db mdb\n",
    "```"
   ]
  },
  {
   "cell_type": "markdown",
   "metadata": {},
   "source": [
    "```json\n",
    "> db;\n",
    "mdb\n",
    "```"
   ]
  },
  {
   "cell_type": "markdown",
   "metadata": {},
   "source": [
    "```json\n",
    "> show collections;\n",
    "mydoc\n",
    "user\n",
    "```"
   ]
  },
  {
   "cell_type": "markdown",
   "metadata": {},
   "source": [
    "```json\n",
    "> db.mydoc.find();\n",
    "{ \"_id\" : 1, \"name\" : \"Tom\", \"age\" : 37 }\n",
    "{ \"_id\" : 2, \"name\" : \"Bill\", \"age\" : 44 }\n",
    "{ \"_id\" : 3, \"name\" : \"Mary\", \"age\" : 29 }\n",
    "{ \"_id\" : 4, \"name\" : \"Susan\", \"age\" : 37 }\n",
    "{ \"_id\" : 5, \"name\" : \"Sean\", \"age\" : 54 }\n",
    "{ \"_id\" : 6, \"name\" : \"Luke\" }\n",
    "```"
   ]
  },
  {
   "cell_type": "markdown",
   "metadata": {},
   "source": [
    "- update - relational_rows-records-tuples - mongodb_documents - name - name - value - Tom - name - name - value - Mary - to both have an address - relational_column-attribute-field - mongodb_attribute - name - address - value - Galway - first parameter - query - find all - relational_rows-records-tuples - mongodb_documents - name - name - value - Tom - name - name - value - Mary [7]\n",
    "\n",
    "```json\n",
    "{$or:[{\"name\":\"Tom\"},{\"name\":\"Mary}]}\n",
    "```\n",
    "\n",
    "- second parameter - update - modification to be applied [7]\n",
    "\n",
    "```json\n",
    "{\"address\":\"Galway\"}\n",
    "```\n",
    "\n",
    "- optional parameter - can change default behaviour of - method - update - option - multi - by default - is set to false - only first - relational_row-record-tuple - mongodb_document - updated [7]\n",
    "\n",
    "```json\n",
    "{ \"_id\" : 1, \"address\" : \"Galway\" }\n",
    "```"
   ]
  },
  {
   "cell_type": "markdown",
   "metadata": {},
   "source": [
    "```json\n",
    "> db.mydoc.update({$or:[{\"name\":\"Tom\"},{\"name\":\"Mary\"}]},{\"address\":\"Galway\"});\n",
    "WriteResult({ \"nMatched\" : 1, \"nUpserted\" : 0, \"nModified\" : 1 })\n",
    "> db.mydoc.find();\n",
    "{ \"_id\" : 1, \"address\" : \"Galway\" }\n",
    "{ \"_id\" : 2, \"name\" : \"Bill\", \"age\" : 44 }\n",
    "{ \"_id\" : 3, \"name\" : \"Mary\", \"age\" : 29 }\n",
    "{ \"_id\" : 4, \"name\" : \"Susan\", \"age\" : 37 }\n",
    "{ \"_id\" : 5, \"name\" : \"Sean\", \"age\" : 54 }\n",
    "{ \"_id\" : 6, \"name\" : \"Luke\" }\n",
    "```"
   ]
  },
  {
   "cell_type": "markdown",
   "metadata": {},
   "source": [
    "```json\n",
    "> db.mydoc.drop();\n",
    "true\n",
    "```"
   ]
  },
  {
   "cell_type": "markdown",
   "metadata": {},
   "source": [
    "```json\n",
    "> show collections;\n",
    "user\n",
    "```"
   ]
  },
  {
   "cell_type": "markdown",
   "metadata": {},
   "source": [
    " ```json\n",
    "> db.mydoc.save([{\"_id\":1,\"name\":\"Tom\",\"age\":37},\n",
    "... {\"_id\":2,\"name\":\"Bill\",\"age\":44},\n",
    "... {\"_id\":3,\"name\":\"Mary\",\"age\":29},\n",
    "... {\"_id\":4,\"name\":\"Susan\",\"age\":37},\n",
    "... {\"_id\":5,\"name\":\"Sean\",\"age\":54},\n",
    "... {\"_id\":6,\"name\":\"Luke\"}]);\n",
    "BulkWriteResult({\n",
    "        \"writeErrors\" : [ ],\n",
    "        \"writeConcernErrors\" : [ ],\n",
    "        \"nInserted\" : 6,\n",
    "        \"nUpserted\" : 0,\n",
    "        \"nMatched\" : 0,\n",
    "        \"nModified\" : 0,\n",
    "        \"nRemoved\" : 0,\n",
    "        \"upserted\" : [ ]\n",
    "})\n",
    "```"
   ]
  },
  {
   "cell_type": "markdown",
   "metadata": {},
   "source": [
    "```json\n",
    "> show collections;\n",
    "mydoc\n",
    "user\n",
    "```"
   ]
  },
  {
   "cell_type": "markdown",
   "metadata": {},
   "source": [
    "```json\n",
    "> db.mydoc.find();\n",
    "{ \"_id\" : 1, \"name\" : \"Tom\", \"age\" : 37 }\n",
    "{ \"_id\" : 2, \"name\" : \"Bill\", \"age\" : 44 }\n",
    "{ \"_id\" : 3, \"name\" : \"Mary\", \"age\" : 29 }\n",
    "{ \"_id\" : 4, \"name\" : \"Susan\", \"age\" : 37 }\n",
    "{ \"_id\" : 5, \"name\" : \"Sean\", \"age\" : 54 }\n",
    "{ \"_id\" : 6, \"name\" : \"Luke\" }\n",
    "```"
   ]
  },
  {
   "cell_type": "markdown",
   "metadata": {},
   "source": [
    "- second parameter - update - modification to be applied - using operator - set - replaces the value of a - relational_column-attribute-field - mongodb_attribute - with the specified value - if the - relational_column-attribute-field - mongodb_attribute - does not exist - operator - set - adds a new - relational_column-attribute-field - mongodb_attribute - with the specified value [7]\n",
    "\n",
    "```json\n",
    "{$set:{\"address\":\"Galway\"}}\n",
    "```\n",
    "\n",
    "- optional parameter - options - change default behaviour of - method - update - supply values for the - parameter - options - multi - set to true - method - update - modifies all - relational_rows-records-tuples - mongodb_documents - that satisfies criteria - query - by default - multi - is set to false [7]\n",
    "\n",
    "```json\n",
    "{multi:true}\n",
    "```\n",
    "\n",
    "- relational_rows-records-tuples - mongodb_documents - matching the - query - have a new - relational_column-attribute-field - mongodb_attribute - name - address - value - Galway [7]"
   ]
  },
  {
   "cell_type": "markdown",
   "metadata": {},
   "source": [
    "```json\n",
    "> db.mydoc.update({$or:[{\"name\":\"Tom\"},{\"name\":\"Mary\"}]},{$set:{\"address\":\"Galway\"}},{multi:true});\n",
    "WriteResult({ \"nMatched\" : 2, \"nUpserted\" : 0, \"nModified\" : 2 })\n",
    "```"
   ]
  },
  {
   "cell_type": "markdown",
   "metadata": {},
   "source": [
    "```json\n",
    "> db.mydoc.find();\n",
    "{ \"_id\" : 1, \"name\" : \"Tom\", \"age\" : 37, \"address\" : \"Galway\" }\n",
    "{ \"_id\" : 2, \"name\" : \"Bill\", \"age\" : 44 }\n",
    "{ \"_id\" : 3, \"name\" : \"Mary\", \"age\" : 29, \"address\" : \"Galway\" }\n",
    "{ \"_id\" : 4, \"name\" : \"Susan\", \"age\" : 37 }\n",
    "{ \"_id\" : 5, \"name\" : \"Sean\", \"age\" : 54 }\n",
    "{ \"_id\" : 6, \"name\" : \"Luke\" }\n",
    "```"
   ]
  },
  {
   "cell_type": "markdown",
   "metadata": {},
   "source": [
    "```json\n",
    "> db.emp.save([{\"_id\":1,\"name\":\"Tom\",\"experience\":17},\n",
    "... {\"_id\":2,\"name\":\"Bill\",\"experience\":3},\n",
    "... {\"_id\":3,\"name\":\"Mary\",\"experience\":5},\n",
    "... {\"_id\":4,\"name\":\"Susan\",\"experience\":13}]);\n",
    "BulkWriteResult({\n",
    "        \"writeErrors\" : [ ],\n",
    "        \"writeConcernErrors\" : [ ],\n",
    "        \"nInserted\" : 4,\n",
    "        \"nUpserted\" : 0,\n",
    "        \"nMatched\" : 0,\n",
    "        \"nModified\" : 0,\n",
    "        \"nRemoved\" : 0,\n",
    "        \"upserted\" : [ ]\n",
    "})\n",
    "```"
   ]
  },
  {
   "cell_type": "markdown",
   "metadata": {},
   "source": [
    "```json\n",
    "> show collections;\n",
    "emp\n",
    "mydoc\n",
    "user\n",
    "```"
   ]
  },
  {
   "cell_type": "markdown",
   "metadata": {},
   "source": [
    "```json\n",
    "> db.emp.find();\n",
    "{ \"_id\" : 1, \"name\" : \"Tom\", \"experience\" : 17 }\n",
    "{ \"_id\" : 2, \"name\" : \"Bill\", \"experience\" : 3 }\n",
    "{ \"_id\" : 3, \"name\" : \"Mary\", \"experience\" : 5 }\n",
    "{ \"_id\" : 4, \"name\" : \"Susan\", \"experience\" : 13 }\n",
    "```"
   ]
  },
  {
   "cell_type": "markdown",
   "metadata": {},
   "source": [
    "- add - relational-column-attribute-field - mongodb_attribute - name - title - value - Manager - to all - relational_rows-records-tuples - mongodb_documents - where - name - experience - value - greater than twenty - if none exist - create a new - relational_row-record-tuple - mongodb_document - with - relational_column-attribute-field - mongodb_attribute - name - title - value - Manager - parameter - query [7]\n",
    "\n",
    "```json\n",
    "{\"experience\":{$gt:20}}\n",
    "```\n",
    "\n",
    "- parameter - update - contains the updated - relational_row-record-tuple - mongodb_document - operator - set - add a new - relational-column-attribute-field - mongodb_attribute - if one does not already exist [7]\n",
    "\n",
    "```json\n",
    "{$set:{\"title\":\"Manager\"}}\n",
    "```\n",
    "\n",
    "- parameter - options - multi - true - update all - relational_rows-records-tuples - mongodb_documents - that match the - query - upsert - true - if no - relational_rows-records-tuples - mongodb_documents - match - query - then create a new - relational_row-record-tuple - mongodb_document - based on the - parameter - update [7]"
   ]
  },
  {
   "cell_type": "markdown",
   "metadata": {},
   "source": [
    "```json\n",
    "> db.emp.update({\"experience\":{$gt:20}},{$set:{\"title\":\"Manager\"}},{multi:true,upsert:true});\n",
    "WriteResult({\n",
    "        \"nMatched\" : 0,\n",
    "        \"nUpserted\" : 1,\n",
    "        \"nModified\" : 0,\n",
    "        \"_id\" : ObjectId(\"5f0dbefac74695a1897a0f37\")\n",
    "})\n",
    "```"
   ]
  },
  {
   "cell_type": "markdown",
   "metadata": {},
   "source": [
    "- no - relational_rows-records-tuples - mongodb_documents - match - parameter - query - options - upsert - true - new - relational_row-record-tuple - mongodb_document - created with - name - title - value - Manager [7]\n",
    "\n",
    "```json\n",
    "{ \"_id\" : ObjectId(\"5f0dbefac74695a1897a0f37\"), \"title\" : \"Manager\" }\n",
    "```"
   ]
  },
  {
   "cell_type": "markdown",
   "metadata": {},
   "source": [
    "```json\n",
    "> db.emp.find();\n",
    "{ \"_id\" : 1, \"name\" : \"Tom\", \"experience\" : 17 }\n",
    "{ \"_id\" : 2, \"name\" : \"Bill\", \"experience\" : 3 }\n",
    "{ \"_id\" : 3, \"name\" : \"Mary\", \"experience\" : 5 }\n",
    "{ \"_id\" : 4, \"name\" : \"Susan\", \"experience\" : 13 }\n",
    "{ \"_id\" : ObjectId(\"5f0dbefac74695a1897a0f37\"), \"title\" : \"Manager\" }\n",
    "```"
   ]
  },
  {
   "cell_type": "markdown",
   "metadata": {},
   "source": [
    "***\n",
    "# END"
   ]
  }
 ],
 "metadata": {
  "kernelspec": {
   "display_name": "Python 3",
   "language": "python",
   "name": "python3"
  },
  "language_info": {
   "codemirror_mode": {
    "name": "ipython",
    "version": 3
   },
   "file_extension": ".py",
   "mimetype": "text/x-python",
   "name": "python",
   "nbconvert_exporter": "python",
   "pygments_lexer": "ipython3",
   "version": "3.7.6"
  }
 },
 "nbformat": 4,
 "nbformat_minor": 4
}
