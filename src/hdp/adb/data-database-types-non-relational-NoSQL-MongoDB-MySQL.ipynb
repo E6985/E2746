{
 "cells": [
  {
   "cell_type": "markdown",
   "metadata": {},
   "source": [
    "# data-database-types-non-relational-NoSQL-MongoDB-MySQL\n",
    "> [TABLE OF CONTENTS](https://github.com/E6985/E2746/blob/master/README.md)\n",
    "***"
   ]
  },
  {
   "cell_type": "markdown",
   "metadata": {},
   "source": [
    "- **mongodb** - features - **supports** - **enormous** **amounts** of **data** - data that can **increase** in a **short** **amount** of **time** - **unstructured** data - not in a consist structure - data **consistently** **changing** [7]"
   ]
  },
  {
   "cell_type": "markdown",
   "metadata": {},
   "source": [
    "- **document** **referencing** **and** **embedding** **available** albeit **does** **not** have the **strict** **foreign** **key** **constraints** available in **mysql** - may be an issue in scenarios such as double-entry accounting - need to ensure a value input into a row - record - tuple - actually exists in the database [7]"
   ]
  },
  {
   "cell_type": "markdown",
   "metadata": {},
   "source": [
    "- **mysql** - features - **supports** - based on **technology** around for **decades** - **stable** - **better** for **data** that is **very** **structured** or **controlled** [7]"
   ]
  },
  {
   "cell_type": "markdown",
   "metadata": {},
   "source": [
    "- **mysql** - **data** **types** - **foreign** **keys** - **ensures** **data** **integrity** - **data** **security** [7]"
   ]
  },
  {
   "cell_type": "markdown",
   "metadata": {},
   "source": [
    "***\n",
    "# END"
   ]
  }
 ],
 "metadata": {
  "kernelspec": {
   "display_name": "Python 3",
   "language": "python",
   "name": "python3"
  },
  "language_info": {
   "codemirror_mode": {
    "name": "ipython",
    "version": 3
   },
   "file_extension": ".py",
   "mimetype": "text/x-python",
   "name": "python",
   "nbconvert_exporter": "python",
   "pygments_lexer": "ipython3",
   "version": "3.7.6"
  }
 },
 "nbformat": 4,
 "nbformat_minor": 4
}
