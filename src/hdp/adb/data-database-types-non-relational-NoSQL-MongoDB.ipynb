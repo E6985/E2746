{
 "cells": [
  {
   "cell_type": "markdown",
   "metadata": {},
   "source": [
    "# data-database-types-non-relational-NoSQL-MongoDB\n",
    "> [TABLE OF CONTENTS](https://github.com/E6985/E2746/blob/master/README.md)\n",
    "***"
   ]
  },
  {
   "cell_type": "markdown",
   "metadata": {},
   "source": [
    "- non-relational - nosql - mongodb - document database - larger databases - data less structured than traditional relational database environments - based on json - concept of a database is the same as a relational database \n",
    "    - relational_table-entity-relation - mongodb_collection\n",
    "    - relational_column-attribute-field - mongodb_attribute\n",
    "    - relational_row_record_tuple - mongodb_document \n",
    "- associated data is thought of as a document - everything related to a document usually stored together [7]"
   ]
  },
  {
   "cell_type": "markdown",
   "metadata": {},
   "source": [
    "<img src=\"img/04-01-02.png\" />"
   ]
  },
  {
   "cell_type": "markdown",
   "metadata": {},
   "source": [
    "- relational model - data stored over multiple tables - entities - relations - joined together to obtain the required information - unable to manage the data generated nowadays - mongodb - supports large amounts of data via sharding across multiple servers - horizontal scalabilty - sharding - separates very large databases into smaller - faster - more easily managed parts - shards - the process of sharding in sql can be a complex process - mongodb - designed to easily facilitate sharding - although at first glance duplication of data seems a bad idea - wasteful - makes the process of data retrieval faster - if all the data needs are in a single document then there is not need to join to another document in order to obtain more information [7]"
   ]
  },
  {
   "cell_type": "markdown",
   "metadata": {},
   "source": [
    "<img src=\"img/04-01-04-01-[6]-4.png\" />"
   ]
  },
  {
   "cell_type": "markdown",
   "metadata": {},
   "source": [
    "- relational model - unable to manage the data generated nowadays - not very flexible when changes are required to its schema - mongodb - no scheme in a document database - schemaless - relational_row-record-tuple - mongodb_document - can store whatever is applicable to it [7]"
   ]
  },
  {
   "cell_type": "markdown",
   "metadata": {},
   "source": [
    "- cmd - mongodb daemon [7]\n",
    "\n",
    "```\n",
    "$ cd ___\\MongoDB\\Server\\4.2\\bin\n",
    "___\\MongoDB\\Server\\4.2\\bin>\n",
    "```\n",
    "\n",
    "- run - mongodb daemon - communicate with mongodb - run mongodb instance [7]\n",
    "\n",
    "```\n",
    "$ ___\\MySQL\\MySQL Server 8.0\\bin>mongod\n",
    "2020-07-12T13:39:56.035+0100 I  CONTROL  [main] Automatically disabling TLS 1.0, to force-enable TLS 1.0 specify --sslDisabledProtocols 'none'\n",
    "2020-07-12T13:39:56.374+0100 W  ASIO     [main] No TransportLayer configured during NetworkInterface startup\n",
    "2020-07-12T13:39:56.376+0100 I  CONTROL  [initandlisten] MongoDB starting : pid=16520 port=27017 dbpath=C:\\data\\db\\ 64-bit host=peahi\n",
    "2020-07-12T13:39:56.376+0100 I  CONTROL  [initandlisten] targetMinOS: Windows 7/Windows Server 2008 R2\n",
    "2020-07-12T13:39:56.377+0100 I  CONTROL  [initandlisten] db version v4.2.8\n",
    "2020-07-12T13:39:56.377+0100 I  CONTROL  [initandlisten] git version: 43d25964249164d76d5e04dd6cf38f6111e21f5f\n",
    "2020-07-12T13:39:56.378+0100 I  CONTROL  [initandlisten] allocator: tcmalloc\n",
    "2020-07-12T13:39:56.378+0100 I  CONTROL  [initandlisten] modules: none\n",
    "2020-07-12T13:39:56.378+0100 I  CONTROL  [initandlisten] build environment:\n",
    "2020-07-12T13:39:56.379+0100 I  CONTROL  [initandlisten]     distmod: 2012plus\n",
    "2020-07-12T13:39:56.379+0100 I  CONTROL  [initandlisten]     distarch: x86_64\n",
    "2020-07-12T13:39:56.379+0100 I  CONTROL  [initandlisten]     target_arch: x86_64\n",
    "2020-07-12T13:39:56.379+0100 I  CONTROL  [initandlisten] options: {}\n",
    "2020-07-12T13:39:56.381+0100 I  STORAGE  [initandlisten] exception in initAndListen: NonExistentPath: Data directory C:\\data\\db\\ not found. Create the missing directory or specify another path using (1) the --dbpath command line option, or (2) by adding the 'storage.dbPath' option in the configuration file., terminating\n",
    "2020-07-12T13:39:56.381+0100 I  NETWORK  [initandlisten] shutdown: going to close listening sockets...\n",
    "2020-07-12T13:39:56.381+0100 I  -        [initandlisten] Stopping further Flow Control ticket acquisitions.\n",
    "2020-07-12T13:39:56.381+0100 I  CONTROL  [initandlisten] now exiting\n",
    "2020-07-12T13:39:56.382+0100 I  CONTROL  [initandlisten] shutting down with code:100\n",
    "```\n",
    "\n",
    "- need to create folder - .\\data\\db\\ \\[7\\]\n",
    "\n",
    "```\n",
    "$ ___\\MySQL\\MySQL Server 8.0\\bin>mkdir ..\\..\\..\\..\\..\\data\\db\n",
    "```\n",
    "\n",
    "- run - mongodb daemon - communicate with mongodb - run mongodb instance - now connected [7]\n",
    "\n",
    "```\n",
    "...\n",
    "...\n",
    "2020-07-12T13:46:36.002+0100 I  SHARDING [ftdc] Marking collection local.oplog.rs as collection version: <unsharded>\n",
    "```\n",
    "\n",
    "- cmd - mongodb instance [7]\n",
    "\n",
    "```\n",
    "$ ___\\MySQL\\MySQL Server 8.0\\bin>mongo\n",
    "MongoDB shell version v4.2.8\n",
    "connecting to: mongodb://127.0.0.1:27017/?compressors=disabled&gssapiServiceName=mongodb\n",
    "Implicit session: session { \"id\" : UUID(\"819a62ac-6cc2-4333-b690-c4bb00f9379a\") }\n",
    "MongoDB server version: 4.2.8\n",
    "Welcome to the MongoDB shell.\n",
    "For interactive help, type \"help\".\n",
    "For more comprehensive documentation, see\n",
    "        http://docs.mongodb.org/\n",
    "Questions? Try the support group\n",
    "        http://groups.google.com/group/mongodb-user\n",
    "Server has startup warnings:\n",
    "2020-07-12T13:34:14.157+0100 I  CONTROL  [initandlisten]\n",
    "2020-07-12T13:34:14.157+0100 I  CONTROL  [initandlisten] ** WARNING: Access control is not enabled for the database.\n",
    "2020-07-12T13:34:14.157+0100 I  CONTROL  [initandlisten] **          Read and write access to data and configuration is unrestricted.\n",
    "2020-07-12T13:34:14.157+0100 I  CONTROL  [initandlisten]\n",
    "---\n",
    "Enable MongoDB's free cloud-based monitoring service, which will then receive and display\n",
    "metrics about your deployment (disk utilization, CPU, operation statistics, etc).\n",
    "\n",
    "The monitoring data will be available on a MongoDB website with a unique URL accessible to you\n",
    "and anyone you share the URL with. MongoDB may use this information to make product\n",
    "improvements and to suggest MongoDB products and deployment options to you.\n",
    "\n",
    "To enable free monitoring, run the following command: db.enableFreeMonitoring()\n",
    "To permanently disable this reminder, run the following command: db.disableFreeMonitoring()\n",
    "---\n",
    "\n",
    "> \n",
    "```"
   ]
  },
  {
   "cell_type": "markdown",
   "metadata": {},
   "source": [
    "```json\n",
    "> show dbs;\n",
    "admin   0.000GB\n",
    "config  0.000GB\n",
    "local   0.000GB\n",
    "```"
   ]
  },
  {
   "cell_type": "markdown",
   "metadata": {},
   "source": [
    "```json\n",
    "> use myNewDB;\n",
    "switched to db myNewDB\n",
    "```"
   ]
  },
  {
   "cell_type": "markdown",
   "metadata": {},
   "source": [
    "- db - myNewDB - empty [7]"
   ]
  },
  {
   "cell_type": "markdown",
   "metadata": {},
   "source": [
    "```json\n",
    "> show dbs;\n",
    "admin   0.000GB\n",
    "config  0.000GB\n",
    "local   0.000GB\n",
    "```"
   ]
  },
  {
   "cell_type": "markdown",
   "metadata": {},
   "source": [
    "```json\n",
    "> db;\n",
    "myNewDB\n",
    "```"
   ]
  },
  {
   "cell_type": "markdown",
   "metadata": {},
   "source": [
    "```json\n",
    "> db.myCollection.save({\"id\":1});\n",
    "WriteResult({ \"nInserted\" : 1 })\n",
    "```"
   ]
  },
  {
   "cell_type": "markdown",
   "metadata": {},
   "source": [
    "```json\n",
    "> show dbs;\n",
    "admin    0.000GB\n",
    "config   0.000GB\n",
    "local    0.000GB\n",
    "myNewDB  0.000GB\n",
    "```"
   ]
  },
  {
   "cell_type": "markdown",
   "metadata": {},
   "source": [
    "***\n",
    "# END"
   ]
  }
 ],
 "metadata": {
  "kernelspec": {
   "display_name": "Python 3",
   "language": "python",
   "name": "python3"
  },
  "language_info": {
   "codemirror_mode": {
    "name": "ipython",
    "version": 3
   },
   "file_extension": ".py",
   "mimetype": "text/x-python",
   "name": "python",
   "nbconvert_exporter": "python",
   "pygments_lexer": "ipython3",
   "version": "3.7.6"
  }
 },
 "nbformat": 4,
 "nbformat_minor": 4
}
