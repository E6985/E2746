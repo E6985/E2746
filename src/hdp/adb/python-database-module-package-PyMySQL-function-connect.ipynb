{
 "cells": [
  {
   "cell_type": "markdown",
   "metadata": {},
   "source": [
    "# python-database-module-package-PyMySQL-class-connect\n",
    "> [TABLE OF CONTENTS](https://github.com/E6985/E2746/blob/master/README.md)\n",
    "***"
   ]
  },
  {
   "cell_type": "markdown",
   "metadata": {},
   "source": [
    "- database - school - table - entity - relation - subject - three columns - attributes fields - Name - Teacher - OnLeavingCert - want to connect to this database [7]"
   ]
  },
  {
   "cell_type": "markdown",
   "metadata": {},
   "source": [
    "<img src=\"img/0-2.png\" />"
   ]
  },
  {
   "cell_type": "markdown",
   "metadata": {},
   "source": [
    "```sql\n",
    "mysql> use school;\n",
    "Database changed\n",
    "```"
   ]
  },
  {
   "cell_type": "markdown",
   "metadata": {},
   "source": [
    "```sql\n",
    "mysql> show tables;\n",
    "+------------------+\n",
    "| Tables_in_school |\n",
    "+------------------+\n",
    "| subject          |\n",
    "| teacher          |\n",
    "+------------------+\n",
    "2 rows in set (0.00 sec)\n",
    "```"
   ]
  },
  {
   "cell_type": "markdown",
   "metadata": {},
   "source": [
    "```sql\n",
    "mysql> DESCRIBE subject;\n",
    "+---------------+-------------+------+-----+---------+-------+\n",
    "| Field         | Type        | Null | Key | Default | Extra |\n",
    "+---------------+-------------+------+-----+---------+-------+\n",
    "| Name          | varchar(15) | NO   | PRI | NULL    |       |\n",
    "| Teacher       | varchar(20) | YES  |     | NULL    |       |\n",
    "| OnLeavingCert | tinyint(1)  | YES  |     | NULL    |       |\n",
    "+---------------+-------------+------+-----+---------+-------+\n",
    "3 rows in set (0.00 sec)\n",
    "```"
   ]
  },
  {
   "cell_type": "markdown",
   "metadata": {},
   "source": [
    "- package - pymysql - connects - mysql database [7]\n",
    "\n",
    "```python\n",
    "import pymysql\n",
    "```"
   ]
  },
  {
   "cell_type": "markdown",
   "metadata": {},
   "source": [
    "[pymysql.connect](https://web.archive.org/web/20200814112418/https://pymysql.readthedocs.io/en/latest/modules/connections.html)"
   ]
  },
  {
   "cell_type": "markdown",
   "metadata": {},
   "source": [
    "- call - class - connect [7]\n",
    "\n",
    "```python\n",
    "pymysql.connect(\n",
    "```"
   ]
  },
  {
   "cell_type": "markdown",
   "metadata": {},
   "source": [
    "- parameter - host - location of database server - database on another machine - give ip address - database on the same machine as the python program - localhost [7]"
   ]
  },
  {
   "cell_type": "markdown",
   "metadata": {},
   "source": [
    "- specify connection - parameter - localhost - database running on the same machine as the python program [7]\n",
    "\n",
    "```python\n",
    "pymysql.connect(\"localhost\"\n",
    "```"
   ]
  },
  {
   "cell_type": "markdown",
   "metadata": {},
   "source": [
    "- parameter - user - username to access the database - same username when connecting - mysql - command line prompt - mysql - workbench [7]"
   ]
  },
  {
   "cell_type": "markdown",
   "metadata": {},
   "source": [
    "- specify connection - parameter - root [7]\n",
    "\n",
    "```python\n",
    "pymysql.connect(\"localhost\",\"root\"\n",
    "```"
   ]
  },
  {
   "cell_type": "markdown",
   "metadata": {},
   "source": [
    "- parameter - password - user password [7]"
   ]
  },
  {
   "cell_type": "markdown",
   "metadata": {},
   "source": [
    "- specify connection - parameter - $xxxxxx$ - password for the root user [7]\n",
    "\n",
    "```python\n",
    "pymysql.connect(\"localhost\",\"root\",\"******\"\n",
    "```"
   ]
  },
  {
   "cell_type": "markdown",
   "metadata": {},
   "source": [
    "- parameter - db - database to use [7]"
   ]
  },
  {
   "cell_type": "markdown",
   "metadata": {},
   "source": [
    "- specify connection - parameter - database  - school - database to connect to - default port - 3306 [7]\n",
    "\n",
    "```python\n",
    "pymysql.connect(\"localhost\",\"root\",\"******\",\"school\"\n",
    "```\n"
   ]
  },
  {
   "cell_type": "markdown",
   "metadata": {},
   "source": [
    "- parameter - port - mysql processes - run on a port - default - 3306 [7]"
   ]
  },
  {
   "cell_type": "markdown",
   "metadata": {},
   "source": [
    "- parameter - cursorclass - cursor used to iterate over the rows - records - tuples - returned from a query - different types - access information returned in different ways [7]"
   ]
  },
  {
   "cell_type": "markdown",
   "metadata": {},
   "source": [
    "- specify connection - parameter - cursorclass - as this is not the next parameter in - method - connection - parameter listing - omitted - port as well as other parameters - need to say which parameter specifying a value for - cursorclass - followed by its value - pymysql - cursors - DictCursor - cursor is not the default cursor but it is a better way of accessing the columns - attributes - fields - returned from the database [7]\n",
    "\n",
    "```python\n",
    "class pymysql.cursors.DictCursor(connection)\n",
    "```\n",
    "\n",
    "- cursor - returns results as a dictionary [reference](https://web.archive.org/web/20200802025146/https://pymysql.readthedocs.io/en/latest/modules/cursors.html)\n",
    "\n",
    "\n",
    "```python\n",
    "pymysql.connect(\"localhost\",\"root\",\"******\",\"school\",cursorclass=pymysql.cursors.DictCursor)\n",
    "```"
   ]
  },
  {
   "cell_type": "markdown",
   "metadata": {},
   "source": [
    "- method - connect - returns the connection - need - name - conn - to store the connection [7]\n",
    "\n",
    "```python\n",
    "conn=pymysql.connect(\"localhost\",\"root\",\"******\",\"school\",cursorclass=pymysql.cursors.DictCursor)\n",
    "```"
   ]
  },
  {
   "cell_type": "markdown",
   "metadata": {},
   "source": [
    "- another way - call - method - connect - supply parameters in different order - using the keywords before the values - specifying - root - first parameter - assume - root - refer to the machine the database on - user equals root - python knows that this value should be passed to the user parameter [7]\n",
    "\n",
    "```python\n",
    "conn=pymysql.connect(user=\"root\",\n",
    "\t\t\t\t\tcursorclass=pymysql.cursors.DictCursor,\n",
    "\t\t\t\t\tpassword=\"******\",\n",
    "\t\t\t\t\thost=\"localhost\",\n",
    "\t\t\t\t\tdb=\"school\",\n",
    "\t\t\t\t\tport=3306)\n",
    "```"
   ]
  },
  {
   "cell_type": "markdown",
   "metadata": {},
   "source": [
    "***\n",
    "# END"
   ]
  }
 ],
 "metadata": {
  "kernelspec": {
   "display_name": "Python 3",
   "language": "python",
   "name": "python3"
  },
  "language_info": {
   "codemirror_mode": {
    "name": "ipython",
    "version": 3
   },
   "file_extension": ".py",
   "mimetype": "text/x-python",
   "name": "python",
   "nbconvert_exporter": "python",
   "pygments_lexer": "ipython3",
   "version": "3.7.6"
  }
 },
 "nbformat": 4,
 "nbformat_minor": 4
}
