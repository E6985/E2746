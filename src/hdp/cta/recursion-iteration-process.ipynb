{
 "cells": [
  {
   "cell_type": "markdown",
   "metadata": {},
   "source": [
    "# recursion-iteration-process\n",
    "> [TABLE OF CONTENTS](https://github.com/E6985/E2746/blob/master/README.md)\n",
    "***"
   ]
  },
  {
   "cell_type": "markdown",
   "metadata": {},
   "source": [
    "```python\n",
    "print(*objects, sep=' ', end='\\n', file=sys.stdout, flush=False)\n",
    "```\n",
    "> [Python Documentation](https://web.archive.org/web/20200514154635/https://docs.python.org/3/library/functions.html#print)"
   ]
  },
  {
   "cell_type": "code",
   "execution_count": 1,
   "metadata": {},
   "outputs": [],
   "source": [
    "# define function - fCount\n",
    "def fCount(nParIntegerIndex):\n",
    "    print(nParIntegerIndex)\n",
    "    if nParIntegerIndex<2:\n",
    "        fCount(nParIntegerIndex+1)"
   ]
  },
  {
   "cell_type": "code",
   "execution_count": 2,
   "metadata": {
    "scrolled": true
   },
   "outputs": [],
   "source": [
    "# call function - fCount\n",
    "fCount(0)"
   ]
  },
  {
   "cell_type": "markdown",
   "metadata": {},
   "source": [
    "- recursion trace - way of - tracing - the call from the caller all the way down to the nested levels of - recursion -back to the caller [6]"
   ]
  },
  {
   "cell_type": "markdown",
   "metadata": {},
   "source": [
    "<img src=\"img/04-1-03.png\" />"
   ]
  },
  {
   "cell_type": "markdown",
   "metadata": {},
   "source": [
    "- call function - fCount - passing argument - zero [6]\n",
    "\n",
    "```python\n",
    "fCount(0)\n",
    "```"
   ]
  },
  {
   "cell_type": "markdown",
   "metadata": {},
   "source": [
    "- called function - fCount - passed parameter - nParIntegerIndex - zero [6]\n",
    "\n",
    "```python\n",
    "def fCount(nParIndexInteger): # nParIndexInteger - 0\n",
    "```"
   ]
  },
  {
   "cell_type": "markdown",
   "metadata": {},
   "source": [
    "- call function - print - passing parameter - nParIntegerIndex - zero [6]\n",
    "\n",
    "```python\n",
    "    print(nParIntegerIndex) # nParIntegerIndex - 0\n",
    "```"
   ]
  },
  {
   "cell_type": "markdown",
   "metadata": {},
   "source": [
    "- conditional - if - nParIntegerIndex - zero - less than two [6]\n",
    "\n",
    "```python\n",
    "if nParIntegerIndex<2: # conditional - True\n",
    "```"
   ]
  },
  {
   "cell_type": "markdown",
   "metadata": {},
   "source": [
    "- call function - fCount - passing parameter - nParIntegerIndex - zero plus one [6]\n",
    "\n",
    "```python\n",
    "    fCount(nParIntegerIndex+1) # nParIntegerIndex - 1\n",
    "```\n",
    "\n",
    "- call **recursion-1** - copy function - fCount - activated [6]"
   ]
  },
  {
   "cell_type": "markdown",
   "metadata": {},
   "source": [
    "- called function - fCount - passed parameter - nParIntegerIndex - one [6]\n",
    "\n",
    "```python\n",
    "def fCount(nParIndexInteger): # nParIntegerIndex - 1\n",
    "```"
   ]
  },
  {
   "cell_type": "markdown",
   "metadata": {},
   "source": [
    "- call function - print - passing parameter - nParIntegerIndex - one [6]\n",
    "\n",
    "```python\n",
    "    print(nParIntegerIndex) # nParIntegerIndex - 1\n",
    "```"
   ]
  },
  {
   "cell_type": "markdown",
   "metadata": {},
   "source": [
    "- conditional - if - nParIntegerIndex - one - less than two [6]\n",
    "\n",
    "```python\n",
    "if nParIntegerIndex<2: # conditional - True\n",
    "```"
   ]
  },
  {
   "cell_type": "markdown",
   "metadata": {},
   "source": [
    "- call function - fCount - passing parameter - nParIntegerIndex - one plus one [6]\n",
    "\n",
    "```python\n",
    "    fCount(nParIntegerIndex+1) # nParIntegerIndex - 2\n",
    "```\n",
    "\n",
    "- call **recursion-2** - copy function - fCount - activated [6]"
   ]
  },
  {
   "cell_type": "markdown",
   "metadata": {},
   "source": [
    "- called function - fCount - passed parameter - nParIntegerIndex - two [6]\n",
    "\n",
    "```python\n",
    "def fCount(nParIndexInteger): # nParIntegerIndex - 2\n",
    "```"
   ]
  },
  {
   "cell_type": "markdown",
   "metadata": {},
   "source": [
    "- call function - print - passing parameter - nParIntegerIndex - two [6]\n",
    "\n",
    "```python\n",
    "    print(nParIntegerIndex) # nParIntegerIndex - 2\n",
    "```"
   ]
  },
  {
   "cell_type": "markdown",
   "metadata": {},
   "source": [
    "- conditional - if - nParIntegerIndex - two - less than two [6]\n",
    "\n",
    "```python\n",
    "if nParIntegerIndex<2: # conditional - False\n",
    "```"
   ]
  },
  {
   "cell_type": "markdown",
   "metadata": {},
   "source": [
    "- end **recursive-2** - function - fCount(2) - return control to the - previous - higher - level of recursion - fCount(1) - will terminated - return control to the - previous - higher - level of recursion - fCount(0) - will terminated - return control to caller [6]"
   ]
  },
  {
   "cell_type": "markdown",
   "metadata": {},
   "source": [
    "***\n",
    "# END"
   ]
  }
 ],
 "metadata": {
  "kernelspec": {
   "display_name": "Python 3",
   "language": "python",
   "name": "python3"
  },
  "language_info": {
   "codemirror_mode": {
    "name": "ipython",
    "version": 3
   },
   "file_extension": ".py",
   "mimetype": "text/x-python",
   "name": "python",
   "nbconvert_exporter": "python",
   "pygments_lexer": "ipython3",
   "version": "3.7.6"
  }
 },
 "nbformat": 4,
 "nbformat_minor": 4
}
