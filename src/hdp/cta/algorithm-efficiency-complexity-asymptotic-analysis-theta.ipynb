{
 "cells": [
  {
   "cell_type": "markdown",
   "metadata": {},
   "source": [
    "# algorithm-efficiency-complexity-asymptotic-analysis-theta\n",
    "> [TABLE OF CONTENTS](https://github.com/E6985/E2746/blob/master/README.md)\n",
    "***"
   ]
  },
  {
   "cell_type": "markdown",
   "metadata": {},
   "source": [
    "- **notation** - $\\Theta$ - **describes** the **complexity** of an algorithm in the **average-case** scenario - specify - running time - number of operations - algorithm complexity - no greater or less than a **certain** **order** [6] "
   ]
  },
  {
   "cell_type": "markdown",
   "metadata": {},
   "source": [
    "- algorithm is - **theta** n - $\\Theta(n)$ - if **both** cases **apply** - i) - **big** ${O}$ n - ${O}(n)$ - ii) **omega** $\\Omega$ n - $\\Omega(n)$ - the growth of its execution time is no better or worse than the order - term - n - specified - $\\Theta(n)$ - has no better or worse performance than a time of - linear - n - in this case [6]"
   ]
  },
  {
   "cell_type": "markdown",
   "metadata": {},
   "source": [
    "- could be $\\Theta(n^{2})$ - no better than - $n^{2}$ - complexity - or no worse than -  $n^{2}$ - complexity [6]"
   ]
  },
  {
   "cell_type": "markdown",
   "metadata": {},
   "source": [
    "- the actual functions which describe the **upper** and **lower** **limits** do **not** need to be the exact **same** in this case but just have to be of the **same** **order** [6]"
   ]
  },
  {
   "cell_type": "markdown",
   "metadata": {},
   "source": [
    "***\n",
    "# END"
   ]
  }
 ],
 "metadata": {
  "kernelspec": {
   "display_name": "Python 3",
   "language": "python",
   "name": "python3"
  },
  "language_info": {
   "codemirror_mode": {
    "name": "ipython",
    "version": 3
   },
   "file_extension": ".py",
   "mimetype": "text/x-python",
   "name": "python",
   "nbconvert_exporter": "python",
   "pygments_lexer": "ipython3",
   "version": "3.7.6"
  }
 },
 "nbformat": 4,
 "nbformat_minor": 4
}
