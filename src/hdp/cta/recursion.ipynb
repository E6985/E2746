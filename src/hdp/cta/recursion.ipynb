{
 "cells": [
  {
   "cell_type": "markdown",
   "metadata": {},
   "source": [
    "# recursion\n",
    "> [TABLE OF CONTENTS](https://github.com/E6985/E2746/blob/master/README.md)\n",
    "***"
   ]
  },
  {
   "cell_type": "markdown",
   "metadata": {},
   "source": [
    "- for **tasks** that must be **repeated** - normally **procedures** - or methods - **call** **other** procedures - eg - the main() procedure calls the alpha() procedure [6]"
   ]
  },
  {
   "cell_type": "markdown",
   "metadata": {},
   "source": [
    "<img src=\"img/04-1-01.png\" />"
   ]
  },
  {
   "cell_type": "markdown",
   "metadata": {},
   "source": [
    "- recursive **procedure** is one which **calls** **itself** within the method body - eg - beta procedure contains a call to beta() [6]"
   ]
  },
  {
   "cell_type": "markdown",
   "metadata": {},
   "source": [
    "<img src=\"img/04-1-02.png\" />"
   ]
  },
  {
   "cell_type": "markdown",
   "metadata": {},
   "source": [
    "- **technique** of recursion - allows **solving** of a **larger** **problem** by solving **smaller** **instances** of the **same** problem [6]"
   ]
  },
  {
   "cell_type": "markdown",
   "metadata": {},
   "source": [
    "- some problems are more easily solved by using a recursive **approach** - more **concisely** **solved** - eg of **repetitive** operations [6]"
   ]
  },
  {
   "cell_type": "markdown",
   "metadata": {},
   "source": [
    "- **traversing** through **directories** of a **file** **system** - c drive with a folder called program-files - within program-files another folder called java - within the java folder another folder called java-development-kit - within that folder yet another folder called binary - javac compiler stored within the binary folder - to get from the root of the c drive and get down to through all the directories in turn and search for a specific file - this is a recursive program given movement through a directory and looking at everything in the directory - moving down the next step - next step - so forth - this program is **naturally** **recursive** [6]"
   ]
  },
  {
   "cell_type": "markdown",
   "metadata": {},
   "source": [
    "- **traversing** through a **tree** of **search** results [6]"
   ]
  },
  {
   "cell_type": "markdown",
   "metadata": {},
   "source": [
    "- some **sorting** **algorithms** are recursive in **nature** - **merge** sort [6]"
   ]
  },
  {
   "cell_type": "markdown",
   "metadata": {},
   "source": [
    "- programs that have these type of features - **breaking** down into **smaller** **instances** of the **same** program - recursion - useful because it often leads to **cleaner** - more **concise** **code** which is **easier** to - **understand** - **maintain** [6]"
   ]
  },
  {
   "cell_type": "markdown",
   "metadata": {},
   "source": [
    "- knowing the **principle** of recursion - how it **works** - recursive functions can **succinctly** do the work of an **iterative** **approach** with a lot **less** **code** - in a lot **cleaner** manner [6]"
   ]
  },
  {
   "cell_type": "markdown",
   "metadata": {},
   "source": [
    "***\n",
    "# END"
   ]
  }
 ],
 "metadata": {
  "kernelspec": {
   "display_name": "Python 3",
   "language": "python",
   "name": "python3"
  },
  "language_info": {
   "codemirror_mode": {
    "name": "ipython",
    "version": 3
   },
   "file_extension": ".py",
   "mimetype": "text/x-python",
   "name": "python",
   "nbconvert_exporter": "python",
   "pygments_lexer": "ipython3",
   "version": "3.7.6"
  }
 },
 "nbformat": 4,
 "nbformat_minor": 4
}
