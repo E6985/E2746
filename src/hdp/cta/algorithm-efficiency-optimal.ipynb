{
 "cells": [
  {
   "cell_type": "markdown",
   "metadata": {},
   "source": [
    "# algorithm-efficiency-optimal\n",
    "> [TABLE OF CONTENTS](https://github.com/E6985/E2746/blob/master/README.md)\n",
    "***"
   ]
  },
  {
   "cell_type": "markdown",
   "metadata": {},
   "source": [
    "- as well as the **size** - n - of the **input** - the **characteristics** of the data in the input set may also have an **effect** on the **time** which an algorithm takes to run - there could be many instances of size - n - which would be valid as input - it may be possible to group these instances into classes with broadly similar features - some algorithm - a - may be most efficient overall when solving a given problem - however it is possible that another algorithm - b - may in fact outperform - a - when solving particular instances of the same problem [6]"
   ]
  },
  {
   "cell_type": "markdown",
   "metadata": {},
   "source": [
    "- conclusion to draw is that for many problems **no** single **algorithm** exists which is **optimal** for every possible input - therefore choosing an algorithm depends on **understanding** the **problem** being solved and the underlying **probability** **distribution** of the instances likely to be treated as well as the **behaviour** of the algorithms being considered - by knowing the performance of an algorithm - can judge whether an algorithm is appropriate to use in the specific situation [6]"
   ]
  },
  {
   "cell_type": "markdown",
   "metadata": {},
   "source": [
    "***\n",
    "# END"
   ]
  }
 ],
 "metadata": {
  "kernelspec": {
   "display_name": "Python 3",
   "language": "python",
   "name": "python3"
  },
  "language_info": {
   "codemirror_mode": {
    "name": "ipython",
    "version": 3
   },
   "file_extension": ".py",
   "mimetype": "text/x-python",
   "name": "python",
   "nbconvert_exporter": "python",
   "pygments_lexer": "ipython3",
   "version": "3.7.6"
  }
 },
 "nbformat": 4,
 "nbformat_minor": 4
}
