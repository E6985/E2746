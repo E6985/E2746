{
 "cells": [
  {
   "cell_type": "markdown",
   "metadata": {},
   "source": [
    "# sorting-algorithm-comparator-comparison-algorithms-quick-code\n",
    "> [TABLE OF CONTENTS](https://github.com/E6985/E2746/blob/master/README.md)\n",
    "***"
   ]
  },
  {
   "cell_type": "markdown",
   "metadata": {},
   "source": [
    "[quicksort](https://realpython.com/sorting-algorithms-python/#the-quicksort-algorithm-in-python)"
   ]
  },
  {
   "cell_type": "code",
   "execution_count": 1,
   "metadata": {},
   "outputs": [],
   "source": [
    "from random import randint\n",
    "\n",
    "def quicksort(array):\n",
    "    # If the input array contains fewer than two elements,\n",
    "    # then return it as the result of the function\n",
    "    if len(array) < 2:\n",
    "        return array\n",
    "\n",
    "    low, same, high = [], [], []\n",
    "\n",
    "    # Select your `pivot` element randomly\n",
    "    pivot = array[randint(0, len(array) - 1)]\n",
    "\n",
    "    for item in array:\n",
    "        # Elements that are smaller than the `pivot` go to\n",
    "        # the `low` list. Elements that are larger than\n",
    "        # `pivot` go to the `high` list. Elements that are\n",
    "        # equal to `pivot` go to the `same` list.\n",
    "        if item < pivot:\n",
    "            low.append(item)\n",
    "        elif item == pivot:\n",
    "            same.append(item)\n",
    "        elif item > pivot:\n",
    "            high.append(item)\n",
    "\n",
    "    # The final result combines the sorted `low` list\n",
    "    # with the `same` list and the sorted `high` list\n",
    "    return quicksort(low) + same + quicksort(high)"
   ]
  },
  {
   "cell_type": "code",
   "execution_count": 2,
   "metadata": {},
   "outputs": [
    {
     "data": {
      "text/plain": [
       "[12, 23, 33, 43, 44, 55, 64, 75, 77]"
      ]
     },
     "execution_count": 2,
     "metadata": {},
     "output_type": "execute_result"
    }
   ],
   "source": [
    "quicksort([44,75,23,43,55,12,64,77,33])"
   ]
  },
  {
   "cell_type": "markdown",
   "metadata": {},
   "source": [
    "***\n",
    "# END"
   ]
  }
 ],
 "metadata": {
  "kernelspec": {
   "display_name": "Python 3",
   "language": "python",
   "name": "python3"
  },
  "language_info": {
   "codemirror_mode": {
    "name": "ipython",
    "version": 3
   },
   "file_extension": ".py",
   "mimetype": "text/x-python",
   "name": "python",
   "nbconvert_exporter": "python",
   "pygments_lexer": "ipython3",
   "version": "3.7.6"
  }
 },
 "nbformat": 4,
 "nbformat_minor": 4
}
