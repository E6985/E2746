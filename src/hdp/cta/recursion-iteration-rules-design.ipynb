{
 "cells": [
  {
   "cell_type": "markdown",
   "metadata": {},
   "source": [
    "# recursion-iteration-rules-design\n",
    "> [TABLE OF CONTENTS](https://github.com/E6985/E2746/blob/master/README.md)\n",
    "***"
   ]
  },
  {
   "cell_type": "markdown",
   "metadata": {},
   "source": [
    "- think about the **task** to be accomplished - try to **identify** any **recurring** **patterns** - patterns that may be **presented** **later** - **similar** **operations** that must be conducted like traversing through nested directories on a file system - problem naturally leads itself to - recursion - recursive solution - the process of looking through every file in a directory - moving into the directory below - taking the larger problem and breaking down into smaller recurring instances - dividing the problem up using these recurring operations [6]"
   ]
  },
  {
   "cell_type": "markdown",
   "metadata": {},
   "source": [
    "- **identify** cases known that can be **solved** **without** **recursion** - **base** **cases** - the deepest nested directory on the file system would be the recursive case given no more recursive calls will happen below that level or nested deeper within [6]"
   ]
  },
  {
   "cell_type": "markdown",
   "metadata": {},
   "source": [
    "- a **well** **designed** recursive algorithm will **not** **end** with a **multitude** of **special** **cases** - **goal** is to **identify** a **simple** **base** **case** that can be solved without recursion - these will act as a stop or prevent - infinite - recursion [6]"
   ]
  },
  {
   "cell_type": "markdown",
   "metadata": {},
   "source": [
    "- design the algorithm to **invoke** a **new** **copy** of the method within each recursive step - **modifying** the input **parameters** so each recursive **call** will have **different** **initialisation** conditions or different **input** - each recursive step/call will resemble the original larger problem - ensure progress towards the base case with each successive recursive step/call [6]"
   ]
  },
  {
   "cell_type": "markdown",
   "metadata": {},
   "source": [
    "***\n",
    "# END"
   ]
  }
 ],
 "metadata": {
  "kernelspec": {
   "display_name": "Python 3",
   "language": "python",
   "name": "python3"
  },
  "language_info": {
   "codemirror_mode": {
    "name": "ipython",
    "version": 3
   },
   "file_extension": ".py",
   "mimetype": "text/x-python",
   "name": "python",
   "nbconvert_exporter": "python",
   "pygments_lexer": "ipython3",
   "version": "3.7.6"
  }
 },
 "nbformat": 4,
 "nbformat_minor": 4
}
