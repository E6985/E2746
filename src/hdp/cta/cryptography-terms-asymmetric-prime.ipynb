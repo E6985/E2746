{
 "cells": [
  {
   "cell_type": "markdown",
   "metadata": {},
   "source": [
    "# cryptography-terms-asymmetric-prime\n",
    "> [TABLE OF CONTENTS](https://github.com/E6985/E2746/blob/master/README.md)\n",
    "***"
   ]
  },
  {
   "cell_type": "markdown",
   "metadata": {},
   "source": [
    "- **asymmetric** - cryptographic **algorithms** - **mathematical** underpinnings - **prime** - number **greater** than **one** - only if its **factors** are **itself** and **one** - number - 1 - not prime - not greater than one - 2 - is prime - the only even prime - greater than one - only factors are itself and one - 9 - not prime - first odd number - factors of itself and one - factor three [6]"
   ]
  },
  {
   "cell_type": "markdown",
   "metadata": {},
   "source": [
    "- **composite** - number that is **not** **prime** [6]"
   ]
  },
  {
   "cell_type": "markdown",
   "metadata": {},
   "source": [
    "- **properties** - theorems - **mathematical** **interactions** between **numbers** - prime - composite - **used** to **implement** **asymmetric** **cryptosystems** - one key for encrypting - different key for descrypting - relationship between numbers [6]"
   ]
  },
  {
   "cell_type": "markdown",
   "metadata": {},
   "source": [
    "***\n",
    "# END"
   ]
  }
 ],
 "metadata": {
  "kernelspec": {
   "display_name": "Python 3",
   "language": "python",
   "name": "python3"
  },
  "language_info": {
   "codemirror_mode": {
    "name": "ipython",
    "version": 3
   },
   "file_extension": ".py",
   "mimetype": "text/x-python",
   "name": "python",
   "nbconvert_exporter": "python",
   "pygments_lexer": "ipython3",
   "version": "3.7.6"
  }
 },
 "nbformat": 4,
 "nbformat_minor": 4
}
