{
 "cells": [
  {
   "cell_type": "markdown",
   "metadata": {},
   "source": [
    "# sorting-properties\n",
    "> [TABLE OF CONTENTS](https://github.com/E6985/E2746/blob/master/README.md)\n",
    "***"
   ]
  },
  {
   "cell_type": "markdown",
   "metadata": {},
   "source": [
    "- **criteria** - **judge** the **suitability** for the **particular** **problem** [6]"
   ]
  },
  {
   "cell_type": "markdown",
   "metadata": {},
   "source": [
    "- **stability** - **preserving** the **order** of **already** **sorted** **input** [6]"
   ]
  },
  {
   "cell_type": "markdown",
   "metadata": {},
   "source": [
    "- good **runtime** **efficiency** - **sorting** - data - will **run** at an **acceptable** amount of **time** - acceptable may also depend on the size of the data set - how quickly it needs to be sorted - need to have some notion of having good runtime efficiency - maybe concerned specifically about - best case - average case - worst case - might consider all in aggregate - might give different weightings to each [6]"
   ]
  },
  {
   "cell_type": "markdown",
   "metadata": {},
   "source": [
    "- **in** **place** **sorting** **algorithm** - **memory** requirements are a **concern** [6]"
   ]
  },
  {
   "cell_type": "markdown",
   "metadata": {},
   "source": [
    "- **suitability** - **properties** of any specific sorting algorithm - consider whether the algorithm is **well** **matched** to the **class** of **input** **instances** or the **type** of **input** **data** which it is expecting to receive or expecting to have to operate on - consider when selecting a sorting algorithm - the specific **strengths** and **weaknesses** which are unique to that sorting algorithm - perhaps will give a reason to use one type of sorting algorithm in a certain class of problem [6]"
   ]
  },
  {
   "cell_type": "markdown",
   "metadata": {},
   "source": [
    "***\n",
    "# END"
   ]
  }
 ],
 "metadata": {
  "kernelspec": {
   "display_name": "Python 3",
   "language": "python",
   "name": "python3"
  },
  "language_info": {
   "codemirror_mode": {
    "name": "ipython",
    "version": 3
   },
   "file_extension": ".py",
   "mimetype": "text/x-python",
   "name": "python",
   "nbconvert_exporter": "python",
   "pygments_lexer": "ipython3",
   "version": "3.7.6"
  }
 },
 "nbformat": 4,
 "nbformat_minor": 4
}
