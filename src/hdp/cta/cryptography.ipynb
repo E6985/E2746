{
 "cells": [
  {
   "cell_type": "markdown",
   "metadata": {},
   "source": [
    "# cryptography\n",
    "> [TABLE OF CONTENTS](https://github.com/E6985/E2746/blob/master/README.md)\n",
    "***"
   ]
  },
  {
   "cell_type": "markdown",
   "metadata": {},
   "source": [
    "- cryptography - science of secrecy - concerned with the need to communicate - secure - private - reliable - two parties - transaction on the internet - exchange of details - personal - credit cards - financial - cryptographic algorithms - cryptographic protocols - emerged - solved need - computational thinking - algorithmic - perspective - modern methods used to solve cryptographic problems exploit the difficulty of solving other problems - somewhat surprising - problems exist for which no good algorithms are known - trying to produce - cryptographic algorithms - cryptographic protocols - to solve the need - secure - private - reliable - communication - summary - set of problems exist that are difficult to solve - albeit not impossible - in a reasonable amount of time that have a running order - maybe - high polynomial time - exponential time - algorithmically challenging - albeit not impossible [6]"
   ]
  },
  {
   "cell_type": "markdown",
   "metadata": {},
   "source": [
    "***\n",
    "# END"
   ]
  }
 ],
 "metadata": {
  "kernelspec": {
   "display_name": "Python 3",
   "language": "python",
   "name": "python3"
  },
  "language_info": {
   "codemirror_mode": {
    "name": "ipython",
    "version": 3
   },
   "file_extension": ".py",
   "mimetype": "text/x-python",
   "name": "python",
   "nbconvert_exporter": "python",
   "pygments_lexer": "ipython3",
   "version": "3.7.6"
  }
 },
 "nbformat": 4,
 "nbformat_minor": 4
}
