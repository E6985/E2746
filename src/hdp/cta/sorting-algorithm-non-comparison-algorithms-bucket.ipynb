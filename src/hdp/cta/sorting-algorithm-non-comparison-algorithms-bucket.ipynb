{
 "cells": [
  {
   "cell_type": "markdown",
   "metadata": {},
   "source": [
    "# sorting-algorithm-non-comparison-algorithms-bucket\n",
    "> [TABLE OF CONTENTS](https://github.com/E6985/E2746/blob/master/README.md)\n",
    "***"
   ]
  },
  {
   "cell_type": "markdown",
   "metadata": {},
   "source": [
    "- **bin** **sort** - **non-comparison-based** - **stable** - **sorting** **algorithm** - **works** by **distributing** the items - **elements** - of a collection - **array** - into a series of - **buckets** - bins [6]"
   ]
  },
  {
   "cell_type": "markdown",
   "metadata": {},
   "source": [
    "- **each** **bucket** - **sorted** **individually** - **using** some **different** **sorting** **algorithm** **or** could **recursively** **apply** - **bucket** **sorting** **algorithm** [6]"
   ]
  },
  {
   "cell_type": "markdown",
   "metadata": {},
   "source": [
    "- **generalisation** - **counting** **sort** - **buckets** **building** **up** a **histogram** - **frequency** of each **discrete** **type** - **distinct** **type** - in the **input** instance [6]"
   ]
  },
  {
   "cell_type": "markdown",
   "metadata": {},
   "source": [
    "- **bucket** **sort** - **counting** **buckets** - **counting** how **many** items - **elements** - **keys** **fall** between **certain** **range** - buckets for the values - zero to nine - ten to nineteen - twenty to twenty-nine [6] "
   ]
  },
  {
   "cell_type": "markdown",
   "metadata": {},
   "source": [
    "- **if** those items - **elements** - are **put** into **buckets** - which may represent 10 different keys - maybe the **next** **step** want to do is go **down** to **buckets** that contain maybe five different keys - then maybe when get down to a **level** that is **low** **enough** maybe want to **use** **some** **other** **sorting** **algorithm** **instead** - **insertion** **sort** - **good** **candidate** to **finish** off the very **small** collections - **arrays** - can say the same about - merge sort - quicksort - whether the - insertion sort - would be a good partner - once the size of the smaller subarrays become small enough [6]"
   ]
  },
  {
   "cell_type": "markdown",
   "metadata": {},
   "source": [
    "- **worst** **case** - **performance** - **runtime** - polynomial - $n^2$ - **quadratic** - run in $O(n^{2})$ - time - complexity - **not** **quite** **as** **good** - **counting** **sort** - quite a lot **worse** [6]"
   ]
  },
  {
   "cell_type": "markdown",
   "metadata": {},
   "source": [
    "- **best** case - **average** **case** - **time** - **complexity** - $n+k$ - whereby - $k$ - number of buckets used [6]"
   ]
  },
  {
   "cell_type": "markdown",
   "metadata": {},
   "source": [
    " - **space** **complexity** - **worst** **case** - $nxk$ - **trade** **off** - **compared** - **counting** **sort** - with the **increased** **space** - **plus** - polynomial - $n^2$ - **quadratic** - run in $O(n^{2})$ - **time** - **complexity** - in the **worst** **case** [6]"
   ]
  },
  {
   "cell_type": "markdown",
   "metadata": {},
   "source": [
    "<img src=\"img/06-03-01-0.png\" />\n",
    "<img src=\"img/06-03-01-1.png\" />"
   ]
  },
  {
   "cell_type": "markdown",
   "metadata": {},
   "source": [
    "| is proportional to | complexity:                |\n",
    "| ------------------ | -------------------------- |\n",
    "| T(n) ~ $log.n$     | logarithmic                |\n",
    "| T(n) ~ $n$         | linear                     |\n",
    "| T(n) ~ $n.log.n$   | linearithmic               |\n",
    "| T(n) ~ $n^2$       | quadratic (polynomial)     |\n",
    "| T(n) ~ $n^3$       | cubic (polynomial)         |\n",
    "| T(n) ~ $n^k$       | polynomial (k any integer) |\n",
    "| T(n) ~ $2^n$       | exponential                |\n",
    "| T(n) ~ $k^n; k>1$  | exponential                |"
   ]
  },
  {
   "cell_type": "markdown",
   "metadata": {},
   "source": [
    "<img src=\"img/03-07-01.png\" />"
   ]
  },
  {
   "cell_type": "markdown",
   "metadata": {},
   "source": [
    "- **bucket** **sort** - **very** **good** when **sorting** items - **elements** - which **come** **from** a **uniform** **distribution** over a **certain** **range** [6]"
   ]
  },
  {
   "cell_type": "markdown",
   "metadata": {},
   "source": [
    "- **know** - **sort** **keys** - **maybe** are **floating** **point** number - know - are **uniformly** **distributed** maybe between the value of 0.0 and 1.0 - no structure or format - cannot really predict in what area that range of those numbers are going to be in [6]"
   ]
  },
  {
   "cell_type": "markdown",
   "metadata": {},
   "source": [
    "- **large** **input** instance - have a **lot** of **numbers** that have a **uniform** **distribution** over a **certain** **range** - **bucket** **sort** - very **good** **candidate** [6]"
   ]
  },
  {
   "cell_type": "markdown",
   "metadata": {},
   "source": [
    "- **bucket** **sort** - **performance** - **degrades** - with **clustering** - many values occurring very close together - maybe the - bucket sort - is setup to work between the range - 0.0 and 1.0 - getting a lot of values that are around - 0.9 or 0.95 - all essentially going to go into the same bucket - performance would degrade a lot in that case - **tend** **towards** - polynomial - $n^2$ - **quadratic** - run in $O(n^{2})$ - time - complexity [6]"
   ]
  },
  {
   "cell_type": "markdown",
   "metadata": {},
   "source": [
    "***\n",
    "# END"
   ]
  }
 ],
 "metadata": {
  "kernelspec": {
   "display_name": "Python 3",
   "language": "python",
   "name": "python3"
  },
  "language_info": {
   "codemirror_mode": {
    "name": "ipython",
    "version": 3
   },
   "file_extension": ".py",
   "mimetype": "text/x-python",
   "name": "python",
   "nbconvert_exporter": "python",
   "pygments_lexer": "ipython3",
   "version": "3.7.6"
  }
 },
 "nbformat": 4,
 "nbformat_minor": 4
}
