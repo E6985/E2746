{
 "cells": [
  {
   "cell_type": "markdown",
   "metadata": {},
   "source": [
    "# sorting-algorithm-comparator-comparison-algorithms-quick-process\n",
    "> [TABLE OF CONTENTS](https://github.com/E6985/E2746/blob/master/README.md)\n",
    "***"
   ]
  },
  {
   "cell_type": "markdown",
   "metadata": {},
   "source": [
    "- sorting a collection - array - **unsorted** **input** instance - collection - array - of integers - **some** **out** **of** **order** items - **elements** [6]\n",
    "\n",
    "$[44,75,23,43,55,12,64,77,33]$"
   ]
  },
  {
   "cell_type": "markdown",
   "metadata": {},
   "source": [
    "- **step** **one** - **pick** - **pivot** - **value** - last item - element - chosen [6]\n",
    "\n",
    "$base$ $case$ ...$33$"
   ]
  },
  {
   "cell_type": "markdown",
   "metadata": {},
   "source": [
    "- **step** **two** - **call** - **partition** [6]"
   ]
  },
  {
   "cell_type": "markdown",
   "metadata": {},
   "source": [
    "- **put** **all** items - **elements** - which have **values** **less** **than** the **pivot** to the **left** **hand** **side** of the **pivot** - left partition [6]\n",
    "\n",
    "$12,23$"
   ]
  },
  {
   "cell_type": "markdown",
   "metadata": {},
   "source": [
    "- **put** **all** items - **elements** - which have **values** **greater** **than** the **pivot** to the **right** **hand** **side** of the **pivot** - right partition [6]\n",
    "\n",
    "$43,55,44,64,77,75$"
   ]
  },
  {
   "cell_type": "markdown",
   "metadata": {},
   "source": [
    "- **operate** - **left** **partition** - **step** **three** - **apply** **steps** - **one** - **two** - **recursively** [6]\n",
    "\n",
    "$12,23$"
   ]
  },
  {
   "cell_type": "markdown",
   "metadata": {},
   "source": [
    "- **step** **one** - **pick** - **pivot** - **value** - last item - element - chosen [6]\n",
    "\n",
    "$base$ $case$ ...$23$"
   ]
  },
  {
   "cell_type": "markdown",
   "metadata": {},
   "source": [
    "- **step** **two** - **call** - **partition** [6]"
   ]
  },
  {
   "cell_type": "markdown",
   "metadata": {},
   "source": [
    "- **put** **all** items - **elements** - which have **values** **less** **than** the **pivot** to the **left** **hand** **side** of the **pivot** - left partition - no right partition [6]\n",
    "\n",
    "$base$ $case$ ...$12$"
   ]
  },
  {
   "cell_type": "markdown",
   "metadata": {},
   "source": [
    "- **step** **three** - **apply** **steps** - **one** - **two** - **recursively** - just **one** item - **element** - **remain** - **base** **case** for the recursion - small recursion trace on the left - followed through to the end [6]"
   ]
  },
  {
   "cell_type": "markdown",
   "metadata": {},
   "source": [
    "<img src=\"img/06-33.png\" />"
   ]
  },
  {
   "cell_type": "markdown",
   "metadata": {},
   "source": [
    "- **operate** - **right** **partition** - **step** **three** - **apply** **steps** - **one** - **two** - **recursively** [6]\n",
    "\n",
    "$43,55,44,64,77,75$"
   ]
  },
  {
   "cell_type": "markdown",
   "metadata": {},
   "source": [
    "- **step** **one** - **pick** - **pivot** - **value** - last item - element - chosen [6]\n",
    "\n",
    "$base$ $case$ ...$75$"
   ]
  },
  {
   "cell_type": "markdown",
   "metadata": {},
   "source": [
    "- **step** **two** - **call** - **partition** [6]"
   ]
  },
  {
   "cell_type": "markdown",
   "metadata": {},
   "source": [
    "- **put** **all** items - **elements** - which have **values** **less** **than** the **pivot** to the **left** **hand** **side** of the **pivot** - left partition [6]\n",
    "\n",
    "$43,55,44,64$"
   ]
  },
  {
   "cell_type": "markdown",
   "metadata": {},
   "source": [
    "- **put** **all** items - **elements** - which have **values** **greater** **than** the **pivot** to the **right** **hand** **side** of the **pivot** - right partition [6]\n",
    "\n",
    "$base$ $case$ ...$77$"
   ]
  },
  {
   "cell_type": "markdown",
   "metadata": {},
   "source": [
    "- **step** **three** - **apply** **steps** - **one** - **two** - **recursively** - just **one** item - **element** - **remain** - **base** **case** for the recursion - small recursion trace on the left - followed through to the end [6]"
   ]
  },
  {
   "cell_type": "markdown",
   "metadata": {},
   "source": [
    "<img src=\"img/06-33-1.png\" />"
   ]
  },
  {
   "cell_type": "markdown",
   "metadata": {},
   "source": [
    "- **operate** - **partition** - **left** of **previous** **pivot** - **step** **three** - **apply** **steps** - **one** - **two** - **recursively** [6]\n",
    "\n",
    "$43,55,44,64$"
   ]
  },
  {
   "cell_type": "markdown",
   "metadata": {},
   "source": [
    "- **step** **one** - **pick** - **pivot** - **value** - last item - element - chosen [6]\n",
    "\n",
    "$base$ $case$ ...$64$"
   ]
  },
  {
   "cell_type": "markdown",
   "metadata": {},
   "source": [
    "- **step** **two** - **call** - **partition** [6]"
   ]
  },
  {
   "cell_type": "markdown",
   "metadata": {},
   "source": [
    "- **put** **all** items - **elements** - which have **values** **less** **than** the **pivot** to the **left** **hand** **side** of the **pivot** - left partition - no right partition [6]\n",
    "\n",
    "$43,55,44$"
   ]
  },
  {
   "cell_type": "markdown",
   "metadata": {},
   "source": [
    "- **operate** - **partition** - **left** of **previous** **pivot** - $64$ - **step** **three** - **apply** **steps** - **one** - **two** - **recursively** [6]"
   ]
  },
  {
   "cell_type": "markdown",
   "metadata": {},
   "source": [
    "- **step** **one** - **pick** - **pivot** - **value** - last item - element - chosen [6]\n",
    "\n",
    "$base$ $case$ ...$44$"
   ]
  },
  {
   "cell_type": "markdown",
   "metadata": {},
   "source": [
    "- **step** **two** - **call** - **partition** [6]"
   ]
  },
  {
   "cell_type": "markdown",
   "metadata": {},
   "source": [
    "- **put** **all** items - **elements** - which have **values** **less** **than** the **pivot** to the **left** **hand** **side** of the **pivot** - left partition [6]\n",
    "\n",
    "$43$"
   ]
  },
  {
   "cell_type": "markdown",
   "metadata": {},
   "source": [
    "- **put** **all** items - **elements** - which have **values** **greater** **than** the **pivot** to the **right** **hand** **side** of the **pivot** - right partition [6]\n",
    "\n",
    "$55$"
   ]
  },
  {
   "cell_type": "markdown",
   "metadata": {},
   "source": [
    "- **step** **three** - **apply** **steps** - **one** - **two** - **recursively** - just **one** item - **element** - **remain** - **base** **case** for the recursion - small recursion trace on the left - followed through to the end [6]\n",
    "\n",
    "$base$ $case$ ...$43$"
   ]
  },
  {
   "cell_type": "markdown",
   "metadata": {},
   "source": [
    "- **step** **three** - **apply** **steps** - **one** - **two** - **recursively** - just **one** item - **element** - **remain** - **base** **case** for the recursion - small recursion trace on the left - followed through to the end [6]\n",
    "\n",
    "$base$ $case$ ...$55$"
   ]
  },
  {
   "cell_type": "markdown",
   "metadata": {},
   "source": [
    "<img src=\"img/06-33-3.png\" />"
   ]
  },
  {
   "cell_type": "markdown",
   "metadata": {},
   "source": [
    "- whole collection - **array** - **sorted** [6]"
   ]
  },
  {
   "cell_type": "markdown",
   "metadata": {},
   "source": [
    "<img src=\"img/06-33-4.png\" />"
   ]
  },
  {
   "cell_type": "markdown",
   "metadata": {},
   "source": [
    "***\n",
    "# END"
   ]
  }
 ],
 "metadata": {
  "kernelspec": {
   "display_name": "Python 3",
   "language": "python",
   "name": "python3"
  },
  "language_info": {
   "codemirror_mode": {
    "name": "ipython",
    "version": 3
   },
   "file_extension": ".py",
   "mimetype": "text/x-python",
   "name": "python",
   "nbconvert_exporter": "python",
   "pygments_lexer": "ipython3",
   "version": "3.7.6"
  }
 },
 "nbformat": 4,
 "nbformat_minor": 4
}
