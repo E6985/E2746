{
 "cells": [
  {
   "cell_type": "markdown",
   "metadata": {},
   "source": [
    "# algorithm-efficiency\n",
    "> [TABLE OF CONTENTS](https://github.com/E6985/E2746/blob/master/README.md)\n",
    "***"
   ]
  },
  {
   "cell_type": "markdown",
   "metadata": {},
   "source": [
    "- a well-designed algorithm should\n",
    "\t- use computational resources efficiently - efficiency\n",
    "\t\t- if a routing algorithm could produce a route that avoided all congestion but took an hour to do so then would it be useful? \n",
    "\t\t- an algorithm that produces a correct solution but takes a long time to run may be useless in practice - this is the reason that more efficient algorithms that compute approximate solutions with guaranteed margins of error are often adopted in practice\n",
    "\t\t- factors which may be taken into consideration when evaluating the efficiency of an algorithm\n",
    "\t\t\t- time - real world - cpu time - focus mostly on this\n",
    "\t\t\t- memory - ram usage\n",
    "\t\t\t- storage - hard disk usage\n",
    "\t\t\t- number of read/write operations especially on disk - network usage\n",
    "\t\t\t- random bit requirements - some algorithms require a source of random numbers\n",
    "- how does the time taken for an algorithm to execute vary with the size of the input? [6]"
   ]
  },
  {
   "cell_type": "markdown",
   "metadata": {},
   "source": [
    "- different algorithms have varying **space** and **time** efficiency - eg - there are several commonly used sorting algorithms each with varying levels of efficiency - all algorithms are not created equal - time efficiency considers the time or number of operations required for the computer to run a program or algorithm - space efficiency considers the amount of memory or storage the computer needs to run a program/algorithm - focus will be on time efficiency [6]"
   ]
  },
  {
   "cell_type": "markdown",
   "metadata": {},
   "source": [
    "- analysing efficiency - two options for analysing algorithmic efficiency - a priori analysis - a posteriori analysis [6]"
   ]
  },
  {
   "cell_type": "markdown",
   "metadata": {},
   "source": [
    "- a **priori** analysis - evaluating efficiency from a theoretical perspective - this type of analysis removes the effect of implementation details - processor/system architecture - the relative efficiency of algorithms is analysed by comparing their order of growth - measure of complexity [6]"
   ]
  },
  {
   "cell_type": "markdown",
   "metadata": {},
   "source": [
    "- a **posteriori** analysis - evaluating efficiency empirically - algorithms which are to be compared are implemented and run on a target platform - the relative efficiency of algorithms is analysed by comparing actual measurements collected during experimentation - measure of performance [6]"
   ]
  },
  {
   "cell_type": "markdown",
   "metadata": {},
   "source": [
    "***\n",
    "# END"
   ]
  }
 ],
 "metadata": {
  "kernelspec": {
   "display_name": "Python 3",
   "language": "python",
   "name": "python3"
  },
  "language_info": {
   "codemirror_mode": {
    "name": "ipython",
    "version": 3
   },
   "file_extension": ".py",
   "mimetype": "text/x-python",
   "name": "python",
   "nbconvert_exporter": "python",
   "pygments_lexer": "ipython3",
   "version": "3.7.6"
  }
 },
 "nbformat": 4,
 "nbformat_minor": 4
}
