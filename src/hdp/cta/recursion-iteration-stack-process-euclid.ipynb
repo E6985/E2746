{
 "cells": [
  {
   "cell_type": "markdown",
   "metadata": {},
   "source": [
    "# recursion-iteration-stack-process-euclid\n",
    "> [TABLE OF CONTENTS](https://github.com/E6985/E2746/blob/master/README.md)\n",
    "***"
   ]
  },
  {
   "cell_type": "markdown",
   "metadata": {},
   "source": [
    "- greatest common divisor - gcd - of two postive integers is the largest which divides into both numbers without leaving a remainder - gcd - 30 - 35 - is five - euclids algorithm - proposed circa 300 BC - may be used to determine the - gcd - of two integers - inherently a recursion algorithm - an algorithm that repeats the same process over and over - find largest square tile which can be used to cover the floor of a room without using partial or cut tiles - cuts down on labour costs - the larger the tile the more quickly laid - in addition no requirement for tile cutting [6]"
   ]
  },
  {
   "cell_type": "code",
   "execution_count": 1,
   "metadata": {},
   "outputs": [],
   "source": [
    "nGCD=None"
   ]
  },
  {
   "cell_type": "markdown",
   "metadata": {},
   "source": [
    "```python\n",
    "class str(object='')\n",
    "class str(object=b'', encoding='utf-8', errors='strict')\n",
    "```\n",
    "> [Python Documentation](https://web.archive.org/web/20200503112950/https://docs.python.org/3/library/functions.html#func-str)"
   ]
  },
  {
   "cell_type": "markdown",
   "metadata": {},
   "source": [
    "```python\n",
    "str.format(*args, **kwargs)\n",
    "```\n",
    "> [Python Documentation](https://web.archive.org/web/20200502135931/https://docs.python.org/3/library/stdtypes.html#string-methods)"
   ]
  },
  {
   "cell_type": "markdown",
   "metadata": {},
   "source": [
    "- input - two positive integers - nPosIntA - nPosIntB [6]"
   ]
  },
  {
   "cell_type": "code",
   "execution_count": 2,
   "metadata": {},
   "outputs": [
    {
     "data": {
      "text/plain": [
       "'floor length is 15'"
      ]
     },
     "execution_count": 2,
     "metadata": {},
     "output_type": "execute_result"
    }
   ],
   "source": [
    "nPosIntA=15\n",
    "\"floor length is {}\".format(nPosIntA)"
   ]
  },
  {
   "cell_type": "code",
   "execution_count": 3,
   "metadata": {},
   "outputs": [
    {
     "data": {
      "text/plain": [
       "'floor width is 21'"
      ]
     },
     "execution_count": 3,
     "metadata": {},
     "output_type": "execute_result"
    }
   ],
   "source": [
    "nPosIntB=21\n",
    "\"floor width is {}\".format(nPosIntB)"
   ]
  },
  {
   "cell_type": "code",
   "execution_count": 4,
   "metadata": {},
   "outputs": [
    {
     "data": {
      "text/plain": [
       "'315sq.ft. floor area'"
      ]
     },
     "execution_count": 4,
     "metadata": {},
     "output_type": "execute_result"
    }
   ],
   "source": [
    "nFloorArea=nPosIntA*nPosIntB\n",
    "\"{}sq.ft. floor area\".format(nPosIntA*nPosIntB)"
   ]
  },
  {
   "cell_type": "markdown",
   "metadata": {},
   "source": [
    "<img src=\"img/04-2-04.png\" />"
   ]
  },
  {
   "cell_type": "markdown",
   "metadata": {},
   "source": [
    "- conditional - nPosIntA - less than - nPosIntB - exchange - nPosIntA - nPosIntB - rotate floor 90 degrees [6]"
   ]
  },
  {
   "cell_type": "code",
   "execution_count": 5,
   "metadata": {},
   "outputs": [],
   "source": [
    "if nPosIntA<nPosIntB:\n",
    "    nPosIntA,nPosIntB=nPosIntB,nPosIntA"
   ]
  },
  {
   "cell_type": "markdown",
   "metadata": {},
   "source": [
    "<img src=\"img/04-2-05.png\" />"
   ]
  },
  {
   "cell_type": "code",
   "execution_count": 6,
   "metadata": {},
   "outputs": [
    {
     "data": {
      "text/plain": [
       "'floor length is 21'"
      ]
     },
     "execution_count": 6,
     "metadata": {},
     "output_type": "execute_result"
    }
   ],
   "source": [
    "nPosIntA\n",
    "\"floor length is {}\".format(nPosIntA)"
   ]
  },
  {
   "cell_type": "code",
   "execution_count": 7,
   "metadata": {},
   "outputs": [
    {
     "data": {
      "text/plain": [
       "'floor width is 15'"
      ]
     },
     "execution_count": 7,
     "metadata": {},
     "output_type": "execute_result"
    }
   ],
   "source": [
    "nPosIntB\n",
    "\"floor width is {}\".format(nPosIntB)"
   ]
  },
  {
   "cell_type": "code",
   "execution_count": 8,
   "metadata": {},
   "outputs": [
    {
     "data": {
      "text/plain": [
       "'15 under consideration - square - gcd'"
      ]
     },
     "execution_count": 8,
     "metadata": {},
     "output_type": "execute_result"
    }
   ],
   "source": [
    "\"{} under consideration - square - gcd\".format(nPosIntB)"
   ]
  },
  {
   "cell_type": "code",
   "execution_count": 9,
   "metadata": {},
   "outputs": [
    {
     "data": {
      "text/plain": [
       "'1 square tile(s)'"
      ]
     },
     "execution_count": 9,
     "metadata": {},
     "output_type": "execute_result"
    }
   ],
   "source": [
    "nSquareTile=nPosIntA//nPosIntB\n",
    "\"{} square tile(s)\".format(nSquareTile)"
   ]
  },
  {
   "cell_type": "code",
   "execution_count": 10,
   "metadata": {},
   "outputs": [
    {
     "data": {
      "text/plain": [
       "'90sq.ft. floor area'"
      ]
     },
     "execution_count": 10,
     "metadata": {},
     "output_type": "execute_result"
    }
   ],
   "source": [
    "nFloorArea-=(nPosIntB**2)*nSquareTile\n",
    "\"{}sq.ft. floor area\".format(nFloorArea)"
   ]
  },
  {
   "cell_type": "code",
   "execution_count": 11,
   "metadata": {},
   "outputs": [
    {
     "data": {
      "text/plain": [
       "'remainder 6 after division'"
      ]
     },
     "execution_count": 11,
     "metadata": {},
     "output_type": "execute_result"
    }
   ],
   "source": [
    "nRemainder=nPosIntA%nPosIntB\n",
    "\"remainder {} after division\".format(nRemainder)"
   ]
  },
  {
   "cell_type": "code",
   "execution_count": 12,
   "metadata": {},
   "outputs": [
    {
     "data": {
      "text/plain": [
       "'21 = 1.15 + 6'"
      ]
     },
     "execution_count": 12,
     "metadata": {},
     "output_type": "execute_result"
    }
   ],
   "source": [
    "\"{} = {}.{} + {}\".format(nPosIntA,nSquareTile,nPosIntB,nRemainder)"
   ]
  },
  {
   "cell_type": "code",
   "execution_count": 13,
   "metadata": {},
   "outputs": [
    {
     "data": {
      "text/plain": [
       "'rule out 15'"
      ]
     },
     "execution_count": 13,
     "metadata": {},
     "output_type": "execute_result"
    }
   ],
   "source": [
    "if nRemainder==0:\n",
    "    nGCD=\"GCD is {}\".format(nPosIntB)\n",
    "else:\n",
    "    nGCD=\"rule out {}\".format(nPosIntB)\n",
    "nGCD"
   ]
  },
  {
   "cell_type": "markdown",
   "metadata": {},
   "source": [
    "<img src=\"img/04-2-03.png\" />"
   ]
  },
  {
   "cell_type": "markdown",
   "metadata": {},
   "source": [
    "- conditional - nRemainder - equals zero - nPosIntB is gcd of - nPosIntA and nPosIntB - else - replace nPosIntA by nPosIntB - replace nPosIntB by nRemainder [6]"
   ]
  },
  {
   "cell_type": "code",
   "execution_count": 14,
   "metadata": {},
   "outputs": [
    {
     "data": {
      "text/plain": [
       "'return to previous step'"
      ]
     },
     "execution_count": 14,
     "metadata": {},
     "output_type": "execute_result"
    }
   ],
   "source": [
    "nIter=None\n",
    "if nRemainder==0:\n",
    "    nGCD=nPosIntB\n",
    "    nIter=\"GCD of {} and {} is {}\".format(nPosIntA,nPosIntB,nGCD)\n",
    "else:\n",
    "    nPosIntA=nPosIntB\n",
    "    nPosIntB=nRemainder\n",
    "    nIter=\"return to previous step\"\n",
    "nIter"
   ]
  },
  {
   "cell_type": "code",
   "execution_count": 15,
   "metadata": {},
   "outputs": [
    {
     "data": {
      "text/plain": [
       "'floor length is 15'"
      ]
     },
     "execution_count": 15,
     "metadata": {},
     "output_type": "execute_result"
    }
   ],
   "source": [
    "nPosIntA\n",
    "\"floor length is {}\".format(nPosIntA)"
   ]
  },
  {
   "cell_type": "code",
   "execution_count": 16,
   "metadata": {},
   "outputs": [
    {
     "data": {
      "text/plain": [
       "'floor width is 6'"
      ]
     },
     "execution_count": 16,
     "metadata": {},
     "output_type": "execute_result"
    }
   ],
   "source": [
    "nPosIntB\n",
    "\"floor width is {}\".format(nPosIntB)"
   ]
  },
  {
   "cell_type": "code",
   "execution_count": 17,
   "metadata": {},
   "outputs": [
    {
     "data": {
      "text/plain": [
       "'6 under consideration - square - gcd'"
      ]
     },
     "execution_count": 17,
     "metadata": {},
     "output_type": "execute_result"
    }
   ],
   "source": [
    "\"{} under consideration - square - gcd\".format(nPosIntB)"
   ]
  },
  {
   "cell_type": "code",
   "execution_count": 18,
   "metadata": {},
   "outputs": [
    {
     "data": {
      "text/plain": [
       "'2 square tile(s)'"
      ]
     },
     "execution_count": 18,
     "metadata": {},
     "output_type": "execute_result"
    }
   ],
   "source": [
    "nSquareTile=nPosIntA//nPosIntB\n",
    "\"{} square tile(s)\".format(nSquareTile)"
   ]
  },
  {
   "cell_type": "code",
   "execution_count": 19,
   "metadata": {},
   "outputs": [
    {
     "data": {
      "text/plain": [
       "'18sq.ft. floor area'"
      ]
     },
     "execution_count": 19,
     "metadata": {},
     "output_type": "execute_result"
    }
   ],
   "source": [
    "nFloorArea-=(nPosIntB**2)*nSquareTile\n",
    "\"{}sq.ft. floor area\".format(nFloorArea)"
   ]
  },
  {
   "cell_type": "code",
   "execution_count": 20,
   "metadata": {},
   "outputs": [
    {
     "data": {
      "text/plain": [
       "'remainder 3 after division'"
      ]
     },
     "execution_count": 20,
     "metadata": {},
     "output_type": "execute_result"
    }
   ],
   "source": [
    "nBaseCase=None\n",
    "nRemainder=nPosIntA%nPosIntB\n",
    "if nRemainder==0:\n",
    "    nBaseCase=\"base case {}\".format(nRemainder)\n",
    "else:\n",
    "    nBaseCase=\"remainder {} after division\".format(nRemainder)\n",
    "nBaseCase"
   ]
  },
  {
   "cell_type": "code",
   "execution_count": 21,
   "metadata": {},
   "outputs": [
    {
     "data": {
      "text/plain": [
       "'15 = 2.6 + 3'"
      ]
     },
     "execution_count": 21,
     "metadata": {},
     "output_type": "execute_result"
    }
   ],
   "source": [
    "\"{} = {}.{} + {}\".format(nPosIntA,nSquareTile,nPosIntB,nRemainder)"
   ]
  },
  {
   "cell_type": "code",
   "execution_count": 22,
   "metadata": {},
   "outputs": [
    {
     "data": {
      "text/plain": [
       "'rule out 6'"
      ]
     },
     "execution_count": 22,
     "metadata": {},
     "output_type": "execute_result"
    }
   ],
   "source": [
    "if nRemainder==0:\n",
    "    nGCD=\"GCD is {}\".format(nPosIntB)\n",
    "else:\n",
    "    nGCD=\"rule out {}\".format(nPosIntB)\n",
    "nGCD"
   ]
  },
  {
   "cell_type": "markdown",
   "metadata": {},
   "source": [
    "<img src=\"img/04-2-03.png\" />"
   ]
  },
  {
   "cell_type": "markdown",
   "metadata": {},
   "source": [
    "- conditional - nRemainder - equals zero - nPosIntB is gcd of - nPosIntA and nPosIntB - else - replace nPosIntA by nPosIntB - replace nPosIntB by nRemainder [6]"
   ]
  },
  {
   "cell_type": "code",
   "execution_count": 23,
   "metadata": {},
   "outputs": [
    {
     "data": {
      "text/plain": [
       "'return to previous step'"
      ]
     },
     "execution_count": 23,
     "metadata": {},
     "output_type": "execute_result"
    }
   ],
   "source": [
    "nIter=None\n",
    "if nRemainder==0:\n",
    "    nGCD=nPosIntB\n",
    "    nIter=\"GCD of {} and {} is {}\".format(nPosIntA,nPosIntB,nGCD)\n",
    "else:\n",
    "    nPosIntA=nPosIntB\n",
    "    nPosIntB=nRemainder\n",
    "    nIter=\"return to previous step\"\n",
    "nIter"
   ]
  },
  {
   "cell_type": "code",
   "execution_count": 24,
   "metadata": {},
   "outputs": [
    {
     "data": {
      "text/plain": [
       "'floor length is 6'"
      ]
     },
     "execution_count": 24,
     "metadata": {},
     "output_type": "execute_result"
    }
   ],
   "source": [
    "nPosIntA\n",
    "\"floor length is {}\".format(nPosIntA)"
   ]
  },
  {
   "cell_type": "code",
   "execution_count": 25,
   "metadata": {},
   "outputs": [
    {
     "data": {
      "text/plain": [
       "'floor width is 3'"
      ]
     },
     "execution_count": 25,
     "metadata": {},
     "output_type": "execute_result"
    }
   ],
   "source": [
    "nPosIntB\n",
    "\"floor width is {}\".format(nPosIntB)"
   ]
  },
  {
   "cell_type": "code",
   "execution_count": 26,
   "metadata": {},
   "outputs": [
    {
     "data": {
      "text/plain": [
       "'3 under consideration - square - gcd'"
      ]
     },
     "execution_count": 26,
     "metadata": {},
     "output_type": "execute_result"
    }
   ],
   "source": [
    "\"{} under consideration - square - gcd\".format(nPosIntB)"
   ]
  },
  {
   "cell_type": "code",
   "execution_count": 27,
   "metadata": {},
   "outputs": [
    {
     "data": {
      "text/plain": [
       "'2 square tile(s)'"
      ]
     },
     "execution_count": 27,
     "metadata": {},
     "output_type": "execute_result"
    }
   ],
   "source": [
    "nSquareTile=nPosIntA//nPosIntB\n",
    "\"{} square tile(s)\".format(nSquareTile)"
   ]
  },
  {
   "cell_type": "code",
   "execution_count": 28,
   "metadata": {},
   "outputs": [
    {
     "data": {
      "text/plain": [
       "'0sq.ft. floor area'"
      ]
     },
     "execution_count": 28,
     "metadata": {},
     "output_type": "execute_result"
    }
   ],
   "source": [
    "nFloorArea-=(nPosIntB**2)*nSquareTile\n",
    "\"{}sq.ft. floor area\".format(nFloorArea)"
   ]
  },
  {
   "cell_type": "code",
   "execution_count": 29,
   "metadata": {},
   "outputs": [
    {
     "data": {
      "text/plain": [
       "'base case 0'"
      ]
     },
     "execution_count": 29,
     "metadata": {},
     "output_type": "execute_result"
    }
   ],
   "source": [
    "nBaseCase=None\n",
    "nRemainder=nPosIntA%nPosIntB\n",
    "if nRemainder==0:\n",
    "    nBaseCase=\"base case {}\".format(nRemainder)\n",
    "else:\n",
    "    nBaseCase=\"remainder {} after division\".format(nRemainder)\n",
    "nBaseCase"
   ]
  },
  {
   "cell_type": "code",
   "execution_count": 30,
   "metadata": {},
   "outputs": [
    {
     "data": {
      "text/plain": [
       "'6 = 2.3 + 0'"
      ]
     },
     "execution_count": 30,
     "metadata": {},
     "output_type": "execute_result"
    }
   ],
   "source": [
    "\"{} = {}.{} + {}\".format(nPosIntA,nSquareTile,nPosIntB,nRemainder)"
   ]
  },
  {
   "cell_type": "code",
   "execution_count": 31,
   "metadata": {},
   "outputs": [
    {
     "data": {
      "text/plain": [
       "'GCD is 3'"
      ]
     },
     "execution_count": 31,
     "metadata": {},
     "output_type": "execute_result"
    }
   ],
   "source": [
    "if nRemainder==0:\n",
    "    nGCD=\"GCD is {}\".format(nPosIntB)\n",
    "else:\n",
    "    nGCD=\"rule out {}\".format(nPosIntB)\n",
    "nGCD"
   ]
  },
  {
   "cell_type": "markdown",
   "metadata": {},
   "source": [
    "<img src=\"img/04-2-03.png\" />"
   ]
  },
  {
   "cell_type": "markdown",
   "metadata": {},
   "source": [
    "***\n",
    "# END"
   ]
  }
 ],
 "metadata": {
  "kernelspec": {
   "display_name": "Python 3",
   "language": "python",
   "name": "python3"
  },
  "language_info": {
   "codemirror_mode": {
    "name": "ipython",
    "version": 3
   },
   "file_extension": ".py",
   "mimetype": "text/x-python",
   "name": "python",
   "nbconvert_exporter": "python",
   "pygments_lexer": "ipython3",
   "version": "3.7.6"
  }
 },
 "nbformat": 4,
 "nbformat_minor": 4
}
