{
 "cells": [
  {
   "cell_type": "markdown",
   "metadata": {},
   "source": [
    "# search-types-binary\n",
    "> [TABLE OF CONTENTS](https://github.com/E6985/E2746/blob/master/README.md)\n",
    "***"
   ]
  },
  {
   "cell_type": "markdown",
   "metadata": {},
   "source": [
    "- **linear** **search** - **running** **time** - **linear** - $n$ - **if** the item - **element** - **not** **found** [6]"
   ]
  },
  {
   "cell_type": "markdown",
   "metadata": {},
   "source": [
    "- **linear** **search** - **running** **time** - n/2 **n-over-2** - on average **if** item - **element** - going to be **found** [6]"
   ]
  },
  {
   "cell_type": "markdown",
   "metadata": {},
   "source": [
    "- **improve** - **linear** **search** - **performance** - **if** **known** - **a** **priori** **knowledge** - **beforehand** the **probability** **distribution** - **searching** for **different** **possible** **keys** or different possible **target** **values** which could be stored in the collection - **array** [6]"
   ]
  },
  {
   "cell_type": "markdown",
   "metadata": {},
   "source": [
    " - could **try** to **organise** the collection - **array** - in such a way that the **most** **searched** for items - **elements** - would **appear** at the **start** of the collection - **array** [6]"
   ]
  },
  {
   "cell_type": "markdown",
   "metadata": {},
   "source": [
    "- **bootstrap** the **performance** of **linear** **search** - make it a lot **faster** - **could** be very **impractical** - **measure** the **probability** **distribution** over **search** **queries** in such a way [6]"
   ]
  },
  {
   "cell_type": "markdown",
   "metadata": {},
   "source": [
    "- **improve** on that **performance** - make an **assumption** that the collection - **array** - **data** **could** be **sorted** **according** to the **definition** of - **comparator** **function** - if the collection - array - is sorted that would allow for a **faster** **searching** algorithm - **binary** **search** [6]"
   ]
  },
  {
   "cell_type": "markdown",
   "metadata": {},
   "source": [
    "- **real** **world** - **lookup** - **name** in a **phone** **book** - **word** in a **dictionary** [6]"
   ]
  },
  {
   "cell_type": "markdown",
   "metadata": {},
   "source": [
    "- dictionary - phone book - grab the **middle** - see what letter is in the middle - **decide** is the word to the **left** or the **right** - maybe it is the left - disregard the right of the dictionary - consider what is left - **pick** **around** **middle** - does not have to be exactly the middle - checking if value is in the left portion or the right portion - maybe it is in the right portion this time - thrown-away - second half of the dictionary - first quarter of the dictionary - left with the second quarter - might consider that **process** **again** and again - **halving** **what** is **left** and going for either the left or the right half - **until** **end** up in the **correct** **place** [6]"
   ]
  },
  {
   "cell_type": "markdown",
   "metadata": {},
   "source": [
    "- **looking** - **name** in a **phone** **book** - **word** in the **dictionary** - **implemented** - **binary** **search** **algorithm** [6]"
   ]
  },
  {
   "cell_type": "markdown",
   "metadata": {},
   "source": [
    "- **better** **than** - **linear** **running** **time** - is **achievable** - if and **only** **if** - **data** is **sorted** in some way **according** to the **definition** of a **comparator** **function** - given two positions - indices - $i$ - $j$ - collection - array - value - position - index $i$ - less than - collection - array - value - position - index - $j$ [6]"
   ]
  },
  {
   "cell_type": "markdown",
   "metadata": {},
   "source": [
    "- **delivers** **better** **performance** - than **linear** **search** - starts with a collection - **array** - whose items - **elements** - are **already** **sorted** [6]"
   ]
  },
  {
   "cell_type": "markdown",
   "metadata": {},
   "source": [
    "- **phone** **book** - **dictionary** - can **divide** that **sorted** collection - **array** - into **halves** **until** the **target** **value** is **found** - **or** - until its determined that the target value does **not** **exist** in that collection - array [6]"
   ]
  },
  {
   "cell_type": "markdown",
   "metadata": {},
   "source": [
    "- **divides** the collection - **array** - approximately in half albeit important to note it does not have to be exactly in half - just **approximately** in **half** - uses a **whole** **integer** **division** - **disregarding** any **remainder** [6]"
   ]
  },
  {
   "cell_type": "markdown",
   "metadata": {},
   "source": [
    "- **logarithmic** - $log.n$ - **time** - **complexity** - **better** **than** - **linear** - $n$ - time - complexity - different **order** of **growth** **curves** - linear - $n$ - pretty good - logarithmic - $log.n$ - is even better [6]"
   ]
  },
  {
   "cell_type": "markdown",
   "metadata": {},
   "source": [
    "| is proportional to | complexity:                |\n",
    "| ------------------ | -------------------------- |\n",
    "| T(n) ~ $log.n$     | logarithmic                |\n",
    "| T(n) ~ $n$         | linear                     |\n",
    "| T(n) ~ $n.log.n$   | linearithmic               |\n",
    "| T(n) ~ $n^2$       | quadratic (polynomial)     |\n",
    "| T(n) ~ $n^3$       | cubic (polynomial)         |\n",
    "| T(n) ~ $n^k$       | polynomial (k any integer) |\n",
    "| T(n) ~ $2^n$       | exponential                |\n",
    "| T(n) ~ $k^n; k>1$  | exponential                |"
   ]
  },
  {
   "cell_type": "markdown",
   "metadata": {},
   "source": [
    "<img src=\"img/03-07-01.png\" />"
   ]
  },
  {
   "cell_type": "markdown",
   "metadata": {},
   "source": [
    "- **constant** **space** **complexity** - **in-place** [6]"
   ]
  },
  {
   "cell_type": "markdown",
   "metadata": {},
   "source": [
    "***\n",
    "# END"
   ]
  }
 ],
 "metadata": {
  "kernelspec": {
   "display_name": "Python 3",
   "language": "python",
   "name": "python3"
  },
  "language_info": {
   "codemirror_mode": {
    "name": "ipython",
    "version": 3
   },
   "file_extension": ".py",
   "mimetype": "text/x-python",
   "name": "python",
   "nbconvert_exporter": "python",
   "pygments_lexer": "ipython3",
   "version": "3.7.6"
  }
 },
 "nbformat": 4,
 "nbformat_minor": 4
}
