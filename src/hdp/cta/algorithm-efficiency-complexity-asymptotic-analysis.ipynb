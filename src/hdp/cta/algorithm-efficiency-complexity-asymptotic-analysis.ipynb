{
 "cells": [
  {
   "cell_type": "markdown",
   "metadata": {},
   "source": [
    "# algorithm-efficiency-complexity-asymptotic-analysis\n",
    "> [TABLE OF CONTENTS](https://github.com/E6985/E2746/blob/master/README.md)\n",
    "***"
   ]
  },
  {
   "cell_type": "markdown",
   "metadata": {},
   "source": [
    "- define - **mathematical** **boundary** - algorithm - **run-time** performance - conclude scenario - best case - average case - worst case - asymptotic analysis - is input bound - if no input to the algorithm - conclude to work in constant time - other than the - input - all other factors are considered constant - refers to computing the running time of any **operation** in mathematical **units** of **computation** - running time of operation - a - computed as - function - $f(x)$ - operation - b - is computed as - function - $g(x^{2})$ - operation - a - running time will increase - linear - with the increase of the input set - x - operation - b - running time will increase - exponential - with the increase of the input set - x - the running time of both operations - a - b - will be nearly the same if the input set - x - is significantly small [reference](https://web.archive.org/web/20200718085820/https://www.tutorialspoint.com/data_structures_algorithms/asymptotic_analysis.htm)  "
   ]
  },
  {
   "cell_type": "markdown",
   "metadata": {},
   "source": [
    "***\n",
    "# END"
   ]
  }
 ],
 "metadata": {
  "kernelspec": {
   "display_name": "Python 3",
   "language": "python",
   "name": "python3"
  },
  "language_info": {
   "codemirror_mode": {
    "name": "ipython",
    "version": 3
   },
   "file_extension": ".py",
   "mimetype": "text/x-python",
   "name": "python",
   "nbconvert_exporter": "python",
   "pygments_lexer": "ipython3",
   "version": "3.7.6"
  }
 },
 "nbformat": 4,
 "nbformat_minor": 4
}
