{
 "cells": [
  {
   "cell_type": "markdown",
   "metadata": {},
   "source": [
    "# cryptography-terms-symmetric-monoalphabetic\n",
    "> [TABLE OF CONTENTS](https://github.com/E6985/E2746/blob/master/README.md)\n",
    "***"
   ]
  },
  {
   "cell_type": "markdown",
   "metadata": {},
   "source": [
    "- **physical** **key** - office - taxation document on desk - **encrypt** the data by **locking** office **door** - taking key - nobody can access the office without the copy of the key - robust system if locked - key kept with owner - copies given to trustworthly - secure system [6]"
   ]
  },
  {
   "cell_type": "markdown",
   "metadata": {},
   "source": [
    "- **mental** **key** - taxation document on desk - **send** to payroll department - **obfuscate** the data in some way - instead of writing down pps number on the document - present the pps number using different numbers - increase every number by one or two or three - **hiding** the true **substance** - pps number - advise payroll - need to substraction one or two or three from every number in order to obtain the real - pps number [6]"
   ]
  },
  {
   "cell_type": "markdown",
   "metadata": {},
   "source": [
    "- idea is of a **symmetric** key - **same** **key** - **lock** - **unlock** - the data - no longer a physical item - **substitution** **cipher** - **caesar** **cipher** - shift the alphabet by three characters [6]"
   ]
  },
  {
   "cell_type": "markdown",
   "metadata": {},
   "source": [
    "<img src=\"img/05-05.png\" />"
   ]
  },
  {
   "cell_type": "markdown",
   "metadata": {},
   "source": [
    "- **decryption** - **recipient** separately given **copy** of **key** - **shift** every letter back three **characters** - back to **original** **message** [6]"
   ]
  },
  {
   "cell_type": "markdown",
   "metadata": {},
   "source": [
    "$Hello = Khoor$"
   ]
  },
  {
   "cell_type": "markdown",
   "metadata": {},
   "source": [
    "- **caesar** **cipher** - **substitution** **cipher** - **one** **to** **one** **mapping** - formally called - **monoalphabetic** **substitution** [6]"
   ]
  },
  {
   "cell_type": "markdown",
   "metadata": {},
   "source": [
    "- **cryptanalysis** exploits **statistical** **properties** of the **english** **language** - break codes - the letter - E - is the most frequently occuring letter - eavesdropper able to capture a message in transit - access to the ciphertext - $C$ - may be able to work back to the plaintext - $P$ - by exploiting these statistical properties - breaking an intercepted caeser ciper - **obtain** the **substance** of the message [6]"
   ]
  },
  {
   "cell_type": "markdown",
   "metadata": {},
   "source": [
    "<img src=\"img/05-05-1.png\" />"
   ]
  },
  {
   "cell_type": "markdown",
   "metadata": {},
   "source": [
    "- language properties - some letters in languages occur with more frequency than others - **frequency** **analysis** of the ciphertext - $C$ - **calculate** the **number** of **occurances** of every letter in the intercepted ciphertext - $C$ - the letter - L - either uppercase or lowercase - occurs in the ciphertext - $C$ - twenty-one times - represents 12.28% of all characters [6]"
   ]
  },
  {
   "cell_type": "markdown",
   "metadata": {},
   "source": [
    "<img src=\"img/05-05-2.png\" />"
   ]
  },
  {
   "cell_type": "markdown",
   "metadata": {},
   "source": [
    "- could it be that the letter - L - either lowercase or uppercase - is actually the letter - E - either lowerecase or uppercase - the letter - L - in the alphabet is seven positions on from the letter - E [6]"
   ]
  },
  {
   "cell_type": "markdown",
   "metadata": {},
   "source": [
    "<img src=\"img/05-05-3.png\" />"
   ]
  },
  {
   "cell_type": "markdown",
   "metadata": {},
   "source": [
    "- test **hypothesis** - substract - **shift** back - every letter in the ciphertext - $C$ - by seven characters - letter - L - back to letter - E - **produces** a **valid** readable **message** - first part of the 1916 proclamation of the irish republic [6] "
   ]
  },
  {
   "cell_type": "markdown",
   "metadata": {},
   "source": [
    "<img src=\"img/05-05-4.png\" />"
   ]
  },
  {
   "cell_type": "markdown",
   "metadata": {},
   "source": [
    "- **symmetic** cryptography - good idea to have some sort of an algorithm with a **key** to unlock - obtaining readable message - first part of the 1916 proclamation of the irish republic - was not obtained from giving away or losing the key - key was **kept** **secret** - **problem** is that the **algorithm** was **not** very **strong** - easy to figure out in a reasonable amount of time - true of any security system - door lock on any house - not a secret - house is secure given lock is strong - key is well guarded [6]"
   ]
  },
  {
   "cell_type": "markdown",
   "metadata": {},
   "source": [
    "- two **items** required in a **cryptographic** **system** - i) **strong** **locks** - ii) keep **keys** **secret** [6]"
   ]
  },
  {
   "cell_type": "markdown",
   "metadata": {},
   "source": [
    "- **caesar** - **monoalphabetic** **substitutions** - **not** a **strong** **lock** - easily broken [6]"
   ]
  },
  {
   "cell_type": "markdown",
   "metadata": {},
   "source": [
    "***\n",
    "# END"
   ]
  }
 ],
 "metadata": {
  "kernelspec": {
   "display_name": "Python 3",
   "language": "python",
   "name": "python3"
  },
  "language_info": {
   "codemirror_mode": {
    "name": "ipython",
    "version": 3
   },
   "file_extension": ".py",
   "mimetype": "text/x-python",
   "name": "python",
   "nbconvert_exporter": "python",
   "pygments_lexer": "ipython3",
   "version": "3.7.6"
  }
 },
 "nbformat": 4,
 "nbformat_minor": 4
}
