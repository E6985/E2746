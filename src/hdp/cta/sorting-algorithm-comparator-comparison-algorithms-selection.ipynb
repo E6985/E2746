{
 "cells": [
  {
   "cell_type": "markdown",
   "metadata": {},
   "source": [
    "# sorting-algorithm-comparator-comparison-algorithms-selection\n",
    "> [TABLE OF CONTENTS](https://github.com/E6985/E2746/blob/master/README.md)\n",
    "***"
   ]
  },
  {
   "cell_type": "markdown",
   "metadata": {},
   "source": [
    "- **comparison-based** - sorting algorithm [6]"
   ]
  },
  {
   "cell_type": "markdown",
   "metadata": {},
   "source": [
    "- **in-place** - sorting algorithm - **space** **complexity** - **constant** space complexity - **1** - space needed for the algorithm to work is equal to the size of the input data set plus some additional amount of memory which is fixed - does not depend on the size of the input data set [6]"
   ]
  },
  {
   "cell_type": "markdown",
   "metadata": {},
   "source": [
    "- **best** case - **average** case - **worst** **case** - **performance** - **runtime** - polynomial - $n^2$ - **quadratic** - run in $O(n^{2})$ time - size of the input data set determines the expected running time - quadratic relationship - essentially between expected running time and the size of the input data set [6]"
   ]
  },
  {
   "cell_type": "markdown",
   "metadata": {},
   "source": [
    "<img src=\"img/06-09-00-in-place.png\" />"
   ]
  },
  {
   "cell_type": "markdown",
   "metadata": {},
   "source": [
    "| is proportional to | complexity:                |\n",
    "| ------------------ | -------------------------- |\n",
    "| T(n) ~ $log.n$     | logarithmic                |\n",
    "| T(n) ~ $n$         | linear                     |\n",
    "| T(n) ~ $n.log.n$   | linearithmic               |\n",
    "| T(n) ~ $n^2$       | quadratic (polynomial)     |\n",
    "| T(n) ~ $n^3$       | cubic (polynomial)         |\n",
    "| T(n) ~ $n^k$       | polynomial (k any integer  |\n",
    "| T(n) ~ $2^n$       | exponential                |\n",
    "| T(n) ~ $k^n; k>1$  | exponential                |"
   ]
  },
  {
   "cell_type": "markdown",
   "metadata": {},
   "source": [
    "<img src=\"img/03-07-01.png\" />"
   ]
  },
  {
   "cell_type": "markdown",
   "metadata": {},
   "source": [
    "- **unstable** sorting algorithm - **no** **guarantee** that items - **elements** - which have the **same** **value** according to a - **comparator** **function** - will **appear** in the **same** **sequence** or in the same ordering in the sorted output as they do in the unsorted input [6]"
   ]
  },
  {
   "cell_type": "markdown",
   "metadata": {},
   "source": [
    "- **simple** - **understand** - **implement** - **explain** **conceptually** [6]"
   ]
  },
  {
   "cell_type": "markdown",
   "metadata": {},
   "source": [
    "- very **slow** - **impractical** for any real world task with a significant input size given - **average** case - **worst** **case** - **performance** - **runtime** - polynomial - $n^2$ - **quadratic** [6]"
   ]
  },
  {
   "cell_type": "markdown",
   "metadata": {},
   "source": [
    "- every **iteration** - selection sort - **minimum** item - **element** - when using ascending order - **unsorted** **subarray** on the **right** - **moved** to a - **sorted** **subarray** - sublist - on the **left** [6]"
   ]
  },
  {
   "cell_type": "markdown",
   "metadata": {},
   "source": [
    "***\n",
    "# END"
   ]
  }
 ],
 "metadata": {
  "kernelspec": {
   "display_name": "Python 3",
   "language": "python",
   "name": "python3"
  },
  "language_info": {
   "codemirror_mode": {
    "name": "ipython",
    "version": 3
   },
   "file_extension": ".py",
   "mimetype": "text/x-python",
   "name": "python",
   "nbconvert_exporter": "python",
   "pygments_lexer": "ipython3",
   "version": "3.7.6"
  }
 },
 "nbformat": 4,
 "nbformat_minor": 4
}
