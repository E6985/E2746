{
 "cells": [
  {
   "cell_type": "markdown",
   "metadata": {},
   "source": [
    "# cryptography-terms-symmetric-limitation\n",
    "> [TABLE OF CONTENTS](https://github.com/E6985/E2746/blob/master/README.md)\n",
    "***"
   ]
  },
  {
   "cell_type": "markdown",
   "metadata": {},
   "source": [
    "- **desired** - **cryptography** **system** - entail - i) **encrypting** - **decrypting** - data - ii) **message** **signed** by **sender** [6]"
   ]
  },
  {
   "cell_type": "markdown",
   "metadata": {},
   "source": [
    "- **encrypting** - **decrypting** - data - **solved** with **symmetric** cryptography - the proess of - encryption -  decryption - **size** of the **key** **space** is **important** - possible to build messages such that an eavesdropper will not be able to understand if intercepted [6]"
   ]
  },
  {
   "cell_type": "markdown",
   "metadata": {},
   "source": [
    "- **message** **signed** by the **sender** - **not** **solved** with **symmetric** cryptography [6]"
   ]
  },
  {
   "cell_type": "markdown",
   "metadata": {},
   "source": [
    "- not withstanding the ability to send a message that is secure - sender has key - recipient has key - algorithm strong - **no** **signuture** - the **recipient** **cannot** **be** **sure** it came from the sender albeit **sender** can **be** **sure** the recipient can **decrypt** [6]"
   ]
  },
  {
   "cell_type": "markdown",
   "metadata": {},
   "source": [
    "- maybe someone obtained the senders key - possible the recipient has the senders key - sends other messages - recipient has key to open message - does the recipient have the ability to send messages purporting to come from the sender - make fake message - sender could deny later not to have sent the message - deny having sent authentic messages - **major** **limitation** of **symmetric** cryptographic protocols - challenge of **signing** the **message** - not just - encrypting - decrypting [6] "
   ]
  },
  {
   "cell_type": "markdown",
   "metadata": {},
   "source": [
    "- another **major** **drawback** - **symmetric** cryptography - **key** **distribution** - key **management** - particularly in a **distributed** environment like the internet - given the same key is used for - encryption - decryption - requires that both **parties** in the communication must have a **copy** of the **key** - if both parties are at other ends of the network - other ends of the world - how to get the key from one party to another in order to unlock the message - reason for using cryptography is the lack of trust of the intermediate systems in-between - do not trust the internet - do not trust the packets in transit will not be intercepted [6]"
   ]
  },
  {
   "cell_type": "markdown",
   "metadata": {},
   "source": [
    "- **symmetric** systems require **parties** to **cooperate** in the **generation** and **distribution** of **key** **pairs** - must be done in advance - challenging for distributed systems - systems of any reasonable size - not scalable - communicating with a twenty recipients - possibly require twenty different keys - do not want all recipients to be able to see all communications - only see communication relevant to the recipient - might be **culturally** **feasible** - **not** **scalable** in a system sense [6]"
   ]
  },
  {
   "cell_type": "markdown",
   "metadata": {},
   "source": [
    "***\n",
    "# END"
   ]
  }
 ],
 "metadata": {
  "kernelspec": {
   "display_name": "Python 3",
   "language": "python",
   "name": "python3"
  },
  "language_info": {
   "codemirror_mode": {
    "name": "ipython",
    "version": 3
   },
   "file_extension": ".py",
   "mimetype": "text/x-python",
   "name": "python",
   "nbconvert_exporter": "python",
   "pygments_lexer": "ipython3",
   "version": "3.7.6"
  }
 },
 "nbformat": 4,
 "nbformat_minor": 4
}
