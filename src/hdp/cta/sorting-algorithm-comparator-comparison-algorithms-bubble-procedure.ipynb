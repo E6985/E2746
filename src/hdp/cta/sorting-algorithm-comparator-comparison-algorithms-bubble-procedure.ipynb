{
 "cells": [
  {
   "cell_type": "markdown",
   "metadata": {},
   "source": [
    "# sorting-algorithm-comparator-comparison-algorithms-bubble-procedure\n",
    "> [TABLE OF CONTENTS](https://github.com/E6985/E2746/blob/master/README.md)\n",
    "***"
   ]
  },
  {
   "cell_type": "markdown",
   "metadata": {},
   "source": [
    "- **comparing** each item - **element** - on **left** - with its **neighbour** to the **right** - if items - elements - **out** of **order** - **swap** - item - element [6]"
   ]
  },
  {
   "cell_type": "markdown",
   "metadata": {},
   "source": [
    "- at the very **end** - **first** **largest** item - **element** - correct - final place - repeat this process again [6]"
   ]
  },
  {
   "cell_type": "markdown",
   "metadata": {},
   "source": [
    "<img src=\"img/06-12.png\" />"
   ]
  },
  {
   "cell_type": "markdown",
   "metadata": {},
   "source": [
    "- **next** step - iteration - **compare** each item - **element** - on left - **except** the **last** **one** - with its neighbour to the right - if items - elements - out of order - swap [6]"
   ]
  },
  {
   "cell_type": "markdown",
   "metadata": {},
   "source": [
    "- at the **end** - **second** **largest** item - **element** - next to last position - index - **first** **largest** item - **element** - correct - final place - repeat this process again [6]"
   ]
  },
  {
   "cell_type": "markdown",
   "metadata": {},
   "source": [
    "<img src=\"img/06-12-1.png\" />"
   ]
  },
  {
   "cell_type": "markdown",
   "metadata": {},
   "source": [
    "- **next** step - iteration - **compare** each item - **element** - on left - except the **last** **two** - with its neighbour to the right - if items - elements - out of order - swap [6]"
   ]
  },
  {
   "cell_type": "markdown",
   "metadata": {},
   "source": [
    "- at the **end** - **third** **largest** item - **element** - next to last position - index - **second** **largest** item - **element** - correct - final place - repeat this process again [6]"
   ]
  },
  {
   "cell_type": "markdown",
   "metadata": {},
   "source": [
    "<img src=\"img/06-12-2.png\" />"
   ]
  },
  {
   "cell_type": "markdown",
   "metadata": {},
   "source": [
    "- **continue** process until **no** **unsorted** items - **elements** - on **left** of the last position - index [6]"
   ]
  },
  {
   "cell_type": "markdown",
   "metadata": {},
   "source": [
    "<img src=\"img/06-12-3.png\" />"
   ]
  },
  {
   "cell_type": "markdown",
   "metadata": {},
   "source": [
    "- essentially - **input** - collection - array - data set - **assumes** **everything** to the **left** is **unsorted** - going through each iteration - the item - element - which is on the **right** become **sorted** [6]"
   ]
  },
  {
   "cell_type": "markdown",
   "metadata": {},
   "source": [
    "- collection - **array** - becomes **partitioned** into two different parts whereby all the **large** **values** have **bubbled** up to the **top** - all inserted up to the right hand side - size of sorted partition becomes larger - grows down to the left of the collection - array - as the algorithm does its work [6]"
   ]
  },
  {
   "cell_type": "markdown",
   "metadata": {},
   "source": [
    "***\n",
    "# END"
   ]
  }
 ],
 "metadata": {
  "kernelspec": {
   "display_name": "Python 3",
   "language": "python",
   "name": "python3"
  },
  "language_info": {
   "codemirror_mode": {
    "name": "ipython",
    "version": 3
   },
   "file_extension": ".py",
   "mimetype": "text/x-python",
   "name": "python",
   "nbconvert_exporter": "python",
   "pygments_lexer": "ipython3",
   "version": "3.7.6"
  }
 },
 "nbformat": 4,
 "nbformat_minor": 4
}
