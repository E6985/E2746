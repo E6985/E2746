{
 "cells": [
  {
   "cell_type": "markdown",
   "metadata": {},
   "source": [
    "# recursion-factorial-process-iterative\n",
    "> [TABLE OF CONTENTS](https://github.com/E6985/E2746/blob/master/README.md)\n",
    "***"
   ]
  },
  {
   "cell_type": "markdown",
   "metadata": {},
   "source": [
    "- any problem that can be solved with - recursion - can also be solved with an - iterative implementation - preferred way to calculate a factorial in this instance as opposed to the - recursive implementation [6]"
   ]
  },
  {
   "cell_type": "markdown",
   "metadata": {},
   "source": [
    "```python\n",
    "class str(object='')\n",
    "class str(object=b'', encoding='utf-8', errors='strict')\n",
    "```\n",
    "> [Python Documentation](https://web.archive.org/web/20200503112950/https://docs.python.org/3/library/functions.html#func-str)"
   ]
  },
  {
   "cell_type": "markdown",
   "metadata": {},
   "source": [
    "```python\n",
    "str.format(*args, **kwargs)\n",
    "```\n",
    "> [Python Documentation](https://web.archive.org/web/20200502135931/https://docs.python.org/3/library/stdtypes.html#string-methods)"
   ]
  },
  {
   "cell_type": "code",
   "execution_count": 1,
   "metadata": {},
   "outputs": [
    {
     "data": {
      "text/plain": [
       "'factorial: 5'"
      ]
     },
     "execution_count": 1,
     "metadata": {},
     "output_type": "execute_result"
    }
   ],
   "source": [
    "nFindFact=5\n",
    "\"factorial: {}\".format(nFindFact)"
   ]
  },
  {
   "cell_type": "code",
   "execution_count": 2,
   "metadata": {},
   "outputs": [],
   "source": [
    "# define function - fFactorial\n",
    "def fFactorial(nParNonNegInt):\n",
    "    nResult=1\n",
    "    while nParNonNegInt>1:\n",
    "        nResult*=nParNonNegInt\n",
    "        nParNonNegInt-=1\n",
    "    return nResult"
   ]
  },
  {
   "cell_type": "code",
   "execution_count": 3,
   "metadata": {},
   "outputs": [
    {
     "data": {
      "text/plain": [
       "120"
      ]
     },
     "execution_count": 3,
     "metadata": {},
     "output_type": "execute_result"
    }
   ],
   "source": [
    "# call function - fFactorial\n",
    "fFactorial(nFindFact)"
   ]
  },
  {
   "cell_type": "markdown",
   "metadata": {},
   "source": [
    "- function signature - fFactorial - parameter - nParNonNegInt - five [6]\n",
    "\n",
    "```python\n",
    "def fFactorial(nParNonNegInt):\n",
    "```"
   ]
  },
  {
   "cell_type": "markdown",
   "metadata": {},
   "source": [
    "- nResult - assigned the value - one [6]\n",
    "\n",
    "```python\n",
    "    nResult=1\n",
    "```"
   ]
  },
  {
   "cell_type": "code",
   "execution_count": 4,
   "metadata": {},
   "outputs": [
    {
     "data": {
      "text/plain": [
       "'get to 1'"
      ]
     },
     "execution_count": 4,
     "metadata": {},
     "output_type": "execute_result"
    }
   ],
   "source": [
    "nBase=1\n",
    "\"get to {}\".format(nBase)"
   ]
  },
  {
   "cell_type": "markdown",
   "metadata": {},
   "source": [
    "- **while-1** - nParNonNegInt - five - greater than one - True [6]\n",
    "\n",
    "```python\n",
    "    while nParNonNegInt>1:\n",
    "```\n",
    "\n",
    "- nResult - assigned - nParNonNegInt - five - times - nResult - one - 5 [6]\n",
    "\n",
    "```python\n",
    "        nResult*=nParNonNegInt\n",
    "```\n",
    "\n",
    "- decrement - nParNonNegInt - five - by one - 4 [6]\n",
    "\n",
    "```python\n",
    "        nParNonNegInt-=1\n",
    "```\n",
    "\n",
    "- return to previous step [6]"
   ]
  },
  {
   "cell_type": "code",
   "execution_count": 5,
   "metadata": {},
   "outputs": [
    {
     "data": {
      "text/plain": [
       "'loop running: True'"
      ]
     },
     "execution_count": 5,
     "metadata": {},
     "output_type": "execute_result"
    }
   ],
   "source": [
    "\"loop running: {}\".format(nFindFact>1)"
   ]
  },
  {
   "cell_type": "code",
   "execution_count": 6,
   "metadata": {},
   "outputs": [
    {
     "data": {
      "text/plain": [
       "'formula: 5.1'"
      ]
     },
     "execution_count": 6,
     "metadata": {},
     "output_type": "execute_result"
    }
   ],
   "source": [
    "\"formula: {}.{}\".format(nFindFact,nBase)"
   ]
  },
  {
   "cell_type": "code",
   "execution_count": 7,
   "metadata": {},
   "outputs": [
    {
     "data": {
      "text/plain": [
       "'running total: 5'"
      ]
     },
     "execution_count": 7,
     "metadata": {},
     "output_type": "execute_result"
    }
   ],
   "source": [
    "nBase*=nFindFact\n",
    "\"running total: {}\".format(nBase)"
   ]
  },
  {
   "cell_type": "code",
   "execution_count": 8,
   "metadata": {},
   "outputs": [
    {
     "data": {
      "text/plain": [
       "'factorial: 4'"
      ]
     },
     "execution_count": 8,
     "metadata": {},
     "output_type": "execute_result"
    }
   ],
   "source": [
    "nFindFact-=1\n",
    "\"factorial: {}\".format(nFindFact)"
   ]
  },
  {
   "cell_type": "markdown",
   "metadata": {},
   "source": [
    "- **while-2** - nParNonNegInt - four - greater than one - True [6]\n",
    "\n",
    "```python\n",
    "    while nParNonNegInt>1:\n",
    "```\n",
    "\n",
    "- nResult - assigned - nParNonNegInt - four - times - nResult - tweny - 20 [6]\n",
    "\n",
    "```python\n",
    "        nResult*=nParNonNegInt\n",
    "```\n",
    "\n",
    "- decrement - nParNonNegInt - four - by one - 3 [6]\n",
    "\n",
    "```python\n",
    "        nParNonNegInt-=1\n",
    "```\n",
    "\n",
    "- return to previous step [6]"
   ]
  },
  {
   "cell_type": "code",
   "execution_count": 9,
   "metadata": {},
   "outputs": [
    {
     "data": {
      "text/plain": [
       "'loop running: True'"
      ]
     },
     "execution_count": 9,
     "metadata": {},
     "output_type": "execute_result"
    }
   ],
   "source": [
    "\"loop running: {}\".format(nFindFact>1)"
   ]
  },
  {
   "cell_type": "code",
   "execution_count": 10,
   "metadata": {},
   "outputs": [
    {
     "data": {
      "text/plain": [
       "'formula: 4.5'"
      ]
     },
     "execution_count": 10,
     "metadata": {},
     "output_type": "execute_result"
    }
   ],
   "source": [
    "\"formula: {}.{}\".format(nFindFact,nBase)"
   ]
  },
  {
   "cell_type": "code",
   "execution_count": 11,
   "metadata": {},
   "outputs": [
    {
     "data": {
      "text/plain": [
       "'running total: 20'"
      ]
     },
     "execution_count": 11,
     "metadata": {},
     "output_type": "execute_result"
    }
   ],
   "source": [
    "nBase*=nFindFact\n",
    "\"running total: {}\".format(nBase)"
   ]
  },
  {
   "cell_type": "code",
   "execution_count": 12,
   "metadata": {},
   "outputs": [
    {
     "data": {
      "text/plain": [
       "'factorial: 3'"
      ]
     },
     "execution_count": 12,
     "metadata": {},
     "output_type": "execute_result"
    }
   ],
   "source": [
    "nFindFact-=1\n",
    "\"factorial: {}\".format(nFindFact)"
   ]
  },
  {
   "cell_type": "markdown",
   "metadata": {},
   "source": [
    "- **while-3** - nParNonNegInt - three - greater than one - True [6]\n",
    "\n",
    "```python\n",
    "    while nParNonNegInt>1:\n",
    "```\n",
    "\n",
    "- nResult - assigned - nParNonNegInt - three - times - nResult - twenty - 60 [6]\n",
    "\n",
    "```python\n",
    "        nResult*=nParNonNegInt\n",
    "```\n",
    "\n",
    "- decrement - nParNonNegInt - three - by one - 2 [6]\n",
    "\n",
    "```python\n",
    "        nParNonNegInt-=1\n",
    "```\n",
    "\n",
    "- return to previous step [6]"
   ]
  },
  {
   "cell_type": "code",
   "execution_count": 13,
   "metadata": {},
   "outputs": [
    {
     "data": {
      "text/plain": [
       "'loop running: True'"
      ]
     },
     "execution_count": 13,
     "metadata": {},
     "output_type": "execute_result"
    }
   ],
   "source": [
    "\"loop running: {}\".format(nFindFact>1)"
   ]
  },
  {
   "cell_type": "code",
   "execution_count": 14,
   "metadata": {},
   "outputs": [
    {
     "data": {
      "text/plain": [
       "'formula: 3.20'"
      ]
     },
     "execution_count": 14,
     "metadata": {},
     "output_type": "execute_result"
    }
   ],
   "source": [
    "\"formula: {}.{}\".format(nFindFact,nBase)"
   ]
  },
  {
   "cell_type": "code",
   "execution_count": 15,
   "metadata": {},
   "outputs": [
    {
     "data": {
      "text/plain": [
       "'running total: 60'"
      ]
     },
     "execution_count": 15,
     "metadata": {},
     "output_type": "execute_result"
    }
   ],
   "source": [
    "nBase*=nFindFact\n",
    "\"running total: {}\".format(nBase)"
   ]
  },
  {
   "cell_type": "code",
   "execution_count": 16,
   "metadata": {},
   "outputs": [
    {
     "data": {
      "text/plain": [
       "'factorial: 2'"
      ]
     },
     "execution_count": 16,
     "metadata": {},
     "output_type": "execute_result"
    }
   ],
   "source": [
    "nFindFact-=1\n",
    "\"factorial: {}\".format(nFindFact)"
   ]
  },
  {
   "cell_type": "markdown",
   "metadata": {},
   "source": [
    "- **while-4** - nParNonNegInt - two - greater than one - True [6]\n",
    "\n",
    "```python\n",
    "    while nParNonNegInt>1:\n",
    "```\n",
    "\n",
    "- nResult - assigned - nParNonNegInt - two - times - nResult - sixty - 120 [6]\n",
    "\n",
    "```python\n",
    "        nResult*=nParNonNegInt\n",
    "```\n",
    "\n",
    "- decrement - nParNonNegInt - two - by one - 1 [6]\n",
    "\n",
    "```python\n",
    "        nParNonNegInt-=1\n",
    "```\n",
    "\n",
    "- return to previous step [6]"
   ]
  },
  {
   "cell_type": "code",
   "execution_count": 17,
   "metadata": {},
   "outputs": [
    {
     "data": {
      "text/plain": [
       "'loop running: True'"
      ]
     },
     "execution_count": 17,
     "metadata": {},
     "output_type": "execute_result"
    }
   ],
   "source": [
    "\"loop running: {}\".format(nFindFact>1)"
   ]
  },
  {
   "cell_type": "code",
   "execution_count": 18,
   "metadata": {},
   "outputs": [
    {
     "data": {
      "text/plain": [
       "'formula: 2.60'"
      ]
     },
     "execution_count": 18,
     "metadata": {},
     "output_type": "execute_result"
    }
   ],
   "source": [
    "\"formula: {}.{}\".format(nFindFact,nBase)"
   ]
  },
  {
   "cell_type": "code",
   "execution_count": 19,
   "metadata": {},
   "outputs": [
    {
     "data": {
      "text/plain": [
       "'running total: 120'"
      ]
     },
     "execution_count": 19,
     "metadata": {},
     "output_type": "execute_result"
    }
   ],
   "source": [
    "nBase*=nFindFact\n",
    "\"running total: {}\".format(nBase)"
   ]
  },
  {
   "cell_type": "markdown",
   "metadata": {},
   "source": [
    "- exit **while** loop - nParNonNegInt - one - greater than one - False [6]\n",
    "\n",
    "```python\n",
    "    while nParNonNegInt>1:\n",
    "```"
   ]
  },
  {
   "cell_type": "markdown",
   "metadata": {},
   "source": [
    "- function - fFactorial - return - nResult - return control to caller [6]\n",
    "\n",
    "```python\n",
    "    return nResult\n",
    "```"
   ]
  },
  {
   "cell_type": "markdown",
   "metadata": {},
   "source": [
    "***\n",
    "# END"
   ]
  }
 ],
 "metadata": {
  "kernelspec": {
   "display_name": "Python 3",
   "language": "python",
   "name": "python3"
  },
  "language_info": {
   "codemirror_mode": {
    "name": "ipython",
    "version": 3
   },
   "file_extension": ".py",
   "mimetype": "text/x-python",
   "name": "python",
   "nbconvert_exporter": "python",
   "pygments_lexer": "ipython3",
   "version": "3.7.6"
  }
 },
 "nbformat": 4,
 "nbformat_minor": 4
}
