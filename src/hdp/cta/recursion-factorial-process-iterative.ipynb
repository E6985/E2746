{
 "cells": [
  {
   "cell_type": "markdown",
   "metadata": {},
   "source": [
    "# recursion-factorial-process-iterative\n",
    "> [TABLE OF CONTENTS](https://github.com/E6985/E2746/blob/master/README.md)\n",
    "***"
   ]
  },
  {
   "cell_type": "markdown",
   "metadata": {},
   "source": [
    "- any problem that can be solved with - recursion - can also be solved with an - iterative implementation - preferred way to calculate a factorial in this instance as opposed to the - recursive implementation [6]"
   ]
  },
  {
   "cell_type": "code",
   "execution_count": 1,
   "metadata": {},
   "outputs": [],
   "source": [
    "# define function - fFactorial\n",
    "def fFactorial(nParNonNegInt):\n",
    "    nResult=1\n",
    "    while nParNonNegInt>1:\n",
    "        nResult*=nParNonNegInt\n",
    "        nParNonNegInt-=1\n",
    "    return nResult"
   ]
  },
  {
   "cell_type": "code",
   "execution_count": 2,
   "metadata": {},
   "outputs": [
    {
     "data": {
      "text/plain": [
       "120"
      ]
     },
     "execution_count": 2,
     "metadata": {},
     "output_type": "execute_result"
    }
   ],
   "source": [
    "# call function - fFactorial\n",
    "fFactorial(5)"
   ]
  },
  {
   "cell_type": "markdown",
   "metadata": {},
   "source": [
    "- function signature - fFactorial - parameter - nParNonNegInt - five [6]\n",
    "\n",
    "```python\n",
    "def fFactorial(nParNonNegInt):\n",
    "```"
   ]
  },
  {
   "cell_type": "markdown",
   "metadata": {},
   "source": [
    "- nResult - assigned the value - one [6]\n",
    "\n",
    "```python\n",
    "nResult=1\n",
    "```"
   ]
  },
  {
   "cell_type": "markdown",
   "metadata": {},
   "source": [
    "- **while-1** - nParNonNegInt - five - greater than one - True [6]\n",
    "\n",
    "```python\n",
    "while nParNonNegInt>1:\n",
    "```\n",
    "\n",
    "- nResult - assigned - nParNonNegInt - five - times - nResult - one - 5 [6]\n",
    "\n",
    "```python\n",
    "    nResult*=nParNonNegInt\n",
    "```\n",
    "\n",
    "- decrement - nParNonNegInt - five - by one - 4 [6]\n",
    "\n",
    "```python\n",
    "    nParNonNegInt-=1\n",
    "```"
   ]
  },
  {
   "cell_type": "markdown",
   "metadata": {},
   "source": [
    "- **while-2** - nParNonNegInt - four - greater than one - True [6]\n",
    "\n",
    "```python\n",
    "while nParNonNegInt>1:\n",
    "```\n",
    "\n",
    "- nResult - assigned - nParNonNegInt - four - times - nResult - five - 20 [6]\n",
    "\n",
    "```python\n",
    "    nResult*=nParNonNegInt\n",
    "```\n",
    "\n",
    "- decrement - nParNonNegInt - four - by one - 3 [6]\n",
    "\n",
    "```python\n",
    "    nParNonNegInt-=1\n",
    "```"
   ]
  },
  {
   "cell_type": "markdown",
   "metadata": {},
   "source": [
    "- **while-3** - nParNonNegInt - three - greater than one - True [6]\n",
    "\n",
    "```python\n",
    "while nParNonNegInt>1:\n",
    "```\n",
    "\n",
    "- nResult - assigned - nParNonNegInt - three - times - nResult - twenty - 60 [6]\n",
    "\n",
    "```python\n",
    "    nResult*=nParNonNegInt\n",
    "```\n",
    "\n",
    "- decrement - nParNonNegInt - three - by one - 2 [6]\n",
    "\n",
    "```python\n",
    "    nParNonNegInt-=1\n",
    "```"
   ]
  },
  {
   "cell_type": "markdown",
   "metadata": {},
   "source": [
    "- **while-4** - nParNonNegInt - two - greater than one - True [6]\n",
    "\n",
    "```python\n",
    "while nParNonNegInt>1:\n",
    "```\n",
    "\n",
    "- nResult - assigned - nParNonNegInt - two - times - nResult - sixty - 120 [6]\n",
    "\n",
    "```python\n",
    "    nResult*=nParNonNegInt\n",
    "```\n",
    "\n",
    "- decrement - nParNonNegInt - two - by one [6]\n",
    "\n",
    "```python\n",
    "    nParNonNegInt-=1\n",
    "```"
   ]
  },
  {
   "cell_type": "markdown",
   "metadata": {},
   "source": [
    "- exit **while-5** - nParNonNegInt - one - greater than one - False [6]\n",
    "\n",
    "```python\n",
    "while nParNonNegInt>1:\n",
    "```"
   ]
  },
  {
   "cell_type": "markdown",
   "metadata": {},
   "source": [
    "- function - fFactorial - return - nResult - return control to caller [6]\n",
    "\n",
    "```python\n",
    "return nResult\n",
    "```"
   ]
  },
  {
   "cell_type": "markdown",
   "metadata": {},
   "source": [
    "***\n",
    "# END"
   ]
  }
 ],
 "metadata": {
  "kernelspec": {
   "display_name": "Python 3",
   "language": "python",
   "name": "python3"
  },
  "language_info": {
   "codemirror_mode": {
    "name": "ipython",
    "version": 3
   },
   "file_extension": ".py",
   "mimetype": "text/x-python",
   "name": "python",
   "nbconvert_exporter": "python",
   "pygments_lexer": "ipython3",
   "version": "3.7.6"
  }
 },
 "nbformat": 4,
 "nbformat_minor": 4
}
