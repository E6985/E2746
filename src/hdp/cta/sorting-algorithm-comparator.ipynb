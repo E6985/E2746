{
 "cells": [
  {
   "cell_type": "markdown",
   "metadata": {},
   "source": [
    "# sorting-algorithm-comparator\n",
    "> [TABLE OF CONTENTS](https://github.com/E6985/E2746/blob/master/README.md)\n",
    "***"
   ]
  },
  {
   "cell_type": "markdown",
   "metadata": {},
   "source": [
    "- comparator **function** - **pass** in **two** items - **elements** - **tell** is **one** item - **element** - **less** **than** **another** - equal to - greater than another - function - fCompare - comparator function [6]\n",
    "\n",
    "$fCompare(a,b)$\n",
    "\n",
    "- takes two items - elements - from a collection - array - as input -  same type - same type of object - in the same collection - array - the items - elements - inputs to the function - $a$ - $b$ [6]"
   ]
  },
  {
   "cell_type": "markdown",
   "metadata": {},
   "source": [
    "- item - element - $a$ - should appear before the item - element - $b$ in the collection - array - minus one [6]\n",
    "\n",
    "$-1$ if $a$ $<$ $b$"
   ]
  },
  {
   "cell_type": "markdown",
   "metadata": {},
   "source": [
    "- items - elements - $a$ - $b$ - should appear alongside each other in a contiguous block - considered equivalent according to the definition of the - comparative function - zero [6]\n",
    "\n",
    "$0$ if $a$ $=$ $b$"
   ]
  },
  {
   "cell_type": "markdown",
   "metadata": {},
   "source": [
    "- item - element - $a$ - should appear after the item - element - $b$ - in the sorted collection - array - plus one [6]\n",
    "\n",
    "$1$ if $a$ $>$ $b$"
   ]
  },
  {
   "cell_type": "markdown",
   "metadata": {},
   "source": [
    "- **sorting** **algorithms** - **independent** of the **definition** - **less** **than** - equal - greater than - **custom** **ordering** **schemes** - problem of sorting different coloured objects - have a specific order in which we want certain colours of items to appear - ordering the colours of the flag of a country - Dutch national flag problem - Dijkstra - colours - red - white - blue - red comes first - items - elements - that are coloured red - less than elements which have the colour of white - white is also less than blue - white comes before blue [6]\n",
    "\n",
    "$red$ $<$ $white$ $<$ $blue$"
   ]
  },
  {
   "cell_type": "markdown",
   "metadata": {},
   "source": [
    "- implement **user-defined** - **comparator** **functions** - sorting algorithms - are **independent** of the **definition** - **less* **than** - equal - greater than - **can** **have** an **arbitrary** **definition** of - less than - equal - greater than - for whatever type of data is to be sorted - can apply a standard off the shelf sorting algorithms to that data - even some new data using some new definition of - less than - equal - greater than - never been used before - specific to a data set - need not be concerned with the specific details of the implementation of the - comparator function - to be used when designing sorting algorithms [6]"
   ]
  },
  {
   "cell_type": "markdown",
   "metadata": {},
   "source": [
    "***\n",
    "# END"
   ]
  }
 ],
 "metadata": {
  "kernelspec": {
   "display_name": "Python 3",
   "language": "python",
   "name": "python3"
  },
  "language_info": {
   "codemirror_mode": {
    "name": "ipython",
    "version": 3
   },
   "file_extension": ".py",
   "mimetype": "text/x-python",
   "name": "python",
   "nbconvert_exporter": "python",
   "pygments_lexer": "ipython3",
   "version": "3.7.6"
  }
 },
 "nbformat": 4,
 "nbformat_minor": 4
}
