{
 "cells": [
  {
   "cell_type": "markdown",
   "metadata": {},
   "source": [
    "# sorting-algorithm-comparator-comparison-algorithms-quick\n",
    "> [TABLE OF CONTENTS](https://github.com/E6985/E2746/blob/master/README.md)\n",
    "***"
   ]
  },
  {
   "cell_type": "markdown",
   "metadata": {},
   "source": [
    "- **efficient** - **comparison-based** - sorting algorithm - developed by Tony **Hoare** - 1959 - most important sorting algorithms ever -  **similar** **idea** to **merge** sort - **recursive** **algorithm** - adheres to the **divide** and **conquer** paradigm - divide and conquer **approach** [6]"
   ]
  },
  {
   "cell_type": "markdown",
   "metadata": {},
   "source": [
    "- **divide** and **conquer** **approach** - got a large problem - **divide** **step** - divide the big problem down into **smaller** **subproblems** - break the problem down into smaller subinstances of the **same** **problem** **type** [6]"
   ]
  },
  {
   "cell_type": "markdown",
   "metadata": {},
   "source": [
    "- **divide** and **conquer** **approach** - **conquer** **step** - **keep** trying to **break** those **down** **until** get down to some **base** **case** that can be solved easily - solve those small problems - **propagate** the **solution** back up the **recursion** **trace** [6]"
   ]
  },
  {
   "cell_type": "markdown",
   "metadata": {},
   "source": [
    "- **memory** **usage** - **linear** - $O(n)$ - with the most standard - **naive** - **implementations** - **variations** do **exist** with - **linearithmic** - $O(n.log.n)$ - **memory** **performance** [6]"
   ]
  },
  {
   "cell_type": "markdown",
   "metadata": {},
   "source": [
    "- **best** case - **average** **case** - **performance** - **runtime** - **linearithmic** - $n.log.n$ - run in - $O(n.log.n)$ - time [6]"
   ]
  },
  {
   "cell_type": "markdown",
   "metadata": {},
   "source": [
    "- **worst** **case** - **runtime** - **performance** - polynomial - **quadratic** - $n^2$ - **rare** **scenario** - **possible** to **get** - **quadratic** -  $n^2$ - **performance** **if** the **input** is **almost** **sorted** or **completely** **sorted** **and** have a **poor** **choice** of the **pivot** [6]"
   ]
  },
  {
   "cell_type": "markdown",
   "metadata": {},
   "source": [
    "- **on** **average** - **quicksort** - could be **faster** than - **merge** **sort** - in a lot of cases [6]"
   ]
  },
  {
   "cell_type": "markdown",
   "metadata": {},
   "source": [
    "- **performance** - can **degrade** - **runtime** - **performance** - polynomial - **quadratic** - $n^2$ - **rare** **scenario** -  **if** the **input** is **almost** **sorted** or **completely** **sorted** **and** have a **poor** **choice** of the **pivot** [6]"
   ]
  },
  {
   "cell_type": "markdown",
   "metadata": {},
   "source": [
    "- **pivot** - **not** **chosen** in a **good** **manner** - almost as **slow** **as** some of the **other** polynomial - **quadratic** - $n^2$ - **algorithms** - can **happen** **if** - **pivot**  - **consistently** **chosen** so that - **all** - **or** - **too** **many** - of the items - **elements** - in the collection - **array** - are **less** than - or - **greater** **than** - **pivot** [6]"
   ]
  },
  {
   "cell_type": "markdown",
   "metadata": {},
   "source": [
    "- **performing** - **partition** **step** - end up with a **pivot** which **leaves** **nothing** in the **right** **partition** - **everything** goes into the **left** **partition** - **algorithm** would **take** a **long** **time** to **run** [6]"
   ]
  },
  {
   "cell_type": "markdown",
   "metadata": {},
   "source": [
    "- **option** one - always **pick** the **first** item - **element** - in the collection - array - as the **pivot** [6]"
   ]
  },
  {
   "cell_type": "markdown",
   "metadata": {},
   "source": [
    "- **option** two - always **pick** the **last** item - **element** - in the collection - array - as the **pivot** [6]"
   ]
  },
  {
   "cell_type": "markdown",
   "metadata": {},
   "source": [
    "- **option** three - **pick** an  item - **element** - at a **random** position - **index** - in the collection - array - as the **pivot** [6]"
   ]
  },
  {
   "cell_type": "markdown",
   "metadata": {},
   "source": [
    "- **classic** **case** - **input** instance - **choose** the **first** item - **element** - or - choose the **last** item - **element** - in the collection - **array** [6]"
   ]
  },
  {
   "cell_type": "markdown",
   "metadata": {},
   "source": [
    "- **pick** the **median** item - **element** - as the **pivot** - **probably** **better** **option** [6]"
   ]
  },
  {
   "cell_type": "markdown",
   "metadata": {},
   "source": [
    "- **median** item - **element** - step two - **partition** **step** - **make** sure that the **number** of items - **elements** - in the **left** **partition** and in the **right** **partition** is as **even** as possible - median value - getting a good chance of having an **equal** **distribution** - or fairly equal distribution between the left and the right [6]"
   ]
  },
  {
   "cell_type": "markdown",
   "metadata": {},
   "source": [
    "<img src=\"img/06-03-01.png\" />"
   ]
  },
  {
   "cell_type": "markdown",
   "metadata": {},
   "source": [
    "| is proportional to | complexity:                |\n",
    "| ------------------ | -------------------------- |\n",
    "| T(n) ~ $log.n$     | logarithmic                |\n",
    "| T(n) ~ $n$         | linear                     |\n",
    "| T(n) ~ $n.log.n$   | linearithmic               |\n",
    "| T(n) ~ $n^2$       | quadratic (polynomial)     |\n",
    "| T(n) ~ $n^3$       | cubic (polynomial)         |\n",
    "| T(n) ~ $n^k$       | polynomial (k any integer  |\n",
    "| T(n) ~ $2^n$       | exponential                |\n",
    "| T(n) ~ $k^n; k>1$  | exponential                |"
   ]
  },
  {
   "cell_type": "markdown",
   "metadata": {},
   "source": [
    "<img src=\"img/03-07-01.png\" />"
   ]
  },
  {
   "cell_type": "markdown",
   "metadata": {},
   "source": [
    "- **standard** **quicksort** - **unlike** **merge** sort - **unstable** sorting algorithm - albeit **stable** **variations** do **exist** - **preserve** **relative** **ordering** of elements which are **already** **sorted** or elements that have the **same** **value** according to a - **comparator** **function** - actually appear in the same order in the sorted output as in the unsorted input [6]"
   ]
  },
  {
   "cell_type": "markdown",
   "metadata": {},
   "source": [
    "- **quicksort** - **good** **all** **rounder** - **good** - **average** **case** - **behaviour** [6]"
   ]
  },
  {
   "cell_type": "markdown",
   "metadata": {},
   "source": [
    "- quicksort algorithm - studied in great detail since it was invented - almost 60 years - **in** **practice** one of the **fastest** **known** **sorting** **algorithms** **on** **average** - quite a lot of variations exists [6]"
   ]
  },
  {
   "cell_type": "markdown",
   "metadata": {},
   "source": [
    "***\n",
    "# END"
   ]
  }
 ],
 "metadata": {
  "kernelspec": {
   "display_name": "Python 3",
   "language": "python",
   "name": "python3"
  },
  "language_info": {
   "codemirror_mode": {
    "name": "ipython",
    "version": 3
   },
   "file_extension": ".py",
   "mimetype": "text/x-python",
   "name": "python",
   "nbconvert_exporter": "python",
   "pygments_lexer": "ipython3",
   "version": "3.7.6"
  }
 },
 "nbformat": 4,
 "nbformat_minor": 4
}
