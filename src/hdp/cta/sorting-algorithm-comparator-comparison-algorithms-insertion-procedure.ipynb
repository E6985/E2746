{
 "cells": [
  {
   "cell_type": "markdown",
   "metadata": {},
   "source": [
    "# sorting-algorithm-comparator-comparison-algorithms-insertion-procedure\n",
    "> [TABLE OF CONTENTS](https://github.com/E6985/E2746/blob/master/README.md)\n",
    "***"
   ]
  },
  {
   "cell_type": "markdown",
   "metadata": {},
   "source": [
    "- **key** - **value** to **insert** [6]"
   ]
  },
  {
   "cell_type": "markdown",
   "metadata": {},
   "source": [
    "- **start** at the **left** position - **index** - in the collection - **array** [6]"
   ]
  },
  {
   "cell_type": "markdown",
   "metadata": {},
   "source": [
    "- **set** the - **key** - as the item - **element** - at position - **index** **one** - 1 [6]"
   ]
  },
  {
   "cell_type": "markdown",
   "metadata": {},
   "source": [
    "- **move** any items - **elements** - to the **left** - **greater** than the **key** - **right** by **one** position - **index** - **insert** the **key** [6]"
   ]
  },
  {
   "cell_type": "markdown",
   "metadata": {},
   "source": [
    "- **next** step - **set** the - **key** - as the item - **element** - at position - **index** **two** - 2 [6]"
   ]
  },
  {
   "cell_type": "markdown",
   "metadata": {},
   "source": [
    "- **move** any items - **elements** - to the **left** - **greater** than the **key** - **right** by **one** position - **index** - **insert** the **key** [6]"
   ]
  },
  {
   "cell_type": "markdown",
   "metadata": {},
   "source": [
    "- **next** step - **set** the - **key** - as the item - **element** - at position - **index** **three** - 2 [6]"
   ]
  },
  {
   "cell_type": "markdown",
   "metadata": {},
   "source": [
    "- **move** any items - **elements** - to the **left** - **greater** than the **key** - **right** by **one** position - **index** - **insert** the **key** [6]"
   ]
  },
  {
   "cell_type": "markdown",
   "metadata": {},
   "source": [
    "- **continue** on with that **process** **until** **reaching** the position - **index** - **n** **minus** **one** - $n-1$ - **last** position - **index** - in the collection - **array** [6]"
   ]
  },
  {
   "cell_type": "markdown",
   "metadata": {},
   "source": [
    "- **set** the - **key** - as this item - **element** - at the **last** position - **index** - $n-1$ [6]"
   ]
  },
  {
   "cell_type": "markdown",
   "metadata": {},
   "source": [
    "- then **move** any items - **elements** - to the **left** - **greater** than the **key** - **right** by **one** position - **index** - **insert** - **key** - at the correct position - index - after this procedure - collection - array - sorted [6]"
   ]
  },
  {
   "cell_type": "markdown",
   "metadata": {},
   "source": [
    "***\n",
    "# END"
   ]
  }
 ],
 "metadata": {
  "kernelspec": {
   "display_name": "Python 3",
   "language": "python",
   "name": "python3"
  },
  "language_info": {
   "codemirror_mode": {
    "name": "ipython",
    "version": 3
   },
   "file_extension": ".py",
   "mimetype": "text/x-python",
   "name": "python",
   "nbconvert_exporter": "python",
   "pygments_lexer": "ipython3",
   "version": "3.7.6"
  }
 },
 "nbformat": 4,
 "nbformat_minor": 4
}
