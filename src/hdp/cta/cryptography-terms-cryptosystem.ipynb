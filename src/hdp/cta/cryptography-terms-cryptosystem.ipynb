{
 "cells": [
  {
   "cell_type": "markdown",
   "metadata": {},
   "source": [
    "# cryptography-terms-cryptosystem\n",
    "> [TABLE OF CONTENTS](https://github.com/E6985/E2746/blob/master/README.md)\n",
    "***"
   ]
  },
  {
   "cell_type": "markdown",
   "metadata": {},
   "source": [
    "- cryptosystem - **strength** - **function** of - i) strength of the **algorithm** itself - ii) length - size - of the **key** - the **longer**/larger the key the more possible - key types - key values [6]"
   ]
  },
  {
   "cell_type": "markdown",
   "metadata": {},
   "source": [
    "- **assumption** is that the general **method** of **encryption** is **known** - algorithm is known - the **security** of the system **lies** in the **secrecy** of the **key** - true of physical systems - office - everyone knows the office door has a yale lock - said locks are of a particular standard/structure - blueprint available online - showing internal locking mechanism - without the key it is difficult to gain access to the office - secrecy of the key is **paramount** [6]"
   ]
  },
  {
   "cell_type": "markdown",
   "metadata": {},
   "source": [
    "- **larger** the **key** - variety of keys - computing perspective - the **higher** the **work** factor for the **cryptanalyst** - office - yale lock - hundreds/thousands of key types - difficult for thief to cut key for the particular lock [6]"
   ]
  },
  {
   "cell_type": "markdown",
   "metadata": {},
   "source": [
    "- **brute-force** attack - means trying **all** **possible** **key** **values** [6]"
   ]
  },
  {
   "cell_type": "markdown",
   "metadata": {},
   "source": [
    "***\n",
    "# END"
   ]
  }
 ],
 "metadata": {
  "kernelspec": {
   "display_name": "Python 3",
   "language": "python",
   "name": "python3"
  },
  "language_info": {
   "codemirror_mode": {
    "name": "ipython",
    "version": 3
   },
   "file_extension": ".py",
   "mimetype": "text/x-python",
   "name": "python",
   "nbconvert_exporter": "python",
   "pygments_lexer": "ipython3",
   "version": "3.7.6"
  }
 },
 "nbformat": 4,
 "nbformat_minor": 4
}
