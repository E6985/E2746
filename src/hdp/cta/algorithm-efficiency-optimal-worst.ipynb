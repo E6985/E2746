{
 "cells": [
  {
   "cell_type": "markdown",
   "metadata": {},
   "source": [
    "# algorithm-efficiency-optimal-worst\n",
    "> [TABLE OF CONTENTS](https://github.com/E6985/E2746/blob/master/README.md)\n",
    "***"
   ]
  },
  {
   "cell_type": "markdown",
   "metadata": {},
   "source": [
    "- worst case - defines a class of **input** instances for which an algorithm exhibits its worst **runtime** **behaviour** - instead of trying to identify the specific input - algorithm designers typically describe **properties** of the input that **prevent** an algorithm from running **efficiently** [6]"
   ]
  },
  {
   "cell_type": "markdown",
   "metadata": {},
   "source": [
    "- for any particular value of - n - the number of **operations** or work done by an algorithm may vary dramatically over all the **instances** of **size** - n - for a given algorithm and a given value - n - the worst-case execution time is the **maximum** **execution** time where the maximum is taken over all instances of size - n - interested in the worst-case behaviour of an algorithm because it often is the easiest case to analyse - it also explains how slow the program could be in any situation and provides a lower **bound** on possible performance - good idea to consider worst case if **guarantees** are required for the maximum possible running time for a given - n - not possible to find every worst-case input instance but **sample** - near - worst-case instances can be crafted given the algorithms description [6]"
   ]
  },
  {
   "cell_type": "markdown",
   "metadata": {},
   "source": [
    "***\n",
    "# END"
   ]
  }
 ],
 "metadata": {
  "kernelspec": {
   "display_name": "Python 3",
   "language": "python",
   "name": "python3"
  },
  "language_info": {
   "codemirror_mode": {
    "name": "ipython",
    "version": 3
   },
   "file_extension": ".py",
   "mimetype": "text/x-python",
   "name": "python",
   "nbconvert_exporter": "python",
   "pygments_lexer": "ipython3",
   "version": "3.7.6"
  }
 },
 "nbformat": 4,
 "nbformat_minor": 4
}
