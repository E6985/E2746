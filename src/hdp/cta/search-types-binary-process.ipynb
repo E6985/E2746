{
 "cells": [
  {
   "cell_type": "markdown",
   "metadata": {},
   "source": [
    "# search-types-binary-process\n",
    "> [TABLE OF CONTENTS](https://github.com/E6985/E2746/blob/master/README.md)\n",
    "***"
   ]
  },
  {
   "cell_type": "markdown",
   "metadata": {},
   "source": [
    "- searching a collection - array - **sorted** **input** instance - collection - **array** - of **integers** [6]"
   ]
  },
  {
   "cell_type": "markdown",
   "metadata": {},
   "source": [
    "<img src=\"img/07-13.png\" />"
   ]
  },
  {
   "cell_type": "markdown",
   "metadata": {},
   "source": [
    "- **binary** search - **search** the collection - **array** - for **target** **value** - seven [6]\n",
    "\n",
    "$[2,4,5,6,7,8,9]$"
   ]
  },
  {
   "cell_type": "markdown",
   "metadata": {},
   "source": [
    "- **calculate** - **middle** position - **index** - **add** together - **leftmost** position - index - **rightmost** position - index [6]\n",
    "\n",
    "$step$ $1$ ...$(0+6)/2=3$"
   ]
  },
  {
   "cell_type": "markdown",
   "metadata": {},
   "source": [
    "- position - **index** - three - **value** **stored** - six - **less** **than** - **target** **value** - seven - **search** in the **rightmost** **subarray** - would be everything to the right of the item - element - six - position - index - three - run a search between positions - indices - four to six - eliminated more than half of the collection - array - in just one step - on average half the collection - array - eliminated in one step [6] \n",
    "\n",
    "$a[3]$ $=$ $6$ $<$ $7$"
   ]
  },
  {
   "cell_type": "markdown",
   "metadata": {},
   "source": [
    "- **calculate** - **middle** position - **index - **add** together - **leftmost** position - index - **rightmost** position - index [6]\n",
    "\n",
    "$step$ $2$ ...$(4+6)/2=5$"
   ]
  },
  {
   "cell_type": "markdown",
   "metadata": {},
   "source": [
    "- position - **index** - five - **value** **stored** - eight - **greater** **than** - **target** **value** - seven - **search** in the **leftmost** **subarray** - would be everything to the left of the item - element - eight - position - index - five - run a search between positions - indices - four to four - single item - element - remaining [6] \n",
    "\n",
    "$a[5]$ $=$ $8$ $>$ $7$"
   ]
  },
  {
   "cell_type": "markdown",
   "metadata": {},
   "source": [
    "- **calculate** - **middle** position - **index** - add together - **leftmost** position - index - **rightmost** position - index [6]\n",
    "\n",
    "$step$ $3$ ...$(4+4)/2=4$"
   ]
  },
  {
   "cell_type": "markdown",
   "metadata": {},
   "source": [
    "- position - **index** - four - item - **element** - seven - **equal** **to** - **target** **value** - seven - **return** position - **index** - four [6]\n",
    "\n",
    "$a[4]$ $=$ $7$ $=$ $T$"
   ]
  },
  {
   "cell_type": "markdown",
   "metadata": {},
   "source": [
    "- **binary** **search** - **search** the collection - **array** - for **target** **value** - three - does **not** **appear** in the collection - array - not found the target value - three [6]\n",
    "\n",
    "$middle-index$ ...$(0+6)/2=3$ ...$a[3]=6$ $>$ $3$"
   ]
  },
  {
   "cell_type": "markdown",
   "metadata": {},
   "source": [
    "- search next - left subarray - indices - left zero - right two [6]\n",
    "\n",
    "$middle-index$ ...$(0+2)/2=1$ ...$a[1]=4$ $>$ $3$"
   ]
  },
  {
   "cell_type": "markdown",
   "metadata": {},
   "source": [
    "- search next - left subarray - indices - left zero - right one [6]\n",
    "\n",
    "$middle-index$ ...$(0+1)/2=0$ ...$a[0]=2$ $<$ $3$"
   ]
  },
  {
   "cell_type": "markdown",
   "metadata": {},
   "source": [
    "- search next - right subarray - indices - left zero - right zero - **down** **to** a **subarray** of **one** item - **element** [6]\n",
    "\n",
    "$middle-index$ ...$(0+0)/2=0$ ...$a[0]=2$ $<$ $3$"
   ]
  },
  {
   "cell_type": "markdown",
   "metadata": {},
   "source": [
    "- **left** - **right** - **not** **equal** to each other anymore - **break** **out** - **while** **loop** - **stop** **recursion** **occurring** - reached a **base** **case** - corresponds to one of two possible types of base cases - **returned** **minus** **one** in this case as the item - element - left in the subpartition - just one item - element - wide - does not contain the value three - therefore return - minus one - did **not** **find** the **target** **value** [6]"
   ]
  },
  {
   "cell_type": "markdown",
   "metadata": {},
   "source": [
    "***\n",
    "# END"
   ]
  }
 ],
 "metadata": {
  "kernelspec": {
   "display_name": "Python 3",
   "language": "python",
   "name": "python3"
  },
  "language_info": {
   "codemirror_mode": {
    "name": "ipython",
    "version": 3
   },
   "file_extension": ".py",
   "mimetype": "text/x-python",
   "name": "python",
   "nbconvert_exporter": "python",
   "pygments_lexer": "ipython3",
   "version": "3.7.6"
  }
 },
 "nbformat": 4,
 "nbformat_minor": 4
}
