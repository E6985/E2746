{
 "cells": [
  {
   "cell_type": "markdown",
   "metadata": {},
   "source": [
    "# recursion-iteration\n",
    "> [TABLE OF CONTENTS](https://github.com/E6985/E2746/blob/master/README.md)\n",
    "***"
   ]
  },
  {
   "cell_type": "markdown",
   "metadata": {},
   "source": [
    "- iteration - **sequence** of **steps** - block of code - **executed** repeatedly - for loop - while loop - **recursion** is another **technique** which may be applied to complete tasks which are **repetitive** in **nature** - recursion in many cases is an **alternative** to iteration - any set of tasks which many be accomplished using a recursive procedure may also be accomplished by using an iterative procedure/algorithm [6]"
   ]
  },
  {
   "cell_type": "markdown",
   "metadata": {},
   "source": [
    "- **recursion** is an **expensive** way in designing an algorithm - expense lies in the fact there are **multiple** **activation** **frames** **active** for the **method** at any one point - overhead involved with every method **call** [6]"
   ]
  },
  {
   "cell_type": "markdown",
   "metadata": {},
   "source": [
    "- any task that can be accomplished in a recursive fashion could also be accomplished using iteration - given it is expensive - involves additional overhead when compared to an iterative approach - **use** **case** of **recursion** - extra **expense** - extra **complexity** - running time - recursion is far **outweighed** by a simpler **cleaner** algorithm which leads to an implementation that is in general **easier** to **code** - sacrifices made - overhead involved - method calls - code can be cleaner - far more concise - simplier - easier to understand [6]"
   ]
  },
  {
   "cell_type": "markdown",
   "metadata": {},
   "source": [
    "- **recursive** **calls** happen in **real** **life** situations - end up the **natural** **solution** to a problem - ultimately the recursion is **eliminated** when the compiler creates **assembly** language by **implementing** the **stack** [6]"
   ]
  },
  {
   "cell_type": "markdown",
   "metadata": {},
   "source": [
    "- if the - **recursion** **tree** - recursion **process** - has a **simple** **form** with a lot of **repeated** **tasks** then the **iterative** version may be in fact **better** [6]"
   ]
  },
  {
   "cell_type": "markdown",
   "metadata": {},
   "source": [
    "- if the - **recursion** **tree** - **appears** quite - **bushy** - lot of **different** **cases** - lot of different **branches** with which the task can do - with very **few** **duplicate** tasks - **tasks** that are very **similar** but **different** instances of the **same** problem - then **recursion** is likely the **natural** solution [6]"
   ]
  },
  {
   "cell_type": "markdown",
   "metadata": {},
   "source": [
    "***\n",
    "# END"
   ]
  }
 ],
 "metadata": {
  "kernelspec": {
   "display_name": "Python 3",
   "language": "python",
   "name": "python3"
  },
  "language_info": {
   "codemirror_mode": {
    "name": "ipython",
    "version": 3
   },
   "file_extension": ".py",
   "mimetype": "text/x-python",
   "name": "python",
   "nbconvert_exporter": "python",
   "pygments_lexer": "ipython3",
   "version": "3.7.6"
  }
 },
 "nbformat": 4,
 "nbformat_minor": 4
}
