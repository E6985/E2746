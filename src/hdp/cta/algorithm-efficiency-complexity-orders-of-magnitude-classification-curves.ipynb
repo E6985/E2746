{
 "cells": [
  {
   "cell_type": "markdown",
   "metadata": {},
   "source": [
    "# algorithm-efficiency-complexity-orders-of-magnitude-classification-curves\n",
    "> [TABLE OF CONTENTS](https://github.com/E6985/E2746/blob/master/README.md)\n",
    "***"
   ]
  },
  {
   "cell_type": "markdown",
   "metadata": {},
   "source": [
    "- **growth** **functions** used in **complexity** **analysis** - running time - $T(n)$ [6]\n",
    "\n",
    "| is proportional to | complexity:                |\n",
    "| ------------------ | -------------------------- |\n",
    "| T(n) ~ $log.n$     | logarithmic                |\n",
    "| T(n) ~ $n$         | linear                     |\n",
    "| T(n) ~ $n.log.n$   | linearithmic               |\n",
    "| T(n) ~ $n^2$       | quadratic (polynomial)     |\n",
    "| T(n) ~ $n^3$       | cubic (polynomial)         |\n",
    "| T(n) ~ $n^k$       | polynomial (k any integer  |\n",
    "| T(n) ~ $2^n$       | exponential                |\n",
    "| T(n) ~ $k^n; k>1$  | exponential                |"
   ]
  },
  {
   "cell_type": "markdown",
   "metadata": {},
   "source": [
    "- **graph** - relative indication - growth functions - x-axis - increasing **input** size - n - increases from zero to circa twenty - y-axis - $T(n)$ - is a function which will give the expected running **time** - number of operations - as the input size - n - is increased - most efficient growth function - $log(n)$ - logarithmic - growth function - $n$ - linear - less efficient - growth function - $n.log.n$ - linearithmic - less efficient again - growth rates - polynomial - exponential - far ahead in terms of complexity - twenty elements is not a large input set size - the effect of the different order of growth is very pronounced [6]"
   ]
  },
  {
   "cell_type": "markdown",
   "metadata": {},
   "source": [
    "<img src=\"img/03-07-01.png\" />"
   ]
  },
  {
   "cell_type": "markdown",
   "metadata": {},
   "source": [
    "- compare - **magitude** - **growth** between the different **functions** - input size - eight - doubling to - five-hundred twelve [6]\n",
    "\n",
    "| value of n |\n",
    "| ---------- |\n",
    "| 8          |\n",
    "| 16         |\n",
    "| 32         |\n",
    "| 64         |\n",
    "| 128        |\n",
    "| 256        |\n",
    "| 512        |"
   ]
  },
  {
   "cell_type": "markdown",
   "metadata": {},
   "source": [
    " - growth function - **constant** - input size - any number of elements - expected number of operations - running time - actual output of - $T(n)$ - 1 - constant time - in all cases no matter how large the value of the input size - n - expect to execute in a constant amount of time - unusual but possible [6]\n",
    "\n",
    "| value of n | constant |\n",
    "| ---------- | -------- |\n",
    "| 8          | 1        |\n",
    "| 16         | 1        |\n",
    "| 32         | 1        |\n",
    "| 64         | 1        |\n",
    "| 128        | 1        |\n",
    "| 256        | 1        |\n",
    "| 512        | 1        |"
   ]
  },
  {
   "cell_type": "markdown",
   "metadata": {},
   "source": [
    "- growth function - **logarithmic** - $log.n$ - input size - eight elements - expected number of operations - running time - actual output of - $T(n)$ - 3 [6]\n",
    "\n",
    "| value of n | constant | (logarithmic) |\n",
    "| ---------- | -------- | ------------- |\n",
    "| 8          | 1        | 3             |\n",
    "| 16         | 1        | 4             |\n",
    "| 32         | 1        | 5             |\n",
    "| 64         | 1        | 6             |\n",
    "| 128        | 1        | 7             |\n",
    "| 256        | 1        | 8             |\n",
    "| 512        | 1        | 9             |"
   ]
  },
  {
   "cell_type": "markdown",
   "metadata": {},
   "source": [
    "- growth function - **linear** - $n$ - input size - five-hundred twelve elements - expected number of operations - running time - actual output of - $T(n)$ - 512 - compare to - growth function - logarithmic - $log.n$ - input size - five-hundred twelve elements - expected number of operations - running time - actual output of - $T(n)$ - 9 - difference in terms of complexity [6]\n",
    "\n",
    "| value of n | constant | logarithmic | linear |\n",
    "| ---------- | -------- | ----------- | ------ |\n",
    "| 8          | 1        | 3           | 8      |\n",
    "| 16         | 1        | 4           | 16     |\n",
    "| 32         | 1        | 5           | 32     |\n",
    "| 64         | 1        | 6           | 64     |\n",
    "| 128        | 1        | 7           | 128    |\n",
    "| 256        | 1        | 8           | 256    |\n",
    "| 512        | 1        | 9           | 512    |\n"
   ]
  },
  {
   "cell_type": "markdown",
   "metadata": {},
   "source": [
    "- growth function - **linearithmic** - $n.log.n$ - input size - eight elements - expected number of operations - running time - actual output of - $T(n)$ - 24 - compare to - growth function - linear - $n$ - input size - eight elements - expected number of operations - running time - actual output of - $T(n)$ - 8  - takes three times as long to run [6]\n",
    "\n",
    "| value of n | constant | logarithmic | linear | linearithmic |\n",
    "| ---------- | -------- | ----------- | ------ | ------------ |\n",
    "| 8          | 1        | 3           | 8      | 24           |\n",
    "\n",
    "- growth functions - linear - $n$ - linearithmic - $n.log.n$ - input size - five-hundred twelve elements - expected number of operations - running time - actual output of - $T(n)$ - respectively - 512 - 4608 - growth function - linearithmic - $n.log.n$ - eight times as slow as - growth function - linear - $n$ [6]\n",
    "\n",
    "| value of n | constant | logarithmic | linear | linearithmic |\n",
    "| ---------- | -------- | ----------- | ------ | ------------ |\n",
    "| 512        | 1        | 9           | 512    | 4608         |\n",
    "\n",
    "| value of n | constant | logarithmic | linear | linearithmic |\n",
    "| ---------- | -------- | ----------- | ------ | ------------ |\n",
    "| 8          | 1        | 3           | 8      | 24           |\n",
    "| 16         | 1        | 4           | 16     | 64           |\n",
    "| 32         | 1        | 5           | 32     | 160          |\n",
    "| 64         | 1        | 6           | 64     | 384          |\n",
    "| 128        | 1        | 7           | 128    | 896          |\n",
    "| 256        | 1        | 8           | 256    | 2048         |\n",
    "| 512        | 1        | 9           | 512    | 4608         |"
   ]
  },
  {
   "cell_type": "markdown",
   "metadata": {},
   "source": [
    "- **polynomial** - growth functions - quadratic - $n^2$ - cubic - $n^3$ - growth rates further ahead [6]\n",
    "\n",
    "| value of n | constant | logarithmic | linear | linearithmic | quadratic | cubic    | \n",
    "| ---------- | -------- | ----------- | ------ | ------------ | --------- | -------- | \n",
    "| 8          | 1        | 3           | 8      | 24           | 64        | 512      |\n",
    "| 16         | 1        | 4           | 16     | 64           | 256       | 4096     |\n",
    "| 32         | 1        | 5           | 32     | 160          | 1024      | 32768    |\n",
    "| 64         | 1        | 6           | 64     | 384          | 4096      | 262144   |\n",
    "| 128        | 1        | 7           | 128    | 896          | 16384     | 2097152  |\n",
    "| 256        | 1        | 8           | 256    | 2048         | 65536     | 16777216 |\n",
    "| 512        | 1        | 9           | 512    | 4608         | 262144    | 1.34E+08 |\n",
    "\n",
    "- growth function - cubic - $n^3$ - input size - eight elements - expected number of operations - running time - actual output of - $T(n)$ - 512 [6] \n",
    "\n",
    "| value of n | constant | logarithmic | linear | linearithmic | quadratic | cubic    | \n",
    "| ---------- | -------- | ----------- | ------ | ------------ | --------- | -------- | \n",
    "| 8          | 1        | 3           | 8      | 24           | 64        | 512      |\n",
    "\n",
    "- growth function - linear -  $n$ - input size - five-hundred twelve elements - expected number of operations - running time - actual output of - $T(n)$ - 512 [6]\n",
    "\n",
    "| value of n | constant | logarithmic | linear | linearithmic | quadratic | cubic    | \n",
    "| ---------- | -------- | ----------- | ------ | ------------ | --------- | -------- | \n",
    "| 512        | 1        | 9           | 512    | 4608         | 262144    | 1.34E+08 |\n",
    "\n",
    "- growth functions - linear - $n$ - input size - five-hundred twelve - handle operations - 512 - verus - growth function - cubic - $n^3$ - input size - eight - operations - 512 [6]"
   ]
  },
  {
   "cell_type": "markdown",
   "metadata": {},
   "source": [
    "- growth function - **exponential** - intractable [6]\n",
    "\n",
    "| value of n | constant | logarithmic | linear | linearithmic | quadratic | cubic    | exponential |\n",
    "| ---------- | -------- | ----------- | ------ | ------------ | --------- | -------- | ----------- |\n",
    "| 8          | 1        | 3           | 8      | 24           | 64        | 512      | 256         |\n",
    "| 16         | 1        | 4           | 16     | 64           | 256       | 4096     | 65536       |\n",
    "| 32         | 1        | 5           | 32     | 160          | 1024      | 32768    | 4294967296  |\n",
    "| 64         | 1        | 6           | 64     | 384          | 4096      | 262144   | 1.84467E+19 |\n",
    "| 128        | 1        | 7           | 128    | 896          | 16384     | 2097152  | 3.40282E+38 |\n",
    "| 256        | 1        | 8           | 256    | 2048         | 65536     | 16777216 | 1.15792E+77 |\n",
    "| 512        | 1        | 9           | 512    | 4608         | 262144    | 1.34E+08 | 1.3408E+154 |"
   ]
  },
  {
   "cell_type": "markdown",
   "metadata": {},
   "source": [
    "- evaluating the **complexity** of an algorithm - keep in mind to identify the most **expensive** computation within an algorithm to **determine** its **classification** - consider an algorithm that is subdivided into two tasks - task classified as linear followed by a task classified as quadratic - overall performance of the algorithm must therefore be classified as quadratic [6]"
   ]
  },
  {
   "cell_type": "markdown",
   "metadata": {},
   "source": [
    "***\n",
    "# END"
   ]
  }
 ],
 "metadata": {
  "kernelspec": {
   "display_name": "Python 3",
   "language": "python",
   "name": "python3"
  },
  "language_info": {
   "codemirror_mode": {
    "name": "ipython",
    "version": 3
   },
   "file_extension": ".py",
   "mimetype": "text/x-python",
   "name": "python",
   "nbconvert_exporter": "python",
   "pygments_lexer": "ipython3",
   "version": "3.7.6"
  }
 },
 "nbformat": 4,
 "nbformat_minor": 4
}
