{
 "cells": [
  {
   "cell_type": "markdown",
   "metadata": {},
   "source": [
    "# sorting-algorithm-comparator-comparison-algorithms-quick-procedure\n",
    "> [TABLE OF CONTENTS](https://github.com/E6985/E2746/blob/master/README.md)\n",
    "***"
   ]
  },
  {
   "cell_type": "markdown",
   "metadata": {},
   "source": [
    "- **step** **one** - **pivot** **selection** - **pick** an item - **element** - called the **pivot** from the collection - **array** - different rules can be followed to pick pivots [6]"
   ]
  },
  {
   "cell_type": "markdown",
   "metadata": {},
   "source": [
    "- **step** **two** - **call** - **partition** - takes **every** item - **element** - in the collection - **array** - **value** - **less** **than** - **pivot** - **reordered** **left** of the **pivot** - takes all items - elements - values - **greater** **than** or **equal** - **pivot** - **reordered** right of the **pivot** [6]"
   ]
  },
  {
   "cell_type": "markdown",
   "metadata": {},
   "source": [
    "- **after** **partition** - step two - **pivot** is in its **final** position - **index** - with **subarray** on the **left** - **subarray** on the **right** [6]"
   ]
  },
  {
   "cell_type": "markdown",
   "metadata": {},
   "source": [
    "- **step** **three** - **apply** **steps** - **one** - **two** - **recursively** - to **each** of the **two** **subarrays** - keep **working** down through the recursion **until** - **base** **case** - **reached** [6]"
   ]
  },
  {
   "cell_type": "markdown",
   "metadata": {},
   "source": [
    "- like - merge sort - the **base** **case** for the **recursion** - quicksort - **subarray** **reached** that has a **length** of either **one** or **zero** - by definition - those cases do **not** **need** to be **sorted** - reason can act as base cases [6]"
   ]
  },
  {
   "cell_type": "markdown",
   "metadata": {},
   "source": [
    "***\n",
    "# END"
   ]
  }
 ],
 "metadata": {
  "kernelspec": {
   "display_name": "Python 3",
   "language": "python",
   "name": "python3"
  },
  "language_info": {
   "codemirror_mode": {
    "name": "ipython",
    "version": 3
   },
   "file_extension": ".py",
   "mimetype": "text/x-python",
   "name": "python",
   "nbconvert_exporter": "python",
   "pygments_lexer": "ipython3",
   "version": "3.7.6"
  }
 },
 "nbformat": 4,
 "nbformat_minor": 4
}
