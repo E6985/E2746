{
 "cells": [
  {
   "cell_type": "markdown",
   "metadata": {},
   "source": [
    "# sorting-algorithm-comparator-comparison-algorithms-bubble-process\n",
    "> [TABLE OF CONTENTS](https://github.com/E6985/E2746/blob/master/README.md)\n",
    "***"
   ]
  },
  {
   "cell_type": "markdown",
   "metadata": {},
   "source": [
    "- sorting a collection - array - **unsorted** **input** instance - collection - array - of integers - **some** **out** **of** **order** items - **elements** [6]\n",
    "\n",
    "$[7,5,2,3,1]$"
   ]
  },
  {
   "cell_type": "markdown",
   "metadata": {},
   "source": [
    "- step - iteration - outer loop - **comparing** item - **element** - on left - inversion - iteration - inner loop - with its **neighbour** to the **right** - if items - elements - **out** **of** **order** - **swap** - items - **elements** - **otherwise** **leave** at **same** position - **index** [6]\n",
    "\n",
    "$7$ $>$ $5$ $Swap$ $...[1]=7$ $[0]=5$\n",
    "\n",
    "$[5,7,2,3,1]$"
   ]
  },
  {
   "cell_type": "markdown",
   "metadata": {},
   "source": [
    "- **next** step - iteration - inner loop - **compare** said item - **element** - on left - with its neighbour to the right - if items - elements - out of order - swap -  item - element - otherwise leave at same position - index [6]\n",
    "\n",
    "$7$ $>$ $2$ $Swap$ $...[2]=7$ $[1]=2$\n",
    "\n",
    "$[5,2,7,3,1]$"
   ]
  },
  {
   "cell_type": "markdown",
   "metadata": {},
   "source": [
    "- next step - iteration - inner loop - compare said item - element - on left - with its neighbour to the right - if items - elements - out of order - swap -  item - element - otherwise leave at same position - index [6]\n",
    "\n",
    "$7$ $>$ $3$ $Swap$ $...[3]=7$ $[2]=3$\n",
    "\n",
    "$[5,2,3,7,1]$"
   ]
  },
  {
   "cell_type": "markdown",
   "metadata": {},
   "source": [
    "- next step - iteration - inner loop - compare said item - element - on left - with its neighbour to the right - if items - elements - out of order - swap -  item - element - otherwise leave at same position - index [6]\n",
    "\n",
    "$7$ $>$ $1$ $Swap$ $...[4]=7$ $[3]=1$\n",
    "\n",
    "$[5,2,3,1,7]$"
   ]
  },
  {
   "cell_type": "markdown",
   "metadata": {},
   "source": [
    "- **sorted** **partition** - on **right** hand side - **one** item - **element** - **sorted** [6]"
   ]
  },
  {
   "cell_type": "markdown",
   "metadata": {},
   "source": [
    "<img src=\"img/06-12.png\" />"
   ]
  },
  {
   "cell_type": "markdown",
   "metadata": {},
   "source": [
    "- step - iteration - outer loop - **comparing** item - **element** - on left - inversion - iteration - inner loop - with its **neighbour** to the **right** - if items - elements - **out** **of** **order** - **swap** - items - elements - **otherwise** leave at same position - index [6]\n",
    "\n",
    "$5$ $>$ $2$ $Swap$ $...[1]=5$ $[0]=2$\n",
    "\n",
    "$[2,5,3,1,7]$"
   ]
  },
  {
   "cell_type": "markdown",
   "metadata": {},
   "source": [
    "- **next** step - iteration - inner loop - **compare** said item - **element** - on left - with its neighbour to the right - if items - elements - out of order - swap -  item - element - otherwise leave at same position - index [6]\n",
    "\n",
    "$5$ $>$ $3$ $Swap$ $...[2]=5$ $[1]=3$\n",
    "\n",
    "$[2,3,5,1,7]$"
   ]
  },
  {
   "cell_type": "markdown",
   "metadata": {},
   "source": [
    "- next step - iteration - inner loop - compare said item - element - on left - with its neighbour to the right - if items - elements - out of order - swap -  item - element - otherwise leave at same position - index [6]\n",
    "\n",
    "$5$ $>$ $1$ $Swap$ $...[3]=5$ $[2]=1$\n",
    "\n",
    "$[2,3,1,5,7]$"
   ]
  },
  {
   "cell_type": "markdown",
   "metadata": {},
   "source": [
    "- **sorted** **partition** - grown - on **right** hand side - **two** items - **elements** - **sorted** [6]"
   ]
  },
  {
   "cell_type": "markdown",
   "metadata": {},
   "source": [
    "<img src=\"img/06-12-1.png\" />"
   ]
  },
  {
   "cell_type": "markdown",
   "metadata": {},
   "source": [
    "- step - iteration - outer loop - **comparing** item - **element** - on left - inversion - iteration - inner loop - with its **neighbour** to the **right** - if items - elements - **out** **of** **order** - **swap** - items - **elements** - **otherwise** **leave** at **same** position - **index** [6]\n",
    "\n",
    "$2$ $>$ $3$ $Swap$ $...[0]=2$ $[1]=3$\n",
    "\n",
    "$[2,3,1,5,7]$"
   ]
  },
  {
   "cell_type": "markdown",
   "metadata": {},
   "source": [
    "- step - iteration - outer loop - **comparing** item - **element** - on left - inversion - iteration - inner loop - with its **neighbour** to the **right** - if items - elements - out of order - swap - item - element - otherwise leave at same position - index [6]\n",
    "\n",
    "$3$ $>$ $1$ $Swap$ $...[2]=3$ $[1]=1$\n",
    "\n",
    "$[2,1,3,5,7]$"
   ]
  },
  {
   "cell_type": "markdown",
   "metadata": {},
   "source": [
    "- **sorted** **partition** - grown - on **right** hand side - **three** items - **elements** - **sorted** [6]"
   ]
  },
  {
   "cell_type": "markdown",
   "metadata": {},
   "source": [
    "<img src=\"img/06-12-2.png\" />"
   ]
  },
  {
   "cell_type": "markdown",
   "metadata": {},
   "source": [
    "- step - iteration - outer loop - **comparing** item - **element** - on left - inversion - iteration - inner loop - with its **neighbour** to the **right** - if items - elements - **out** **of** **order** - **swap** - items - **elements** - **otherwise** **leave** at **same** position - **index** [6]\n",
    "\n",
    "$2$ $>$ $1$ $Swap$ $...[0]=1$ $[1]=2$\n",
    "\n",
    "$[1,2,3,5,7]$"
   ]
  },
  {
   "cell_type": "markdown",
   "metadata": {},
   "source": [
    "- **sorted** **partition** - grown - on **right** hand side - **four** items - **elements** - **sorted** [6]"
   ]
  },
  {
   "cell_type": "markdown",
   "metadata": {},
   "source": [
    "<img src=\"img/06-12-3.png\" />"
   ]
  },
  {
   "cell_type": "markdown",
   "metadata": {},
   "source": [
    "***\n",
    "# END"
   ]
  }
 ],
 "metadata": {
  "kernelspec": {
   "display_name": "Python 3",
   "language": "python",
   "name": "python3"
  },
  "language_info": {
   "codemirror_mode": {
    "name": "ipython",
    "version": 3
   },
   "file_extension": ".py",
   "mimetype": "text/x-python",
   "name": "python",
   "nbconvert_exporter": "python",
   "pygments_lexer": "ipython3",
   "version": "3.7.6"
  }
 },
 "nbformat": 4,
 "nbformat_minor": 4
}
