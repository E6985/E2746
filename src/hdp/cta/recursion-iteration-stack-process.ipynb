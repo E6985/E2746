{
 "cells": [
  {
   "cell_type": "markdown",
   "metadata": {},
   "source": [
    "# recursion-iteration-stack-process\n",
    "> [TABLE OF CONTENTS](https://github.com/E6985/E2746/blob/master/README.md)\n",
    "***"
   ]
  },
  {
   "cell_type": "code",
   "execution_count": 1,
   "metadata": {},
   "outputs": [],
   "source": [
    "nStackActivationFrame=\"Empty Stack\"\n",
    "nStackTime=0"
   ]
  },
  {
   "cell_type": "code",
   "execution_count": 2,
   "metadata": {},
   "outputs": [],
   "source": [
    "# define function - count\n",
    "def count(nParInteger):\n",
    "    print(nParInteger,end=\"\")\n",
    "    if nParInteger<2:\n",
    "        count(nParInteger+1)"
   ]
  },
  {
   "cell_type": "code",
   "execution_count": 3,
   "metadata": {},
   "outputs": [],
   "source": [
    "nArgument=0"
   ]
  },
  {
   "cell_type": "code",
   "execution_count": 4,
   "metadata": {},
   "outputs": [],
   "source": [
    "nFunctionMethodSignature=__name__\n",
    "nUserDefinedFunction=count.__name__\n",
    "nParameter=nArgument\n",
    "nBuiltinFunction_print=print.__name__"
   ]
  },
  {
   "cell_type": "markdown",
   "metadata": {},
   "source": [
    "<img src=\"img/04-1-04.png\" />"
   ]
  },
  {
   "cell_type": "code",
   "execution_count": 5,
   "metadata": {},
   "outputs": [
    {
     "data": {
      "text/plain": [
       "'<STACK> <activation frame(s)> Empty Stack <time/active> 0'"
      ]
     },
     "execution_count": 5,
     "metadata": {},
     "output_type": "execute_result"
    }
   ],
   "source": [
    "\"<STACK> <activation frame(s)> {} <time/active> {}\".format(\n",
    "    nStackActivationFrame,nStackTime)"
   ]
  },
  {
   "cell_type": "markdown",
   "metadata": {},
   "source": [
    "<img src=\"img/04-1-05.png\" />"
   ]
  },
  {
   "cell_type": "code",
   "execution_count": 6,
   "metadata": {},
   "outputs": [
    {
     "data": {
      "text/plain": [
       "'<FUNCTION/METHOD> <invoke> __main__'"
      ]
     },
     "execution_count": 6,
     "metadata": {},
     "output_type": "execute_result"
    }
   ],
   "source": [
    "\"<FUNCTION/METHOD> <invoke> {}\".format(\n",
    "    nFunctionMethodSignature)"
   ]
  },
  {
   "cell_type": "code",
   "execution_count": 7,
   "metadata": {},
   "outputs": [
    {
     "data": {
      "text/plain": [
       "'<STACK> <push> __main__ <activation frame(s)> __main__ <time/active> 1'"
      ]
     },
     "execution_count": 7,
     "metadata": {},
     "output_type": "execute_result"
    }
   ],
   "source": [
    "nStackTime+=1\n",
    "nStackActivationFrame=nFunctionMethodSignature\n",
    "nLocFunctionMethodSignatureTime1=nFunctionMethodSignature\n",
    "\"<STACK> <push> {} <activation frame(s)> {} <time/active> {}\".format(\n",
    "    nFunctionMethodSignature,nStackActivationFrame,nStackTime)"
   ]
  },
  {
   "cell_type": "markdown",
   "metadata": {},
   "source": [
    "<img src=\"img/04-1-06.png\" />"
   ]
  },
  {
   "cell_type": "code",
   "execution_count": 8,
   "metadata": {},
   "outputs": [
    {
     "data": {
      "text/plain": [
       "'<FUNCTION/METHOD> <invoke> count'"
      ]
     },
     "execution_count": 8,
     "metadata": {},
     "output_type": "execute_result"
    }
   ],
   "source": [
    "\"<FUNCTION/METHOD> <invoke> {}\".format(\n",
    "    nUserDefinedFunction)"
   ]
  },
  {
   "cell_type": "code",
   "execution_count": 9,
   "metadata": {},
   "outputs": [
    {
     "data": {
      "text/plain": [
       "'<FUNCTION/METHOD> <signature> count(0)'"
      ]
     },
     "execution_count": 9,
     "metadata": {},
     "output_type": "execute_result"
    }
   ],
   "source": [
    "nFunctionMethodSignature=nUserDefinedFunction+\"(\"+str(nParameter)+\")\"\n",
    "\"<FUNCTION/METHOD> <signature> {}\".format(\n",
    "    nFunctionMethodSignature)"
   ]
  },
  {
   "cell_type": "code",
   "execution_count": 10,
   "metadata": {},
   "outputs": [
    {
     "data": {
      "text/plain": [
       "'<STACK> <push> count(0) <activation frame(s)> __main__, count(0) <time/active> 2'"
      ]
     },
     "execution_count": 10,
     "metadata": {},
     "output_type": "execute_result"
    }
   ],
   "source": [
    "nStackTime+=1\n",
    "nStackActivationFrame+=\", \"+nFunctionMethodSignature\n",
    "nLocFunctionMethodSignatureTime2=nFunctionMethodSignature\n",
    "\"<STACK> <push> {} <activation frame(s)> {} <time/active> {}\".format(\n",
    "    nFunctionMethodSignature,nStackActivationFrame,nStackTime)"
   ]
  },
  {
   "cell_type": "code",
   "execution_count": 11,
   "metadata": {},
   "outputs": [
    {
     "data": {
      "text/plain": [
       "'<FUNCTION/METHOD> <invoke> print - <parameter> 0'"
      ]
     },
     "execution_count": 11,
     "metadata": {},
     "output_type": "execute_result"
    }
   ],
   "source": [
    "nLocValueTime2=nParameter\n",
    "\"<FUNCTION/METHOD> <invoke> {} - <parameter> {}\".format(\n",
    "    nBuiltinFunction_print,nLocValueTime2)"
   ]
  },
  {
   "cell_type": "code",
   "execution_count": 12,
   "metadata": {
    "scrolled": true
   },
   "outputs": [
    {
     "data": {
      "text/plain": [
       "'<CONDITIONAL> <RECURSION> <base case> True <start>'"
      ]
     },
     "execution_count": 12,
     "metadata": {},
     "output_type": "execute_result"
    }
   ],
   "source": [
    "\"<CONDITIONAL> <RECURSION> <base case> {} <start>\".format(\n",
    "    nParameter<2)"
   ]
  },
  {
   "cell_type": "markdown",
   "metadata": {},
   "source": [
    "<img src=\"img/04-1-07.png\" />"
   ]
  },
  {
   "cell_type": "code",
   "execution_count": 13,
   "metadata": {},
   "outputs": [
    {
     "data": {
      "text/plain": [
       "'<RECURSION> <FUNCTION/METHOD> <invoke> count'"
      ]
     },
     "execution_count": 13,
     "metadata": {},
     "output_type": "execute_result"
    }
   ],
   "source": [
    "nStackActivationFrames=__name__\n",
    "\"<RECURSION> <FUNCTION/METHOD> <invoke> {}\".format(\n",
    "    nUserDefinedFunction)"
   ]
  },
  {
   "cell_type": "code",
   "execution_count": 14,
   "metadata": {},
   "outputs": [
    {
     "data": {
      "text/plain": [
       "'<RECURSION> <FUNCTION/METHOD> <signature> count(1))'"
      ]
     },
     "execution_count": 14,
     "metadata": {},
     "output_type": "execute_result"
    }
   ],
   "source": [
    "nParameter+=1\n",
    "nFunctionMethodSignature=nUserDefinedFunction+\"(\"+str(nParameter)+\")\"\n",
    "\"<RECURSION> <FUNCTION/METHOD> <signature> {})\".format(\n",
    "    nFunctionMethodSignature)"
   ]
  },
  {
   "cell_type": "code",
   "execution_count": 15,
   "metadata": {},
   "outputs": [
    {
     "data": {
      "text/plain": [
       "'<STACK> <push> count(1) <activation frame(s)> __main__, count(0), count(1) <time/active> 3'"
      ]
     },
     "execution_count": 15,
     "metadata": {},
     "output_type": "execute_result"
    }
   ],
   "source": [
    "nStackTime+=1\n",
    "nStackActivationFrame+=\", \"+nFunctionMethodSignature\n",
    "nLocFunctionMethodSignatureTime3=nFunctionMethodSignature\n",
    "\"<STACK> <push> {} <activation frame(s)> {} <time/active> {}\".format(\n",
    "    nFunctionMethodSignature,nStackActivationFrame,nStackTime)"
   ]
  },
  {
   "cell_type": "code",
   "execution_count": 16,
   "metadata": {},
   "outputs": [
    {
     "data": {
      "text/plain": [
       "'<FUNCTION/METHOD> <invoke> print - <parameter> 1'"
      ]
     },
     "execution_count": 16,
     "metadata": {},
     "output_type": "execute_result"
    }
   ],
   "source": [
    "nLocValueTime3=nParameter\n",
    "\"<FUNCTION/METHOD> <invoke> {} - <parameter> {}\".format(\n",
    "    nBuiltinFunction_print,nLocValueTime3)"
   ]
  },
  {
   "cell_type": "code",
   "execution_count": 17,
   "metadata": {},
   "outputs": [
    {
     "data": {
      "text/plain": [
       "'<CONDITIONAL> <RECURSION> <base case> True <re-start>'"
      ]
     },
     "execution_count": 17,
     "metadata": {},
     "output_type": "execute_result"
    }
   ],
   "source": [
    "\"<CONDITIONAL> <RECURSION> <base case> {} <re-start>\".format(\n",
    "    nParameter<2)"
   ]
  },
  {
   "cell_type": "markdown",
   "metadata": {},
   "source": [
    "<img src=\"img/04-1-08.png\" />"
   ]
  },
  {
   "cell_type": "code",
   "execution_count": 18,
   "metadata": {},
   "outputs": [
    {
     "data": {
      "text/plain": [
       "'<RECURSION> <FUNCTION/METHOD> <invoke> count'"
      ]
     },
     "execution_count": 18,
     "metadata": {},
     "output_type": "execute_result"
    }
   ],
   "source": [
    "nStackActivationFrames=__name__\n",
    "\"<RECURSION> <FUNCTION/METHOD> <invoke> {}\".format(\n",
    "    nUserDefinedFunction)"
   ]
  },
  {
   "cell_type": "code",
   "execution_count": 19,
   "metadata": {},
   "outputs": [
    {
     "data": {
      "text/plain": [
       "'<RECURSION> <FUNCTION/METHOD> <signature> count(2))'"
      ]
     },
     "execution_count": 19,
     "metadata": {},
     "output_type": "execute_result"
    }
   ],
   "source": [
    "nParameter+=1\n",
    "nFunctionMethodSignature=nUserDefinedFunction+\"(\"+str(nParameter)+\")\"\n",
    "\"<RECURSION> <FUNCTION/METHOD> <signature> {})\".format(\n",
    "    nFunctionMethodSignature)"
   ]
  },
  {
   "cell_type": "code",
   "execution_count": 20,
   "metadata": {},
   "outputs": [
    {
     "data": {
      "text/plain": [
       "'<STACK> <push> count(2) <activation frame(s)> __main__, count(0), count(1), count(2) <time/active> 4'"
      ]
     },
     "execution_count": 20,
     "metadata": {},
     "output_type": "execute_result"
    }
   ],
   "source": [
    "nStackTime+=1\n",
    "nStackActivationFrame+=\", \"+nFunctionMethodSignature\n",
    "\"<STACK> <push> {} <activation frame(s)> {} <time/active> {}\".format(\n",
    "    nFunctionMethodSignature,nStackActivationFrame,nStackTime)"
   ]
  },
  {
   "cell_type": "code",
   "execution_count": 21,
   "metadata": {},
   "outputs": [
    {
     "data": {
      "text/plain": [
       "'<FUNCTION/METHOD> <invoke> print - <parameter> 2'"
      ]
     },
     "execution_count": 21,
     "metadata": {},
     "output_type": "execute_result"
    }
   ],
   "source": [
    "nLocValueTime4=nParameter\n",
    "\"<FUNCTION/METHOD> <invoke> {} - <parameter> {}\".format(\n",
    "    nBuiltinFunction_print,nLocValueTime4)"
   ]
  },
  {
   "cell_type": "code",
   "execution_count": 22,
   "metadata": {},
   "outputs": [
    {
     "data": {
      "text/plain": [
       "'<CONDITIONAL> <RECURSION> <base case> False <finish>'"
      ]
     },
     "execution_count": 22,
     "metadata": {},
     "output_type": "execute_result"
    }
   ],
   "source": [
    "\"<CONDITIONAL> <RECURSION> <base case> {} <finish>\".format(\n",
    "    nParameter<2)"
   ]
  },
  {
   "cell_type": "markdown",
   "metadata": {},
   "source": [
    "<img src=\"img/04-1-03.png\" />"
   ]
  },
  {
   "cell_type": "code",
   "execution_count": 23,
   "metadata": {},
   "outputs": [
    {
     "data": {
      "text/plain": [
       "'<STACK> <pop> count(2) <activation frame> count(2) <RETURN> <value> 2'"
      ]
     },
     "execution_count": 23,
     "metadata": {},
     "output_type": "execute_result"
    }
   ],
   "source": [
    "\"<STACK> <pop> {} <activation frame> {} <RETURN> <value> {}\".format(\n",
    "    nFunctionMethodSignature,nFunctionMethodSignature,nParameter)"
   ]
  },
  {
   "cell_type": "code",
   "execution_count": 24,
   "metadata": {},
   "outputs": [
    {
     "data": {
      "text/plain": [
       "2"
      ]
     },
     "execution_count": 24,
     "metadata": {},
     "output_type": "execute_result"
    }
   ],
   "source": [
    "nParameter"
   ]
  },
  {
   "cell_type": "markdown",
   "metadata": {},
   "source": [
    "<img src=\"img/04-1-07-t.png\" />"
   ]
  },
  {
   "cell_type": "code",
   "execution_count": 25,
   "metadata": {},
   "outputs": [
    {
     "data": {
      "text/plain": [
       "'<STACK> <pop> count(1) <activation frame> count(1) <RETURN> <value> 1'"
      ]
     },
     "execution_count": 25,
     "metadata": {},
     "output_type": "execute_result"
    }
   ],
   "source": [
    "\"<STACK> <pop> {} <activation frame> {} <RETURN> <value> {}\".format(\n",
    "    nLocFunctionMethodSignatureTime3,nLocFunctionMethodSignatureTime3,nLocValueTime3)"
   ]
  },
  {
   "cell_type": "code",
   "execution_count": 26,
   "metadata": {},
   "outputs": [
    {
     "data": {
      "text/plain": [
       "1"
      ]
     },
     "execution_count": 26,
     "metadata": {},
     "output_type": "execute_result"
    }
   ],
   "source": [
    "nLocValueTime3"
   ]
  },
  {
   "cell_type": "markdown",
   "metadata": {},
   "source": [
    "<img src=\"img/04-1-06-t.png\" />"
   ]
  },
  {
   "cell_type": "code",
   "execution_count": 27,
   "metadata": {},
   "outputs": [
    {
     "data": {
      "text/plain": [
       "'<STACK> <pop> count(0) <activation frame> count(1) <RETURN> <value> 0'"
      ]
     },
     "execution_count": 27,
     "metadata": {},
     "output_type": "execute_result"
    }
   ],
   "source": [
    "\"<STACK> <pop> {} <activation frame> {} <RETURN> <value> {}\".format(\n",
    "    nLocFunctionMethodSignatureTime2,nLocFunctionMethodSignatureTime3,nLocValueTime2)"
   ]
  },
  {
   "cell_type": "code",
   "execution_count": 28,
   "metadata": {},
   "outputs": [
    {
     "data": {
      "text/plain": [
       "0"
      ]
     },
     "execution_count": 28,
     "metadata": {},
     "output_type": "execute_result"
    }
   ],
   "source": [
    "nLocValueTime2"
   ]
  },
  {
   "cell_type": "markdown",
   "metadata": {},
   "source": [
    "<img src=\"img/04-1-05-t.png\" />"
   ]
  },
  {
   "cell_type": "code",
   "execution_count": 29,
   "metadata": {},
   "outputs": [
    {
     "name": "stdout",
     "output_type": "stream",
     "text": [
      "012"
     ]
    }
   ],
   "source": [
    "# function count - call\n",
    "count(nArgument)"
   ]
  },
  {
   "cell_type": "markdown",
   "metadata": {},
   "source": [
    "<img src=\"img/04-1-09.png\" />"
   ]
  },
  {
   "cell_type": "code",
   "execution_count": 30,
   "metadata": {},
   "outputs": [
    {
     "data": {
      "text/plain": [
       "'<STACK> <pop> __main__'"
      ]
     },
     "execution_count": 30,
     "metadata": {},
     "output_type": "execute_result"
    }
   ],
   "source": [
    "\"<STACK> <pop> {}\".format(\n",
    "    __name__,)"
   ]
  },
  {
   "cell_type": "markdown",
   "metadata": {},
   "source": [
    "***\n",
    "# END"
   ]
  }
 ],
 "metadata": {
  "kernelspec": {
   "display_name": "Python 3",
   "language": "python",
   "name": "python3"
  },
  "language_info": {
   "codemirror_mode": {
    "name": "ipython",
    "version": 3
   },
   "file_extension": ".py",
   "mimetype": "text/x-python",
   "name": "python",
   "nbconvert_exporter": "python",
   "pygments_lexer": "ipython3",
   "version": "3.7.6"
  }
 },
 "nbformat": 4,
 "nbformat_minor": 4
}
