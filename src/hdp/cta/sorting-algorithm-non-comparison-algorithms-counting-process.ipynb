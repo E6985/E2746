{
 "cells": [
  {
   "cell_type": "markdown",
   "metadata": {},
   "source": [
    "# sorting-algorithm-non-comparison-algorithms-counting-process\n",
    "> [TABLE OF CONTENTS](https://github.com/E6985/E2746/blob/master/README.md)\n",
    "***"
   ]
  },
  {
   "cell_type": "markdown",
   "metadata": {},
   "source": [
    "- **input** instance - input collection - **unsorted** **array** [6]\n",
    "\n",
    "$[7,5,2,3,1,1,2,0,2]$"
   ]
  },
  {
   "cell_type": "markdown",
   "metadata": {},
   "source": [
    "- **counting** **sort** - **go** **through** the **input** instance - **count** how **many** **times** **each** of the **different** **members** of that **input** instance **occurs** - every **unique** **key** **value** [6]"
   ]
  },
  {
   "cell_type": "markdown",
   "metadata": {},
   "source": [
    "<img src=\"img/06-37.png\" />"
   ]
  },
  {
   "cell_type": "markdown",
   "metadata": {},
   "source": [
    "- **histogram** - **represents** - **count** - **stored** in the collection - **array** [6]"
   ]
  },
  {
   "cell_type": "markdown",
   "metadata": {},
   "source": [
    "- key value - zero - occurred once - key value - one - occurred twice - key value - two - occurred three times - key value - three - occurred once - key value - four - did not happen - no incidence of the key value four in the input instance - key value - five - occurred once - key value six - did not happen - no incidence of the key value six in the input instance - key value - seven - occurred once [6]"
   ]
  },
  {
   "cell_type": "markdown",
   "metadata": {},
   "source": [
    "<img src=\"img/06-37-1.png\" />"
   ]
  },
  {
   "cell_type": "markdown",
   "metadata": {},
   "source": [
    "- **knowing** - **key** **values** - **total** **ordering** - keys are integers - know the ordering - the **largest** - **key** **value** - seven - **find** the **number** of **instances** of the **number** - seven - that **exist** in the **input** instance - **know** that will be **placed** at the very **end** of the collection - **array** - **result** [6]"
   ]
  },
  {
   "cell_type": "markdown",
   "metadata": {},
   "source": [
    "- look for the next key instance which occurs - key value - five - look in the input instance and see there is only one - gets put into the collection - array - result [6]"
   ]
  },
  {
   "cell_type": "markdown",
   "metadata": {},
   "source": [
    "- **building** the collection - **array** - **result** - **for** **loop** - **counting** **down** from the collection - **array** - position - **index** - $n-1$ - all the way **down** **to** position - **index** - **zero** - building the collection - array - results - in that format [6]"
   ]
  },
  {
   "cell_type": "markdown",
   "metadata": {},
   "source": [
    "- number - three - got one of three - gets put into the collection - array - result - in the correct position [6]"
   ]
  },
  {
   "cell_type": "markdown",
   "metadata": {},
   "source": [
    "- number - two - next on the histogram - got three of - two - the three items - elements - **if** - **counting** **sort** - **implemented** **correctly** - **duplicates** - **that** **appear** in the **input** instance **will** **appear** in the **same** **order** in the collection - array - **result** - returned by that procedure [6]"
   ]
  },
  {
   "cell_type": "markdown",
   "metadata": {},
   "source": [
    "<img src=\"img/06-37-2.png\" />"
   ]
  },
  {
   "cell_type": "markdown",
   "metadata": {},
   "source": [
    "***\n",
    "# END"
   ]
  }
 ],
 "metadata": {
  "kernelspec": {
   "display_name": "Python 3",
   "language": "python",
   "name": "python3"
  },
  "language_info": {
   "codemirror_mode": {
    "name": "ipython",
    "version": 3
   },
   "file_extension": ".py",
   "mimetype": "text/x-python",
   "name": "python",
   "nbconvert_exporter": "python",
   "pygments_lexer": "ipython3",
   "version": "3.7.6"
  }
 },
 "nbformat": 4,
 "nbformat_minor": 4
}
