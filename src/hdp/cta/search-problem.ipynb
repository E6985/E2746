{
 "cells": [
  {
   "cell_type": "markdown",
   "metadata": {},
   "source": [
    "# search-problem\n",
    "> [TABLE OF CONTENTS](https://github.com/E6985/E2746/blob/master/README.md)\n",
    "***"
   ]
  },
  {
   "cell_type": "markdown",
   "metadata": {},
   "source": [
    "- **search** **problem** - **relates** to **retrieving** **some** **information** **from** - **data** **structure** - array - linked list - search trees - hash tables [6]"
   ]
  },
  {
   "cell_type": "markdown",
   "metadata": {},
   "source": [
    "- **data** **structure** - **holding** the **data** - want to **search** **based** on - maybe - **search** **key** - **search** **term** - **search** **value** - find out **does** the **value** **exist** in the - data structure - if so - **want** to have the position - **index** - of the **data** [6]"
   ]
  },
  {
   "cell_type": "markdown",
   "metadata": {},
   "source": [
    "- **algorithm** - **solves** - **search** **problem** - **search** **algorithm** [6]"
   ]
  },
  {
   "cell_type": "markdown",
   "metadata": {},
   "source": [
    "- **querying** - **database** - sql - command - **SELECT** - **search** **algorithm** **underneath** - which **queries** the **data** **structure** when **call** **made** to - sql - SELECT [6]"
   ]
  },
  {
   "cell_type": "markdown",
   "metadata": {},
   "source": [
    "- **data** **collection** - $C$ -  two **fundamental** **queries** - two fundamental questions - wish to answer about any particular collections - $C$ - i)  **existence** - ii) **associative** **lookup** [6]"
   ]
  },
  {
   "cell_type": "markdown",
   "metadata": {},
   "source": [
    "- **existence** - **criteria** - **query** - **collection** - $C$ - **contain** - **target** item - element - target **value** - $T$ - **result** - to the query - **true** - if item - element - exists in - collection - matches the desired target - $T$ - result - **false** - if not the case [6] "
   ]
  },
  {
   "cell_type": "markdown",
   "metadata": {},
   "source": [
    "- **associative** **lookup** - **criteria** - **query** - **return** **information** **associated** in **collection** $C$ - with **target** **key** - **value** - $k$ [6]"
   ]
  },
  {
   "cell_type": "markdown",
   "metadata": {},
   "source": [
    "- **key - could be **associated** with some **complex** **structure** - **value** - **look-up** - will **retrieve** **or** **replace** this **value** - sql - SELECT - query [6]"
   ]
  },
  {
   "cell_type": "markdown",
   "metadata": {},
   "source": [
    "- if querying - table - entity - relation - employees - wanted to find the employee with a certain employee number - maybe just want to return that employees details - maybe want to find where that record is stored - want to do some other operations - want to do an update instead - sql - UPDATE - searching is required [6]"
   ]
  },
  {
   "cell_type": "markdown",
   "metadata": {},
   "source": [
    "- in **terms** of **correctness** - **algorithm** will **return** the **correct** **result** - correct search algorithm should return - **true** - or - the **index** of the **requested** **key** **if** that **key** **or** **value** **exists** in the collection - or - **return** - **minus** **one** - **null** - **false** - if does **not** **exist** in the collection [6]"
   ]
  },
  {
   "cell_type": "markdown",
   "metadata": {},
   "source": [
    "- **sample** **problems** - whereby have **collections** of **integer** **keys** stored in a collection - **array** - **convention** - going to follow is that the **search** **algorithm** will **return** the **index** of the **value** **searching** for - if it **does** **exist** in the collection - search algorithm - will **return** **minus** **one** - if the target value searching for **does** **not** **exist** in the collection [6]"
   ]
  },
  {
   "cell_type": "markdown",
   "metadata": {},
   "source": [
    "***\n",
    "# END"
   ]
  }
 ],
 "metadata": {
  "kernelspec": {
   "display_name": "Python 3",
   "language": "python",
   "name": "python3"
  },
  "language_info": {
   "codemirror_mode": {
    "name": "ipython",
    "version": 3
   },
   "file_extension": ".py",
   "mimetype": "text/x-python",
   "name": "python",
   "nbconvert_exporter": "python",
   "pygments_lexer": "ipython3",
   "version": "3.7.6"
  }
 },
 "nbformat": 4,
 "nbformat_minor": 4
}
