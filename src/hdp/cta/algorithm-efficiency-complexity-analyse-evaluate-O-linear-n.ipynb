{
 "cells": [
  {
   "cell_type": "markdown",
   "metadata": {},
   "source": [
    "# algorithm-efficiency-complexity-analyse-evaluate-O-linear-n\n",
    "> [TABLE OF CONTENTS](https://github.com/E6985/E2746/blob/master/README.md)\n",
    "***"
   ]
  },
  {
   "cell_type": "markdown",
   "metadata": {},
   "source": [
    "- notation - $O(n)$ - **linear** - describes an algorithm whose **worst case** performance will grow linearly in direct **proportion** to the **size** of the **input** data set [6]"
   ]
  },
  {
   "cell_type": "markdown",
   "metadata": {},
   "source": [
    "- an algorithm which **loops** **once** through an array using a - for loop - would typically be - $O(n)$ - a matching number could be found during any iteration of the loop - therefore a function could return before all elements in an array have been iterated through - notation - $O$ - will always assume the upper limit where the algorithm will perform the maximum number of operations - typical - linear - $O(n)$ - algorithms that loop through data just once - **single** - for loop - possibility of running - executing - better in the **best-case** or **average-case** - situations whereby the full - for loop - does not need to execute or may have a - break - in the loop [6]"
   ]
  },
  {
   "cell_type": "markdown",
   "metadata": {},
   "source": [
    "- function - fContainsOne - parameter - nParElements - iterate through every element in the data set passed - given the function - fContainsOne - iterates through the full length of the array - could happen that it iterates all the way through input size - $n$ - elements - worst-case - $O(n)$ - best-case - constant time - occur if the number one was at array index position zero [6]"
   ]
  },
  {
   "cell_type": "code",
   "execution_count": 1,
   "metadata": {},
   "outputs": [],
   "source": [
    "# define function - fContainsOne\n",
    "def fContainsOne(nParElements):\n",
    "    for nEachValue in range(0,len(nParElements)):\n",
    "        if nParElements[nEachValue]==1:\n",
    "            return True\n",
    "    return False"
   ]
  },
  {
   "cell_type": "code",
   "execution_count": 2,
   "metadata": {},
   "outputs": [],
   "source": [
    "nArrTest1=[2,1,0,3]"
   ]
  },
  {
   "cell_type": "markdown",
   "metadata": {},
   "source": [
    "- parameter - nArrTest1 - data set contains value - one - array index position - nArrTest1[2] - return - True [6]"
   ]
  },
  {
   "cell_type": "code",
   "execution_count": 3,
   "metadata": {},
   "outputs": [
    {
     "data": {
      "text/plain": [
       "True"
      ]
     },
     "execution_count": 3,
     "metadata": {},
     "output_type": "execute_result"
    }
   ],
   "source": [
    "# call function - fContainsOne\n",
    "fContainsOne(nArrTest1)"
   ]
  },
  {
   "cell_type": "code",
   "execution_count": 4,
   "metadata": {},
   "outputs": [],
   "source": [
    "nArrTest2=[0,2,3,4]"
   ]
  },
  {
   "cell_type": "markdown",
   "metadata": {},
   "source": [
    "- parameter - nArrTest2 - data set does not contain the value - one - return - False [6]"
   ]
  },
  {
   "cell_type": "code",
   "execution_count": 5,
   "metadata": {
    "scrolled": true
   },
   "outputs": [
    {
     "data": {
      "text/plain": [
       "False"
      ]
     },
     "execution_count": 5,
     "metadata": {},
     "output_type": "execute_result"
    }
   ],
   "source": [
    "# call function - fContainsOne\n",
    "fContainsOne(nArrTest2)"
   ]
  },
  {
   "cell_type": "markdown",
   "metadata": {},
   "source": [
    "***\n",
    "# END"
   ]
  }
 ],
 "metadata": {
  "kernelspec": {
   "display_name": "Python 3",
   "language": "python",
   "name": "python3"
  },
  "language_info": {
   "codemirror_mode": {
    "name": "ipython",
    "version": 3
   },
   "file_extension": ".py",
   "mimetype": "text/x-python",
   "name": "python",
   "nbconvert_exporter": "python",
   "pygments_lexer": "ipython3",
   "version": "3.7.6"
  }
 },
 "nbformat": 4,
 "nbformat_minor": 4
}
