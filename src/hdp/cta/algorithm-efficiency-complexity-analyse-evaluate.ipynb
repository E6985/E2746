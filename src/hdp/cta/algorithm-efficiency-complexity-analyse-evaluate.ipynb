{
 "cells": [
  {
   "cell_type": "markdown",
   "metadata": {},
   "source": [
    "# algorithm-efficiency-complexity-analyse-evaluate\n",
    "> [TABLE OF CONTENTS](https://github.com/E6985/E2746/blob/master/README.md)\n",
    "***"
   ]
  },
  {
   "cell_type": "markdown",
   "metadata": {},
   "source": [
    "- evaluate algorithm - **complexity** - theory in practice - must **identify** the most **expensive** **computation** within an algorithm to **determine** its overall classification - higher order - **terms** - that will come to **dominate** - consider algorithm that is subdivided into two tasks - i) task classified - linear - $n$ - ii) task classified - quadratic - $n^{2}$ - say the number of - operations - execution time - represented by function - $T(n)$ - expected number of operations - is a quadratic equation - constant - $c$ - 50 - plus some number/constant - 125 - times input size - $n$ - plus 5 times - $n^{2}$ - higher order - term - $n^{2}$ - function - $T(n)$ - is the number of operations defined in the equation [6]\n",
    "\n",
    "$T(n)$ = $50+125n+5n^{2}$"
   ]
  },
  {
   "cell_type": "markdown",
   "metadata": {},
   "source": [
    "- overall complexity of the algorithm must therefore be classified - quadratic - $n^{2}$ - disregarding all lower order terms as the - $n^{2}$ - term will become dominant for input sizes of - $n$ equals 6 - or above - very small input size - $n$ - already the term - $n^{2}$ - is the most significant term in the equation - for this reason must only consider the highest order term - or - most expensive type of operation that is in the algorithm [6]"
   ]
  },
  {
   "cell_type": "markdown",
   "metadata": {},
   "source": [
    "- **equation** - represents - **calculates** - the **number** of **operations** required by an algorithm to **complete** - could comprise a number of different - terms - including also - constant factors - only **interested** in the **higher** **order** - terms - in the equation [6]"
   ]
  },
  {
   "cell_type": "markdown",
   "metadata": {},
   "source": [
    "- an algorithm with **better** **asymptotic** **growth** will eventually **execute** **faster** than one that has a worse asymptotic growth function regardless of the actual - constants - within the specific equations - reason - as the size of the input - $n$ - is increased eventually the better asymptotic growth function will come to **dominate** - start to evalute quicker - than an algorithm that has a worse asymptotic growth - actual breakpoint where this will occur will differ based on the specific constants and specific - $T(n)$ - equations under consideration and the size of the input - but it does exist for any two algorithms whereby a breakpoint would exist - could be empirically evaluated if implementing the comparison of two different algorithms in practice [6]"
   ]
  },
  {
   "cell_type": "markdown",
   "metadata": {},
   "source": [
    "- during **asymptotic** **analysis** - only need to be concerned with the **fastest-growing** **term** of the function - $T(n)$ - for this reason if the number of operations for an algorithm can be computed as - $T(n)$ - times - some constant $c$ - times $n^{3}$ - plus some other constant $d$ - times $n$ $log(n)$ - would classify algorithm as - $O(n^{3})$ - given it is the highest order term - dominant - in the worst case given that - $O(n^{3})$ - grows far more rapidly than - $n$ $log(n)$ [6]\n",
    "\n",
    "$T(n)$ = $c*n^{3}$ + $d * n$ $log(n)$"
   ]
  },
  {
   "cell_type": "markdown",
   "metadata": {},
   "source": [
    "- the relative growth rates - ordering in which they occur [6]"
   ]
  },
  {
   "cell_type": "markdown",
   "metadata": {},
   "source": [
    "<img src=\"img/03-07-01.png\" />"
   ]
  },
  {
   "cell_type": "markdown",
   "metadata": {},
   "source": [
    "***\n",
    "# END"
   ]
  }
 ],
 "metadata": {
  "kernelspec": {
   "display_name": "Python 3",
   "language": "python",
   "name": "python3"
  },
  "language_info": {
   "codemirror_mode": {
    "name": "ipython",
    "version": 3
   },
   "file_extension": ".py",
   "mimetype": "text/x-python",
   "name": "python",
   "nbconvert_exporter": "python",
   "pygments_lexer": "ipython3",
   "version": "3.7.6"
  }
 },
 "nbformat": 4,
 "nbformat_minor": 4
}
