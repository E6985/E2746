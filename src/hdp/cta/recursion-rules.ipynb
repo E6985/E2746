{
 "cells": [
  {
   "cell_type": "markdown",
   "metadata": {},
   "source": [
    "# recursion-rules\n",
    "> [TABLE OF CONTENTS](https://github.com/E6985/E2746/blob/master/README.md)\n",
    "***"
   ]
  },
  {
   "cell_type": "markdown",
   "metadata": {},
   "source": [
    "- to avoid problems - infinite - circular - errors - four basic rules - rule one - must have - base case - recursive algorithm must always have - base case - which can be solved without - recursion [6]"
   ]
  },
  {
   "cell_type": "markdown",
   "metadata": {},
   "source": [
    "```python\n",
    "print(*objects, sep=' ', end='\\n', file=sys.stdout, flush=False)\n",
    "```\n",
    "> [Python Documentation](https://web.archive.org/web/20200514154635/https://docs.python.org/3/library/functions.html#print)"
   ]
  },
  {
   "cell_type": "code",
   "execution_count": 1,
   "metadata": {},
   "outputs": [],
   "source": [
    "# define function - fCount\n",
    "def fCount(nParInteger):\n",
    "    print(nParInteger)\n",
    "    if nParInteger<2:\n",
    "        fCount(nParInteger+1)"
   ]
  },
  {
   "cell_type": "markdown",
   "metadata": {},
   "source": [
    "- base case - if parameter - nParInteger - value reached two - can be solved without - recursion - any call to the function - fCount - passing an argument of two or above - can be solved without - recursion - this is the base case - functions without - base case - will result when run - infinite - recursion - important to consider - base case - or simple instance of the problem that can be solved without recursion [6]\n",
    "\n",
    "```\n",
    "    if nParInteger<2:\n",
    "```"
   ]
  },
  {
   "cell_type": "markdown",
   "metadata": {},
   "source": [
    "- rule two - with every - recursive call - must make progress towards - base case or base cases - in each recurive call - so for cases that are to be resolved recursively - the next call must be a case that makes progress towards the - base case - functions that do not follow this rule - do not make progress towards a base case - result when run - circular - recursion [6]"
   ]
  },
  {
   "cell_type": "code",
   "execution_count": 2,
   "metadata": {},
   "outputs": [],
   "source": [
    "# define function - fCircular\n",
    "def fCircular(nParInteger):\n",
    "    if nParInteger==1:\n",
    "        fCircular(nParInteger+1)\n",
    "    fCircular(nParInteger-1)"
   ]
  },
  {
   "cell_type": "markdown",
   "metadata": {},
   "source": [
    "- rule three - design rule - assume that all the recursive calls work - at a higher level of recursion - assume that the next recursive call will carry out its task as expected and will return - have to assume any - recursive call - made will follow the previous two rules - recursive algorithm must always have a base case - must make progress towards the base case or base cases - eventually all the nested levels of - recursion - will return one by one and work as expected [6]"
   ]
  },
  {
   "cell_type": "markdown",
   "metadata": {},
   "source": [
    "- rule four - compound interest rule - efficient use of computational resources - never duplicate work by solving the same instance of a problem in separate recursive calls - not repeating the same work or the same call over and over again in separate recursive instances - not a good use of computational resources - if duplicating calls or the same problem instances then an iterative approach/implementation may be better to solve the problem instead of using recursion [6]"
   ]
  },
  {
   "cell_type": "markdown",
   "metadata": {},
   "source": [
    "***\n",
    "# END"
   ]
  }
 ],
 "metadata": {
  "kernelspec": {
   "display_name": "Python 3",
   "language": "python",
   "name": "python3"
  },
  "language_info": {
   "codemirror_mode": {
    "name": "ipython",
    "version": 3
   },
   "file_extension": ".py",
   "mimetype": "text/x-python",
   "name": "python",
   "nbconvert_exporter": "python",
   "pygments_lexer": "ipython3",
   "version": "3.7.6"
  }
 },
 "nbformat": 4,
 "nbformat_minor": 4
}
