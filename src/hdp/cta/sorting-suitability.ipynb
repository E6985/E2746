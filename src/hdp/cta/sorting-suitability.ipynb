{
 "cells": [
  {
   "cell_type": "markdown",
   "metadata": {},
   "source": [
    "# sorting-suitability\n",
    "> [TABLE OF CONTENTS](https://github.com/E6985/E2746/blob/master/README.md)\n",
    "***"
   ]
  },
  {
   "cell_type": "markdown",
   "metadata": {},
   "source": [
    "- **sorting** problem - arranging a collection - array - of items - elements - **according** to some **predefined** ordering **rules** - different algorithms have been designed to accomplish this task [6]"
   ]
  },
  {
   "cell_type": "markdown",
   "metadata": {},
   "source": [
    "- desirable property - **stability** - running an algorithm which is stable on a data set to be sorted - will **preserve** the **order** of the **already** **sorted** **input** - items - elements - which are considered to have the same value according to a comparator function - will appear in the same sequence order in the sorted output [6]"
   ]
  },
  {
   "cell_type": "markdown",
   "metadata": {},
   "source": [
    "- desirable property - **runtime** **efficiency** - have acceptable or good runtime efficiency - may be interested in runtime efficiency in the - **best** - **average** - **worst** **case** - depending on the specific application - want guarantee on the maximum amount of time a sorting task would take - worst case performance - concerned about having good all around performance - maybe consider an algorithm that has acceptable average case performance [6]"
   ]
  },
  {
   "cell_type": "markdown",
   "metadata": {},
   "source": [
    "- desirable property - **internal** **memory** - ram  - **external** **memory** such as on disk - **in-place** - sorting algorithms require a **fixed** **amount** of **additional** **working** **space** - in addition to the size of the input data set [6]"
   ]
  },
  {
   "cell_type": "markdown",
   "metadata": {},
   "source": [
    "- **suitability** - sorting algorithm - suitable for the type of problem - **comparator** **based** sorting algorithms - **suitable** for **any** **class** of sorting **problem** - but **certain** **algorithms** are only applicable to **certain** **types** of **data** - to certain types of **input** instances - certain algorithms work well in **specific** **cases** - some algorithms work well on **small** sized data **sets** - data sets which are **almost** **sorted** - low number of inversions [6]"
   ]
  },
  {
   "cell_type": "markdown",
   "metadata": {},
   "source": [
    "- **inversions** - two items - elements - in a data set appear out of order -  an item - **element** - with a - i) **greater** **value*** than its neighbour - ii) **lower** **index** than the neighbour - are effectively **out** **of** **order** [6]"
   ]
  },
  {
   "cell_type": "markdown",
   "metadata": {},
   "source": [
    "- need to **consider** the specific - **strengths** - **weaknesses** - when **choosing** an **algorithm** - include **stability** - **runtime** **efficiency** - **in-place** sorting [6]"
   ]
  },
  {
   "cell_type": "markdown",
   "metadata": {},
   "source": [
    "***\n",
    "# END"
   ]
  }
 ],
 "metadata": {
  "kernelspec": {
   "display_name": "Python 3",
   "language": "python",
   "name": "python3"
  },
  "language_info": {
   "codemirror_mode": {
    "name": "ipython",
    "version": 3
   },
   "file_extension": ".py",
   "mimetype": "text/x-python",
   "name": "python",
   "nbconvert_exporter": "python",
   "pygments_lexer": "ipython3",
   "version": "3.7.6"
  }
 },
 "nbformat": 4,
 "nbformat_minor": 4
}
