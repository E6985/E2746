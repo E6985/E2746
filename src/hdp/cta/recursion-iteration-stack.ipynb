{
 "cells": [
  {
   "cell_type": "markdown",
   "metadata": {},
   "source": [
    "# recursion-iteration-stack\n",
    "> [TABLE OF CONTENTS](https://github.com/E6985/E2746/blob/master/README.md)\n",
    "***"
   ]
  },
  {
   "cell_type": "markdown",
   "metadata": {},
   "source": [
    "- **operate** like a **container** of **trays** in a **cafeteria** - two possibilities - **add** a tray on the **top** - **remove** a tray off the **top** [6]"
   ]
  },
  {
   "cell_type": "markdown",
   "metadata": {},
   "source": [
    " - program stack - **push** - pushes something **onto** the stack and always placed on the **top** of the **stack** [6]"
   ]
  },
  {
   "cell_type": "markdown",
   "metadata": {},
   "source": [
    "- program stack - **pop** - pops something **off** the **top** of the **stack** - **last** item **added** to the top will be popped off when pop is called [6]"
   ]
  },
  {
   "cell_type": "markdown",
   "metadata": {},
   "source": [
    " - **function** - method - each time **invoked** - **push** - **activation** **frame** - record - placed on **top** of the stack [6]"
   ]
  },
  {
   "cell_type": "markdown",
   "metadata": {},
   "source": [
    "- **function** - method - returns - **exits** - **activation** **frame** - record - taken **off** the stack [6]"
   ]
  },
  {
   "cell_type": "markdown",
   "metadata": {},
   "source": [
    "- stack - way to **visualise** which **activation** **frames** are **active** at any one time - the activation frame is just a **record** - of it **called** - **parameters** are passed - point in its **flow** of **control** it is in [6]"
   ]
  },
  {
   "cell_type": "markdown",
   "metadata": {},
   "source": [
    "***\n",
    "# END"
   ]
  }
 ],
 "metadata": {
  "kernelspec": {
   "display_name": "Python 3",
   "language": "python",
   "name": "python3"
  },
  "language_info": {
   "codemirror_mode": {
    "name": "ipython",
    "version": 3
   },
   "file_extension": ".py",
   "mimetype": "text/x-python",
   "name": "python",
   "nbconvert_exporter": "python",
   "pygments_lexer": "ipython3",
   "version": "3.7.6"
  }
 },
 "nbformat": 4,
 "nbformat_minor": 4
}
