{
 "cells": [
  {
   "cell_type": "markdown",
   "metadata": {},
   "source": [
    "# recursion-iteration-error-infinite\n",
    "> [TABLE OF CONTENTS](https://github.com/E6985/E2746/blob/master/README.md)\n",
    "***"
   ]
  },
  {
   "cell_type": "markdown",
   "metadata": {},
   "source": [
    "- **recursive** **method** does **not** have - **base** **case** - function - fInfinite - no return [6]"
   ]
  },
  {
   "cell_type": "code",
   "execution_count": 1,
   "metadata": {},
   "outputs": [],
   "source": [
    "nStackActivationFrame=\"Empty Stack\"\n",
    "nStackTime=0"
   ]
  },
  {
   "cell_type": "code",
   "execution_count": 2,
   "metadata": {},
   "outputs": [],
   "source": [
    "# define funciton - fInfinite\n",
    "def fInfinite(nParInteger):\n",
    "    fInfinite(nParInteger-1)"
   ]
  },
  {
   "cell_type": "code",
   "execution_count": 3,
   "metadata": {},
   "outputs": [],
   "source": [
    "nArgument=1"
   ]
  },
  {
   "cell_type": "code",
   "execution_count": 4,
   "metadata": {},
   "outputs": [],
   "source": [
    "nFunctionMethodSignature=__name__\n",
    "nUserDefinedFunction=fInfinite.__name__\n",
    "nParameter=nArgument"
   ]
  },
  {
   "cell_type": "markdown",
   "metadata": {},
   "source": [
    "<img src=\"img/04-1-04.png\" />"
   ]
  },
  {
   "cell_type": "code",
   "execution_count": 5,
   "metadata": {},
   "outputs": [
    {
     "data": {
      "text/plain": [
       "'<STACK> <activation frame(s)> Empty Stack <time/active> 0'"
      ]
     },
     "execution_count": 5,
     "metadata": {},
     "output_type": "execute_result"
    }
   ],
   "source": [
    "\"<STACK> <activation frame(s)> {} <time/active> {}\".format(\n",
    "    nStackActivationFrame,nStackTime)"
   ]
  },
  {
   "cell_type": "markdown",
   "metadata": {},
   "source": [
    "<img src=\"img/04-1-05.png\" />"
   ]
  },
  {
   "cell_type": "code",
   "execution_count": 6,
   "metadata": {},
   "outputs": [
    {
     "data": {
      "text/plain": [
       "'<FUNCTION/METHOD> <invoke> __main__'"
      ]
     },
     "execution_count": 6,
     "metadata": {},
     "output_type": "execute_result"
    }
   ],
   "source": [
    "\"<FUNCTION/METHOD> <invoke> {}\".format(\n",
    "    nFunctionMethodSignature)"
   ]
  },
  {
   "cell_type": "code",
   "execution_count": 7,
   "metadata": {},
   "outputs": [
    {
     "data": {
      "text/plain": [
       "'<STACK> <push> __main__ <activation frame(s)> __main__ <time/active> 1'"
      ]
     },
     "execution_count": 7,
     "metadata": {},
     "output_type": "execute_result"
    }
   ],
   "source": [
    "nStackTime+=1\n",
    "nStackActivationFrame=nFunctionMethodSignature\n",
    "\"<STACK> <push> {} <activation frame(s)> {} <time/active> {}\".format(\n",
    "    nFunctionMethodSignature,nStackActivationFrame,nStackTime)"
   ]
  },
  {
   "cell_type": "code",
   "execution_count": 8,
   "metadata": {},
   "outputs": [
    {
     "data": {
      "text/plain": [
       "'<FUNCTION/METHOD> <invoke> fInfinite'"
      ]
     },
     "execution_count": 8,
     "metadata": {},
     "output_type": "execute_result"
    }
   ],
   "source": [
    "\"<FUNCTION/METHOD> <invoke> {}\".format(\n",
    "    nUserDefinedFunction)"
   ]
  },
  {
   "cell_type": "code",
   "execution_count": 9,
   "metadata": {},
   "outputs": [
    {
     "data": {
      "text/plain": [
       "'<FUNCTION/METHOD> <signature> fInfinite(1)'"
      ]
     },
     "execution_count": 9,
     "metadata": {},
     "output_type": "execute_result"
    }
   ],
   "source": [
    "nFunctionMethodSignature=nUserDefinedFunction+\"(\"+str(nParameter)+\")\"\n",
    "\"<FUNCTION/METHOD> <signature> {}\".format(\n",
    "    nFunctionMethodSignature)"
   ]
  },
  {
   "cell_type": "code",
   "execution_count": 10,
   "metadata": {},
   "outputs": [
    {
     "data": {
      "text/plain": [
       "'<STACK> <push> fInfinite(1) <activation frame(s)> __main__, fInfinite(1) <time/active> 2'"
      ]
     },
     "execution_count": 10,
     "metadata": {},
     "output_type": "execute_result"
    }
   ],
   "source": [
    "nStackTime+=1\n",
    "nStackActivationFrame+=\", \"+nFunctionMethodSignature\n",
    "\"<STACK> <push> {} <activation frame(s)> {} <time/active> {}\".format(\n",
    "    nFunctionMethodSignature,nStackActivationFrame,nStackTime)"
   ]
  },
  {
   "cell_type": "code",
   "execution_count": 11,
   "metadata": {},
   "outputs": [
    {
     "data": {
      "text/plain": [
       "'<RECURSION> <start>'"
      ]
     },
     "execution_count": 11,
     "metadata": {},
     "output_type": "execute_result"
    }
   ],
   "source": [
    "\"<RECURSION> <start>\""
   ]
  },
  {
   "cell_type": "code",
   "execution_count": 12,
   "metadata": {},
   "outputs": [
    {
     "data": {
      "text/plain": [
       "'<CONDITIONAL> <RECURSION> <base case> None'"
      ]
     },
     "execution_count": 12,
     "metadata": {},
     "output_type": "execute_result"
    }
   ],
   "source": [
    "\"<CONDITIONAL> <RECURSION> <base case> {}\".format(None)"
   ]
  },
  {
   "cell_type": "code",
   "execution_count": 13,
   "metadata": {},
   "outputs": [
    {
     "data": {
      "text/plain": [
       "'<RECURSION> <FUNCTION/METHOD> <invoke> fInfinite'"
      ]
     },
     "execution_count": 13,
     "metadata": {},
     "output_type": "execute_result"
    }
   ],
   "source": [
    "nStackActivationFrames=__name__\n",
    "\"<RECURSION> <FUNCTION/METHOD> <invoke> {}\".format(\n",
    "    nUserDefinedFunction)"
   ]
  },
  {
   "cell_type": "code",
   "execution_count": 14,
   "metadata": {},
   "outputs": [
    {
     "data": {
      "text/plain": [
       "'<RECURSION> <FUNCTION/METHOD> <signature> fInfinite(0))'"
      ]
     },
     "execution_count": 14,
     "metadata": {},
     "output_type": "execute_result"
    }
   ],
   "source": [
    "nParameter-=1\n",
    "nFunctionMethodSignature=nUserDefinedFunction+\"(\"+str(nParameter)+\")\"\n",
    "\"<RECURSION> <FUNCTION/METHOD> <signature> {})\".format(\n",
    "    nFunctionMethodSignature)"
   ]
  },
  {
   "cell_type": "code",
   "execution_count": 15,
   "metadata": {},
   "outputs": [
    {
     "data": {
      "text/plain": [
       "'<STACK> <push> fInfinite(0) <activation frame(s)> __main__, fInfinite(1), fInfinite(0) <time/active> 3'"
      ]
     },
     "execution_count": 15,
     "metadata": {},
     "output_type": "execute_result"
    }
   ],
   "source": [
    "nStackTime+=1\n",
    "nStackActivationFrame+=\", \"+nFunctionMethodSignature\n",
    "\"<STACK> <push> {} <activation frame(s)> {} <time/active> {}\".format(\n",
    "    nFunctionMethodSignature,nStackActivationFrame,nStackTime)"
   ]
  },
  {
   "cell_type": "code",
   "execution_count": 16,
   "metadata": {},
   "outputs": [
    {
     "data": {
      "text/plain": [
       "'<CONDITIONAL> <RECURSION> <base case> None'"
      ]
     },
     "execution_count": 16,
     "metadata": {},
     "output_type": "execute_result"
    }
   ],
   "source": [
    "\"<CONDITIONAL> <RECURSION> <base case> {}\".format(None)"
   ]
  },
  {
   "cell_type": "code",
   "execution_count": 17,
   "metadata": {},
   "outputs": [
    {
     "data": {
      "text/plain": [
       "'<RECURSION> <FUNCTION/METHOD> <invoke> fInfinite'"
      ]
     },
     "execution_count": 17,
     "metadata": {},
     "output_type": "execute_result"
    }
   ],
   "source": [
    "nStackActivationFrames=__name__\n",
    "\"<RECURSION> <FUNCTION/METHOD> <invoke> {}\".format(\n",
    "    nUserDefinedFunction)"
   ]
  },
  {
   "cell_type": "code",
   "execution_count": 18,
   "metadata": {},
   "outputs": [
    {
     "data": {
      "text/plain": [
       "'<RECURSION> <FUNCTION/METHOD> <signature> fInfinite(-1))'"
      ]
     },
     "execution_count": 18,
     "metadata": {},
     "output_type": "execute_result"
    }
   ],
   "source": [
    "nParameter-=1\n",
    "nFunctionMethodSignature=nUserDefinedFunction+\"(\"+str(nParameter)+\")\"\n",
    "\"<RECURSION> <FUNCTION/METHOD> <signature> {})\".format(\n",
    "    nFunctionMethodSignature)"
   ]
  },
  {
   "cell_type": "code",
   "execution_count": 19,
   "metadata": {},
   "outputs": [
    {
     "data": {
      "text/plain": [
       "'<STACK> <push> fInfinite(-1) <activation frame(s)> __main__, fInfinite(1), fInfinite(0), fInfinite(-1) <time/active> 4'"
      ]
     },
     "execution_count": 19,
     "metadata": {},
     "output_type": "execute_result"
    }
   ],
   "source": [
    "nStackTime+=1\n",
    "nStackActivationFrame+=\", \"+nFunctionMethodSignature\n",
    "\"<STACK> <push> {} <activation frame(s)> {} <time/active> {}\".format(\n",
    "    nFunctionMethodSignature,nStackActivationFrame,nStackTime)"
   ]
  },
  {
   "cell_type": "code",
   "execution_count": 20,
   "metadata": {},
   "outputs": [
    {
     "data": {
      "text/plain": [
       "'<CONDITIONAL> <RECURSION> <base case> None'"
      ]
     },
     "execution_count": 20,
     "metadata": {},
     "output_type": "execute_result"
    }
   ],
   "source": [
    "\"<CONDITIONAL> <RECURSION> <base case> {}\".format(None)"
   ]
  },
  {
   "cell_type": "code",
   "execution_count": 21,
   "metadata": {},
   "outputs": [
    {
     "data": {
      "text/plain": [
       "3000"
      ]
     },
     "execution_count": 21,
     "metadata": {},
     "output_type": "execute_result"
    }
   ],
   "source": [
    "import sys\n",
    "sys.getrecursionlimit()"
   ]
  },
  {
   "cell_type": "code",
   "execution_count": 22,
   "metadata": {},
   "outputs": [
    {
     "data": {
      "text/plain": [
       "'<RecursionError: maximum recursion depth exceeded>'"
      ]
     },
     "execution_count": 22,
     "metadata": {},
     "output_type": "execute_result"
    }
   ],
   "source": [
    "\"<RecursionError: maximum recursion depth exceeded>\""
   ]
  },
  {
   "cell_type": "code",
   "execution_count": 23,
   "metadata": {},
   "outputs": [
    {
     "data": {
      "text/plain": [
       "'<RECURSION> <finish>'"
      ]
     },
     "execution_count": 23,
     "metadata": {},
     "output_type": "execute_result"
    }
   ],
   "source": [
    "\"<RECURSION> <finish>\""
   ]
  },
  {
   "cell_type": "markdown",
   "metadata": {},
   "source": [
    "- **different** to an **infinite** **loop** - while loop - False - never exits - **infinite** **recursion** is **similar** albeit more **informative** - more noticeable when it goes wrong than an infinite loop - the activation frames of recursive calls kept on the stack - function - signatures - fInfinite(1) - fInfinite(0) - fInfinite(-1) [6]"
   ]
  },
  {
   "cell_type": "markdown",
   "metadata": {},
   "source": [
    "- continue calling itself until - **python** - exceeds the **limit** for **recursion** **depth** - **3000** by default - java - get StackOverFlowError - eventually depending on memory available to the java virtual machine and by extension the memory available on the computer [6]"
   ]
  },
  {
   "cell_type": "code",
   "execution_count": 24,
   "metadata": {},
   "outputs": [
    {
     "ename": "RecursionError",
     "evalue": "maximum recursion depth exceeded",
     "output_type": "error",
     "traceback": [
      "\u001b[1;31m---------------------------------------------------------------------------\u001b[0m",
      "\u001b[1;31mRecursionError\u001b[0m                            Traceback (most recent call last)",
      "\u001b[1;32m<ipython-input-24-3b5ccfccd774>\u001b[0m in \u001b[0;36m<module>\u001b[1;34m\u001b[0m\n\u001b[0;32m      1\u001b[0m \u001b[1;31m# function fInfinite - call\u001b[0m\u001b[1;33m\u001b[0m\u001b[1;33m\u001b[0m\u001b[1;33m\u001b[0m\u001b[0m\n\u001b[1;32m----> 2\u001b[1;33m \u001b[0mfInfinite\u001b[0m\u001b[1;33m(\u001b[0m\u001b[0mnArgument\u001b[0m\u001b[1;33m)\u001b[0m\u001b[1;33m\u001b[0m\u001b[1;33m\u001b[0m\u001b[0m\n\u001b[0m",
      "\u001b[1;32m<ipython-input-2-da74824ade85>\u001b[0m in \u001b[0;36mfInfinite\u001b[1;34m(nParInteger)\u001b[0m\n\u001b[0;32m      1\u001b[0m \u001b[1;31m# define funciton - fInfinite\u001b[0m\u001b[1;33m\u001b[0m\u001b[1;33m\u001b[0m\u001b[1;33m\u001b[0m\u001b[0m\n\u001b[0;32m      2\u001b[0m \u001b[1;32mdef\u001b[0m \u001b[0mfInfinite\u001b[0m\u001b[1;33m(\u001b[0m\u001b[0mnParInteger\u001b[0m\u001b[1;33m)\u001b[0m\u001b[1;33m:\u001b[0m\u001b[1;33m\u001b[0m\u001b[1;33m\u001b[0m\u001b[0m\n\u001b[1;32m----> 3\u001b[1;33m     \u001b[0mfInfinite\u001b[0m\u001b[1;33m(\u001b[0m\u001b[0mnParInteger\u001b[0m\u001b[1;33m-\u001b[0m\u001b[1;36m1\u001b[0m\u001b[1;33m)\u001b[0m\u001b[1;33m\u001b[0m\u001b[1;33m\u001b[0m\u001b[0m\n\u001b[0m",
      "... last 1 frames repeated, from the frame below ...\n",
      "\u001b[1;32m<ipython-input-2-da74824ade85>\u001b[0m in \u001b[0;36mfInfinite\u001b[1;34m(nParInteger)\u001b[0m\n\u001b[0;32m      1\u001b[0m \u001b[1;31m# define funciton - fInfinite\u001b[0m\u001b[1;33m\u001b[0m\u001b[1;33m\u001b[0m\u001b[1;33m\u001b[0m\u001b[0m\n\u001b[0;32m      2\u001b[0m \u001b[1;32mdef\u001b[0m \u001b[0mfInfinite\u001b[0m\u001b[1;33m(\u001b[0m\u001b[0mnParInteger\u001b[0m\u001b[1;33m)\u001b[0m\u001b[1;33m:\u001b[0m\u001b[1;33m\u001b[0m\u001b[1;33m\u001b[0m\u001b[0m\n\u001b[1;32m----> 3\u001b[1;33m     \u001b[0mfInfinite\u001b[0m\u001b[1;33m(\u001b[0m\u001b[0mnParInteger\u001b[0m\u001b[1;33m-\u001b[0m\u001b[1;36m1\u001b[0m\u001b[1;33m)\u001b[0m\u001b[1;33m\u001b[0m\u001b[1;33m\u001b[0m\u001b[0m\n\u001b[0m",
      "\u001b[1;31mRecursionError\u001b[0m: maximum recursion depth exceeded"
     ]
    }
   ],
   "source": [
    "# function fInfinite - call\n",
    "fInfinite(nArgument)"
   ]
  },
  {
   "cell_type": "markdown",
   "metadata": {},
   "source": [
    "- **protect** **against** - infinite - recursion - need a - **base** **case** - a case or a set of input **parameters** for the recursive method which can be **solved** without **recursion** [6]"
   ]
  },
  {
   "cell_type": "markdown",
   "metadata": {},
   "source": [
    "***\n",
    "# END"
   ]
  }
 ],
 "metadata": {
  "kernelspec": {
   "display_name": "Python 3",
   "language": "python",
   "name": "python3"
  },
  "language_info": {
   "codemirror_mode": {
    "name": "ipython",
    "version": 3
   },
   "file_extension": ".py",
   "mimetype": "text/x-python",
   "name": "python",
   "nbconvert_exporter": "python",
   "pygments_lexer": "ipython3",
   "version": "3.7.6"
  }
 },
 "nbformat": 4,
 "nbformat_minor": 4
}
