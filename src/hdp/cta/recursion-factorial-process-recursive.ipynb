{
 "cells": [
  {
   "cell_type": "markdown",
   "metadata": {},
   "source": [
    "# recursion-factorial-process-recursive\n",
    "> [TABLE OF CONTENTS](https://github.com/E6985/E2746/blob/master/README.md)\n",
    "***"
   ]
  },
  {
   "cell_type": "markdown",
   "metadata": {},
   "source": [
    "- demonstrating - recursive implementation - albeit the - iterative implementation - preferred way to calculate a factorial in this instance [6]"
   ]
  },
  {
   "cell_type": "code",
   "execution_count": 1,
   "metadata": {},
   "outputs": [],
   "source": [
    "# define function - fFactorial\n",
    "def fFactorial(nParNonNegInt):\n",
    "    if nParNonNegInt<=1:\n",
    "        return 1\n",
    "    else:\n",
    "        return nParNonNegInt*fFactorial(nParNonNegInt-1)"
   ]
  },
  {
   "cell_type": "code",
   "execution_count": 2,
   "metadata": {},
   "outputs": [
    {
     "data": {
      "text/plain": [
       "120"
      ]
     },
     "execution_count": 2,
     "metadata": {},
     "output_type": "execute_result"
    }
   ],
   "source": [
    "# call function - fFactorial\n",
    "fFactorial(5) # main(0)"
   ]
  },
  {
   "cell_type": "markdown",
   "metadata": {},
   "source": [
    "- function signature - fFactorial - parameter - nParNonNegInt - five [6]\n",
    "\n",
    "```python\n",
    "def fFactorial(nParNonNegInt):\n",
    "```"
   ]
  },
  {
   "cell_type": "markdown",
   "metadata": {},
   "source": [
    "- conditional - if - nParNonNegInt - five - less than or equal to one - base case - False [6]\n",
    "\n",
    "```python\n",
    "    if nParNonNegInt<=1:\n",
    "        return 1\n",
    "```"
   ]
  },
  {
   "cell_type": "markdown",
   "metadata": {},
   "source": [
    "- conditional - if - block - else - solve for - nParNonNegInt - value as input - five [6]\n",
    "\n",
    "```python\n",
    "    else:\n",
    "```"
   ]
  },
  {
   "cell_type": "markdown",
   "metadata": {},
   "source": [
    "<img src=\"img/04-2-02.png\" />"
   ]
  },
  {
   "cell_type": "raw",
   "metadata": {},
   "source": [
    "⏏ recursive trace - 5 of 5 - function - fFactorial(5) - terminates - i) return value - 120 - ii) return control to the previous - higher - level of recursion - None - back to method - main"
   ]
  },
  {
   "cell_type": "markdown",
   "metadata": {},
   "source": [
    "```python\n",
    "        return nParNonNegInt*fFactorial(nParNonNegInt-1)\n",
    "```"
   ]
  },
  {
   "cell_type": "code",
   "execution_count": 3,
   "metadata": {},
   "outputs": [
    {
     "data": {
      "text/plain": [
       "120"
      ]
     },
     "execution_count": 3,
     "metadata": {},
     "output_type": "execute_result"
    }
   ],
   "source": [
    "5*24"
   ]
  },
  {
   "cell_type": "markdown",
   "metadata": {},
   "source": [
    "- call **recursive-1** - copy function - fFactorial - activated [6]\n",
    "\n",
    "```python\n",
    "        return nParNonNegInt*fFactorial(nParNonNegInt-1)\n",
    "```\n",
    "- passed parameter - nParNonNegInt minus one [6]\n",
    "\n",
    "```python\n",
    "                            fFactorial(nParNonNegInt-1)\n",
    "```"
   ]
  },
  {
   "cell_type": "markdown",
   "metadata": {},
   "source": [
    "- function signature - fFactorial - parameter - nParNonNegInt - four [6]\n",
    "\n",
    "```python\n",
    "def fFactorial(nParNonNegInt):\n",
    "```"
   ]
  },
  {
   "cell_type": "markdown",
   "metadata": {},
   "source": [
    "- conditional - if - nParNonNegInt - four - less than or equal to one - base case - False [6]\n",
    "\n",
    "```python\n",
    "    if nParNonNegInt<=1:\n",
    "        return 1\n",
    "```"
   ]
  },
  {
   "cell_type": "markdown",
   "metadata": {},
   "source": [
    "- conditional - if - block - else - solve for - nParNonNegInt - value as input - four [6]\n",
    "\n",
    "```python\n",
    "    else:\n",
    "```"
   ]
  },
  {
   "cell_type": "raw",
   "metadata": {},
   "source": [
    "⏏ recursive trace - 4 of 5 - function - fFactorial(4) - terminates - i) return value - 24 - ii) return control to the previous - higher - level of recursion - fFactorial(5)"
   ]
  },
  {
   "cell_type": "markdown",
   "metadata": {},
   "source": [
    "```python\n",
    "        return nParNonNegInt*fFactorial(nParNonNegInt-1)\n",
    "```"
   ]
  },
  {
   "cell_type": "code",
   "execution_count": 4,
   "metadata": {},
   "outputs": [
    {
     "data": {
      "text/plain": [
       "24"
      ]
     },
     "execution_count": 4,
     "metadata": {},
     "output_type": "execute_result"
    }
   ],
   "source": [
    "4*6"
   ]
  },
  {
   "cell_type": "markdown",
   "metadata": {},
   "source": [
    "- call **recursive-2** - copy function - fFactorial - activated [6]\n",
    "\n",
    "```python\n",
    "        return nParNonNegInt*fFactorial(nParNonNegInt-1)\n",
    "```\n",
    "- passed parameter - nParNonNegInt minus one [6]\n",
    "\n",
    "```python\n",
    "                            fFactorial(nParNonNegInt-1)\n",
    "```"
   ]
  },
  {
   "cell_type": "markdown",
   "metadata": {},
   "source": [
    "- function signature - fFactorial - parameter - nParNonNegInt - three [6]\n",
    "\n",
    "```python\n",
    "def fFactorial(nParNonNegInt):\n",
    "```"
   ]
  },
  {
   "cell_type": "markdown",
   "metadata": {},
   "source": [
    "- conditional - if - nParNonNegInt - three - less than or equal to one - base case - False [6]\n",
    "\n",
    "```python\n",
    "    if nParNonNegInt<=1:\n",
    "        return 1\n",
    "```"
   ]
  },
  {
   "cell_type": "markdown",
   "metadata": {},
   "source": [
    "- conditional - if - block - else - solve for - nParNonNegInt - value as input - three [6]\n",
    "\n",
    "```python\n",
    "    else:\n",
    "```"
   ]
  },
  {
   "cell_type": "raw",
   "metadata": {},
   "source": [
    "⏏ recursive trace - 3 of 5 - function - fFactorial(3) - terminates - i) return value - 6 - ii) return control to the previous - higher - level of recursion - fFactorial(4)"
   ]
  },
  {
   "cell_type": "markdown",
   "metadata": {},
   "source": [
    "```python\n",
    "        return nParNonNegInt*fFactorial(nParNonNegInt-1)\n",
    "```"
   ]
  },
  {
   "cell_type": "code",
   "execution_count": 5,
   "metadata": {},
   "outputs": [
    {
     "data": {
      "text/plain": [
       "6"
      ]
     },
     "execution_count": 5,
     "metadata": {},
     "output_type": "execute_result"
    }
   ],
   "source": [
    "3*2"
   ]
  },
  {
   "cell_type": "markdown",
   "metadata": {},
   "source": [
    "- call **recursive-3** - copy function - fFactorial - activated [6]\n",
    "\n",
    "```python\n",
    "        return nParNonNegInt*fFactorial(nParNonNegInt-1)\n",
    "```\n",
    "- passed parameter - nParNonNegInt minus one [6]\n",
    "\n",
    "```python\n",
    "                            fFactorial(nParNonNegInt-1)\n",
    "```"
   ]
  },
  {
   "cell_type": "markdown",
   "metadata": {},
   "source": [
    "- function signature - fFactorial - parameter - nParNonNegInt - two [6]\n",
    "\n",
    "```python\n",
    "def fFactorial(nParNonNegInt):\n",
    "```"
   ]
  },
  {
   "cell_type": "markdown",
   "metadata": {},
   "source": [
    "- conditional - if - nParNonNegInt - two - less than or equal to one - base case - False [6]\n",
    "\n",
    "```python\n",
    "    if nParNonNegInt<=1:\n",
    "        return 1\n",
    "```"
   ]
  },
  {
   "cell_type": "markdown",
   "metadata": {},
   "source": [
    "- conditional - if - block - else - solve for - nParNonNegInteger - value as input - two [6]\n",
    "\n",
    "```python\n",
    "    else:\n",
    "```"
   ]
  },
  {
   "cell_type": "raw",
   "metadata": {},
   "source": [
    "⏏ recursive trace - 2 of 5 - function - fFactorial(2) - terminates - i) return value - 2 - ii) return control to the previous - higher - level of recursion - fFactorial(3)"
   ]
  },
  {
   "cell_type": "markdown",
   "metadata": {},
   "source": [
    "```python\n",
    "        return nParNonNegInt*fFactorial(nParNonNegInt-1)\n",
    "```"
   ]
  },
  {
   "cell_type": "code",
   "execution_count": 6,
   "metadata": {},
   "outputs": [
    {
     "data": {
      "text/plain": [
       "2"
      ]
     },
     "execution_count": 6,
     "metadata": {},
     "output_type": "execute_result"
    }
   ],
   "source": [
    "2*1"
   ]
  },
  {
   "cell_type": "markdown",
   "metadata": {},
   "source": [
    "- call **recursive-4** - copy function - fFactorial - activated [6]\n",
    "\n",
    "```python\n",
    "        return nParNonNegInt*fFactorial(nParNonNegInt-1)\n",
    "```\n",
    "- passed parameter - nParNonNegInt minus one [6]\n",
    "\n",
    "```python\n",
    "                            fFactorial(nParNonNegInt-1)\n",
    "```"
   ]
  },
  {
   "cell_type": "markdown",
   "metadata": {},
   "source": [
    "- function signature - fFactorial - parameter - nParNonNegInt - one [6]\n",
    "\n",
    "```python\n",
    "def fFactorial(nParNonNegInt):\n",
    "```"
   ]
  },
  {
   "cell_type": "markdown",
   "metadata": {},
   "source": [
    "- conditional - if - nParNonNegInt - one - less than or equal to one - base case - True [6]\n",
    "\n",
    "```python\n",
    "    if nParNonNegInt<=1:\n",
    "        return 1\n",
    "```"
   ]
  },
  {
   "cell_type": "raw",
   "metadata": {},
   "source": [
    "⏏ recursive trace - 1 of 5 - function - fFactorial(1) - terminates - i) return value - 1 - ii) return control to the previous - higher - level of recursion - fFactorial(2)"
   ]
  },
  {
   "cell_type": "code",
   "execution_count": 7,
   "metadata": {},
   "outputs": [
    {
     "data": {
      "text/plain": [
       "1"
      ]
     },
     "execution_count": 7,
     "metadata": {},
     "output_type": "execute_result"
    }
   ],
   "source": [
    "1"
   ]
  },
  {
   "cell_type": "markdown",
   "metadata": {},
   "source": [
    "***\n",
    "# END"
   ]
  }
 ],
 "metadata": {
  "kernelspec": {
   "display_name": "Python 3",
   "language": "python",
   "name": "python3"
  },
  "language_info": {
   "codemirror_mode": {
    "name": "ipython",
    "version": 3
   },
   "file_extension": ".py",
   "mimetype": "text/x-python",
   "name": "python",
   "nbconvert_exporter": "python",
   "pygments_lexer": "ipython3",
   "version": "3.7.6"
  }
 },
 "nbformat": 4,
 "nbformat_minor": 4
}
