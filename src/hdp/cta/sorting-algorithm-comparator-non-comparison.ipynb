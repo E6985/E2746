{
 "cells": [
  {
   "cell_type": "markdown",
   "metadata": {},
   "source": [
    "# sorting-algorithm-comparator-non-comparison\n",
    "> [TABLE OF CONTENTS](https://github.com/E6985/E2746/blob/master/README.md)\n",
    "***"
   ]
  },
  {
   "cell_type": "markdown",
   "metadata": {},
   "source": [
    "- **comparison-based** - **sorting** **algorithms** - **most** **widely** **applicable**"
   ]
  },
  {
   "cell_type": "markdown",
   "metadata": {},
   "source": [
    " - **do** **not** **make** any **assumptions** about the **data** - **comparing** items - **elements** - in the collection - **array** - **against** **one** **another** [6]"
   ]
  },
  {
   "cell_type": "markdown",
   "metadata": {},
   "source": [
    "- **fundamental** **mathematical** **result** - **algorithm** **analysis** - **linearithmic** - $O(n.log.n)$ - **ideal** **worst** **case** **scenario** for - comparison-based - sorting algorithm - meaning that - $O(n.log.n)$ - would be the **smallest** **penalty** **could** **hope** for in the worst case - **heapsort** - **merge** **sort** [6]"
   ]
  },
  {
   "cell_type": "markdown",
   "metadata": {},
   "source": [
    "- **quicksort** - **quadratic** - $O(n^{2})$ - **worst** **case** - **heapsort** - **merge** **sort** - **better** - if **concerned** about the **worst** **case** **performance** **and** **need** to use a **comparison-based** - **sorting** **algorithm** [6]"
   ]
  },
  {
   "cell_type": "markdown",
   "metadata": {},
   "source": [
    "- **non-comparison-based** - **sorting** **algorithms** - **bucket** sort - **counting** sort - **radix** **sort** - have **better** **worst** **case** **times** [6]"
   ]
  },
  {
   "cell_type": "markdown",
   "metadata": {},
   "source": [
    "- can actually **achieve** a **kind** **of** **linear** - $O(n)$ -  **time** - **complexity** - only **if** **some** **assumptions** can be **made** **about** the **data** and **do** **not** **need** to **compare** items - **elements** - **against** **one** **another** [6]"
   ]
  },
  {
   "cell_type": "markdown",
   "metadata": {},
   "source": [
    "- **know** perhaps that the **data** will fall into a **certain** **range** or has **some** **kind** of a **distribution** [6]"
   ]
  },
  {
   "cell_type": "markdown",
   "metadata": {},
   "source": [
    "- **linear** - $O(n)$ - **clearly** the **minimum** **sorting** **time** **possible** - since must **examine** **every** item - **element** - at **least** **once** - have some - linear - time - because to have some input instance - size - $n$ -  just even checking that all the items - elements - are in the correct place - need to look at every item - element - or examine every item - element - at least once - $O(n)$ - still going to be the upper bound possible performance - not get any better than linear time [6]"
   ]
  },
  {
   "cell_type": "markdown",
   "metadata": {},
   "source": [
    "| is proportional to | complexity:                |\n",
    "| ------------------ | -------------------------- |\n",
    "| T(n) ~ $log.n$     | logarithmic                |\n",
    "| T(n) ~ $n$         | linear                     |\n",
    "| T(n) ~ $n.log.n$   | linearithmic               |\n",
    "| T(n) ~ $n^2$       | quadratic (polynomial)     |\n",
    "| T(n) ~ $n^3$       | cubic (polynomial)         |\n",
    "| T(n) ~ $n^k$       | polynomial (k any integer) |\n",
    "| T(n) ~ $2^n$       | exponential                |\n",
    "| T(n) ~ $k^n; k>1$  | exponential                |"
   ]
  },
  {
   "cell_type": "markdown",
   "metadata": {},
   "source": [
    "<img src=\"img/03-07-01.png\" />"
   ]
  },
  {
   "cell_type": "markdown",
   "metadata": {},
   "source": [
    "***\n",
    "# END"
   ]
  }
 ],
 "metadata": {
  "kernelspec": {
   "display_name": "Python 3",
   "language": "python",
   "name": "python3"
  },
  "language_info": {
   "codemirror_mode": {
    "name": "ipython",
    "version": 3
   },
   "file_extension": ".py",
   "mimetype": "text/x-python",
   "name": "python",
   "nbconvert_exporter": "python",
   "pygments_lexer": "ipython3",
   "version": "3.7.6"
  }
 },
 "nbformat": 4,
 "nbformat_minor": 4
}
