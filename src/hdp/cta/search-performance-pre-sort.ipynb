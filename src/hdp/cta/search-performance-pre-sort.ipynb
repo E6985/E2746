{
 "cells": [
  {
   "cell_type": "markdown",
   "metadata": {},
   "source": [
    "# search-performance-pre-sort\n",
    "> [TABLE OF CONTENTS](https://github.com/E6985/E2746/blob/master/README.md)\n",
    "***"
   ]
  },
  {
   "cell_type": "markdown",
   "metadata": {},
   "source": [
    "- **several** **types** - **search** **operation** - **trivial** - **assume** that a collection - **array** - of items - **elements** - **sorted** [6]"
   ]
  },
  {
   "cell_type": "markdown",
   "metadata": {},
   "source": [
    "- **economic** **data** - **salary** **paid** to all **employees** of a **company** - got a data set - list of all the salaries that are paid to each employee in a company - **can** **assume** **before** **time** that the **data** is **sorted** in **some** **order** - **ascending** - **descending** [6]"
   ]
  },
  {
   "cell_type": "markdown",
   "metadata": {},
   "source": [
    "- **have** **some** **definition** of **sorted** **according** to - **comparator** **function** [6]"
   ]
  },
  {
   "cell_type": "markdown",
   "metadata": {},
   "source": [
    "- **trivial** - **find** values - **minimum** - first position - index - **maximum** - final position - index - **median** - middle position - index - **quartile** - three quarters through the data set [6]"
   ]
  },
  {
   "cell_type": "markdown",
   "metadata": {},
   "source": [
    "- **salary** **points** - **easily** **retrieved** from the data set in - **constant** - $O(1)$ - **running** **time** [6]"
   ]
  },
  {
   "cell_type": "markdown",
   "metadata": {},
   "source": [
    "- **if** **data** - **sorted** - **before** **applying** - **search** - **operation** - very **powerful** - presuming to know the data is sorted beforehand and know the **size** of the **data** **set** - are quite reasonable assumptions to make - can apply more advanced search algorithms when the data is pre-sorted [6]"
   ]
  },
  {
   "cell_type": "markdown",
   "metadata": {},
   "source": [
    "***\n",
    "# END"
   ]
  }
 ],
 "metadata": {
  "kernelspec": {
   "display_name": "Python 3",
   "language": "python",
   "name": "python3"
  },
  "language_info": {
   "codemirror_mode": {
    "name": "ipython",
    "version": 3
   },
   "file_extension": ".py",
   "mimetype": "text/x-python",
   "name": "python",
   "nbconvert_exporter": "python",
   "pygments_lexer": "ipython3",
   "version": "3.7.6"
  }
 },
 "nbformat": 4,
 "nbformat_minor": 4
}
