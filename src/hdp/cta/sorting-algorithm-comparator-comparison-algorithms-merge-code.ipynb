{
 "cells": [
  {
   "cell_type": "markdown",
   "metadata": {},
   "source": [
    "# sorting-algorithm-comparator-comparison-algorithms-merge-code\n",
    "> [TABLE OF CONTENTS](https://github.com/E6985/E2746/blob/master/README.md)\n",
    "***"
   ]
  },
  {
   "cell_type": "markdown",
   "metadata": {},
   "source": [
    "[merge sort](https://realpython.com/sorting-algorithms-python/#the-merge-sort-algorithm-in-python)"
   ]
  },
  {
   "cell_type": "code",
   "execution_count": 1,
   "metadata": {},
   "outputs": [],
   "source": [
    "def merge(left, right):\n",
    "    # If the first array is empty, then nothing needs\n",
    "    # to be merged, and you can return the second array as the result\n",
    "    if len(left) == 0:\n",
    "        return right\n",
    "\n",
    "    # If the second array is empty, then nothing needs\n",
    "    # to be merged, and you can return the first array as the result\n",
    "    if len(right) == 0:\n",
    "        return left\n",
    "\n",
    "    result = []\n",
    "    index_left = index_right = 0\n",
    "\n",
    "    # Now go through both arrays until all the elements\n",
    "    # make it into the resultant array\n",
    "    while len(result) < len(left) + len(right):\n",
    "        # The elements need to be sorted to add them to the\n",
    "        # resultant array, so you need to decide whether to get\n",
    "        # the next element from the first or the second array\n",
    "        if left[index_left] <= right[index_right]:\n",
    "            result.append(left[index_left])\n",
    "            index_left += 1\n",
    "        else:\n",
    "            result.append(right[index_right])\n",
    "            index_right += 1\n",
    "\n",
    "        # If you reach the end of either array, then you can\n",
    "        # add the remaining elements from the other array to\n",
    "        # the result and break the loop\n",
    "        if index_right == len(right):\n",
    "            result += left[index_left:]\n",
    "            break\n",
    "\n",
    "        if index_left == len(left):\n",
    "            result += right[index_right:]\n",
    "            break\n",
    "\n",
    "    return result"
   ]
  },
  {
   "cell_type": "code",
   "execution_count": 2,
   "metadata": {},
   "outputs": [],
   "source": [
    "def merge_sort(array):\n",
    "    # If the input array contains fewer than two elements,\n",
    "    # then return it as the result of the function\n",
    "    if len(array) < 2:\n",
    "        return array\n",
    "\n",
    "    midpoint = len(array) // 2\n",
    "\n",
    "    # Sort the array by recursively splitting the input\n",
    "    # into two equal halves, sorting each half and merging them\n",
    "    # together into the final result\n",
    "    return merge(\n",
    "        left=merge_sort(array[:midpoint]),\n",
    "        right=merge_sort(array[midpoint:]))"
   ]
  },
  {
   "cell_type": "code",
   "execution_count": 3,
   "metadata": {},
   "outputs": [
    {
     "data": {
      "text/plain": [
       "[1, 2, 3, 4, 5, 7, 8]"
      ]
     },
     "execution_count": 3,
     "metadata": {},
     "output_type": "execute_result"
    }
   ],
   "source": [
    "merge_sort([7,5,2,3,4,1,8])"
   ]
  },
  {
   "cell_type": "markdown",
   "metadata": {},
   "source": [
    "***\n",
    "# END"
   ]
  }
 ],
 "metadata": {
  "kernelspec": {
   "display_name": "Python 3",
   "language": "python",
   "name": "python3"
  },
  "language_info": {
   "codemirror_mode": {
    "name": "ipython",
    "version": 3
   },
   "file_extension": ".py",
   "mimetype": "text/x-python",
   "name": "python",
   "nbconvert_exporter": "python",
   "pygments_lexer": "ipython3",
   "version": "3.7.6"
  }
 },
 "nbformat": 4,
 "nbformat_minor": 4
}
