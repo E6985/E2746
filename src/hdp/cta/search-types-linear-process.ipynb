{
 "cells": [
  {
   "cell_type": "markdown",
   "metadata": {},
   "source": [
    "# search-types-linear-process\n",
    "> [TABLE OF CONTENTS](https://github.com/E6985/E2746/blob/master/README.md)\n",
    "***"
   ]
  },
  {
   "cell_type": "markdown",
   "metadata": {},
   "source": [
    "- searching a collection - array - **unsorted** **input** instance - collection - array - of integers - **some** **out** **of** **order** items - **elements** - with a **number** of **inversions** - every time two items - elements - are out of order with respect to each other [6]"
   ]
  },
  {
   "cell_type": "markdown",
   "metadata": {},
   "source": [
    "<img src=\"img/07-10.png\" />"
   ]
  },
  {
   "cell_type": "markdown",
   "metadata": {},
   "source": [
    "- **not** **assuming** **anything** about the **properties** of the **data** in the collection - **array** [6]"
   ]
  },
  {
   "cell_type": "markdown",
   "metadata": {},
   "source": [
    "- **linear** search - **search** the collection - **array** - for **target** **value** - seven [6]\n",
    "\n",
    "$[2,1,5,4,8,7,9]$"
   ]
  },
  {
   "cell_type": "markdown",
   "metadata": {},
   "source": [
    "- **inspect** the **first** item - **element** - in the collection - **array** - **not** the **target** **value** - seven [6]\n",
    "\n",
    "$step$ $1$ $a[0]$ $=$ $2$ ...$!=7$"
   ]
  },
  {
   "cell_type": "markdown",
   "metadata": {},
   "source": [
    "- **continue** **iteration** - **iterate** **up** the positions - **indices** - **through** the collection - **array** [6]\n",
    "\n",
    "$step$ $2$ $a[1]$ $=$ $1$ ...$!=7$\n",
    "\n",
    "$step$ $3$ $a[2]$ $=$ $5$ ...$!=7$\n",
    "\n",
    "$step$ $4$ $a[3]$ $=$ $4$ ...$!=7$\n",
    "\n",
    "$step$ $5$ $a[4]$ $=$ $8$ ...$!=7$"
   ]
  },
  {
   "cell_type": "markdown",
   "metadata": {},
   "source": [
    "- **target** **value** - seven - **found** - linear search - algorithm - **returns** the position - **index** - **value** - five [6]\n",
    "\n",
    "\n",
    "$a[5]$ $=$ $7$"
   ]
  },
  {
   "cell_type": "markdown",
   "metadata": {},
   "source": [
    "- **linear** **search** - **search** the collection - **array** - for **target** **value** - three - does **not** **appear** in the collection - array - iterated through the full collection - array - not found the target value [6]\n",
    "\n",
    "$step$ $1$ $a[0]$ $=$ $2$ ...$!=3$\n",
    "\n",
    "$step$ $2$ $a[1]$ $=$ $1$ ...$!=3$\n",
    "\n",
    "$step$ $3$ $a[2]$ $=$ $5$ ...$!=3$\n",
    "\n",
    "$step$ $4$ $a[3]$ $=$ $4$ ...$!=3$\n",
    "\n",
    "$step$ $5$ $a[4]$ $=$ $8$ ...$!=3$\n",
    "\n",
    "$step$ $6$ $a[5]$ $=$ $7$ ...$!=3$\n",
    "\n",
    "$step$ $7$ $a[6]$ $=$ $9$ ...$!=3$"
   ]
  },
  {
   "cell_type": "markdown",
   "metadata": {},
   "source": [
    "- **consider** - **number** of **operations** which have occurred at this stage - **neglecting** **constants** - there have been seven probes into the collection - array - seven steps thus far - looked at seven different values in collection - array - **checking** **values** were **equal** to the **target** **value** - three - not equal to the target value - **input** **size** - seven - **number** of **steps** - seven - **linear** - **worst** **case** - **time** [6]"
   ]
  },
  {
   "cell_type": "markdown",
   "metadata": {},
   "source": [
    "- **last** position - **index** - six - equal to nine - **not** the **target** **value** - **for** **loop** - iterating through the collection - array - **terminates** - **without** **returning** - position - **index** - **value** - for the target item - element - not exist in the collection - array [6]\n",
    "\n",
    "$step$ $7$ $a[6]$ $=$ $9$ ...$!=3$"
   ]
  },
  {
   "cell_type": "markdown",
   "metadata": {},
   "source": [
    "- next step - **iteration** - **complete** - **not** **found** the **target** **value** - **return** - **value** **minus** **one** - will be a **flag** that **indicates** the **target** **value** does **not** **exist** in the collection - array [6]"
   ]
  },
  {
   "cell_type": "markdown",
   "metadata": {},
   "source": [
    "***\n",
    "# END"
   ]
  }
 ],
 "metadata": {
  "kernelspec": {
   "display_name": "Python 3",
   "language": "python",
   "name": "python3"
  },
  "language_info": {
   "codemirror_mode": {
    "name": "ipython",
    "version": 3
   },
   "file_extension": ".py",
   "mimetype": "text/x-python",
   "name": "python",
   "nbconvert_exporter": "python",
   "pygments_lexer": "ipython3",
   "version": "3.7.6"
  }
 },
 "nbformat": 4,
 "nbformat_minor": 4
}
