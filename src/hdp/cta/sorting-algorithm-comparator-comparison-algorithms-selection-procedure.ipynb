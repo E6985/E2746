{
 "cells": [
  {
   "cell_type": "markdown",
   "metadata": {},
   "source": [
    "# sorting-algorithm-comparator-comparison-algorithms-selection-procedure\n",
    "> [TABLE OF CONTENTS](https://github.com/E6985/E2746/blob/master/README.md)\n",
    "***"
   ]
  },
  {
   "cell_type": "markdown",
   "metadata": {},
   "source": [
    "- **search** **every** item - **element** - from position - **index** **zero** - $0$ - **through** to position - **index** **minus** **one** - $n-1$ [6]"
   ]
  },
  {
   "cell_type": "markdown",
   "metadata": {},
   "source": [
    "- then **select** the **smallest** item - **element** - **found** or the smallest valued item - element - found - **swap** that item - element - with the item - **element** - in position - index **zero** - $0$ [6]"
   ]
  },
  {
   "cell_type": "markdown",
   "metadata": {},
   "source": [
    "- **search** **every** item - **element** - from position - **index** **one** - $1$ - **through** to position - **index** **minus** **one** - $n-1$ [6]"
   ]
  },
  {
   "cell_type": "markdown",
   "metadata": {},
   "source": [
    "- then **select** the **smallest** item - **element** - **found** or the smallest valued item - element - found - **swap** that item - element - with the item - **element** - in position - index **one** - $1$ [6]"
   ]
  },
  {
   "cell_type": "markdown",
   "metadata": {},
   "source": [
    "- **search** **every** item - **element** - from position - **index** **two** - $2$ - **through** to position - **index** **minus** **two** - $n-1$ [6]"
   ]
  },
  {
   "cell_type": "markdown",
   "metadata": {},
   "source": [
    "- then **select** the **smallest** item - **element** - **found** or the smallest valued item - element - found - **swap** that item - element - with the item - **element** - in position - index **two** - $1$"
   ]
  },
  {
   "cell_type": "markdown",
   "metadata": {},
   "source": [
    "- **search** **every** item - **element** - from position - **index** **three** - $2$ - **through** to position - **index** **minus** **two** - $n-1$ [6]"
   ]
  },
  {
   "cell_type": "markdown",
   "metadata": {},
   "source": [
    "- then **select** the **smallest** item - **element** - **found** or the smallest valued item - element - found - **swap** that item - element - with the item - **element** - in position - index **three** - $1$ [6]"
   ]
  },
  {
   "cell_type": "markdown",
   "metadata": {},
   "source": [
    "- **continue** on with that process **until** there is **nothing** **left** to **search** - **until** there is a **sorted** **subarray** on the **left** hand side - **grown** to be the **size** of the **full** collection - **array** [6]"
   ]
  },
  {
   "cell_type": "markdown",
   "metadata": {},
   "source": [
    "***\n",
    "# END"
   ]
  }
 ],
 "metadata": {
  "kernelspec": {
   "display_name": "Python 3",
   "language": "python",
   "name": "python3"
  },
  "language_info": {
   "codemirror_mode": {
    "name": "ipython",
    "version": 3
   },
   "file_extension": ".py",
   "mimetype": "text/x-python",
   "name": "python",
   "nbconvert_exporter": "python",
   "pygments_lexer": "ipython3",
   "version": "3.7.6"
  }
 },
 "nbformat": 4,
 "nbformat_minor": 4
}
