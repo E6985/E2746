{
 "cells": [
  {
   "cell_type": "markdown",
   "metadata": {},
   "source": [
    "# sorting-algorithm-comparator-comparison-key\n",
    "> [TABLE OF CONTENTS](https://github.com/E6985/E2746/blob/master/README.md)\n",
    "***"
   ]
  },
  {
   "cell_type": "markdown",
   "metadata": {},
   "source": [
    "- **sort** **key** - information used to **sort** the **data** **in** **order** - make comparisons when sorting - **satellite** data is **extra** **data** **related** to **specific** - sort **key** - therefore should travel with the sort key when the item - element - is moved to a new position - index - in the collection - array [6]"
   ]
  },
  {
   "cell_type": "markdown",
   "metadata": {},
   "source": [
    "- **library** - need to organise the books on a bookshelf by author name - the **authors** **name** - **sort** **key** - **book** **itself** - actual **contents** of the book is the **satellite** **data** - organising books on a bookshelf - do not want to just have labels which represent the name of each book - need to move the satellite data into the right places - actual book - want to organise all the entire book - not just the label in the correct order so that it can retrieved it easily later [6]"
   ]
  },
  {
   "cell_type": "markdown",
   "metadata": {},
   "source": [
    "- **search** **engine** - **sort** **key** - be the relevance - maybe a relevance **score** which is just some number which represents how relevant a specific web page is to the query string - sort key - is the relevance score of the webpage to the query string - **satellite** **data** would be **everything** that the **search** **engine** has **stored** about that **specific** **webpage** - uniform resource locator of that web page along with whatever other data is stored by the search engine - could also include a summary of the web page [6]"
   ]
  },
  {
   "cell_type": "markdown",
   "metadata": {},
   "source": [
    "***\n",
    "# END"
   ]
  }
 ],
 "metadata": {
  "kernelspec": {
   "display_name": "Python 3",
   "language": "python",
   "name": "python3"
  },
  "language_info": {
   "codemirror_mode": {
    "name": "ipython",
    "version": 3
   },
   "file_extension": ".py",
   "mimetype": "text/x-python",
   "name": "python",
   "nbconvert_exporter": "python",
   "pygments_lexer": "ipython3",
   "version": "3.7.6"
  }
 },
 "nbformat": 4,
 "nbformat_minor": 4
}
