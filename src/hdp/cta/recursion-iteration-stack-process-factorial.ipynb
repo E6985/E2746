{
 "cells": [
  {
   "cell_type": "markdown",
   "metadata": {},
   "source": [
    "# recursion-iteration-stack-process-factorial\n",
    "> [TABLE OF CONTENTS](https://github.com/E6985/E2746/blob/master/README.md)\n",
    "***"
   ]
  },
  {
   "cell_type": "markdown",
   "metadata": {},
   "source": [
    "- mathematics - factorial - of a **non-negative** integer **input** - $n$ - may be **computed** as the **product** of **all** **positive** integers which are **less** than or **equal** to - $n$ - denoted by - $n!$ - in general is computed by multiplying the number itself - $n$ - with the next integer - the number itself minus one - until the value is one [6]"
   ]
  },
  {
   "cell_type": "markdown",
   "metadata": {},
   "source": [
    "$n! = n\\ x \\ (n-1)\\ x\\ (n-2)\\ x\\ (n-3)\\ x\\ ...\\ x\\ 1$"
   ]
  },
  {
   "cell_type": "markdown",
   "metadata": {},
   "source": [
    "- essentially an algorithm which may be implemented and used to calculate the **factorial** for input - $n$ - greater than zero - **two** **base** **cases** - i) one factorial - $1!$ - equals one - ii) zero factorial - $0!$ - defined as one - following the **empty** **product** **convention** in mathematics - both inputs - $n$ equals **one** - $n$ equals **zero** - serve as the **base** **case** in the recursive implementation - factorial operations are commonly used in many areas of mathematics - combinatorics - algebra - computation of functions such as sin and cos - the binonmial theorem - one of the basic occurrences of a factorial is that there are - $n!$ - ways to arrange input - $n$ - distinct objects into a sequence - factorial calculation - $5!$ [6]"
   ]
  },
  {
   "cell_type": "markdown",
   "metadata": {},
   "source": [
    "$5! = 5\\ x \\ 4\\ x\\ 3\\ x\\ 2\\ x\\ 1\\ =\\ 120$"
   ]
  },
  {
   "cell_type": "markdown",
   "metadata": {},
   "source": [
    "***\n",
    "# END"
   ]
  }
 ],
 "metadata": {
  "kernelspec": {
   "display_name": "Python 3",
   "language": "python",
   "name": "python3"
  },
  "language_info": {
   "codemirror_mode": {
    "name": "ipython",
    "version": 3
   },
   "file_extension": ".py",
   "mimetype": "text/x-python",
   "name": "python",
   "nbconvert_exporter": "python",
   "pygments_lexer": "ipython3",
   "version": "3.7.6"
  }
 },
 "nbformat": 4,
 "nbformat_minor": 4
}
