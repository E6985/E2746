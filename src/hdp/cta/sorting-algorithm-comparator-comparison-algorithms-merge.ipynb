{
 "cells": [
  {
   "cell_type": "markdown",
   "metadata": {},
   "source": [
    "# sorting-algorithm-comparator-comparison-algorithms-merge\n",
    "> [TABLE OF CONTENTS](https://github.com/E6985/E2746/blob/master/README.md)\n",
    "***"
   ]
  },
  {
   "cell_type": "markdown",
   "metadata": {},
   "source": [
    "- **efficient** - **comparison-based** - sorting algorithm - proposed by John **von** **Neumann** - 1945 - compared to - bubble sort - selection sort - insertion sort - all iterative - for loops - while loops - **merge** **sort** - **recursive** **algorithm** - adheres to the **divide** and **conquer** paradigm - divide and conquer **approach** [6]"
   ]
  },
  {
   "cell_type": "markdown",
   "metadata": {},
   "source": [
    "- **divide** and **conquer** **approach** - got a large problem - **divide** **step** - divide the big problem down into **smaller** **subproblems** - break the problem down into smaller subinstances of the **same** **problem** **type** [6]"
   ]
  },
  {
   "cell_type": "markdown",
   "metadata": {},
   "source": [
    "- **divide** and **conquer** **approach** - **conquer** **step** - **keep** trying to **break** those **down** **until** get down to some **base** **case** that can be solved easily - solve those small problems - **propagate** the **solution** back up the **recursion** **trace** [6]"
   ]
  },
  {
   "cell_type": "markdown",
   "metadata": {},
   "source": [
    "- **best** case - **average** case - **worst** **case** - **performance** - **runtime** - **linearithmic** - $n.log.n$ - run in - $O(n.log.n)$ - time [6]"
   ]
  },
  {
   "cell_type": "markdown",
   "metadata": {},
   "source": [
    "- **worst** **case** - **running** **time** of $n.log.n$ - **comparing** - **bubble** sort - **selection** sort - **insertion** sort - **better** **asymptotic** **behaviour** [6]"
   ]
  },
  {
   "cell_type": "markdown",
   "metadata": {},
   "source": [
    "- **good** **choice** - **need** a **predictable** **runtime** **performance** - if **not** **concerned** about **getting** the **absolute** **best** performance in **every** **instance** - good all round algorithm [6]"
   ]
  },
  {
   "cell_type": "markdown",
   "metadata": {},
   "source": [
    "<img src=\"img/06-03-01.png\" />"
   ]
  },
  {
   "cell_type": "markdown",
   "metadata": {},
   "source": [
    "| is proportional to | complexity:                |\n",
    "| ------------------ | -------------------------- |\n",
    "| T(n) ~ $log.n$     | logarithmic                |\n",
    "| T(n) ~ $n$         | linear                     |\n",
    "| T(n) ~ $n.log.n$   | linearithmic               |\n",
    "| T(n) ~ $n^2$       | quadratic (polynomial)     |\n",
    "| T(n) ~ $n^3$       | cubic (polynomial)         |\n",
    "| T(n) ~ $n^k$       | polynomial (k any integer  |\n",
    "| T(n) ~ $2^n$       | exponential                |\n",
    "| T(n) ~ $k^n; k>1$  | exponential                |"
   ]
  },
  {
   "cell_type": "markdown",
   "metadata": {},
   "source": [
    "<img src=\"img/03-07-01.png\" />"
   ]
  },
  {
   "cell_type": "markdown",
   "metadata": {},
   "source": [
    "- **stable** sorting algorithm - **preserve** **relative** **ordering** of elements which are **already** **sorted** or elements that have the **same** **value** according to a - **comparator** **function** - actually appear in the same order in the sorted output as in the unsorted input [6]"
   ]
  },
  {
   "cell_type": "markdown",
   "metadata": {},
   "source": [
    "- **versions** - **merge** sort - particularly **good** for **sorting** **data** with ***slow** **access** **times** to deal with - **external** **sorting** - **data** that is **too** **large** to **hold** in internal memory - **ram** - or linked lists - therefore have to **sort** data that is out on **disk** or some kind of external storage - merge sort -  particularly **good** algorithm **for** that **case** [6]"
   ]
  },
  {
   "cell_type": "markdown",
   "metadata": {},
   "source": [
    "***\n",
    "# END"
   ]
  }
 ],
 "metadata": {
  "kernelspec": {
   "display_name": "Python 3",
   "language": "python",
   "name": "python3"
  },
  "language_info": {
   "codemirror_mode": {
    "name": "ipython",
    "version": 3
   },
   "file_extension": ".py",
   "mimetype": "text/x-python",
   "name": "python",
   "nbconvert_exporter": "python",
   "pygments_lexer": "ipython3",
   "version": "3.7.6"
  }
 },
 "nbformat": 4,
 "nbformat_minor": 4
}
