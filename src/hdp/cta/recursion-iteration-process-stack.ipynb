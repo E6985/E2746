{
 "cells": [
  {
   "cell_type": "markdown",
   "metadata": {},
   "source": [
    "# recursion-iteration-process-stack\n",
    "> [TABLE OF CONTENTS](https://github.com/E6985/E2746/blob/master/README.md)\n",
    "***"
   ]
  },
  {
   "cell_type": "markdown",
   "metadata": {},
   "source": [
    "- program stack - basically operates like a container of trays in a cafeteria - two possibilities - add a tray - remove a tray off the top - two operations with the - program stack - push - pushes something onto the stack and always placed on the top of the stack - pop - pops something of the top of the stack - ie -  the last item added to the top will be popped off when pop is called - when the method returns or exits - the methods activation frame is taken off the stack - each time a method is invoked - push - the methods activation frame - record - is placed on top of the stack - the stack is a way to visualise which methods activation frames are active at any one time - the activation frame for a method is just a record of it - being called - what parameters are passed in - at what point in its flow of control it is in [6]"
   ]
  },
  {
   "cell_type": "markdown",
   "metadata": {},
   "source": [
    "```python\n",
    "print(*objects, sep=' ', end='\\n', file=sys.stdout, flush=False)\n",
    "```\n",
    "> [Python Documentation](https://web.archive.org/web/20200514154635/https://docs.python.org/3/library/functions.html#print)"
   ]
  },
  {
   "cell_type": "code",
   "execution_count": 1,
   "metadata": {},
   "outputs": [],
   "source": [
    "# define function - fCount\n",
    "def fCount(nParIntegerIndex):\n",
    "    print(nParIntegerIndex)\n",
    "    if nParIntegerIndex<2:\n",
    "        fCount(nParIntegerIndex+1)"
   ]
  },
  {
   "cell_type": "code",
   "execution_count": 2,
   "metadata": {},
   "outputs": [
    {
     "name": "stdout",
     "output_type": "stream",
     "text": [
      "0\n",
      "1\n",
      "2\n"
     ]
    }
   ],
   "source": [
    "# call function - fCount\n",
    "fCount(0)"
   ]
  },
  {
   "cell_type": "markdown",
   "metadata": {},
   "source": [
    "- step 0 - time 0 - before the call to the main method - empty stack - program has not started running - zero activation frames on the stack [6]"
   ]
  },
  {
   "cell_type": "markdown",
   "metadata": {},
   "source": [
    "<img src=\"img/04-1-04.png\" />"
   ]
  },
  {
   "cell_type": "markdown",
   "metadata": {},
   "source": [
    "- step 1 - time 1 - call method - main - activation frame for the method - main - pushed onto the stack - one activation frame on the stack [6]"
   ]
  },
  {
   "cell_type": "markdown",
   "metadata": {},
   "source": [
    "<img src=\"img/04-1-05.png\" />"
   ]
  },
  {
   "cell_type": "markdown",
   "metadata": {},
   "source": [
    "- step 2 - time 2 - main - calls function - fCount(0) - passing parameter - nParIntegerIndex - 0 - activate frame - record - for the method/functions - main - push fCount(0) - pushed onto the stack - inside the function - fCount(0) - print value of parameter - nParIntegerIndex - 0 - if less than two - True - the function - fCount - will call itself with the parameter - nParIntegerIndex plus one - 1 - two activation frames on the stack [6]"
   ]
  },
  {
   "cell_type": "markdown",
   "metadata": {},
   "source": [
    "<img src=\"img/04-1-06.png\" />"
   ]
  },
  {
   "cell_type": "markdown",
   "metadata": {},
   "source": [
    "- step 3 - time 3 - fCount(0) - calls function fCount(1) - passing parmeter - nParIntegerIndex - 1 - activate frame - record - for the method/functions - main - fCount(0) - push fCount(1) - pushed onto the stack - inside the function - fCount(1) - print value of parameter - nParIntegerIndex - 1 - if less than two - True - the function - fCount - will call itself with the parameter - nParIntegerIndex plus one - 2 - three activation frames on the stack [6]"
   ]
  },
  {
   "cell_type": "markdown",
   "metadata": {},
   "source": [
    "<img src=\"img/04-1-07.png\" />"
   ]
  },
  {
   "cell_type": "markdown",
   "metadata": {},
   "source": [
    "- step 4 - time 4 - fCount(1) - calls function fCount(2) - passing parmeter - nParIntegerIndex - 2 - activate frame - record - for the method/functions - main - fCount(0) - fCount(1) - push fCount(2) - pushed onto the stack - inside the function - fCount(2) - print value of parameter - nParIntegerIndex - 2 - if less than two - False - recursion stops - all the activation frames will return the control to its callers - function - fCount(2) - popped off the stack - function fCount(1) - popped off the stack - funciton - fCount(0) - popped off the stack - finally if method - main - has finished running - also popped off the stack [6]"
   ]
  },
  {
   "cell_type": "markdown",
   "metadata": {},
   "source": [
    "<img src=\"img/04-1-08.png\" />"
   ]
  },
  {
   "cell_type": "markdown",
   "metadata": {},
   "source": [
    "***\n",
    "# END"
   ]
  }
 ],
 "metadata": {
  "kernelspec": {
   "display_name": "Python 3",
   "language": "python",
   "name": "python3"
  },
  "language_info": {
   "codemirror_mode": {
    "name": "ipython",
    "version": 3
   },
   "file_extension": ".py",
   "mimetype": "text/x-python",
   "name": "python",
   "nbconvert_exporter": "python",
   "pygments_lexer": "ipython3",
   "version": "3.7.6"
  }
 },
 "nbformat": 4,
 "nbformat_minor": 4
}
