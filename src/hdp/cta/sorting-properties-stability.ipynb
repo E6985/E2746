{
 "cells": [
  {
   "cell_type": "markdown",
   "metadata": {},
   "source": [
    "# sorting-properties-stability\n",
    "> [TABLE OF CONTENTS](https://github.com/E6985/E2746/blob/master/README.md)\n",
    "***"
   ]
  },
  {
   "cell_type": "markdown",
   "metadata": {},
   "source": [
    "- **comparator** function - inputs - two items - elements - $a_{i}$ - $a_{j}$ - **determines** the **relationship** between the items - elements - if it is determined the two items - elements - are **equal** - may be important to **maintain** the **relative** **ordering** in the sorted set [6]"
   ]
  },
  {
   "cell_type": "markdown",
   "metadata": {},
   "source": [
    "- **stability** - **sorting** **occurs** - **relative** **ordering** of items - elements - which are **considered** **equal** in the **input** instance is **preserved** [6]"
   ]
  },
  {
   "cell_type": "markdown",
   "metadata": {},
   "source": [
    "- position - index - $i$ - less than position - index $j$ - the item - element - at position - index $i$ - considered equivalent to the item - element - at position - index $j$ - in the collection - array - after sorting - relationship should be preserved [6]\n",
    "\n",
    "$i$ $<$ $j$"
   ]
  },
  {
   "cell_type": "markdown",
   "metadata": {},
   "source": [
    "- item - element - $A[i]$ - is to the left of the item - element - $A[j]$ - in the initial distribution - therefore if they have the same exact value according to the comparator function then that relationship should be preserved after sorting - sorting **algorithms** which can guarantee - **maintain** - this **property** **referred** as **stable** [6]"
   ]
  },
  {
   "cell_type": "markdown",
   "metadata": {},
   "source": [
    "- conversely - **unstable** - sorting **algorithm** - does **not** **preserve** this **property** of the relative ordering of items - elements - which have the same value [6]"
   ]
  },
  {
   "cell_type": "markdown",
   "metadata": {},
   "source": [
    "- **unstable** sorting **algorithm** - sort a collection - **array** - of data which is **already** **sorted** - the **ordering** of the items - **elements** - which are considered to be **equivalent** could be **altered** - may be an issue - depends on the specific application - stability is something that should take into consideration when choosing a sorting algorithm [6]"
   ]
  },
  {
   "cell_type": "markdown",
   "metadata": {},
   "source": [
    "- **stable** sorting of an input data set - table of departures from an airport - destination - airline - flight number - departure time - entries are sorted in terms of ascending departure time - departure time - **sort** **key** - destination - airline - flight - **satellite** **data** - all arranged in order of different departure times - ascending - flight number 872 at 11:15am appears before flight number 28 at 12pm [6]"
   ]
  },
  {
   "cell_type": "markdown",
   "metadata": {},
   "source": [
    "<img src=\"img/06-02-02.png\" />"
   ]
  },
  {
   "cell_type": "markdown",
   "metadata": {},
   "source": [
    "- sorting by - destination ascending - instead of - ascending departure time - ordering of the elements has changed - three departures for departures to Atlanta - stable sort of that data - destination ascending - flight number 872 at 11:15am appears before flight number 28 at 12pm - appear in the same ordering - the relative position - index - of those items - elements - has not been changed albeit considered to be equal - using an unstable sorting algorithm  instead of a stable sorting algorithm - potentially the values on the new sort criteria - destination ascending - no guarantee to appear in the same order as they appear in the original table - issue with unstable sorting items - elements - may be an issue for the specific application or not but it is something that needs to be considered - **unstable** sorting **algorithms** - pays **no** **attention** to the **relationships** **between** the items - **elements** - in the **original** collection - **array** - **may** **or** **not** **maintain** the **relative** **ordering** [6]"
   ]
  },
  {
   "cell_type": "markdown",
   "metadata": {},
   "source": [
    "<img src=\"img/06-02-02-1.png\" />"
   ]
  },
  {
   "cell_type": "markdown",
   "metadata": {},
   "source": [
    "***\n",
    "# END"
   ]
  }
 ],
 "metadata": {
  "kernelspec": {
   "display_name": "Python 3",
   "language": "python",
   "name": "python3"
  },
  "language_info": {
   "codemirror_mode": {
    "name": "ipython",
    "version": 3
   },
   "file_extension": ".py",
   "mimetype": "text/x-python",
   "name": "python",
   "nbconvert_exporter": "python",
   "pygments_lexer": "ipython3",
   "version": "3.7.6"
  }
 },
 "nbformat": 4,
 "nbformat_minor": 4
}
