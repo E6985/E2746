{
 "cells": [
  {
   "cell_type": "markdown",
   "metadata": {},
   "source": [
    "# algorithm-efficiency-best-average-worst\n",
    "> [TABLE OF CONTENTS](https://github.com/E6985/E2746/blob/master/README.md)\n",
    "***"
   ]
  },
  {
   "cell_type": "markdown",
   "metadata": {},
   "source": [
    "- as well as the size - n - of the input - the characteristics of the data in the input set may also have an effect on the time which an algorithm takes to run - there could be many instances of size - n - which would be valid as input - it may be possible to group these instances into classes with broadly similar features - some algorithm - a - may be most efficient overall when solving a given problem - however it is possible that another algorithm - b - may in fact outperform - a - when solving particular instances of the same problem - conclusion to draw is that for many problems no single algorithm exists which is **optimal** for every possible input - therefore choosing an algorithm depends on **understanding** the **problem** being solved and the underlying probability distribution of the instances likely to be treated as well as the behaviour of the algorithms being considered [7] - by knowing the performance of an algorithm - can judge whether an algorithm is appropriate to use in the specific situation [8]"
   ]
  },
  {
   "cell_type": "markdown",
   "metadata": {},
   "source": [
    "- **worst** case - defines a class of input instances for which an algorithm exhibits its worst runtime behaviour - instead of trying to identify the specific input - algorithm designers typically describe properties of the input that prevent an algorithm from running efficiently [7] - for any particular value of - n - the number of operations or work done by an algorithm may vary dramatically over all the instances of size - n - for a given algorithm and a given value - n - the worst-case execution time is the **maximum** **execution** time where the maximum is taken over all instances of size - n - interested in the worst-case behaviour of an algorithm because it often is the easiest case to analyse - it also explains how slow the program could be in any situation and provides a lower **bound** on possible performance - good idea to consider worst case if guarantees are required for the maximum possible running time for a given - n - not possible to find every worst-case input instance but **sample** - near - worst-case instances can be crafted given the algorithms description [8]"
   ]
  },
  {
   "cell_type": "markdown",
   "metadata": {},
   "source": [
    "- **average** case - defines the **expected** behaviour when executing the algorithm on random input instances - while some input problems will require greater time to complete because of some special cases the vast majority of input problems will not - this measure describes the expectation an average user of the algorithm should have [7]"
   ]
  },
  {
   "cell_type": "markdown",
   "metadata": {},
   "source": [
    "- **best** case - defines a class of input instances for which an algorithm exhibits its best runtime behaviour - for these input instances the algorithm does the least work - in **reality** the best case rarely occurs [7]"
   ]
  },
  {
   "cell_type": "markdown",
   "metadata": {},
   "source": [
    "***\n",
    "# END"
   ]
  }
 ],
 "metadata": {
  "kernelspec": {
   "display_name": "Python 3",
   "language": "python",
   "name": "python3"
  },
  "language_info": {
   "codemirror_mode": {
    "name": "ipython",
    "version": 3
   },
   "file_extension": ".py",
   "mimetype": "text/x-python",
   "name": "python",
   "nbconvert_exporter": "python",
   "pygments_lexer": "ipython3",
   "version": "3.7.6"
  }
 },
 "nbformat": 4,
 "nbformat_minor": 4
}
