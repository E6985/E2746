{
 "cells": [
  {
   "cell_type": "markdown",
   "metadata": {},
   "source": [
    "# sorting-algorithm-non-comparison-algorithms-counting\n",
    "> [TABLE OF CONTENTS](https://github.com/E6985/E2746/blob/master/README.md)\n",
    "***"
   ]
  },
  {
   "cell_type": "markdown",
   "metadata": {},
   "source": [
    "- **non-comparison-based** - **stable** - sorting algorithm - proposed by Harold H **Seaward** - 1954 - **also** came up with **radix** **sort** [6]"
   ]
  },
  {
   "cell_type": "markdown",
   "metadata": {},
   "source": [
    "- **counting** **sort** - probably the **simplest** **non-comparison-based** - sorting - algorithm - conceptually - easy [6]"
   ]
  },
  {
   "cell_type": "markdown",
   "metadata": {},
   "source": [
    "- **seems** **impossible** - **sorts** a collection - **array** - of items - **elements** - in **very** **close** to - **linear** - $n$ - **time** [6]"
   ]
  },
  {
   "cell_type": "markdown",
   "metadata": {},
   "source": [
    "- **possible** - **linear** - $n$ - **time** - **given** every - **non-comparison-based** - **sorting** **algorithm** - **has** a certain **set** of **assumptions** - knowing these assumptions - **limitations** - **type** of **input** instances - type of input **data** - the algorithm will have to **handle** [6]"
   ]
  },
  {
   "cell_type": "markdown",
   "metadata": {},
   "source": [
    "- **counting** **sort** - have to **assume** that an **input** of **size** - $n$ - **each** item - **element** - **has** a **non-negative** **integer** **key** **with** a **range** of - $k$ [6]"
   ]
  },
  {
   "cell_type": "markdown",
   "metadata": {},
   "source": [
    "- **range** - $k$ - being the **number** of **discrete** - **different** - **integer** **keys** - which are **possible** [6]"
   ]
  },
  {
   "cell_type": "markdown",
   "metadata": {},
   "source": [
    "- using **zero** **based** **indexing** - the **keys** would be in the **range** - **zero** - **up** as far as - $k-1$ - starting at zero - ending at the **last** **possible** **integer** **key** **minus** **one** - $k-1$ - got $k$ different keys [6]"
   ]
  },
  {
   "cell_type": "markdown",
   "metadata": {},
   "source": [
    "- **best** case - **worst** case - **average** **case** - **time** - **complexity** - $n+k$ [6]"
   ]
  },
  {
   "cell_type": "markdown",
   "metadata": {},
   "source": [
    "- $n$ - **size** of the **input** **instance** - **plus** - **number** of **possible** **key** **values** - $k$ [6]"
   ]
  },
  {
   "cell_type": "markdown",
   "metadata": {},
   "source": [
    " - **space** **complexity** - $n+k$ - $n$ - **size** of the **input** **instance** - **plus** - **number** of **possible** **key** **values** - $k$ [6]"
   ]
  },
  {
   "cell_type": "markdown",
   "metadata": {},
   "source": [
    "<img src=\"img/06-03-01-0.png\" />\n",
    "<img src=\"img/06-03-01-1.png\" />"
   ]
  },
  {
   "cell_type": "markdown",
   "metadata": {},
   "source": [
    "| is proportional to | complexity:                |\n",
    "| ------------------ | -------------------------- |\n",
    "| T(n) ~ $log.n$     | logarithmic                |\n",
    "| T(n) ~ $n$         | linear                     |\n",
    "| T(n) ~ $n.log.n$   | linearithmic               |\n",
    "| T(n) ~ $n^2$       | quadratic (polynomial)     |\n",
    "| T(n) ~ $n^3$       | cubic (polynomial)         |\n",
    "| T(n) ~ $n^k$       | polynomial (k any integer) |\n",
    "| T(n) ~ $2^n$       | exponential                |\n",
    "| T(n) ~ $k^n; k>1$  | exponential                |"
   ]
  },
  {
   "cell_type": "markdown",
   "metadata": {},
   "source": [
    "<img src=\"img/03-07-01.png\" />"
   ]
  },
  {
   "cell_type": "markdown",
   "metadata": {},
   "source": [
    "- **good** **improvement** for **large** **input** **instances** - **compare** - **quicksort** [6]"
   ]
  },
  {
   "cell_type": "markdown",
   "metadata": {},
   "source": [
    "- **potential** **running** **time** **advantage** does however come at the **cost** of having an **algorithm** which would **not** **be** as **widely** **applicable** as the - comparison-based - sorting algorithms - have to **make** quite a **lot** of **assumptions** about the **type** of **data** going to be **received** [6]"
   ]
  },
  {
   "cell_type": "markdown",
   "metadata": {},
   "source": [
    "- **possibility** - if the **data** **has** **labels** **rather** than **integers** - **assign** **each** **label** an **integer** **value** and then could **use** those **integers** as **proxy** **sort** **keys** **instead** of the **actual** **name** [6]"
   ]
  },
  {
   "cell_type": "markdown",
   "metadata": {},
   "source": [
    "- **names** - mix of **cars** - **sort** in order - perhaps could assign one car to a certain brand - two cars to to a certain brand - three cars to a certain brand - could come up with some **mapping** between **non-negative** **integer** **keys** and **strings** essentially which would allow the **application** of **counting** **sort** to **other** **types** of **problems** but have to have that mapping figured out beforehand of course [6] "
   ]
  },
  {
   "cell_type": "markdown",
   "metadata": {},
   "source": [
    "***\n",
    "# END"
   ]
  }
 ],
 "metadata": {
  "kernelspec": {
   "display_name": "Python 3",
   "language": "python",
   "name": "python3"
  },
  "language_info": {
   "codemirror_mode": {
    "name": "ipython",
    "version": 3
   },
   "file_extension": ".py",
   "mimetype": "text/x-python",
   "name": "python",
   "nbconvert_exporter": "python",
   "pygments_lexer": "ipython3",
   "version": "3.7.6"
  }
 },
 "nbformat": 4,
 "nbformat_minor": 4
}
