{
 "cells": [
  {
   "cell_type": "markdown",
   "metadata": {},
   "source": [
    "# search-performance\n",
    "> [TABLE OF CONTENTS](https://github.com/E6985/E2746/blob/master/README.md)\n",
    "***"
   ]
  },
  {
   "cell_type": "markdown",
   "metadata": {},
   "source": [
    "- **sorting** algorithm - **search** **algorithm** - **performance** - **based** on **how** **many** **operations** **performed** [6]"
   ]
  },
  {
   "cell_type": "markdown",
   "metadata": {},
   "source": [
    "- **sorting** **algorithm** - **how** **many** **comparisons** made - **how** **many** **insertions** or **swaps** of items - **elements** [6]"
   ]
  },
  {
   "cell_type": "markdown",
   "metadata": {},
   "source": [
    "- **searching** **problem** - **how** **many** items - **elements** - **algorithm** **inspects** at **runtime** **as** it **processes** some **query** [6]"
   ]
  },
  {
   "cell_type": "markdown",
   "metadata": {},
   "source": [
    "- ultimately - **performance** - search algorithm - **based** on **how** **many** **operations** are **performed** - will **increase** with **increasing** **input** **instance** size - $n$ [6]"
   ]
  },
  {
   "cell_type": "markdown",
   "metadata": {},
   "source": [
    "- **time** - **complexity** - as the **value** of the **input** instance - **size** - $n$ - **increases** - running time - **number** of **operations** **required** - for **algorithm** to **run** - **also** **increases** - have different relationships between the input instance size - $n$ - and - expected running time - expected number of operations [6] "
   ]
  },
  {
   "cell_type": "markdown",
   "metadata": {},
   "source": [
    "- **constant** - **linear** - $O(n)$ - **running** **time** - for **any** **search** **algorithm** used in practice - would **correspond** to **inspecting** each item - **element** - in a collection - **array** - **exactly** **once** - **worst** **case** - correspond to algorithm - **linear** **search** [6]"
   ]
  },
  {
   "cell_type": "markdown",
   "metadata": {},
   "source": [
    "- **lower** **bound** on **possible** **performance** - **linear** - $O(n)$ - **time** - **complexity** [6]"
   ]
  },
  {
   "cell_type": "markdown",
   "metadata": {},
   "source": [
    "| is proportional to | complexity:                |\n",
    "| ------------------ | -------------------------- |\n",
    "| T(n) ~ $log.n$     | logarithmic                |\n",
    "| T(n) ~ $n$         | linear                     |\n",
    "| T(n) ~ $n.log.n$   | linearithmic               |\n",
    "| T(n) ~ $n^2$       | quadratic (polynomial)     |\n",
    "| T(n) ~ $n^3$       | cubic (polynomial)         |\n",
    "| T(n) ~ $n^k$       | polynomial (k any integer) |\n",
    "| T(n) ~ $2^n$       | exponential                |\n",
    "| T(n) ~ $k^n; k>1$  | exponential                |"
   ]
  },
  {
   "cell_type": "markdown",
   "metadata": {},
   "source": [
    "<img src=\"img/03-07-01.png\" />"
   ]
  },
  {
   "cell_type": "markdown",
   "metadata": {},
   "source": [
    "- **comparator** **function** - **some** **definition** **of** **less** **than** - can have a total ordering of items - elements - in a collection - array - have an item - element - at position - index - $i$ - an item - element - at position - index - $j$ - value - stored at position - index - $i$ - must be less than the value at position - index - $j$ - if - $i$ - coming before - $j$ [6]"
   ]
  },
  {
   "cell_type": "markdown",
   "metadata": {},
   "source": [
    " - if **can** **sort** a collection - **array** - of items - **elements** - **according** to the **definition** of some **comparator** **function** - **can** **improve** the **performance** of **search** **queries** [6]"
   ]
  },
  {
   "cell_type": "markdown",
   "metadata": {},
   "source": [
    "- **knowing** **beforehand** - collection - **array** - of items - **elements** - are **sorted** - or - the collection - array - of items - elements - **can** **be** **sorted** - **according** to **some** **definition** of a - **comparator** **function** [6]"
   ]
  },
  {
   "cell_type": "markdown",
   "metadata": {},
   "source": [
    "- **trade** **off** - **costs** - associated with **maintaining** a **sorted** collection - **array** - of **data** - especially in **use** **cases** whereby could **expect** **frequent** **insertion** or **removal** of **keys** **or** items - **elements** - cost associated with every time that some data is inserted or deleted - maybe - need to resort the data - take into consideration [6]"
   ]
  },
  {
   "cell_type": "markdown",
   "metadata": {},
   "source": [
    "- **trade** **off** between the **cost** of maintaining a **sorted** collection - **array** - and the **increased** **performance** which will be **possible** because of **maintaining** **data** in a **sorted** **fashion** [6]"
   ]
  },
  {
   "cell_type": "markdown",
   "metadata": {},
   "source": [
    "- worth noting that it is **definitely** **worth** - **pre-sorting** - the **data** if it is **searched** **often** and if expect the data **not** to **be** **updated** **very** **frequently** - worth considering pre-sorting - using **binary** **search** instead of linear search in that instance [6]"
   ]
  },
  {
   "cell_type": "markdown",
   "metadata": {},
   "source": [
    "***\n",
    "# END"
   ]
  }
 ],
 "metadata": {
  "kernelspec": {
   "display_name": "Python 3",
   "language": "python",
   "name": "python3"
  },
  "language_info": {
   "codemirror_mode": {
    "name": "ipython",
    "version": 3
   },
   "file_extension": ".py",
   "mimetype": "text/x-python",
   "name": "python",
   "nbconvert_exporter": "python",
   "pygments_lexer": "ipython3",
   "version": "3.7.6"
  }
 },
 "nbformat": 4,
 "nbformat_minor": 4
}
