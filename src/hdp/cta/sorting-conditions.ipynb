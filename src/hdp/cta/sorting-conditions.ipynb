{
 "cells": [
  {
   "cell_type": "markdown",
   "metadata": {},
   "source": [
    "# sorting-conditions\n",
    "> [TABLE OF CONTENTS](https://github.com/E6985/E2746/blob/master/README.md)\n",
    "***"
   ]
  },
  {
   "cell_type": "markdown",
   "metadata": {},
   "source": [
    "- **term** - sorted - **conceptually** - easy to **grasp** the idea of what is meant by a collection - **array** - **being** **sorted** [6]"
   ]
  },
  {
   "cell_type": "markdown",
   "metadata": {},
   "source": [
    "- formula - **mathematical** **definition** - **term** - sorted - collection - **array** - of items - **elements** - **in** **order** - **deemed** to be **sorted** - i) if each item - element - which appears in the collection - array - is less than or equal to its successor or - ii) each item - element - is valued as being less than or equal to its successor in the collection - array [6]"
   ]
  },
  {
   "cell_type": "markdown",
   "metadata": {},
   "source": [
    "- **definition** - **sorted** collection - **array** - $A$ - items - **elements** - contained in the collection - array - must be **reorganised** in such a way that if the item - element - which appears at index - $i$ - in the collection - array - is less than the item - element - which appears at position - index - $j$ - in the collection - array - then the position - index - $i$ - must also be less than the position - index - $j$ [6]\n",
    "\n",
    "$A[i]$ $<$ $A[j]$ then $i<j$\n",
    "\n",
    "- items - elements - which are valued less than other items - elements - must appear before - if an item - element - that is valued greater than another item - element - that greater valued item - element - must appear later in the collection - array [6]"
   ]
  },
  {
   "cell_type": "markdown",
   "metadata": {},
   "source": [
    "- **definition** - **sorted** - **duplicate** items - elements - these items - **elements** - must be - **contiguous** - in the **resulting** **order** collection - **array** - all of the items - elements - which have the same value according to some comparative function must appear in one uninterrupted block with no other different valued items - elements - appearing interspersed [6]\n",
    "\n",
    "$A[i]$ $=$ $A[j]$\n",
    "\n",
    "- items - elements - which appears at position - index - $i$ - collection - array - $A$ - is valued the same as the item - element - which appears at position - index - $j$ - collection - array - $A$ - when the collection - array - is sorted - no position - index - $k$ - such that the value of position - index - $i$ - is less than the value of position - index - $k$ - is less than the value of position - index - $j$ - item - element - which appears at position - index - $i$ - in the collection - array - is not equal to the item - element - which appears at position - index - $k$ [6]\n",
    "\n",
    "$i$ $<$ $k$ $<$ $j$ and $A[i]$ $!=$ $A[k]$"
   ]
  },
  {
   "cell_type": "markdown",
   "metadata": {},
   "source": [
    "- mathematical definition - **contiguous** **block** of items - elements - have the **same** **value** - valued the same - duplicates of one another - if in a **sorted** collection - **array** - **no** **other** different **valued** items - **elements** - can be **interspersed** in that contiguous block - collection - array - integers - three items - elements - of the integers - 4 - four occurs three times - when the integer collection - array - sorted - said three instances of the number four must appear together in one unbroken block - can be no other different valued items - elements - interspersed - contiguous sorting of duplicate items - elements - in a collection - array [6]"
   ]
  },
  {
   "cell_type": "markdown",
   "metadata": {},
   "source": [
    "- **sorted** **version** of a collection - **array** - **must** **be** a **permutation** of the items - **elements** - which **originally** **formed** the collection - array - contents of the collection - array - must be the exact same - before - after - sorting process - i) the number of distinct items - elements - in the collection - array - ii) frequency at which they occur must be - constant - before - after - sorting process - albeit **relative** **ordering** to one another is **allowed** to **change** [6]"
   ]
  },
  {
   "cell_type": "markdown",
   "metadata": {},
   "source": [
    "- **definition** - **comparing** - collection - **array** - **sorted** - one in which every element which appears in the - collection - array - is less than or equal to its successor - concept - less than - **depend** on the items - **elements** - which are **in** the - collection - **array** - **types** of items - elements - **application** **domain** which is in question [6]"
   ]
  },
  {
   "cell_type": "markdown",
   "metadata": {},
   "source": [
    "- **definition** - **less** **than** - **equal** - **greater** **than** - items - elements - collection - array - **numbers** - integers - floating point - definition - less than - be quite obvious - **numerical** **ordering** - whether numerical ordering in terms of increasing magnitude of numbers - numerical ordering in terms of decreasing values [6]"
   ]
  },
  {
   "cell_type": "markdown",
   "metadata": {},
   "source": [
    "- **definition** - **less** **than** - **equal** - **greater** **than** - ordering items - elements - dictionary - applicable if the items - elements - characters - strings - some collection - array - of **characters** - use **lexicographical** **ordering** - order words in the dictionary - have characters which are not part of the english language - not forming words - exclamation marks - ampersand - asterix - all have a particular position defined as well relative to one another or a particular value less than or greater than defined in respect to one another - lexicographical ordering - apple - arrow - banana - apple is valued less than arraow - banana is valued to be greater than arrow - apple is less than arrow is less than banana [6] \n",
    "\n",
    "$apple$ $<$ $arrow$ $<$ $banana$"
   ]
  },
  {
   "cell_type": "markdown",
   "metadata": {},
   "source": [
    "- **definition** - **less** **than** - **equal** - **greater** **than** - **custom** **ordering** **schemes**  - problem of sorting different **coloured** **objects** - have a specific order in which we want certain colours of items to appear - ordering the colours of the flag of a country - Dutch national flag problem - Dijkstra - colours - red - white - blue - red comes first - items - elements - that are coloured red - less than elements which have the colour of white - white is also less than blue - white comes before blue [6]\n",
    "\n",
    "$red$ $<$ $white$ $<$ $blue$"
   ]
  },
  {
   "cell_type": "markdown",
   "metadata": {},
   "source": [
    "***\n",
    "# END"
   ]
  }
 ],
 "metadata": {
  "kernelspec": {
   "display_name": "Python 3",
   "language": "python",
   "name": "python3"
  },
  "language_info": {
   "codemirror_mode": {
    "name": "ipython",
    "version": 3
   },
   "file_extension": ".py",
   "mimetype": "text/x-python",
   "name": "python",
   "nbconvert_exporter": "python",
   "pygments_lexer": "ipython3",
   "version": "3.7.6"
  }
 },
 "nbformat": 4,
 "nbformat_minor": 4
}
