{
 "cells": [
  {
   "cell_type": "markdown",
   "metadata": {},
   "source": [
    "# sorting-algorithm-comparator-comparison-algorithms-selection-process\n",
    "> [TABLE OF CONTENTS](https://github.com/E6985/E2746/blob/master/README.md)\n",
    "***"
   ]
  },
  {
   "cell_type": "markdown",
   "metadata": {},
   "source": [
    "- sorting a collection - array - **unsorted** **input** instance - collection - array - of integers - **some** **out** **of** **order** items - **elements** [6]\n",
    "\n",
    "$[7,5,2,3,1]$"
   ]
  },
  {
   "cell_type": "markdown",
   "metadata": {},
   "source": [
    "- **sorted** - **subarray** - from **left** - rather than bubble sort - from right [6]"
   ]
  },
  {
   "cell_type": "markdown",
   "metadata": {},
   "source": [
    "- step - **search** - **full** collection - **array** - **first** position - **index** - **0** - **swap** **smallest** item - **element** - size of the subarray on the left - grown - one item - element [6]\n",
    "\n",
    "$[4]=1$ $Swap$ $...[0]=1$ $[4]=7$\n",
    "\n",
    "$[1,5,2,3,7]$"
   ]
  },
  {
   "cell_type": "markdown",
   "metadata": {},
   "source": [
    "- next step - **search** - **position** - **index** - **1** - **through** the **full** collection - **array** - **second** position - **index** - **1** - **swap** **smallest** item - **element** - size of the subarray on the left - grown - two items - elements [6]\n",
    "\n",
    "$[2]=2$ $Swap$ $...[1]=2$ $[2]=5$\n",
    "\n",
    "$[1,2,5,3,7]$"
   ]
  },
  {
   "cell_type": "markdown",
   "metadata": {},
   "source": [
    "- next step - **search** - **position** - **index** - **2** - **through** the **full** collection - **array** - **third** position - **index** - **2** - **swap** **smallest** item - **element** - size of the subarray on the left - grown - three items - elements [6]\n",
    "\n",
    "$[3]=3$ $Swap$ $...[2]=3$ $[3]=5$\n",
    "\n",
    "$[1,2,3,5,7]$"
   ]
  },
  {
   "cell_type": "markdown",
   "metadata": {},
   "source": [
    "- next step - **search** - **position** - **index** - **3** - **through** the **full** collection - **array** - **fourth** position - **index** - **3** - **swap** **smallest** item - **element** - selection sort - can swap an array with itself - harmless - not worth checking [6]\n",
    "\n",
    "$[3]=5$ $Swap$ $...[3]=5$\n",
    "\n",
    "$[1,2,3,5,7]$"
   ]
  },
  {
   "cell_type": "markdown",
   "metadata": {},
   "source": [
    "<img src=\"img/06-18.png\" />"
   ]
  },
  {
   "cell_type": "markdown",
   "metadata": {},
   "source": [
    "***\n",
    "# END"
   ]
  }
 ],
 "metadata": {
  "kernelspec": {
   "display_name": "Python 3",
   "language": "python",
   "name": "python3"
  },
  "language_info": {
   "codemirror_mode": {
    "name": "ipython",
    "version": 3
   },
   "file_extension": ".py",
   "mimetype": "text/x-python",
   "name": "python",
   "nbconvert_exporter": "python",
   "pygments_lexer": "ipython3",
   "version": "3.7.6"
  }
 },
 "nbformat": 4,
 "nbformat_minor": 4
}
