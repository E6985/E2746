{
 "cells": [
  {
   "cell_type": "markdown",
   "metadata": {},
   "source": [
    "# sorting\n",
    "> [TABLE OF CONTENTS](https://github.com/E6985/E2746/blob/master/README.md)\n",
    "***"
   ]
  },
  {
   "cell_type": "markdown",
   "metadata": {},
   "source": [
    "- **term** - **arrange** **collection** of **items** - according to some **pre-defined** **ordering** **rules** [6]"
   ]
  },
  {
   "cell_type": "markdown",
   "metadata": {},
   "source": [
    "- **problem** - collection of items - elements - **ordered** - **correct** order [6]"
   ]
  },
  {
   "cell_type": "markdown",
   "metadata": {},
   "source": [
    "- **claim** - 25% of all **cpu** **cycles** worldwide are **spent** - **sorting** tasks - **incentive** to - **study** - **optimise** - **sorting** **algorithms** [6]"
   ]
  },
  {
   "cell_type": "markdown",
   "metadata": {},
   "source": [
    "- **time** spent - **consider** - **correct** - **appropriate** - **algorithm** - specific task to be accomplished - **strenghts** - **weaknesses** - specific **situation** - **class** - **input** instances - use a certain type of algorithm [6]"
   ]
  },
  {
   "cell_type": "markdown",
   "metadata": {},
   "source": [
    "- computations - **tasks** - are **simplified** by **properly** **sorting** **information** in a collection - array - **in** **advance** [6]"
   ]
  },
  {
   "cell_type": "markdown",
   "metadata": {},
   "source": [
    "- **searching** - particular item - element - in a collection - array - list of items - elements - **assume** **sorted** - applying **searching** **algorithms** to the list - **find** particular items **quicker** [6]"
   ]
  },
  {
   "cell_type": "markdown",
   "metadata": {},
   "source": [
    "- finding whether **duplicate** items - elements - **exist** - useful to know that duplicate items - elements - will **appear** in a **contiguous** **block** - **sorted** in **order** of increasing **magnitute** - trival task to count number of duplicate items - elements - that exit [6]"
   ]
  },
  {
   "cell_type": "markdown",
   "metadata": {},
   "source": [
    "- find **frequency** of every **distinct** item - **element** in a collection - array - data set - **histogram** - trival task given items - elements - are valued equally - appear in a contiguous block [6]"
   ]
  },
  {
   "cell_type": "markdown",
   "metadata": {},
   "source": [
    "- find **order** **statistics** of a collection - array - of data - **numbers** - represents collection - array - of **data** in **aggregate** - order statistics - **range** - **maximum** - **minimum** - trival task if sorted in increasing order magnitute - minimum point - first element in the list - maximum point - last element in the list - **median** - **quartiles** - economy - median salary - middle value in a collection - array - sorting salary of everyone in order of increasing salary - trival task to obtain the median - item - element - in the middle of the list [6]"
   ]
  },
  {
   "cell_type": "markdown",
   "metadata": {},
   "source": [
    "- **comparison** - **sorting** **algorithms** - merge sort - 1945 - John von Neumann - in its own right - part of hybrid algorithms - still in use today - shell sort - 1959 - Donald L. Shell - quicksort - 1962 - C. A. R. Hoare - heapsort - 1964 - J. W.. J. Williams - smoothsort - 1981 - Edsger Dijkstra [6]"
   ]
  },
  {
   "cell_type": "markdown",
   "metadata": {},
   "source": [
    "- **non-comparison** - **sorting** **algorithms** - radix sort - courting sort - 1954 - Harold H. Seward [6]"
   ]
  },
  {
   "cell_type": "markdown",
   "metadata": {},
   "source": [
    "- **hyrid** - **sorting** **algorithms** - combine the properties of two or more sorting algorithms to leverage best aspects of each - introsort - 1997 - David Musser - timsort - 2002 - Tim Peters - java development kit - android plaform [6]"
   ]
  },
  {
   "cell_type": "markdown",
   "metadata": {},
   "source": [
    "- **sorting** - **precursor** to other operations - allows **completion** of **other** **operations** in an **efficient** **way** - often an important step when part of some other broader computer algorithms - **computer** **graphics** - image editing package - multiple layers of objects - artwork - are supported - add a layer based computer graphics program where these different objects are layered on top of each other to produce some composite image - computer graphics program - may have to sort the objects according to some above or below relation - that is so that the objects may be drawn in the correct order from bottom to top so that the image is composited correctly - items which are supposed to be in the foreground are in the foreground - items which are supposed to form part of the background are actually in the background - sorting algorithms - could be used as part of a  - drawing - rendering - operation - in some computer graphics programs - would be a sub step [6]"
   ]
  },
  {
   "cell_type": "markdown",
   "metadata": {},
   "source": [
    "- **sorting** can be **useful** as part of some **other** **broader** computation - **task** - actually an important problem in its own right - worthy of merit - worthy of study - **not** **just** a **pre-processing** step for searching or for some other specific computation - tasks [6]"
   ]
  },
  {
   "cell_type": "markdown",
   "metadata": {},
   "source": [
    "- **real** **world** - entries in a **phone** **book** - sorted - by area code - then sorted by last name - then sorted by first name [6]"
   ]
  },
  {
   "cell_type": "markdown",
   "metadata": {},
   "source": [
    "- **real** **world** - **transactions** - **bank** **account** **statements** - sorted first by transaction number - could be sorted by date - sorted by the value of the transaction - ascending - descending order [6]"
   ]
  },
  {
   "cell_type": "markdown",
   "metadata": {},
   "source": [
    "- **real** **world** - results from - **web** **search** **engine** - sorted by relevance to some query strings - hopefully the main criteria used by the web search engine is the relevance to the users specific query string - different items which could be returned - different links to different web pages would actually be given some kind of relevance score in relation to the query string - would be then ranked in order of decreasing relevance [6]"
   ]
  },
  {
   "cell_type": "markdown",
   "metadata": {},
   "source": [
    "***\n",
    "# END"
   ]
  }
 ],
 "metadata": {
  "kernelspec": {
   "display_name": "Python 3",
   "language": "python",
   "name": "python3"
  },
  "language_info": {
   "codemirror_mode": {
    "name": "ipython",
    "version": 3
   },
   "file_extension": ".py",
   "mimetype": "text/x-python",
   "name": "python",
   "nbconvert_exporter": "python",
   "pygments_lexer": "ipython3",
   "version": "3.7.6"
  }
 },
 "nbformat": 4,
 "nbformat_minor": 4
}
