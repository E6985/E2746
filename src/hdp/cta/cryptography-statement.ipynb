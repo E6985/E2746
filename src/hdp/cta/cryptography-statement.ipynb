{
 "cells": [
  {
   "cell_type": "markdown",
   "metadata": {},
   "source": [
    "# cryptography-statement\n",
    "> [TABLE OF CONTENTS](https://github.com/E6985/E2746/blob/master/README.md)\n",
    "***"
   ]
  },
  {
   "cell_type": "markdown",
   "metadata": {},
   "source": [
    "- algorithms - exist to solve problems - ordering data - sorting - finding data - searching - **cryptography** - **basic** **problem** to be **solved** - **encrypting** - **decrypting** [6]"
   ]
  },
  {
   "cell_type": "markdown",
   "metadata": {},
   "source": [
    "- **encryption** - data - **obfuscating** - process of **hiding** its **substance** - true substance is hidden [6]"
   ]
  },
  {
   "cell_type": "markdown",
   "metadata": {},
   "source": [
    "- **decryption** - data - is the reverse process - **obtain** **original** **substance** - encoding a message such that the intended recipient should be able to decipher - obtain substance - **not** an **eavesdropper** [6]"
   ]
  },
  {
   "cell_type": "markdown",
   "metadata": {},
   "source": [
    "- to change the data such that if sending along a **communication** **path** that may **not** be **reliable** - if **intercepted** - **not** **know** its **substance** - albeit if it gets to the intended **recipient** - must be able **figure** **out** its substance [6]"
   ]
  },
  {
   "cell_type": "markdown",
   "metadata": {},
   "source": [
    "- additional **problem** - **signing** the **message** the sender is sending to the recipient so that - i) recipient can be sure that only the sender could have sent it - **not** a **trick** - ii) **sender** cannot **later** **deny** having sent it - iii) the recipient having **received** the **signed** **message** **cannot** **obtain** access to the **senders** **signature** - sign the message in the senders name - not even additional versions of the very message that has just been received - sending a cheque - cannot later deny it was sent - cheque is signed - recipient has the cheque - recipient can be sure its from the sender given that the bank can verify the signature - the recipient having the cheque cannot produce additional cheques in the name of the sender [6]"
   ]
  },
  {
   "cell_type": "markdown",
   "metadata": {},
   "source": [
    "***\n",
    "# END"
   ]
  }
 ],
 "metadata": {
  "kernelspec": {
   "display_name": "Python 3",
   "language": "python",
   "name": "python3"
  },
  "language_info": {
   "codemirror_mode": {
    "name": "ipython",
    "version": 3
   },
   "file_extension": ".py",
   "mimetype": "text/x-python",
   "name": "python",
   "nbconvert_exporter": "python",
   "pygments_lexer": "ipython3",
   "version": "3.7.6"
  }
 },
 "nbformat": 4,
 "nbformat_minor": 4
}
