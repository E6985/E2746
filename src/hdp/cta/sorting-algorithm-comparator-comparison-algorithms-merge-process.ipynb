{
 "cells": [
  {
   "cell_type": "markdown",
   "metadata": {},
   "source": [
    "# sorting-algorithm-comparator-comparison-algorithms-merge-process\n",
    "> [TABLE OF CONTENTS](https://github.com/E6985/E2746/blob/master/README.md)\n",
    "***"
   ]
  },
  {
   "cell_type": "markdown",
   "metadata": {},
   "source": [
    "- sorting a collection - array - **unsorted** **input** instance - collection - array - of integers - **some** **out** **of** **order** items - **elements** [6]\n",
    "\n",
    "$[7,5,2,3,4,1,8]$"
   ]
  },
  {
   "cell_type": "markdown",
   "metadata": {},
   "source": [
    "- **size** of the collection - **array** - **greater** than - **zero** - **one** - **partition** the collection - array - **into** two **different** **subarrays** - left - right - the two collections - arrays - not the same size - just have to be close enough - uneven number of items - elements - in the input instance - one extra can go on the left or right - two additional calls to the merge sort procedure [6]\n",
    "\n",
    "$7,5,2,3$ $...$ $4,1,8$"
   ]
  },
  {
   "cell_type": "markdown",
   "metadata": {},
   "source": [
    "- **input** **instances** - left partition - four items - elements - right partition - three items - elements - **greater** than **size** - **one** - **merge** sort **applied** again - **recursively** - partition the collection - array - into four different subarrays - left - right - four additional calls to the merge sort procedure [6] \n",
    "\n",
    "$7,5$ $...$ $2,3$ $...$ $4,1$ ... $8$"
   ]
  },
  {
   "cell_type": "markdown",
   "metadata": {},
   "source": [
    "- **input** **instance** - **size** - **one** - **reached** the **base** **case** at that **level** of **recursion** - not going to do anything with that partition at the moment - apply later when it get combined [6]\n",
    "\n",
    "$8$\n",
    "\n",
    "$7,5$ $...$ $2,3$ $...$ $4,1$"
   ]
  },
  {
   "cell_type": "markdown",
   "metadata": {},
   "source": [
    "- input instances - all partitions - two items - elements - greater than size - one - merge sort applied again - recursively - partition the collection - array - into six different subarrays - left - right - six additional calls to the merge sort procedure - **all** **single** items - **elements** - **reached** **base** **cases** - **next** **step** - **merge** **in** **between** [6] \n",
    "\n",
    "$7$ $...$ $5$ $...$ $2$ $...$ $3$ $...$ $4$ $...$ $1$"
   ]
  },
  {
   "cell_type": "markdown",
   "metadata": {},
   "source": [
    "- **call** the **merge** **step** - **sort** the items - **elements** - which are **being** **merged** **in** **order** - **swap** - positions - **indices** - sorted relative to one another [6]\n",
    "\n",
    "$7$ $...$ $5$ $swap$ $5,7$\n",
    "\n",
    "$2$ $...$ $3$ $swap$ $2,3$\n",
    "\n",
    "$4$ $...$ $1$ $swap$ $1,4$"
   ]
  },
  {
   "cell_type": "markdown",
   "metadata": {},
   "source": [
    "- **combine** - **subarrays** - **call** the **merge** **operation** - **correct** positions - **indices** [6]\n",
    "\n",
    "$5,7$\n",
    "\n",
    "$2,3$\n",
    "\n",
    "$2,3,5,7$"
   ]
  },
  {
   "cell_type": "markdown",
   "metadata": {},
   "source": [
    "- combine - subarrays -  call the merge operation - correct positions - indices [6]\n",
    "\n",
    "$1,4$ \n",
    "\n",
    "$8$\n",
    "\n",
    "$1,4,8$"
   ]
  },
  {
   "cell_type": "markdown",
   "metadata": {},
   "source": [
    "- **tree** **structure** - **final** **call** the **merge** operation - correct positions - indices - **during** the **merge** **step** - **all** items - **elements** - **inserted** into the **correct** position - **index** - collection - array - sorted [6]\n",
    "\n",
    "$2,3,5,7$\n",
    "\n",
    "$1,4,8$\n",
    "\n",
    "$1,2,3,4,5,7,8$"
   ]
  },
  {
   "cell_type": "markdown",
   "metadata": {},
   "source": [
    "<img src=\"img/06-29.png\" />"
   ]
  },
  {
   "cell_type": "markdown",
   "metadata": {},
   "source": [
    "- **sorting** - **expensive** - number of **active** **stack** **frames** **applied** - **disadvantage** for a **recursive** **approach** - quite an easy algorithm to call - intuitive - easy to explain [6]"
   ]
  },
  {
   "cell_type": "markdown",
   "metadata": {},
   "source": [
    "***\n",
    "# END"
   ]
  }
 ],
 "metadata": {
  "kernelspec": {
   "display_name": "Python 3",
   "language": "python",
   "name": "python3"
  },
  "language_info": {
   "codemirror_mode": {
    "name": "ipython",
    "version": 3
   },
   "file_extension": ".py",
   "mimetype": "text/x-python",
   "name": "python",
   "nbconvert_exporter": "python",
   "pygments_lexer": "ipython3",
   "version": "3.7.6"
  }
 },
 "nbformat": 4,
 "nbformat_minor": 4
}
