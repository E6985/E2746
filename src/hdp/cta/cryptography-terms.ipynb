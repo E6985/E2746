{
 "cells": [
  {
   "cell_type": "markdown",
   "metadata": {},
   "source": [
    "# cryptography-terms\n",
    "> [TABLE OF CONTENTS](https://github.com/E6985/E2746/blob/master/README.md)\n",
    "***"
   ]
  },
  {
   "cell_type": "markdown",
   "metadata": {},
   "source": [
    "- plaintext - P - clear-text - data - read - understood - without any special measures - not hidden - not secure - not obfuscated - is an input to an encryption process - do something to it through a - process - algorithm - to change it in some way - encryption - process of disguising - P - in such a way as to hide its substance - encryption algorithm - works on the input - P - result of the encryption process - algorithm - ciphertext - C - cryptographic system from a computational perspective [6]"
   ]
  },
  {
   "cell_type": "markdown",
   "metadata": {},
   "source": [
    "$C = Encr(P)$ \n",
    "\n",
    "- left-right - C - apply encryption process to some - P - right-left - encryption process that works on - P - produces - C [6]"
   ]
  },
  {
   "cell_type": "markdown",
   "metadata": {},
   "source": [
    "$P = Decr(C)$\n",
    "\n",
    "- left-right - P - apply decryption process to - C - right-left - decryption process that works on - C - gives back - P [6] "
   ]
  },
  {
   "cell_type": "markdown",
   "metadata": {},
   "source": [
    "***\n",
    "# END"
   ]
  }
 ],
 "metadata": {
  "kernelspec": {
   "display_name": "Python 3",
   "language": "python",
   "name": "python3"
  },
  "language_info": {
   "codemirror_mode": {
    "name": "ipython",
    "version": 3
   },
   "file_extension": ".py",
   "mimetype": "text/x-python",
   "name": "python",
   "nbconvert_exporter": "python",
   "pygments_lexer": "ipython3",
   "version": "3.7.6"
  }
 },
 "nbformat": 4,
 "nbformat_minor": 4
}
