{
 "cells": [
  {
   "cell_type": "markdown",
   "metadata": {},
   "source": [
    "# sorting-algorithm-comparator-hybrid\n",
    "> [TABLE OF CONTENTS](https://github.com/E6985/E2746/blob/master/README.md)\n",
    "***"
   ]
  },
  {
   "cell_type": "markdown",
   "metadata": {},
   "source": [
    "- **combine** - **properties** - **two** **different** **algorithms** - **solve** **same** **type** of **problem** - **hybrid** - sorting algorithm - one which combines two or more algorithms - designed to solve the same problem [6]"
   ]
  },
  {
   "cell_type": "markdown",
   "metadata": {},
   "source": [
    "- **could** - **choose** - **one** **specific** **algorithm** **based** on the **data** **and** **execution** **conditions** [6]"
   ]
  },
  {
   "cell_type": "markdown",
   "metadata": {},
   "source": [
    "- **could** - **choose** - to **switch** **between** **different** **algorithms** **according** to some **rule** **set** [6]"
   ]
  },
  {
   "cell_type": "markdown",
   "metadata": {},
   "source": [
    "- **hybrid** **algorithms** - **combine** the **desired** **features** of **one** **algorithm** - **some** **other** **algorithm** - maybe got - two - three - different algorithms - could be more or less - combined into one **overall** **algorithm** to **achieve** a **better** **algorithm** in **aggregate** [6]"
   ]
  },
  {
   "cell_type": "markdown",
   "metadata": {},
   "source": [
    "- **might** want to look at an **algorithm** that has - **good** **average** **case** **performance** - then maybe **improve** on that **somewhat** [6]"
   ]
  },
  {
   "cell_type": "markdown",
   "metadata": {},
   "source": [
    "- **best** **versions** - **quicksort** - can **perform** **better** than either - i) **heapsort** - or - ii) **merged** **sort** - on the **vast** **majority** of **inputs** - **but** - **quicksort** - very **poor** - **worst** **case** - **running** **time** - polynomial - $n^2$ - **quadratic** - run in $O(n^{2})$ time [6]"
   ]
  },
  {
   "cell_type": "markdown",
   "metadata": {},
   "source": [
    "- **avoid** - **running** **time** - polynomial - $n^2$ - **quadratic** - run in $O(n^{2})$ time - consider - **heapsort** - or - **merge** **sort** **instead** - **together** with **some** **other** **algorithm** [6]"
   ]
  },
  {
   "cell_type": "markdown",
   "metadata": {},
   "source": [
    "- **maybe** - **insertion** **sort** - to **speed** them **up** a little - could get - **linearithmic** - $n.log.n$ - **worst** **case** - **running** **time** - making sure to **beat** - **quicksort** - in that case [6]"
   ]
  },
  {
   "cell_type": "markdown",
   "metadata": {},
   "source": [
    "- using - **insertion** **sort** - to **speed** things **up** - when **getting** **down** to a **level** of **recursion** that **only** has **very** **few** **elements** **left** - **insertion** **sort** - **performs** **better** than any of other on **small** **data** **sets** [6]"
   ]
  },
  {
   "cell_type": "markdown",
   "metadata": {},
   "source": [
    "- **insertion** **sort** - **prime** **candidate** - **part** of a - **hybrid** **algorithm** [6]"
   ]
  },
  {
   "cell_type": "markdown",
   "metadata": {},
   "source": [
    "***\n",
    "# END"
   ]
  }
 ],
 "metadata": {
  "kernelspec": {
   "display_name": "Python 3",
   "language": "python",
   "name": "python3"
  },
  "language_info": {
   "codemirror_mode": {
    "name": "ipython",
    "version": 3
   },
   "file_extension": ".py",
   "mimetype": "text/x-python",
   "name": "python",
   "nbconvert_exporter": "python",
   "pygments_lexer": "ipython3",
   "version": "3.7.6"
  }
 },
 "nbformat": 4,
 "nbformat_minor": 4
}
