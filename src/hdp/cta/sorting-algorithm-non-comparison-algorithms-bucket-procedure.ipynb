{
 "cells": [
  {
   "cell_type": "markdown",
   "metadata": {},
   "source": [
    "# sorting-algorithm-non-comparison-algorithms-bucket-procedure\n",
    "> [TABLE OF CONTENTS](https://github.com/E6985/E2746/blob/master/README.md)\n",
    "***"
   ]
  },
  {
   "cell_type": "markdown",
   "metadata": {},
   "source": [
    "- **set** **up** collection - **array** - of containers - **buckets** - **initially** **empty** - **hold** **different** items - **elements** [6]"
   ]
  },
  {
   "cell_type": "markdown",
   "metadata": {},
   "source": [
    "- **next** - **iterate** **through** the **input** collection - **array** - **place** each item - **element** - **into** its **correct** container - **bucket** - **recursive** - **sorting** **algorithm** [6]"
   ]
  },
  {
   "cell_type": "markdown",
   "metadata": {},
   "source": [
    "- **empty** **bucket** - **base** **case** - or - do not have to do anything with [6]"
   ]
  },
  {
   "cell_type": "markdown",
   "metadata": {},
   "source": [
    "- **bucket** **not** **empty** - **recursive** **call** to **bucket** **sort** - got **one** item - **element** - **assume** **size** - **zero** - **one** - is the **base** **case** [6]"
   ]
  },
  {
   "cell_type": "markdown",
   "metadata": {},
   "source": [
    "- **could** either - i) have a **recursive** **call** to the **bucket** **sort** **or** - ii) have a **different** **sorting** **algorithm** - **insertion** **sort** [6]"
   ]
  },
  {
   "cell_type": "markdown",
   "metadata": {},
   "source": [
    "- i) **first** - **bucket** **sort** - **down** to a **certain** **level** - ii) **then** when get **down** to a **small** **input** **instance** - five - ten - fifteen items - elements - **use** **insertion** **sort** at that stage - given its a good algorithm to use with that size of data [6]"
   ]
  },
  {
   "cell_type": "markdown",
   "metadata": {},
   "source": [
    "- **visit** the **buckets** in **order** **after** things have been **sorted** down to that **level** - **then** **place** **each** item - **element** - **back** into the collection - **array** - **or** into a **result** collection - **array** - in its **correct** **position** [6]"
   ]
  },
  {
   "cell_type": "markdown",
   "metadata": {},
   "source": [
    "***\n",
    "# END"
   ]
  }
 ],
 "metadata": {
  "kernelspec": {
   "display_name": "Python 3",
   "language": "python",
   "name": "python3"
  },
  "language_info": {
   "codemirror_mode": {
    "name": "ipython",
    "version": 3
   },
   "file_extension": ".py",
   "mimetype": "text/x-python",
   "name": "python",
   "nbconvert_exporter": "python",
   "pygments_lexer": "ipython3",
   "version": "3.7.6"
  }
 },
 "nbformat": 4,
 "nbformat_minor": 4
}
