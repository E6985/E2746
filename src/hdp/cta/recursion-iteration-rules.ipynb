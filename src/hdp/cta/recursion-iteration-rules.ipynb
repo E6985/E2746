{
 "cells": [
  {
   "cell_type": "markdown",
   "metadata": {},
   "source": [
    "# recursion-iteration-rules\n",
    "> [TABLE OF CONTENTS](https://github.com/E6985/E2746/blob/master/README.md)\n",
    "***"
   ]
  },
  {
   "cell_type": "markdown",
   "metadata": {},
   "source": [
    "- to **avoid** problems - **infinite** - **circular** - **errors** - four basic **rules** [6]"
   ]
  },
  {
   "cell_type": "markdown",
   "metadata": {},
   "source": [
    "- rule **one** - recursive algorithm must always **have** - **base** **case** - which can be **solved** **without** - **recursion** [6]"
   ]
  },
  {
   "cell_type": "markdown",
   "metadata": {},
   "source": [
    "- function - fCount - base case - parameter - less than two [6]\n",
    "\n",
    "```python\n",
    "if nParInteger<2:\n",
    "```"
   ]
  },
  {
   "cell_type": "code",
   "execution_count": 1,
   "metadata": {},
   "outputs": [],
   "source": [
    "# define function - fCount\n",
    "def fCount(nParInteger):\n",
    "    print(nParInteger)\n",
    "    if nParInteger<2:\n",
    "        fCount(nParInteger+1)"
   ]
  },
  {
   "cell_type": "markdown",
   "metadata": {},
   "source": [
    "- passing an argument of two or above - can be solved without - recursion - **without** - **base** **case** - **or** simple **instance** of the problem that can be **solved** **without** **recursion** - result - **infinite** - recursion [6]"
   ]
  },
  {
   "cell_type": "code",
   "execution_count": 2,
   "metadata": {},
   "outputs": [
    {
     "name": "stdout",
     "output_type": "stream",
     "text": [
      "3\n"
     ]
    }
   ],
   "source": [
    "fCount(3)"
   ]
  },
  {
   "cell_type": "markdown",
   "metadata": {},
   "source": [
    "- rule **two** - recursive call - must make **progress** **towards** - **base** **case** or base cases - cases that are to be resolved recursively - the next call must be a case that makes progress towards the - base case - functions that do **not** follow this rule - do not make progress towards a base case - result when run - **circular** - recursion [6]"
   ]
  },
  {
   "cell_type": "code",
   "execution_count": 3,
   "metadata": {},
   "outputs": [],
   "source": [
    "# define function - fCircular\n",
    "def fCircular(nParInteger):\n",
    "    if nParInteger==1:\n",
    "        fCircular(nParInteger+1)\n",
    "    fCircular(nParInteger-1)"
   ]
  },
  {
   "cell_type": "markdown",
   "metadata": {},
   "source": [
    "- rule **three** - **design** **rule** - **assume** that **all** the recursive **calls** **work** - at a higher level of recursion - assume that the next recursive call will carry out its task as expected and will return - have to assume any - recursive call - made will follow the previous two rules - recursive algorithm must always have a base case - must make progress towards the base case or base cases - **eventually** all the **nested** levels of - recursion - will **return** **one** **by** **one** and work as expected [6]"
   ]
  },
  {
   "cell_type": "markdown",
   "metadata": {},
   "source": [
    "- rule **four** - **compound** **interest** rule - **efficient** use of **computational** **resources** - **never** **duplicate** work by solving the same instance of a problem in separate recursive calls - not repeating the same work or the same call over and over again in separate recursive instances - not a good use of computational resources - if duplicating calls or the same problem instances then an iterative approach/implementation may be better to solve the problem instead of using recursion [6]"
   ]
  },
  {
   "cell_type": "markdown",
   "metadata": {},
   "source": [
    "***\n",
    "# END"
   ]
  }
 ],
 "metadata": {
  "kernelspec": {
   "display_name": "Python 3",
   "language": "python",
   "name": "python3"
  },
  "language_info": {
   "codemirror_mode": {
    "name": "ipython",
    "version": 3
   },
   "file_extension": ".py",
   "mimetype": "text/x-python",
   "name": "python",
   "nbconvert_exporter": "python",
   "pygments_lexer": "ipython3",
   "version": "3.7.6"
  }
 },
 "nbformat": 4,
 "nbformat_minor": 4
}
