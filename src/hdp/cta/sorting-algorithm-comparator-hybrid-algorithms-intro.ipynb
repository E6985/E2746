{
 "cells": [
  {
   "cell_type": "markdown",
   "metadata": {},
   "source": [
    "# sorting-algorithm-comparator-hybrid-algorithms-intro\n",
    "> [TABLE OF CONTENTS](https://github.com/E6985/E2746/blob/master/README.md)\n",
    "***"
   ]
  },
  {
   "cell_type": "markdown",
   "metadata": {},
   "source": [
    "- **hybrid** - sorting algorithm - **combine** the **properties** of **two** **different** **algorithms** to **make** a **better** **algorithm** on **aggregate** - **introsort** - **unstable** - proposed by David **Musser** - 1997 [6]"
   ]
  },
  {
   "cell_type": "markdown",
   "metadata": {},
   "source": [
    "- **variation** - **standard** **quicksort** - **monitors** the **recursive** **depth** of the **standard** **quicksort** **algorithm** - **ensure** **efficient** **processing** [6]"
   ]
  },
  {
   "cell_type": "markdown",
   "metadata": {},
   "source": [
    "- **problems** - **recursive** **algorithms** - or - recursive **design** **patterns** - **end** **up** with a **lot** of **overhead** - **conducting** a lot of **different** **recursive** **calls** - lot of **active** **stack** **frames** - albeit - clean algorithms to code up [6]"
   ]
  },
  {
   "cell_type": "markdown",
   "metadata": {},
   "source": [
    "- **if** **depth** of **quicksort** for **certain** **recursion** **exceeds** - **linearithmic** - $n.log.n$ - **levels** - idea was to **use** **another** **algorithm** instead - efficient - comparison-based - **heapsort** [6]"
   ]
  },
  {
   "cell_type": "markdown",
   "metadata": {},
   "source": [
    "- using **quicksort** **at** a **coarse** **level** - using **heapsort** at a **more** **fine** **grained** **level** - since both algorithms - introsort - uses are - comparison-based - could also be classified as - comparison-based [6]"
   ]
  },
  {
   "cell_type": "markdown",
   "metadata": {},
   "source": [
    "-  **leads** to  **fast ** -  **average** case -  **worst** **case** - **performance** - **runtime** - **linearithmic** - $n.log.n$ - run in - $O(n.log.n)$ - time [6]"
   ]
  },
  {
   "cell_type": "markdown",
   "metadata": {},
   "source": [
    "<img src=\"img/06-03-01-0.png\" />\n",
    "<img src=\"img/06-03-01-2.png\" />"
   ]
  },
  {
   "cell_type": "markdown",
   "metadata": {},
   "source": [
    "| is proportional to | complexity:                |\n",
    "| ------------------ | -------------------------- |\n",
    "| T(n) ~ $log.n$     | logarithmic                |\n",
    "| T(n) ~ $n$         | linear                     |\n",
    "| T(n) ~ $n.log.n$   | linearithmic               |\n",
    "| T(n) ~ $n^2$       | quadratic (polynomial)     |\n",
    "| T(n) ~ $n^3$       | cubic (polynomial)         |\n",
    "| T(n) ~ $n^k$       | polynomial (k any integer) |\n",
    "| T(n) ~ $2^n$       | exponential                |\n",
    "| T(n) ~ $k^n; k>1$  | exponential                |"
   ]
  },
  {
   "cell_type": "markdown",
   "metadata": {},
   "source": [
    "<img src=\"img/03-07-01.png\" />"
   ]
  },
  {
   "cell_type": "markdown",
   "metadata": {},
   "source": [
    "***\n",
    "# END"
   ]
  }
 ],
 "metadata": {
  "kernelspec": {
   "display_name": "Python 3",
   "language": "python",
   "name": "python3"
  },
  "language_info": {
   "codemirror_mode": {
    "name": "ipython",
    "version": 3
   },
   "file_extension": ".py",
   "mimetype": "text/x-python",
   "name": "python",
   "nbconvert_exporter": "python",
   "pygments_lexer": "ipython3",
   "version": "3.7.6"
  }
 },
 "nbformat": 4,
 "nbformat_minor": 4
}
