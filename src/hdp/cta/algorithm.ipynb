{
 "cells": [
  {
   "cell_type": "markdown",
   "metadata": {},
   "source": [
    "# algorithm\n",
    "> [TABLE OF CONTENTS](https://github.com/E6985/E2746/blob/master/README.md)\n",
    "***"
   ]
  },
  {
   "cell_type": "markdown",
   "metadata": {},
   "source": [
    "<img src=\"img/01-1-01.png\" />"
   ]
  },
  {
   "cell_type": "markdown",
   "metadata": {},
   "source": [
    "- an algorithm is a **process** or set of **rules** to be followed in calculations or other problem-solving operations - especially by a computer - oxford english dictionary [6]"
   ]
  },
  {
   "cell_type": "markdown",
   "metadata": {},
   "source": [
    "- algorithms can be thought of as a **recipe** or set of **instructions** to be followed to achieve the desired outcome [6]"
   ]
  },
  {
   "cell_type": "markdown",
   "metadata": {},
   "source": [
    " - many different algorithms could be designed to achieve a similar task - **questions** to ask include - what **criteria** should be taken into account - how should the different algorithms be **compared** and decide which is most **appropriate** for the use case [6]"
   ]
  },
  {
   "cell_type": "markdown",
   "metadata": {},
   "source": [
    "<img src=\"img/01-1-02.png\" />"
   ]
  },
  {
   "cell_type": "markdown",
   "metadata": {},
   "source": [
    "- make tea - fill kettle - boil kettle - put tea bag in a cup - pour the water - add milk - alternatively - put tea bag in a cup - take to water boiler - open the spout for hot water - add sugar - stir - **properties** of an algorithm - **speed** - **efficiency** - **readability** - **complexity** - **computability** [6]"
   ]
  },
  {
   "cell_type": "markdown",
   "metadata": {},
   "source": [
    "- **programming** task - **solving** - produce an order sequence of steps - operations - which solve the problem - this is the algorithm - **implementation** - take that series of steps and convert it into a real programming language - so that the machine can run the algorithm [6]"
   ]
  },
  {
   "cell_type": "markdown",
   "metadata": {},
   "source": [
    "- follow algorithms in daily **life** and without them would not be able to function - crossing the road - brushing teeth - cooking - clean - many computer-driven algorithm interactions every day - gps directions which utilise - shortest-path - algorithm - encryption algorithms to protect online banking and purchasing - delivery services using algorithms to assign drivers - spam detection for email services - content filtering on facebook feed - while humans can use imprecise algorithms to accomplish tasks the same cannot be said for computers - driving to a workplace - algorithm may contain a rule - if traffic is heavy take an alternative route - know intuitively what is meant by heavy traffic but a computer must be explicity programmed to deal with this scenario - therefore algorithms for computational devices must be described precise enough that a computer can run them successfully achieving the desired outcome - computers do precisely what is told of them [6]"
   ]
  },
  {
   "cell_type": "markdown",
   "metadata": {},
   "source": [
    "***\n",
    "# END"
   ]
  }
 ],
 "metadata": {
  "kernelspec": {
   "display_name": "Python 3",
   "language": "python",
   "name": "python3"
  },
  "language_info": {
   "codemirror_mode": {
    "name": "ipython",
    "version": 3
   },
   "file_extension": ".py",
   "mimetype": "text/x-python",
   "name": "python",
   "nbconvert_exporter": "python",
   "pygments_lexer": "ipython3",
   "version": "3.7.6"
  }
 },
 "nbformat": 4,
 "nbformat_minor": 4
}
