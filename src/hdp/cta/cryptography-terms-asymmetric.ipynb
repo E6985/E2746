{
 "cells": [
  {
   "cell_type": "markdown",
   "metadata": {},
   "source": [
    "# cryptography-terms-asymmetric\n",
    "> [TABLE OF CONTENTS](https://github.com/E6985/E2746/blob/master/README.md)\n",
    "***"
   ]
  },
  {
   "cell_type": "markdown",
   "metadata": {},
   "source": [
    "- **key** **distribution** - **solved** by - **public** **key** **cryptography** - **asymmetric** cryptographic system - the asymmetry - **key** - public key - used for locking - **encrypting** - **not** **same** key - private secret key - used for unlocking - **decrypting** - not symmetric [6]"
   ]
  },
  {
   "cell_type": "markdown",
   "metadata": {},
   "source": [
    "- **public** **key** - **publish** to **world** - **private** **key** - **secret** [6]"
   ]
  },
  {
   "cell_type": "markdown",
   "metadata": {},
   "source": [
    "- **copy** of - **public** **key** - **encrypt** **information** only the **holder** of the - **private** **key** - can **read** - modern ecommerce - banking - venders have keys - consumers use these keys to lock data - public key - anyone can obtain - use it [6]"
   ]
  },
  {
   "cell_type": "markdown",
   "metadata": {},
   "source": [
    "- **model** - encrypt data - send to recipient - transaction - amazon.com - public key - made available to everyone - **send** data **securely** - use **public** **key** - equivalent of providing a **secure** **box** plus **padlock** - padlock open - put **data** **into** - **close** **padlock** - need **key** to **open** - easily lock - cannot unlock without the key [6]"
   ]
  },
  {
   "cell_type": "markdown",
   "metadata": {},
   "source": [
    "- **knowledge** of - **public** **key** - **computationally** **infeasible** - **deduce** - **private** **key** - third party captures transaction order in transit - amazon.com - packet of information - know distination - packet - wrapped up in the public key - made available to everyone anyway - copy of ciphertext - $C$ - obtain data - not sufficent to deduce - private key [6]"
   ]
  },
  {
   "cell_type": "markdown",
   "metadata": {},
   "source": [
    "<img src=\"img/05-09.png\" />"
   ]
  },
  {
   "cell_type": "markdown",
   "metadata": {},
   "source": [
    "- **public** **key** cryptography - **allows** **party** with **no** **pre-existing** **security** arrangement to **exchange** message **securely** - consumer - plaintext - $P$ - transaction order - using trusted vendor - public key - applied to - plaintext - $P$ - produces ciphertext - $C$ - travels along communication link - arrives at trusted vendor - private key - opens lock - obtains - plaintext - $P$ - read order - verify transaction [6]"
   ]
  },
  {
   "cell_type": "markdown",
   "metadata": {},
   "source": [
    "- sender - recipient - **sharing** **secret** **keys** - over some **secure** **channel** - **eliminated** - vendor publishes - public key - all communication involves - public key - **no** - **private** **key** - **ever** transmitted/**shared** - capturing - ciphertext - $C$ - knowledge of - public key - not allow an adversary break the system [6]"
   ]
  },
  {
   "cell_type": "markdown",
   "metadata": {},
   "source": [
    "***\n",
    "# END"
   ]
  }
 ],
 "metadata": {
  "kernelspec": {
   "display_name": "Python 3",
   "language": "python",
   "name": "python3"
  },
  "language_info": {
   "codemirror_mode": {
    "name": "ipython",
    "version": 3
   },
   "file_extension": ".py",
   "mimetype": "text/x-python",
   "name": "python",
   "nbconvert_exporter": "python",
   "pygments_lexer": "ipython3",
   "version": "3.7.6"
  }
 },
 "nbformat": 4,
 "nbformat_minor": 4
}
