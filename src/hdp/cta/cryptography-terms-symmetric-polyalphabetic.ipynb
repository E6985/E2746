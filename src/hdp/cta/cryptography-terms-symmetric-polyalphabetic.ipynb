{
 "cells": [
  {
   "cell_type": "markdown",
   "metadata": {},
   "source": [
    "# cryptography-terms-symmetric-polyalphabetic\n",
    "> [TABLE OF CONTENTS](https://github.com/E6985/E2746/blob/master/README.md)\n",
    "***"
   ]
  },
  {
   "cell_type": "markdown",
   "metadata": {},
   "source": [
    "- polyalphabetic substitution - more sophisticated - not using a single letter shift as with the caesar cipher - poly - multiple - key - simple phrase of a fixed length which can repeat if necessary across the plaintext - P - add the value of the letter in the key to the value of the letter in the plaintext - P - at the same position to get the ciphertext - C -  can wrap around if necessary - assign numeric values to plaintext - P - letters - not secret - known by everyone [6]"
   ]
  },
  {
   "cell_type": "markdown",
   "metadata": {},
   "source": [
    "<img src=\"img/05-06-01.png\" />"
   ]
  },
  {
   "cell_type": "markdown",
   "metadata": {},
   "source": [
    "- assign numeric value to plaintext - P - numbers - now have a thirty-six item code list - no distinction between uppercase and lowercase -  twenty-six letters -  twenty-six corrsponding codes - plus 10 numbers with associated codes [6]"
   ]
  },
  {
   "cell_type": "markdown",
   "metadata": {},
   "source": [
    "<img src=\"img/05-06-01-3.png\" />"
   ]
  },
  {
   "cell_type": "markdown",
   "metadata": {},
   "source": [
    "- essentially multiple caesar-type ciphers - main advantage is that same plaintext - P - gets mapped onto different ciphertext - C - analysis of breaking this code is difficult - total of thirty-six encoding - using numbers to present the letters - represent the plaintext - P - numbers [6]"
   ]
  },
  {
   "cell_type": "markdown",
   "metadata": {},
   "source": [
    "***\n",
    "# END"
   ]
  }
 ],
 "metadata": {
  "kernelspec": {
   "display_name": "Python 3",
   "language": "python",
   "name": "python3"
  },
  "language_info": {
   "codemirror_mode": {
    "name": "ipython",
    "version": 3
   },
   "file_extension": ".py",
   "mimetype": "text/x-python",
   "name": "python",
   "nbconvert_exporter": "python",
   "pygments_lexer": "ipython3",
   "version": "3.7.6"
  }
 },
 "nbformat": 4,
 "nbformat_minor": 4
}
