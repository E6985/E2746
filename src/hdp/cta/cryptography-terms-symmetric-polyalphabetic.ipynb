{
 "cells": [
  {
   "cell_type": "markdown",
   "metadata": {},
   "source": [
    "# cryptography-terms-symmetric-polyalphabetic\n",
    "> [TABLE OF CONTENTS](https://github.com/E6985/E2746/blob/master/README.md)\n",
    "***"
   ]
  },
  {
   "cell_type": "markdown",
   "metadata": {},
   "source": [
    "- polyalphabetic substitution - more **sophisticated** - **not** using a **single** **letter** **shift** as with the caesar cipher - **multiple** - **poly** [6]"
   ]
  },
  {
   "cell_type": "markdown",
   "metadata": {},
   "source": [
    "- **key** - is a simple **phrase** of a **fixed** **length** which can repeat if necessary across the plaintext - $P$ [6]"
   ]
  },
  {
   "cell_type": "markdown",
   "metadata": {},
   "source": [
    "- **assign** **numeric** **values** to plaintext - $P$ - **letters** - **not** **secret** - **known** by **everyone** - numeric codes assigned to letters of the alphabetic - can now add letters together [6]"
   ]
  },
  {
   "cell_type": "markdown",
   "metadata": {},
   "source": [
    "<img src=\"img/05-06-01.png\" />"
   ]
  },
  {
   "cell_type": "markdown",
   "metadata": {},
   "source": [
    "- **assign** **numeric** **values** to plaintext - $P$ - **numbers** - now have a thirty-six **item** **code** **list** - no distinction between uppercase and lowercase -  twenty-six letters -  twenty-six corrsponding codes - plus ten numbers in the numbering system - ten numbers [6]"
   ]
  },
  {
   "cell_type": "markdown",
   "metadata": {},
   "source": [
    "<img src=\"img/05-06-01-1.png\" />"
   ]
  },
  {
   "cell_type": "code",
   "execution_count": 1,
   "metadata": {},
   "outputs": [],
   "source": [
    "nDictItemCodeList={\n",
    "    \"A\":1,\"B\":2,\"C\":3,\"D\":4,\"E\":5,\"F\":6,\n",
    "    \"G\":7,\"H\":8,\"I\":9,\"J\":10,\"K\":11,\"L\":12,\n",
    "    \"M\":13,\"N\":14,\"O\":15,\"P\":16,\"Q\":17,\"R\":18,\n",
    "    \"S\":19,\"T\":20,\"U\":21,\"V\":22,\"W\":23,\"X\":24,\n",
    "    \"Y\":25,\"Z\":26,\"0\":27,\"1\":28,\"2\":29,\"3\":30,\n",
    "    \"4\":31,\"5\":32,\"6\":33,\"7\":34,\"8\":35,\"9\":36\n",
    "}"
   ]
  },
  {
   "cell_type": "code",
   "execution_count": 2,
   "metadata": {},
   "outputs": [
    {
     "data": {
      "text/plain": [
       "'<item code list length> 36'"
      ]
     },
     "execution_count": 2,
     "metadata": {},
     "output_type": "execute_result"
    }
   ],
   "source": [
    "nItemCodeList=len(nDictItemCodeList)\n",
    "\"<item code list length> {}\".format(nItemCodeList)"
   ]
  },
  {
   "cell_type": "markdown",
   "metadata": {},
   "source": [
    "- keep **secret** using - **polyalphabetic** **substitution** **cipher** - polyalphabetic substitution **encryption** **algorithm** [6]"
   ]
  },
  {
   "cell_type": "markdown",
   "metadata": {},
   "source": [
    "<img src=\"img/05-06-01-2.png\" />"
   ]
  },
  {
   "cell_type": "markdown",
   "metadata": {},
   "source": [
    "- **choose** - **key** - **phrase** - **shorter** than the **plaintext** - $P$ - have to **repeat** the - **key** - **phrase** as appropriate [6]"
   ]
  },
  {
   "cell_type": "markdown",
   "metadata": {},
   "source": [
    "<img src=\"img/05-06-01-3.png\" />"
   ]
  },
  {
   "cell_type": "markdown",
   "metadata": {},
   "source": [
    "- **add** the **value** of the **letter** in the **key** to the value of the **letter** in the **plaintext** - $P$ - at the **same** **position** to get the **ciphertext** - $C$ -  can wrap around if necessary [6]"
   ]
  },
  {
   "cell_type": "markdown",
   "metadata": {},
   "source": [
    "<img src=\"img/05-06-01-4.png\" />"
   ]
  },
  {
   "cell_type": "markdown",
   "metadata": {},
   "source": [
    "- **algorithm** - for **each** **position** of the **plaintext** - $P$ - i) get **numeric** **value** from the thirty-six item code list - ii) get **corresponding** numeric value from the thirty-six item code list for the **letter** in the **same** **position** in the - **key** - **phrase** [6]"
   ]
  },
  {
   "cell_type": "code",
   "execution_count": 3,
   "metadata": {},
   "outputs": [
    {
     "data": {
      "text/plain": [
       "'<plaintext (P)> W'"
      ]
     },
     "execution_count": 3,
     "metadata": {},
     "output_type": "execute_result"
    }
   ],
   "source": [
    "nLetter=\"W\"\n",
    "\"<plaintext (P)> {}\".format(nLetter)"
   ]
  },
  {
   "cell_type": "code",
   "execution_count": 4,
   "metadata": {},
   "outputs": [
    {
     "data": {
      "text/plain": [
       "'W <value> 23'"
      ]
     },
     "execution_count": 4,
     "metadata": {},
     "output_type": "execute_result"
    }
   ],
   "source": [
    "\"{} <value> {}\".format(nLetter,nDictItemCodeList.get(nLetter))"
   ]
  },
  {
   "cell_type": "code",
   "execution_count": 5,
   "metadata": {},
   "outputs": [
    {
     "data": {
      "text/plain": [
       "'W <paired key (phase)> T'"
      ]
     },
     "execution_count": 5,
     "metadata": {},
     "output_type": "execute_result"
    }
   ],
   "source": [
    "nMapped=\"T\"\n",
    "\"{} <paired key (phase)> {}\".format(nLetter,nMapped)"
   ]
  },
  {
   "cell_type": "code",
   "execution_count": 6,
   "metadata": {},
   "outputs": [
    {
     "data": {
      "text/plain": [
       "'T <value> 20'"
      ]
     },
     "execution_count": 6,
     "metadata": {},
     "output_type": "execute_result"
    }
   ],
   "source": [
    "\"{} <value> {}\".format(nMapped,nDictItemCodeList.get(nMapped))"
   ]
  },
  {
   "cell_type": "markdown",
   "metadata": {},
   "source": [
    "$Encr(P)$"
   ]
  },
  {
   "cell_type": "code",
   "execution_count": 7,
   "metadata": {},
   "outputs": [
    {
     "data": {
      "text/plain": [
       "'<Encr(P)> 43'"
      ]
     },
     "execution_count": 7,
     "metadata": {},
     "output_type": "execute_result"
    }
   ],
   "source": [
    "nEncr=nDictItemCodeList.get(nLetter)+nDictItemCodeList.get(nMapped)\n",
    "\"<Encr(P)> {}\".format(nEncr)"
   ]
  },
  {
   "cell_type": "markdown",
   "metadata": {},
   "source": [
    "- thirty-six codes - no forty-third code - wrap around [6]\n",
    "\n",
    "$C = Encr(P)$"
   ]
  },
  {
   "cell_type": "markdown",
   "metadata": {},
   "source": [
    "<img src=\"img/05-06-01-6.png\" />"
   ]
  },
  {
   "cell_type": "code",
   "execution_count": 8,
   "metadata": {},
   "outputs": [
    {
     "data": {
      "text/plain": [
       "'<Ciphertext (C) = Encr(P)> 7'"
      ]
     },
     "execution_count": 8,
     "metadata": {},
     "output_type": "execute_result"
    }
   ],
   "source": [
    "nCiphertext=nEncr%nItemCodeList\n",
    "\"<Ciphertext (C) = Encr(P)> {}\".format(nCiphertext)"
   ]
  },
  {
   "cell_type": "markdown",
   "metadata": {},
   "source": [
    "<img src=\"img/05-06-01-5.png\" />"
   ]
  },
  {
   "cell_type": "code",
   "execution_count": 9,
   "metadata": {},
   "outputs": [
    {
     "data": {
      "text/plain": [
       "'<plaintext (P)> W <paired key (phase)> T <encrypts> G'"
      ]
     },
     "execution_count": 9,
     "metadata": {},
     "output_type": "execute_result"
    }
   ],
   "source": [
    "nEncrypt=list(nDictItemCodeList.keys())[list(nDictItemCodeList.values()).index(nCiphertext)]\n",
    "\"<plaintext (P)> {} <paired key (phase)> {} <encrypts> {}\".format(nLetter,nMapped,nEncrypt)"
   ]
  },
  {
   "cell_type": "code",
   "execution_count": 10,
   "metadata": {},
   "outputs": [
    {
     "data": {
      "text/plain": [
       "'<plaintext (P)> E'"
      ]
     },
     "execution_count": 10,
     "metadata": {},
     "output_type": "execute_result"
    }
   ],
   "source": [
    "nLetter=\"E\"\n",
    "\"<plaintext (P)> {}\".format(nLetter)"
   ]
  },
  {
   "cell_type": "code",
   "execution_count": 11,
   "metadata": {},
   "outputs": [
    {
     "data": {
      "text/plain": [
       "'E <value> 5'"
      ]
     },
     "execution_count": 11,
     "metadata": {},
     "output_type": "execute_result"
    }
   ],
   "source": [
    "\"{} <value> {}\".format(nLetter,nDictItemCodeList.get(nLetter))"
   ]
  },
  {
   "cell_type": "code",
   "execution_count": 12,
   "metadata": {},
   "outputs": [
    {
     "data": {
      "text/plain": [
       "'E <paired key (phase)> H'"
      ]
     },
     "execution_count": 12,
     "metadata": {},
     "output_type": "execute_result"
    }
   ],
   "source": [
    "nMapped=\"H\"\n",
    "\"{} <paired key (phase)> {}\".format(nLetter,nMapped)"
   ]
  },
  {
   "cell_type": "code",
   "execution_count": 13,
   "metadata": {},
   "outputs": [
    {
     "data": {
      "text/plain": [
       "'H <value> 8'"
      ]
     },
     "execution_count": 13,
     "metadata": {},
     "output_type": "execute_result"
    }
   ],
   "source": [
    "\"{} <value> {}\".format(nMapped,nDictItemCodeList.get(nMapped))"
   ]
  },
  {
   "cell_type": "markdown",
   "metadata": {},
   "source": [
    "$Encr(P)$"
   ]
  },
  {
   "cell_type": "code",
   "execution_count": 14,
   "metadata": {},
   "outputs": [
    {
     "data": {
      "text/plain": [
       "'<Encr(P)> 13'"
      ]
     },
     "execution_count": 14,
     "metadata": {},
     "output_type": "execute_result"
    }
   ],
   "source": [
    "nEncr=nDictItemCodeList.get(nLetter)+nDictItemCodeList.get(nMapped)\n",
    "\"<Encr(P)> {}\".format(nEncr)"
   ]
  },
  {
   "cell_type": "markdown",
   "metadata": {},
   "source": [
    "$C = Encr(P)$"
   ]
  },
  {
   "cell_type": "code",
   "execution_count": 15,
   "metadata": {},
   "outputs": [
    {
     "data": {
      "text/plain": [
       "'<Ciphertext (C) = Encr(P)> 13'"
      ]
     },
     "execution_count": 15,
     "metadata": {},
     "output_type": "execute_result"
    }
   ],
   "source": [
    "nCiphertext=nEncr%nItemCodeList\n",
    "\"<Ciphertext (C) = Encr(P)> {}\".format(nCiphertext)"
   ]
  },
  {
   "cell_type": "markdown",
   "metadata": {},
   "source": [
    "<img src=\"img/05-06-01-5.png\" />"
   ]
  },
  {
   "cell_type": "code",
   "execution_count": 16,
   "metadata": {},
   "outputs": [
    {
     "data": {
      "text/plain": [
       "'<plaintext (P)> E <paired key (phase)> H <encrypts> M'"
      ]
     },
     "execution_count": 16,
     "metadata": {},
     "output_type": "execute_result"
    }
   ],
   "source": [
    "nEncrypt=list(nDictItemCodeList.keys())[list(nDictItemCodeList.values()).index(nCiphertext)]\n",
    "\"<plaintext (P)> {} <paired key (phase)> {} <encrypts> {}\".format(nLetter,nMapped,nEncrypt)"
   ]
  },
  {
   "cell_type": "markdown",
   "metadata": {},
   "source": [
    "- essentially **multiple** **caesar**-type **ciphers** - main **advantage** is that **same** **plaintext** - $P$ - gets **mapped** onto **different** **ciphertext** - $C$ - analysis of breaking this code is difficult [6]"
   ]
  },
  {
   "cell_type": "markdown",
   "metadata": {},
   "source": [
    "<img src=\"img/05-06-01-7.png\" />"
   ]
  },
  {
   "cell_type": "code",
   "execution_count": 17,
   "metadata": {},
   "outputs": [
    {
     "data": {
      "text/plain": [
       "'<plaintext (P)> L'"
      ]
     },
     "execution_count": 17,
     "metadata": {},
     "output_type": "execute_result"
    }
   ],
   "source": [
    "nLetter=\"L\"\n",
    "\"<plaintext (P)> {}\".format(nLetter)"
   ]
  },
  {
   "cell_type": "code",
   "execution_count": 18,
   "metadata": {},
   "outputs": [
    {
     "data": {
      "text/plain": [
       "'L <value> 12'"
      ]
     },
     "execution_count": 18,
     "metadata": {},
     "output_type": "execute_result"
    }
   ],
   "source": [
    "\"{} <value> {}\".format(nLetter,nDictItemCodeList.get(nLetter))"
   ]
  },
  {
   "cell_type": "code",
   "execution_count": 19,
   "metadata": {},
   "outputs": [
    {
     "data": {
      "text/plain": [
       "'L <paired key (phase)> T'"
      ]
     },
     "execution_count": 19,
     "metadata": {},
     "output_type": "execute_result"
    }
   ],
   "source": [
    "nMapped=\"T\"\n",
    "\"{} <paired key (phase)> {}\".format(nLetter,nMapped)"
   ]
  },
  {
   "cell_type": "code",
   "execution_count": 20,
   "metadata": {},
   "outputs": [
    {
     "data": {
      "text/plain": [
       "'T <value> 20'"
      ]
     },
     "execution_count": 20,
     "metadata": {},
     "output_type": "execute_result"
    }
   ],
   "source": [
    "\"{} <value> {}\".format(nMapped,nDictItemCodeList.get(nMapped))"
   ]
  },
  {
   "cell_type": "markdown",
   "metadata": {},
   "source": [
    "$Encr(P)$"
   ]
  },
  {
   "cell_type": "code",
   "execution_count": 21,
   "metadata": {},
   "outputs": [
    {
     "data": {
      "text/plain": [
       "'<Encr(P)> 32'"
      ]
     },
     "execution_count": 21,
     "metadata": {},
     "output_type": "execute_result"
    }
   ],
   "source": [
    "nEncr=nDictItemCodeList.get(nLetter)+nDictItemCodeList.get(nMapped)\n",
    "\"<Encr(P)> {}\".format(nEncr)"
   ]
  },
  {
   "cell_type": "markdown",
   "metadata": {},
   "source": [
    "$C = Encr(P)$"
   ]
  },
  {
   "cell_type": "code",
   "execution_count": 22,
   "metadata": {},
   "outputs": [
    {
     "data": {
      "text/plain": [
       "'<Ciphertext (C) = Encr(P)> 32'"
      ]
     },
     "execution_count": 22,
     "metadata": {},
     "output_type": "execute_result"
    }
   ],
   "source": [
    "nCiphertext=nEncr%nItemCodeList\n",
    "\"<Ciphertext (C) = Encr(P)> {}\".format(nCiphertext)"
   ]
  },
  {
   "cell_type": "code",
   "execution_count": 23,
   "metadata": {},
   "outputs": [
    {
     "data": {
      "text/plain": [
       "'<plaintext (P)> L <paired key (phase)> T <encrypts> 5'"
      ]
     },
     "execution_count": 23,
     "metadata": {},
     "output_type": "execute_result"
    }
   ],
   "source": [
    "nEncrypt=list(nDictItemCodeList.keys())[list(nDictItemCodeList.values()).index(nCiphertext)]\n",
    "\"<plaintext (P)> {} <paired key (phase)> {} <encrypts> {}\".format(nLetter,nMapped,nEncrypt)"
   ]
  },
  {
   "cell_type": "markdown",
   "metadata": {},
   "source": [
    "- **same** **plaintext** - $P$ - **mapped** onto **different** **ciphertext** - $C$ - crack code - **frequency** **analysis** of **no** **use** [6]"
   ]
  },
  {
   "cell_type": "code",
   "execution_count": 24,
   "metadata": {},
   "outputs": [
    {
     "data": {
      "text/plain": [
       "'<plaintext (P)> L'"
      ]
     },
     "execution_count": 24,
     "metadata": {},
     "output_type": "execute_result"
    }
   ],
   "source": [
    "nLetter=\"L\"\n",
    "\"<plaintext (P)> {}\".format(nLetter)"
   ]
  },
  {
   "cell_type": "code",
   "execution_count": 25,
   "metadata": {},
   "outputs": [
    {
     "data": {
      "text/plain": [
       "'L <value> 12'"
      ]
     },
     "execution_count": 25,
     "metadata": {},
     "output_type": "execute_result"
    }
   ],
   "source": [
    "\"{} <value> {}\".format(nLetter,nDictItemCodeList.get(nLetter))"
   ]
  },
  {
   "cell_type": "code",
   "execution_count": 26,
   "metadata": {},
   "outputs": [
    {
     "data": {
      "text/plain": [
       "'L <paired key (phase)> H'"
      ]
     },
     "execution_count": 26,
     "metadata": {},
     "output_type": "execute_result"
    }
   ],
   "source": [
    "nMapped=\"H\"\n",
    "\"{} <paired key (phase)> {}\".format(nLetter,nMapped)"
   ]
  },
  {
   "cell_type": "code",
   "execution_count": 27,
   "metadata": {},
   "outputs": [
    {
     "data": {
      "text/plain": [
       "'H <value> 8'"
      ]
     },
     "execution_count": 27,
     "metadata": {},
     "output_type": "execute_result"
    }
   ],
   "source": [
    "\"{} <value> {}\".format(nMapped,nDictItemCodeList.get(nMapped))"
   ]
  },
  {
   "cell_type": "markdown",
   "metadata": {},
   "source": [
    "$Encr(P)$"
   ]
  },
  {
   "cell_type": "code",
   "execution_count": 28,
   "metadata": {},
   "outputs": [
    {
     "data": {
      "text/plain": [
       "'<Encr(P)> 20'"
      ]
     },
     "execution_count": 28,
     "metadata": {},
     "output_type": "execute_result"
    }
   ],
   "source": [
    "nEncr=nDictItemCodeList.get(nLetter)+nDictItemCodeList.get(nMapped)\n",
    "\"<Encr(P)> {}\".format(nEncr)"
   ]
  },
  {
   "cell_type": "markdown",
   "metadata": {},
   "source": [
    "$C = Encr(P)$"
   ]
  },
  {
   "cell_type": "code",
   "execution_count": 29,
   "metadata": {},
   "outputs": [
    {
     "data": {
      "text/plain": [
       "'<Ciphertext (C) = Encr(P)> 20'"
      ]
     },
     "execution_count": 29,
     "metadata": {},
     "output_type": "execute_result"
    }
   ],
   "source": [
    "nCiphertext=nEncr%nItemCodeList\n",
    "\"<Ciphertext (C) = Encr(P)> {}\".format(nCiphertext)"
   ]
  },
  {
   "cell_type": "code",
   "execution_count": 30,
   "metadata": {},
   "outputs": [
    {
     "data": {
      "text/plain": [
       "'<plaintext (P)> L <paired key (phase)> H <encrypts> T'"
      ]
     },
     "execution_count": 30,
     "metadata": {},
     "output_type": "execute_result"
    }
   ],
   "source": [
    "nEncrypt=list(nDictItemCodeList.keys())[list(nDictItemCodeList.values()).index(nCiphertext)]\n",
    "\"<plaintext (P)> {} <paired key (phase)> {} <encrypts> {}\".format(nLetter,nMapped,nEncrypt)"
   ]
  },
  {
   "cell_type": "markdown",
   "metadata": {},
   "source": [
    "- encryption algorithm - polyalphabetic substitution - formal representation - total of thirty-six encodings - plaintext - $P$ - key - phrase - ciphertext - $C$ [6]"
   ]
  },
  {
   "cell_type": "markdown",
   "metadata": {},
   "source": [
    "<img src=\"img/05-06-01-1.png\" />"
   ]
  },
  {
   "cell_type": "markdown",
   "metadata": {},
   "source": [
    "<img src=\"img/05-06-01-5.png\" />"
   ]
  },
  {
   "cell_type": "markdown",
   "metadata": {},
   "source": [
    "- ciphertext value - $C_{v}$ - obtained by taking - plaintext value - $P_{v}$ - adding - key phrase value - $K_{v}$ - dividing by - $modulo$ $36$ [6]\n",
    "\n",
    "$C_{v}$ = ($P_{v}$ + $K_{v}$) $mod$ $36$"
   ]
  },
  {
   "cell_type": "markdown",
   "metadata": {},
   "source": [
    "- plaintext - $P$ - W - value - 23 - adding - key phrase known - T - value - 20 - modulo - 36 - equals - ciphertext - $C$ - value - 13 - associated letter - G [6]"
   ]
  },
  {
   "cell_type": "code",
   "execution_count": 31,
   "metadata": {},
   "outputs": [
    {
     "data": {
      "text/plain": [
       "'G'"
      ]
     },
     "execution_count": 31,
     "metadata": {},
     "output_type": "execute_result"
    }
   ],
   "source": [
    "list(nDictItemCodeList.keys())[list(nDictItemCodeList.values()).index((23+20)%36)]"
   ]
  },
  {
   "cell_type": "markdown",
   "metadata": {},
   "source": [
    "- **decryption** **algorithm** - polyalphabetic substitution - formal representation - total of thirty-six encodings - plaintext - $P$ - key - phrase - ciphertext - $C$ - **reverse** - **encryption** **algorithm** - expected given symmetric cryptographic process - **symmetry** exits - one direction - same as - opposite direction [6]"
   ]
  },
  {
   "cell_type": "markdown",
   "metadata": {},
   "source": [
    "<img src=\"img/05-06-01-1.png\" />"
   ]
  },
  {
   "cell_type": "markdown",
   "metadata": {},
   "source": [
    "<img src=\"img/05-06-01-5.png\" />"
   ]
  },
  {
   "cell_type": "markdown",
   "metadata": {},
   "source": [
    "- plaintext value - plaintext value - $P_{v}$ - obtained by subtracting - key phrase value - $K_{v}$ - from - ciphertext value - $C_{v}$ - $modulo$ $36$ [6]\n",
    "\n",
    "$P_{v}$ = ($C_{v}$ - $K_{v}$) $mod$ $36$"
   ]
  },
  {
   "cell_type": "markdown",
   "metadata": {},
   "source": [
    "- ciphertext - $C$ - G - value - 7 - minus - key phrase known - T - value - 20 - modulo - 36 - equals - plaintext - $P$ - value - 23 - associated letter - W [6]"
   ]
  },
  {
   "cell_type": "code",
   "execution_count": 32,
   "metadata": {},
   "outputs": [
    {
     "data": {
      "text/plain": [
       "'W'"
      ]
     },
     "execution_count": 32,
     "metadata": {},
     "output_type": "execute_result"
    }
   ],
   "source": [
    "list(nDictItemCodeList.keys())[list(nDictItemCodeList.values()).index((7-20)%36)]"
   ]
  },
  {
   "cell_type": "markdown",
   "metadata": {},
   "source": [
    "***\n",
    "# END"
   ]
  }
 ],
 "metadata": {
  "kernelspec": {
   "display_name": "Python 3",
   "language": "python",
   "name": "python3"
  },
  "language_info": {
   "codemirror_mode": {
    "name": "ipython",
    "version": 3
   },
   "file_extension": ".py",
   "mimetype": "text/x-python",
   "name": "python",
   "nbconvert_exporter": "python",
   "pygments_lexer": "ipython3",
   "version": "3.7.6"
  }
 },
 "nbformat": 4,
 "nbformat_minor": 4
}
