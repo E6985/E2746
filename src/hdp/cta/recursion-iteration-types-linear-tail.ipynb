{
 "cells": [
  {
   "cell_type": "markdown",
   "metadata": {},
   "source": [
    "# recursion-iteration-types-linear-tail\n",
    "> [TABLE OF CONTENTS](https://github.com/E6985/E2746/blob/master/README.md)\n",
    "***"
   ]
  },
  {
   "cell_type": "markdown",
   "metadata": {},
   "source": [
    "- specific **type** of **linear** recursion [6]"
   ]
  },
  {
   "cell_type": "markdown",
   "metadata": {},
   "source": [
    "- method - makes **single** **call** to itself - note it is at the very **last** **operation** in the method - single recursive call - everytime the method is invoked - activation frame - record - will be placed on **top** of the program **stack** [6]"
   ]
  },
  {
   "cell_type": "markdown",
   "metadata": {},
   "source": [
    "- want to **avoid** - **multiple** **active** **stack** **frames** which are unnecessary because they have **finished** their **work** in tail recursion - ok to use but can be **expensive** and **inefficient** - end up with all these activation frame records still taking up space on the stack even though they have actually completed their task and it is right at the end of the method - use sparingly and carefully [6]"
   ]
  },
  {
   "cell_type": "markdown",
   "metadata": {},
   "source": [
    "***\n",
    "# END"
   ]
  }
 ],
 "metadata": {
  "kernelspec": {
   "display_name": "Python 3",
   "language": "python",
   "name": "python3"
  },
  "language_info": {
   "codemirror_mode": {
    "name": "ipython",
    "version": 3
   },
   "file_extension": ".py",
   "mimetype": "text/x-python",
   "name": "python",
   "nbconvert_exporter": "python",
   "pygments_lexer": "ipython3",
   "version": "3.7.6"
  }
 },
 "nbformat": 4,
 "nbformat_minor": 4
}
