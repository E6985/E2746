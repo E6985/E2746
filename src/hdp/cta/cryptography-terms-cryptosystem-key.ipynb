{
 "cells": [
  {
   "cell_type": "markdown",
   "metadata": {},
   "source": [
    "# cryptography-terms-cryptosystem-key\n",
    "> [TABLE OF CONTENTS](https://github.com/E6985/E2746/blob/master/README.md)\n",
    "***"
   ]
  },
  {
   "cell_type": "markdown",
   "metadata": {},
   "source": [
    "- **polyalphabetic** **substitution** - **simple** - **key** - phrase - used for unlocking the message - each letter of the phrase could take on one of twenty-six possible numeric values [6] "
   ]
  },
  {
   "cell_type": "markdown",
   "metadata": {},
   "source": [
    "<img src=\"img/05-06-01-3.png\" />"
   ]
  },
  {
   "cell_type": "code",
   "execution_count": 1,
   "metadata": {},
   "outputs": [],
   "source": [
    "nDictItemCodeList={\n",
    "    \"A\":1,\"B\":2,\"C\":3,\"D\":4,\"E\":5,\"F\":6,\n",
    "    \"G\":7,\"H\":8,\"I\":9,\"J\":10,\"K\":11,\"L\":12,\n",
    "    \"M\":13,\"N\":14,\"O\":15,\"P\":16,\"Q\":17,\"R\":18,\n",
    "    \"S\":19,\"T\":20,\"U\":21,\"V\":22,\"W\":23,\"X\":24,\n",
    "    \"Y\":25,\"Z\":26\n",
    "}"
   ]
  },
  {
   "cell_type": "code",
   "execution_count": 2,
   "metadata": {},
   "outputs": [
    {
     "data": {
      "text/plain": [
       "dict_keys(['A', 'B', 'C', 'D', 'E', 'F', 'G', 'H', 'I', 'J', 'K', 'L', 'M', 'N', 'O', 'P', 'Q', 'R', 'S', 'T', 'U', 'V', 'W', 'X', 'Y', 'Z'])"
      ]
     },
     "execution_count": 2,
     "metadata": {},
     "output_type": "execute_result"
    }
   ],
   "source": [
    "nDictItemCodeList.keys()"
   ]
  },
  {
   "cell_type": "code",
   "execution_count": 3,
   "metadata": {},
   "outputs": [
    {
     "data": {
      "text/plain": [
       "dict_values([1, 2, 3, 4, 5, 6, 7, 8, 9, 10, 11, 12, 13, 14, 15, 16, 17, 18, 19, 20, 21, 22, 23, 24, 25, 26])"
      ]
     },
     "execution_count": 3,
     "metadata": {},
     "output_type": "execute_result"
    }
   ],
   "source": [
    "nDictItemCodeList.values()"
   ]
  },
  {
   "cell_type": "code",
   "execution_count": 4,
   "metadata": {},
   "outputs": [
    {
     "data": {
      "text/plain": [
       "dict_items([('A', 1), ('B', 2), ('C', 3), ('D', 4), ('E', 5), ('F', 6), ('G', 7), ('H', 8), ('I', 9), ('J', 10), ('K', 11), ('L', 12), ('M', 13), ('N', 14), ('O', 15), ('P', 16), ('Q', 17), ('R', 18), ('S', 19), ('T', 20), ('U', 21), ('V', 22), ('W', 23), ('X', 24), ('Y', 25), ('Z', 26)])"
      ]
     },
     "execution_count": 4,
     "metadata": {},
     "output_type": "execute_result"
    }
   ],
   "source": [
    "nDictItemCodeList.items()"
   ]
  },
  {
   "cell_type": "code",
   "execution_count": 5,
   "metadata": {},
   "outputs": [
    {
     "data": {
      "text/plain": [
       "'<item code list> <length> 26'"
      ]
     },
     "execution_count": 5,
     "metadata": {},
     "output_type": "execute_result"
    }
   ],
   "source": [
    "nItemCodeList=len(nDictItemCodeList)\n",
    "\"<item code list> <length> {}\".format(nItemCodeList)"
   ]
  },
  {
   "cell_type": "code",
   "execution_count": 6,
   "metadata": {},
   "outputs": [
    {
     "data": {
      "text/plain": [
       "'T <value> 20'"
      ]
     },
     "execution_count": 6,
     "metadata": {},
     "output_type": "execute_result"
    }
   ],
   "source": [
    "nMapped=\"T\"\n",
    "\"{} <value> {}\".format(nMapped,nDictItemCodeList.get(nMapped))"
   ]
  },
  {
   "cell_type": "code",
   "execution_count": 7,
   "metadata": {},
   "outputs": [
    {
     "data": {
      "text/plain": [
       "'H <value> 8'"
      ]
     },
     "execution_count": 7,
     "metadata": {},
     "output_type": "execute_result"
    }
   ],
   "source": [
    "nMapped=\"H\"\n",
    "\"{} <value> {}\".format(nMapped,nDictItemCodeList.get(nMapped))"
   ]
  },
  {
   "cell_type": "code",
   "execution_count": 8,
   "metadata": {},
   "outputs": [
    {
     "data": {
      "text/plain": [
       "'...ISTHED <value>'"
      ]
     },
     "execution_count": 8,
     "metadata": {},
     "output_type": "execute_result"
    }
   ],
   "source": [
    "\"...ISTHED <value>\""
   ]
  },
  {
   "cell_type": "code",
   "execution_count": 9,
   "metadata": {},
   "outputs": [
    {
     "data": {
      "text/plain": [
       "'A <value> 1'"
      ]
     },
     "execution_count": 9,
     "metadata": {},
     "output_type": "execute_result"
    }
   ],
   "source": [
    "nMapped=\"A\"\n",
    "\"{} <value> {}\".format(nMapped,nDictItemCodeList.get(nMapped))"
   ]
  },
  {
   "cell_type": "code",
   "execution_count": 10,
   "metadata": {},
   "outputs": [
    {
     "data": {
      "text/plain": [
       "'Y <value> 25'"
      ]
     },
     "execution_count": 10,
     "metadata": {},
     "output_type": "execute_result"
    }
   ],
   "source": [
    "nMapped=\"Y\"\n",
    "\"{} <value> {}\".format(nMapped,nDictItemCodeList.get(nMapped))"
   ]
  },
  {
   "cell_type": "markdown",
   "metadata": {},
   "source": [
    "- **key** - is a **number** - ten spaces - ten characters in the phrase - each character could be any one of twenty-six possible values - **potential** - key **space** - twenty-six to its tenth power - if the **number** - key - sufficiently **hard** - **difficult** to find in a **reasonable** amount of **time** [6]\n",
    "\n",
    "$26^{10}$"
   ]
  },
  {
   "cell_type": "markdown",
   "metadata": {},
   "source": [
    "<img src=\"img/05-08.png\" />"
   ]
  },
  {
   "cell_type": "code",
   "execution_count": 11,
   "metadata": {},
   "outputs": [
    {
     "data": {
      "text/plain": [
       "'<possible key space> <keys (phrases)> <values> 141167095653376'"
      ]
     },
     "execution_count": 11,
     "metadata": {},
     "output_type": "execute_result"
    }
   ],
   "source": [
    "\"<possible key space> <keys (phrases)> <values> {}\".format(nItemCodeList**10)"
   ]
  },
  {
   "cell_type": "markdown",
   "metadata": {},
   "source": [
    "- key - multiples - bits - bytes - 8-bits long [6]\n",
    "\n",
    "$2^{8}$"
   ]
  },
  {
   "cell_type": "code",
   "execution_count": 12,
   "metadata": {},
   "outputs": [
    {
     "data": {
      "text/plain": [
       "'<possible key space> <keys (phrases)> <values> 256'"
      ]
     },
     "execution_count": 12,
     "metadata": {},
     "output_type": "execute_result"
    }
   ],
   "source": [
    "\"<possible key space> <keys (phrases)> <values> {}\".format(2**8)"
   ]
  },
  {
   "cell_type": "markdown",
   "metadata": {},
   "source": [
    "- key - 56-bits long - encryption system - if key is one of - two to the fifty-sixth power - to check each - key - test one-million keys per second - would take approximately 2285 years to try all key values [6]\n",
    "\n",
    "$2^{56}$"
   ]
  },
  {
   "cell_type": "code",
   "execution_count": 13,
   "metadata": {},
   "outputs": [
    {
     "data": {
      "text/plain": [
       "'<possible key space> <keys (phrases)> <values> 72057594037927936'"
      ]
     },
     "execution_count": 13,
     "metadata": {},
     "output_type": "execute_result"
    }
   ],
   "source": [
    "\"<possible key space> <keys (phrases)> <values> {:.0f}\".format(2**56)"
   ]
  },
  {
   "cell_type": "code",
   "execution_count": 14,
   "metadata": {},
   "outputs": [
    {
     "data": {
      "text/plain": [
       "'<seconds required to test all values> 72057594038'"
      ]
     },
     "execution_count": 14,
     "metadata": {},
     "output_type": "execute_result"
    }
   ],
   "source": [
    "\"<seconds required to test all values> {:.0f}\".format((2**56)/1000000)"
   ]
  },
  {
   "cell_type": "code",
   "execution_count": 15,
   "metadata": {},
   "outputs": [
    {
     "data": {
      "text/plain": [
       "'<minutes required to test all values> 1200959901'"
      ]
     },
     "execution_count": 15,
     "metadata": {},
     "output_type": "execute_result"
    }
   ],
   "source": [
    "\"<minutes required to test all values> {:.0f}\".format(((2**56)/1000000)/60)"
   ]
  },
  {
   "cell_type": "code",
   "execution_count": 16,
   "metadata": {},
   "outputs": [
    {
     "data": {
      "text/plain": [
       "'<hours required to test all values> 20015998'"
      ]
     },
     "execution_count": 16,
     "metadata": {},
     "output_type": "execute_result"
    }
   ],
   "source": [
    "\"<hours required to test all values> {:.0f}\".format((((2**56)/1000000)/60)/60)"
   ]
  },
  {
   "cell_type": "code",
   "execution_count": 17,
   "metadata": {},
   "outputs": [
    {
     "data": {
      "text/plain": [
       "'<days required to test all values> 2285'"
      ]
     },
     "execution_count": 17,
     "metadata": {},
     "output_type": "execute_result"
    }
   ],
   "source": [
    "\"<days required to test all values> {:.0f}\".format((((((2**56)/1000000)/60)/60)/24)/365)"
   ]
  },
  {
   "cell_type": "markdown",
   "metadata": {},
   "source": [
    "- key - 64-bits long - encryption system - if key is one of - two to the sixth-forth power - to check each - key - test one-million keys per second - would take approximately 584942 years to try all key values [6]\n",
    "\n",
    "$2^{64}$"
   ]
  },
  {
   "cell_type": "code",
   "execution_count": 18,
   "metadata": {},
   "outputs": [
    {
     "data": {
      "text/plain": [
       "'<days required to test all values> 584942'"
      ]
     },
     "execution_count": 18,
     "metadata": {},
     "output_type": "execute_result"
    }
   ],
   "source": [
    "\"<days required to test all values> {:.0f}\".format((((((2**64)/1000000)/60)/60)/24)/365)"
   ]
  },
  {
   "cell_type": "markdown",
   "metadata": {},
   "source": [
    "- key - 65-bits long - encryption system - if key is one of - two to the sixth-fifth power - to check each - key - test one-million keys per second - would take approximately 1169885 years to try all key values -  **power** **of** **exponentiation** - evident - $2^{64}$ bit key - take 584942 years - $2^{65}$ bit takes twice as long - **adding** **just** **one** **bit** **doubles** the search **space** [6]\n",
    "\n",
    "$2^{65}$"
   ]
  },
  {
   "cell_type": "code",
   "execution_count": 19,
   "metadata": {},
   "outputs": [
    {
     "data": {
      "text/plain": [
       "'<days required to test all values> 1169885'"
      ]
     },
     "execution_count": 19,
     "metadata": {},
     "output_type": "execute_result"
    }
   ],
   "source": [
    "\"<days required to test all values> {:.0f}\".format((((((2**65)/1000000)/60)/60)/24)/365)"
   ]
  },
  {
   "cell_type": "markdown",
   "metadata": {},
   "source": [
    "- key - 128-bits long - encryption system - if key is one of - two to the one-hundred-twenty-eight power - to check each - key - test one-million keys per second - would take over approximately - $10^{25}$ - 10790283070806013333471232 years to try all key values - universe only $10^{10}$ years old [6]\n",
    "\n",
    "$2^{128}$"
   ]
  },
  {
   "cell_type": "code",
   "execution_count": 20,
   "metadata": {
    "scrolled": true
   },
   "outputs": [
    {
     "data": {
      "text/plain": [
       "'<days required to test all values> 10790283070806013333471232'"
      ]
     },
     "execution_count": 20,
     "metadata": {},
     "output_type": "execute_result"
    }
   ],
   "source": [
    "\"<days required to test all values> {:.0f}\".format((((((2**128)/1000000)/60)/60)/24)/365)"
   ]
  },
  {
   "cell_type": "markdown",
   "metadata": {},
   "source": [
    "- **brute-force*** attack - **consider** - i) **number** of **keys** to be tested - ii) **speed** of **each** **test** - **naive** approach [6]"
   ]
  },
  {
   "cell_type": "markdown",
   "metadata": {},
   "source": [
    "***\n",
    "# END"
   ]
  }
 ],
 "metadata": {
  "kernelspec": {
   "display_name": "Python 3",
   "language": "python",
   "name": "python3"
  },
  "language_info": {
   "codemirror_mode": {
    "name": "ipython",
    "version": 3
   },
   "file_extension": ".py",
   "mimetype": "text/x-python",
   "name": "python",
   "nbconvert_exporter": "python",
   "pygments_lexer": "ipython3",
   "version": "3.7.6"
  }
 },
 "nbformat": 4,
 "nbformat_minor": 4
}
