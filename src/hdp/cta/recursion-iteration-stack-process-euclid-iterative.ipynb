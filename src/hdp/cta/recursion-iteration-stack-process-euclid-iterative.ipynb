{
 "cells": [
  {
   "cell_type": "markdown",
   "metadata": {},
   "source": [
    "# recursion-iteration-stack-process-euclid-iterative\n",
    "> [TABLE OF CONTENTS](https://github.com/E6985/E2746/blob/master/README.md)\n",
    "***"
   ]
  },
  {
   "cell_type": "markdown",
   "metadata": {},
   "source": [
    "```python\n",
    "class str(object='')\n",
    "class str(object=b'', encoding='utf-8', errors='strict')\n",
    "```\n",
    "> [Python Documentation](https://web.archive.org/web/20200503112950/https://docs.python.org/3/library/functions.html#func-str)"
   ]
  },
  {
   "cell_type": "markdown",
   "metadata": {},
   "source": [
    "```python\n",
    "str.format(*args, **kwargs)\n",
    "```\n",
    "> [Python Documentation](https://web.archive.org/web/20200502135931/https://docs.python.org/3/library/stdtypes.html#string-methods)"
   ]
  },
  {
   "cell_type": "code",
   "execution_count": 1,
   "metadata": {},
   "outputs": [
    {
     "data": {
      "text/plain": [
       "'GCD of two postive integers: 15 and 21'"
      ]
     },
     "execution_count": 1,
     "metadata": {},
     "output_type": "execute_result"
    }
   ],
   "source": [
    "nFirstInt,nSecondInt=15,21\n",
    "\"GCD of two postive integers: {} and {}\".format(nFirstInt,nSecondInt)"
   ]
  },
  {
   "cell_type": "code",
   "execution_count": 2,
   "metadata": {},
   "outputs": [],
   "source": [
    "# define function - fEuclid\n",
    "def fEuclid(nParA,nParB):\n",
    "    while nParB!=0:\n",
    "        nTemp=nParB\n",
    "        nParB=nParA%nParB\n",
    "        nParA=nTemp\n",
    "    return nParA"
   ]
  },
  {
   "cell_type": "code",
   "execution_count": 3,
   "metadata": {},
   "outputs": [
    {
     "data": {
      "text/plain": [
       "3"
      ]
     },
     "execution_count": 3,
     "metadata": {},
     "output_type": "execute_result"
    }
   ],
   "source": [
    "# call function - fEuclid\n",
    "fEuclid(nFirstInt,nSecondInt)"
   ]
  },
  {
   "cell_type": "markdown",
   "metadata": {},
   "source": [
    "- function signature - fEuclid - parameter - nParA - fifteen - nParB - twenty-one [6]\n",
    "\n",
    "```python\n",
    "def fEuclid(nParA,nParB):\n",
    "```"
   ]
  },
  {
   "cell_type": "code",
   "execution_count": 4,
   "metadata": {},
   "outputs": [],
   "source": [
    "nGCD=None"
   ]
  },
  {
   "cell_type": "markdown",
   "metadata": {},
   "source": [
    "- **while-1** - nParB - twenty-one - not equal to zero - True [6]\n",
    "\n",
    "```python\n",
    "    while nParB!=0:\n",
    "```\n",
    "\n",
    "- nTemp - assigned - nParB - 21 [6]\n",
    "\n",
    "```python\n",
    "        nTemp=nParB\n",
    "```\n",
    "\n",
    "- nParB - assigned - division - nParB into nParA - zero - remainder - 15\n",
    "\n",
    "```python\n",
    "        nParB=nParA%nParB\n",
    "```\n",
    "\n",
    "- nParA - assigned - nTemp - 21 [6]\n",
    "\n",
    "```python\n",
    "        nParA=nTemp\n",
    "```\n",
    "\n",
    "- return to previous step [6]"
   ]
  },
  {
   "cell_type": "code",
   "execution_count": 5,
   "metadata": {},
   "outputs": [
    {
     "data": {
      "text/plain": [
       "'loop running: True'"
      ]
     },
     "execution_count": 5,
     "metadata": {},
     "output_type": "execute_result"
    }
   ],
   "source": [
    "\"loop running: {}\".format(nSecondInt!=0)"
   ]
  },
  {
   "cell_type": "code",
   "execution_count": 6,
   "metadata": {},
   "outputs": [
    {
     "data": {
      "text/plain": [
       "'order of input: a) 15 b) 21'"
      ]
     },
     "execution_count": 6,
     "metadata": {},
     "output_type": "execute_result"
    }
   ],
   "source": [
    "\"order of input: a) {} b) {}\".format(nFirstInt,nSecondInt)"
   ]
  },
  {
   "cell_type": "code",
   "execution_count": 7,
   "metadata": {},
   "outputs": [
    {
     "data": {
      "text/plain": [
       "'temporary hold value of b (for a): 21'"
      ]
     },
     "execution_count": 7,
     "metadata": {},
     "output_type": "execute_result"
    }
   ],
   "source": [
    "nTemp=nSecondInt\n",
    "\"temporary hold value of b (for a): {}\".format(nTemp)"
   ]
  },
  {
   "cell_type": "code",
   "execution_count": 8,
   "metadata": {},
   "outputs": [
    {
     "data": {
      "text/plain": [
       "'value of b: 15'"
      ]
     },
     "execution_count": 8,
     "metadata": {},
     "output_type": "execute_result"
    }
   ],
   "source": [
    "nSecondInt=nFirstInt%nSecondInt\n",
    "\"value of b: {}\".format(nSecondInt)"
   ]
  },
  {
   "cell_type": "code",
   "execution_count": 9,
   "metadata": {},
   "outputs": [
    {
     "data": {
      "text/plain": [
       "'value of a: 21'"
      ]
     },
     "execution_count": 9,
     "metadata": {},
     "output_type": "execute_result"
    }
   ],
   "source": [
    "nFirstInt=nTemp\n",
    "\"value of a: {}\".format(nFirstInt)"
   ]
  },
  {
   "cell_type": "code",
   "execution_count": 10,
   "metadata": {},
   "outputs": [
    {
     "data": {
      "text/plain": [
       "'rule out: 21'"
      ]
     },
     "execution_count": 10,
     "metadata": {},
     "output_type": "execute_result"
    }
   ],
   "source": [
    "if nSecondInt==0:\n",
    "    nGCD=\"GCD is: {}\".format(nFirstInt)\n",
    "else:\n",
    "    nGCD=\"rule out: {}\".format(nFirstInt)\n",
    "nGCD"
   ]
  },
  {
   "cell_type": "markdown",
   "metadata": {},
   "source": [
    "- **while-2** - nParB - fifteen - not equal to zero - True [6]\n",
    "\n",
    "```python\n",
    "    while nParB!=0:\n",
    "```\n",
    "\n",
    "- nTemp - assigned - nParB - 15 [6]\n",
    "\n",
    "```python\n",
    "        nTemp=nParB\n",
    "```\n",
    "\n",
    "- nParB - assigned - division - nParB into nParA - 1 - remainder - 6\n",
    "\n",
    "```python\n",
    "        nParB=nParA%nParB\n",
    "```\n",
    "\n",
    "- nParA - assigned - nTemp - 15 [6]\n",
    "\n",
    "```python\n",
    "        nParA=nTemp\n",
    "```\n",
    "\n",
    "- return to previous step [6]"
   ]
  },
  {
   "cell_type": "code",
   "execution_count": 11,
   "metadata": {},
   "outputs": [
    {
     "data": {
      "text/plain": [
       "'loop running: True'"
      ]
     },
     "execution_count": 11,
     "metadata": {},
     "output_type": "execute_result"
    }
   ],
   "source": [
    "\"loop running: {}\".format(nSecondInt!=0)"
   ]
  },
  {
   "cell_type": "code",
   "execution_count": 12,
   "metadata": {},
   "outputs": [
    {
     "data": {
      "text/plain": [
       "'order of input: a) 21 b) 15'"
      ]
     },
     "execution_count": 12,
     "metadata": {},
     "output_type": "execute_result"
    }
   ],
   "source": [
    "\"order of input: a) {} b) {}\".format(nFirstInt,nSecondInt)"
   ]
  },
  {
   "cell_type": "code",
   "execution_count": 13,
   "metadata": {},
   "outputs": [
    {
     "data": {
      "text/plain": [
       "'temporary hold value of b (for a): 15'"
      ]
     },
     "execution_count": 13,
     "metadata": {},
     "output_type": "execute_result"
    }
   ],
   "source": [
    "nTemp=nSecondInt\n",
    "\"temporary hold value of b (for a): {}\".format(nTemp)"
   ]
  },
  {
   "cell_type": "code",
   "execution_count": 14,
   "metadata": {},
   "outputs": [
    {
     "data": {
      "text/plain": [
       "'value of b: 6'"
      ]
     },
     "execution_count": 14,
     "metadata": {},
     "output_type": "execute_result"
    }
   ],
   "source": [
    "nSecondInt=nFirstInt%nSecondInt\n",
    "\"value of b: {}\".format(nSecondInt)"
   ]
  },
  {
   "cell_type": "code",
   "execution_count": 15,
   "metadata": {},
   "outputs": [
    {
     "data": {
      "text/plain": [
       "'value of a: 15'"
      ]
     },
     "execution_count": 15,
     "metadata": {},
     "output_type": "execute_result"
    }
   ],
   "source": [
    "nFirstInt=nTemp\n",
    "\"value of a: {}\".format(nFirstInt)"
   ]
  },
  {
   "cell_type": "code",
   "execution_count": 16,
   "metadata": {},
   "outputs": [
    {
     "data": {
      "text/plain": [
       "'rule out: 15'"
      ]
     },
     "execution_count": 16,
     "metadata": {},
     "output_type": "execute_result"
    }
   ],
   "source": [
    "if nSecondInt==0:\n",
    "    nGCD=\"GCD is: {}\".format(nFirstInt)\n",
    "else:\n",
    "    nGCD=\"rule out: {}\".format(nFirstInt)\n",
    "nGCD"
   ]
  },
  {
   "cell_type": "markdown",
   "metadata": {},
   "source": [
    "- **while-3** - nParB - six - not equal to zero - True [6]\n",
    "\n",
    "```python\n",
    "    while nParB!=0:\n",
    "```\n",
    "\n",
    "- nTemp - assigned - nParB - 6 [6]\n",
    "\n",
    "```python\n",
    "        nTemp=nParB\n",
    "```\n",
    "\n",
    "- nParB - assigned - division - nParB into nParA - 2 - remainder - 3\n",
    "\n",
    "```python\n",
    "        nParB=nParA%nParB\n",
    "```\n",
    "\n",
    "- nParA - assigned - nTemp - 6 [6]\n",
    "\n",
    "```python\n",
    "        nParA=nTemp\n",
    "```\n",
    "\n",
    "- return to previous step [6]"
   ]
  },
  {
   "cell_type": "code",
   "execution_count": 17,
   "metadata": {},
   "outputs": [
    {
     "data": {
      "text/plain": [
       "'loop running: True'"
      ]
     },
     "execution_count": 17,
     "metadata": {},
     "output_type": "execute_result"
    }
   ],
   "source": [
    "\"loop running: {}\".format(nSecondInt!=0)"
   ]
  },
  {
   "cell_type": "code",
   "execution_count": 18,
   "metadata": {},
   "outputs": [
    {
     "data": {
      "text/plain": [
       "'order of input: a) 15 b) 6'"
      ]
     },
     "execution_count": 18,
     "metadata": {},
     "output_type": "execute_result"
    }
   ],
   "source": [
    "\"order of input: a) {} b) {}\".format(nFirstInt,nSecondInt)"
   ]
  },
  {
   "cell_type": "code",
   "execution_count": 19,
   "metadata": {},
   "outputs": [
    {
     "data": {
      "text/plain": [
       "'temporary hold value of b (for a): 6'"
      ]
     },
     "execution_count": 19,
     "metadata": {},
     "output_type": "execute_result"
    }
   ],
   "source": [
    "nTemp=nSecondInt\n",
    "\"temporary hold value of b (for a): {}\".format(nTemp)"
   ]
  },
  {
   "cell_type": "code",
   "execution_count": 20,
   "metadata": {},
   "outputs": [
    {
     "data": {
      "text/plain": [
       "'value of b: 3'"
      ]
     },
     "execution_count": 20,
     "metadata": {},
     "output_type": "execute_result"
    }
   ],
   "source": [
    "nSecondInt=nFirstInt%nSecondInt\n",
    "\"value of b: {}\".format(nSecondInt)"
   ]
  },
  {
   "cell_type": "code",
   "execution_count": 21,
   "metadata": {},
   "outputs": [
    {
     "data": {
      "text/plain": [
       "'value of a: 6'"
      ]
     },
     "execution_count": 21,
     "metadata": {},
     "output_type": "execute_result"
    }
   ],
   "source": [
    "nFirstInt=nTemp\n",
    "\"value of a: {}\".format(nFirstInt)"
   ]
  },
  {
   "cell_type": "code",
   "execution_count": 22,
   "metadata": {},
   "outputs": [
    {
     "data": {
      "text/plain": [
       "'rule out: 6'"
      ]
     },
     "execution_count": 22,
     "metadata": {},
     "output_type": "execute_result"
    }
   ],
   "source": [
    "nIter=None\n",
    "if nSecondInt==0:\n",
    "    nGCD=\"GCD is: {}\".format(nFirstInt)\n",
    "else:\n",
    "    nGCD=\"rule out: {}\".format(nFirstInt)\n",
    "    nIter=\"return to previous step\"\n",
    "nGCD"
   ]
  },
  {
   "cell_type": "markdown",
   "metadata": {},
   "source": [
    "- **while-4** - nParB - three - not equal to zero - True [6]\n",
    "\n",
    "```python\n",
    "    while nParB!=0:\n",
    "```\n",
    "\n",
    "- nTemp - assigned - nParB - 3 [6]\n",
    "\n",
    "```python\n",
    "        nTemp=nParB\n",
    "```\n",
    "\n",
    "- nParB - assigned - division - nParB into nParA - 2 - remainder - 0\n",
    "\n",
    "```python\n",
    "        nParB=nParA%nParB\n",
    "```\n",
    "\n",
    "- nParA - assigned - nTemp - 3 [6]\n",
    "\n",
    "```python\n",
    "        nParA=nTemp\n",
    "```\n",
    "\n",
    "- return to previous step [6]"
   ]
  },
  {
   "cell_type": "code",
   "execution_count": 23,
   "metadata": {},
   "outputs": [
    {
     "data": {
      "text/plain": [
       "'loop running: True'"
      ]
     },
     "execution_count": 23,
     "metadata": {},
     "output_type": "execute_result"
    }
   ],
   "source": [
    "\"loop running: {}\".format(nSecondInt!=0)"
   ]
  },
  {
   "cell_type": "code",
   "execution_count": 24,
   "metadata": {},
   "outputs": [
    {
     "data": {
      "text/plain": [
       "'order of input: a) 6 b) 3'"
      ]
     },
     "execution_count": 24,
     "metadata": {},
     "output_type": "execute_result"
    }
   ],
   "source": [
    "\"order of input: a) {} b) {}\".format(nFirstInt,nSecondInt)"
   ]
  },
  {
   "cell_type": "code",
   "execution_count": 25,
   "metadata": {},
   "outputs": [
    {
     "data": {
      "text/plain": [
       "'temporary hold value of b (for a): 3'"
      ]
     },
     "execution_count": 25,
     "metadata": {},
     "output_type": "execute_result"
    }
   ],
   "source": [
    "nTemp=nSecondInt\n",
    "\"temporary hold value of b (for a): {}\".format(nTemp)"
   ]
  },
  {
   "cell_type": "code",
   "execution_count": 26,
   "metadata": {},
   "outputs": [
    {
     "data": {
      "text/plain": [
       "'value of b: 0'"
      ]
     },
     "execution_count": 26,
     "metadata": {},
     "output_type": "execute_result"
    }
   ],
   "source": [
    "nSecondInt=nFirstInt%nSecondInt\n",
    "\"value of b: {}\".format(nSecondInt)"
   ]
  },
  {
   "cell_type": "code",
   "execution_count": 27,
   "metadata": {},
   "outputs": [
    {
     "data": {
      "text/plain": [
       "'value of a: 3'"
      ]
     },
     "execution_count": 27,
     "metadata": {},
     "output_type": "execute_result"
    }
   ],
   "source": [
    "nFirstInt=nTemp\n",
    "\"value of a: {}\".format(nFirstInt)"
   ]
  },
  {
   "cell_type": "code",
   "execution_count": 28,
   "metadata": {},
   "outputs": [
    {
     "data": {
      "text/plain": [
       "'GCD is: 3'"
      ]
     },
     "execution_count": 28,
     "metadata": {},
     "output_type": "execute_result"
    }
   ],
   "source": [
    "if nSecondInt==0:\n",
    "    nGCD=\"GCD is: {}\".format(nFirstInt)\n",
    "else:\n",
    "    nGCD=\"rule out: {}\".format(nFirstInt)\n",
    "nGCD"
   ]
  },
  {
   "cell_type": "markdown",
   "metadata": {},
   "source": [
    "- exit **while** loop - nParB - zero - not equal to zero - False [6]\n",
    "\n",
    "```python\n",
    "    while nParNonNegInt>1:\n",
    "```"
   ]
  },
  {
   "cell_type": "markdown",
   "metadata": {},
   "source": [
    "- function - fEuclid - return - nParA - return control to caller [6]\n",
    "\n",
    "```python\n",
    "    return nParA\n",
    "```"
   ]
  },
  {
   "cell_type": "markdown",
   "metadata": {},
   "source": [
    "***\n",
    "# END"
   ]
  }
 ],
 "metadata": {
  "kernelspec": {
   "display_name": "Python 3",
   "language": "python",
   "name": "python3"
  },
  "language_info": {
   "codemirror_mode": {
    "name": "ipython",
    "version": 3
   },
   "file_extension": ".py",
   "mimetype": "text/x-python",
   "name": "python",
   "nbconvert_exporter": "python",
   "pygments_lexer": "ipython3",
   "version": "3.7.6"
  }
 },
 "nbformat": 4,
 "nbformat_minor": 4
}
