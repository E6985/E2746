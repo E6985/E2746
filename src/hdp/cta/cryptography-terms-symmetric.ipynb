{
 "cells": [
  {
   "cell_type": "markdown",
   "metadata": {},
   "source": [
    "# cryptography-terms-symmetric\n",
    "> [TABLE OF CONTENTS](https://github.com/E6985/E2746/blob/master/README.md)\n",
    "***"
   ]
  },
  {
   "cell_type": "markdown",
   "metadata": {},
   "source": [
    "- **cryptography** - **locking** up **data** so that it **cannot** be **accessed** - **later** providing an access mechanism to **unlock** the **data** [6]"
   ]
  },
  {
   "cell_type": "markdown",
   "metadata": {},
   "source": [
    "- **locks** - **keys** - **symmetric** cryptography [6]"
   ]
  },
  {
   "cell_type": "markdown",
   "metadata": {},
   "source": [
    "- **conventional** cryptography - **secret-key** encryption - **symmetric-key** encryption - **one** **key** used for both - **encryption** process - **decryption** process [6]"
   ]
  },
  {
   "cell_type": "markdown",
   "metadata": {},
   "source": [
    "- data encryption standard - **DES** - **cryptosystem** - take **plaintext** - $P$ - **lock** it up in some way using a **key** - produce **ciphertext** - $C$ - copy of that **same** **key** used to **decrypt** the data - back to plaintext - $P$ - office - taxation document on desk - encrypt the data by locking office door - taking key - nobody can access the office without the copy of the key - robust system if locked - key kept with owner - copies given to trustworthly - secure system - symmetric cryptography is predicated upon [6]"
   ]
  },
  {
   "cell_type": "markdown",
   "metadata": {},
   "source": [
    "<img src=\"img/05-04.png\" />"
   ]
  },
  {
   "cell_type": "markdown",
   "metadata": {},
   "source": [
    "***\n",
    "# END"
   ]
  }
 ],
 "metadata": {
  "kernelspec": {
   "display_name": "Python 3",
   "language": "python",
   "name": "python3"
  },
  "language_info": {
   "codemirror_mode": {
    "name": "ipython",
    "version": 3
   },
   "file_extension": ".py",
   "mimetype": "text/x-python",
   "name": "python",
   "nbconvert_exporter": "python",
   "pygments_lexer": "ipython3",
   "version": "3.7.6"
  }
 },
 "nbformat": 4,
 "nbformat_minor": 4
}
