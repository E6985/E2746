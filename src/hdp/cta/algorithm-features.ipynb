{
 "cells": [
  {
   "cell_type": "markdown",
   "metadata": {},
   "source": [
    "# algorithm-features\n",
    "> [TABLE OF CONTENTS](https://github.com/E6985/E2746/blob/master/README.md)\n",
    "***"
   ]
  },
  {
   "cell_type": "markdown",
   "metadata": {},
   "source": [
    "- **input**\t- an algorithm has zero or more well-defined inputs - ie - data which are given to it initially before the algorithm begins [6]"
   ]
  },
  {
   "cell_type": "markdown",
   "metadata": {},
   "source": [
    "- **output** - an algorithm has one or more well-defined outputs - ie - data which is produced after the algorithm has completed its task [6] "
   ]
  },
  {
   "cell_type": "markdown",
   "metadata": {},
   "source": [
    "- **finiteness** - an algorithm must always terminate after a finite number of steps [6]"
   ]
  },
  {
   "cell_type": "markdown",
   "metadata": {},
   "source": [
    "- **unambiguous** - each step of an algorithm must be precisely defined - the actions to be carried out must be rigorously and unambiguously specified for each case [6]"
   ]
  },
  {
   "cell_type": "markdown",
   "metadata": {},
   "source": [
    "- **correctness** - the algorithm should consistently provide a correct solution - or a solution which is within an acceptable margin of error [6]"
   ]
  },
  {
   "cell_type": "markdown",
   "metadata": {},
   "source": [
    "- **feasibility** - it should be feasible to execute the algorithm using the available computational resources [6]"
   ]
  },
  {
   "cell_type": "markdown",
   "metadata": {},
   "source": [
    "- **efficiency** - the algorithm should complete its task in an acceptable amount of time [6]"
   ]
  },
  {
   "cell_type": "markdown",
   "metadata": {},
   "source": [
    "***\n",
    "# END"
   ]
  }
 ],
 "metadata": {
  "kernelspec": {
   "display_name": "Python 3",
   "language": "python",
   "name": "python3"
  },
  "language_info": {
   "codemirror_mode": {
    "name": "ipython",
    "version": 3
   },
   "file_extension": ".py",
   "mimetype": "text/x-python",
   "name": "python",
   "nbconvert_exporter": "python",
   "pygments_lexer": "ipython3",
   "version": "3.7.6"
  }
 },
 "nbformat": 4,
 "nbformat_minor": 4
}
