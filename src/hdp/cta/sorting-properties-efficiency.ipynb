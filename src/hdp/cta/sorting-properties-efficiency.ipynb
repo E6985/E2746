{
 "cells": [
  {
   "cell_type": "markdown",
   "metadata": {},
   "source": [
    "# sorting-properties-efficiency\n",
    "> [TABLE OF CONTENTS](https://github.com/E6985/E2746/blob/master/README.md)\n",
    "***"
   ]
  },
  {
   "cell_type": "markdown",
   "metadata": {},
   "source": [
    "- need some idea of how - **efficient** - **algorithm** is **in** **practice** - need to explain - **best** case - **worst** case - **average** **case** - **time** - **complexity** [6]"
   ]
  },
  {
   "cell_type": "markdown",
   "metadata": {},
   "source": [
    "- **average** **case** - typically the **hardest** to **quantify** in an accurate manner - rely on **advanced** **mathematical** **techniques** and **estimation** - assumes a reasonable understanding of the likelihood that the input may be partially sorted - probably need to also have a handle on the expected classes of input instances or the types of data - essentially need to know to what degree is the data sorted - know what proportion of inversions could be expected [6]"
   ]
  },
  {
   "cell_type": "markdown",
   "metadata": {},
   "source": [
    "- **knowing** - **algorithm** - has a **desirable** **performance** - **efficiency** - best case -  average case - worst case - in terms of **time** its **implementation** might still be **impractical** - insertion sort - desirable - best case - time - complexity - flip side - insertions perform poorly on large input instances - performs poorly on random data - high degree of inversions - whether the - algorithm - has good - best case - average case - worst case - complexity - the specific algorithm under consideration may in fact be impractical in some situations - need to consider the different - strengths - weaknesses of different algorithms [6]"
   ]
  },
  {
   "cell_type": "markdown",
   "metadata": {},
   "source": [
    "- **no** single - **algorithm** - is the **best** for **all** possible **situations** - important to **understand** - **strengths** - **weaknesses** - of several different algorithms - a tool set - **arsenal** - can choose from to actually deploy against the correct type of problem [6]"
   ]
  },
  {
   "cell_type": "markdown",
   "metadata": {},
   "source": [
    "- relative - **orders** of **growth** - in terms of **running** **time** - **number** of **operations** required for the algorithm to **complete** would be **proportional** to one of the **growth** **functions** [6]\n",
    "\n",
    "| is proportional to | complexity:                |\n",
    "| ------------------ | -------------------------- |\n",
    "| T(n) ~ $log.n$     | logarithmic                |\n",
    "| T(n) ~ $n$         | linear                     |\n",
    "| T(n) ~ $n.log.n$   | linearithmic               |\n",
    "| T(n) ~ $n^2$       | quadratic (polynomial)     |\n",
    "| T(n) ~ $n^3$       | cubic (polynomial)         |\n",
    "| T(n) ~ $n^k$       | polynomial (k any integer  |\n",
    "| T(n) ~ $2^n$       | exponential                |\n",
    "| T(n) ~ $k^n; k>1$  | exponential                |"
   ]
  },
  {
   "cell_type": "markdown",
   "metadata": {},
   "source": [
    "- algorithm - $log(n)$ - logarithmic - best that could be expected to achieve - $n$ - linear - next best - $n.log.n$ - linearithmic - next best - efficient - good for large data sets - remaining growth functions - powers - $n^2$ - quadratic - $n^3$ - cubic - large difference in the order of growth of the number of operations requires for - $n^2$ - quadratic - versus - $n.log.n$ - linearithmic - algorithm [6] "
   ]
  },
  {
   "cell_type": "markdown",
   "metadata": {},
   "source": [
    "<img src=\"img/03-07-01.png\" />"
   ]
  },
  {
   "cell_type": "markdown",
   "metadata": {},
   "source": [
    "- **factors** - influence **running** **time** - **best** case - **average** case - **worst** **case** - **time** - **complexity** [6]"
   ]
  },
  {
   "cell_type": "markdown",
   "metadata": {},
   "source": [
    "- factors - **number** of items - **elements** - to be **sorted** - knowing the - complexity - will give some kind of handle on what the expected runtime efficiency of an algorithm is - insertion sort - might be good on small collections - arrays - small sizes - $n$ - but as - $n$ - gets larger - performance degrades quite quickly [6]"
   ]
  },
  {
   "cell_type": "markdown",
   "metadata": {},
   "source": [
    "- factors - **how** items - **elements** - are **related** - **properties** of the items - elements - are the items - elements - only related by the order relation - is there anything in general that can be said about those items - elements - besides having some comparateur function that defines how they relate to one another - do they have some other restrictions - knowing in advance - going to be sorting based on sort keys that are derived from integers in the range - one to 1000 - set of input instances can be narrowed down quite a lot - other more suitable sorting algorithms - more niche sorting algorithms which can apply to that specific type of problem may be more appropriate [6]"
   ]
  },
  {
   "cell_type": "markdown",
   "metadata": {},
   "source": [
    "- factors - **number** of **inversions** which are in the data set - to what extent the items - elements - are actually **pre-sorted** - knowing that the data is almost sorted - useful - can use certain sorting algorithms which are very good for data thats almost sorted but not so good when - random uniform - random data [6]"
   ]
  },
  {
   "cell_type": "markdown",
   "metadata": {},
   "source": [
    "- factors - can items - **elements** - can be **placed** into **internal** - fast **memory** - ram - cache - versus - need to be stored on some - **external** - slower **memory** - hard disk - external sorting - data that needs to be sorted but on an external storage device rather than on internal computer memory [6]"
   ]
  },
  {
   "cell_type": "markdown",
   "metadata": {},
   "source": [
    "***\n",
    "# END"
   ]
  }
 ],
 "metadata": {
  "kernelspec": {
   "display_name": "Python 3",
   "language": "python",
   "name": "python3"
  },
  "language_info": {
   "codemirror_mode": {
    "name": "ipython",
    "version": 3
   },
   "file_extension": ".py",
   "mimetype": "text/x-python",
   "name": "python",
   "nbconvert_exporter": "python",
   "pygments_lexer": "ipython3",
   "version": "3.7.6"
  }
 },
 "nbformat": 4,
 "nbformat_minor": 4
}
