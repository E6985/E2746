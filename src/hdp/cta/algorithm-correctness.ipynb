{
 "cells": [
  {
   "cell_type": "markdown",
   "metadata": {},
   "source": [
    "# algorithm-correctness\n",
    "> [TABLE OF CONTENTS](https://github.com/E6985/E2746/blob/master/README.md)\n",
    "***"
   ]
  },
  {
   "cell_type": "markdown",
   "metadata": {},
   "source": [
    "- a well-designed algorithm should \n",
    "\t- produce a correct solution for a given input - correctness\n",
    "\t\t- easy to define in simple real world problem - eg\n",
    "\t\t\t- is a book by author x present on this bookself - boolean - True - False\n",
    "\t\t\t- what is the shortest route between two points - one unique solution\n",
    "\t\t\t- sort pupils in a class by increasing height - one correct answer\n",
    "\t\t- more difficult to define correctness in other real world problems - eg\n",
    "\t\t\t- which route will take the least time to traverse - answer depends on factors other than geometry - ie traffic conditions\n",
    "\t\t\t- handwriting recognition - is a character a number - 5 -or a letter - S\n",
    "        - incorrect solutions are acceptable occasionally so long as the expected probability of returning an incorrect solution can be quantified/controlled \n",
    "\t\t- for many practical applications algorithms have been developed which have a guaranteed **margin of error** rather than a guarantee of complete correctness [6]"
   ]
  },
  {
   "cell_type": "markdown",
   "metadata": {},
   "source": [
    "***\n",
    "# END"
   ]
  }
 ],
 "metadata": {
  "kernelspec": {
   "display_name": "Python 3",
   "language": "python",
   "name": "python3"
  },
  "language_info": {
   "codemirror_mode": {
    "name": "ipython",
    "version": 3
   },
   "file_extension": ".py",
   "mimetype": "text/x-python",
   "name": "python",
   "nbconvert_exporter": "python",
   "pygments_lexer": "ipython3",
   "version": "3.7.6"
  }
 },
 "nbformat": 4,
 "nbformat_minor": 4
}
