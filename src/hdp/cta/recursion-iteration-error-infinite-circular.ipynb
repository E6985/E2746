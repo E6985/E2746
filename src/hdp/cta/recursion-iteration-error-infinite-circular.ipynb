{
 "cells": [
  {
   "cell_type": "markdown",
   "metadata": {},
   "source": [
    "# recursion-iteration-error-infinite-circular\n",
    "> [TABLE OF CONTENTS](https://github.com/E6985/E2746/blob/master/README.md)\n",
    "***"
   ]
  },
  {
   "cell_type": "markdown",
   "metadata": {},
   "source": [
    "- specific **type** of - **infinite** - recursion - when recursive **calls** **stops** making **progress** towards - **base** **case** - stops making progress towards a case which can actually be solved without recursion [6]"
   ]
  },
  {
   "cell_type": "code",
   "execution_count": 1,
   "metadata": {},
   "outputs": [],
   "source": [
    "nStackActivationFrame=\"Empty Stack\"\n",
    "nStackTime=0"
   ]
  },
  {
   "cell_type": "code",
   "execution_count": 2,
   "metadata": {},
   "outputs": [],
   "source": [
    "# define function - fCircular\n",
    "def fCircular(nParInteger):\n",
    "    if nParInteger==1:\n",
    "        fCircular(nParInteger+1)\n",
    "    fCircular(nParInteger-1)"
   ]
  },
  {
   "cell_type": "code",
   "execution_count": 3,
   "metadata": {},
   "outputs": [],
   "source": [
    "nArgument=1"
   ]
  },
  {
   "cell_type": "code",
   "execution_count": 4,
   "metadata": {},
   "outputs": [],
   "source": [
    "nFunctionMethodSignature=__name__\n",
    "nUserDefinedFunction=fCircular.__name__\n",
    "nParameter=nArgument"
   ]
  },
  {
   "cell_type": "markdown",
   "metadata": {},
   "source": [
    "<img src=\"img/04-1-04.png\" />"
   ]
  },
  {
   "cell_type": "code",
   "execution_count": 5,
   "metadata": {},
   "outputs": [
    {
     "data": {
      "text/plain": [
       "'<STACK> <activation frame(s)> Empty Stack <time/active> 0'"
      ]
     },
     "execution_count": 5,
     "metadata": {},
     "output_type": "execute_result"
    }
   ],
   "source": [
    "\"<STACK> <activation frame(s)> {} <time/active> {}\".format(\n",
    "    nStackActivationFrame,nStackTime)"
   ]
  },
  {
   "cell_type": "markdown",
   "metadata": {},
   "source": [
    "<img src=\"img/04-1-05.png\" />"
   ]
  },
  {
   "cell_type": "code",
   "execution_count": 6,
   "metadata": {},
   "outputs": [
    {
     "data": {
      "text/plain": [
       "'<FUNCTION/METHOD> <invoke> __main__'"
      ]
     },
     "execution_count": 6,
     "metadata": {},
     "output_type": "execute_result"
    }
   ],
   "source": [
    "\"<FUNCTION/METHOD> <invoke> {}\".format(\n",
    "    nFunctionMethodSignature)"
   ]
  },
  {
   "cell_type": "code",
   "execution_count": 7,
   "metadata": {},
   "outputs": [
    {
     "data": {
      "text/plain": [
       "'<STACK> <push> __main__ <activation frame(s)> __main__ <time/active> 1'"
      ]
     },
     "execution_count": 7,
     "metadata": {},
     "output_type": "execute_result"
    }
   ],
   "source": [
    "nStackTime+=1\n",
    "nStackActivationFrame=nFunctionMethodSignature\n",
    "\"<STACK> <push> {} <activation frame(s)> {} <time/active> {}\".format(\n",
    "    nFunctionMethodSignature,nStackActivationFrame,nStackTime)"
   ]
  },
  {
   "cell_type": "code",
   "execution_count": 8,
   "metadata": {},
   "outputs": [
    {
     "data": {
      "text/plain": [
       "'<FUNCTION/METHOD> <invoke> fCircular'"
      ]
     },
     "execution_count": 8,
     "metadata": {},
     "output_type": "execute_result"
    }
   ],
   "source": [
    "\"<FUNCTION/METHOD> <invoke> {}\".format(\n",
    "    nUserDefinedFunction)"
   ]
  },
  {
   "cell_type": "code",
   "execution_count": 9,
   "metadata": {},
   "outputs": [
    {
     "data": {
      "text/plain": [
       "'<FUNCTION/METHOD> <signature> fCircular(1)'"
      ]
     },
     "execution_count": 9,
     "metadata": {},
     "output_type": "execute_result"
    }
   ],
   "source": [
    "nFunctionMethodSignature=nUserDefinedFunction+\"(\"+str(nParameter)+\")\"\n",
    "\"<FUNCTION/METHOD> <signature> {}\".format(\n",
    "    nFunctionMethodSignature)"
   ]
  },
  {
   "cell_type": "code",
   "execution_count": 10,
   "metadata": {},
   "outputs": [
    {
     "data": {
      "text/plain": [
       "'<STACK> <push> fCircular(1) <activation frame(s)> __main__, fCircular(1) <time/active> 2'"
      ]
     },
     "execution_count": 10,
     "metadata": {},
     "output_type": "execute_result"
    }
   ],
   "source": [
    "nStackTime+=1\n",
    "nStackActivationFrame+=\", \"+nFunctionMethodSignature\n",
    "\"<STACK> <push> {} <activation frame(s)> {} <time/active> {}\".format(\n",
    "    nFunctionMethodSignature,nStackActivationFrame,nStackTime)"
   ]
  },
  {
   "cell_type": "code",
   "execution_count": 11,
   "metadata": {},
   "outputs": [
    {
     "data": {
      "text/plain": [
       "'<RECURSION> <start>'"
      ]
     },
     "execution_count": 11,
     "metadata": {},
     "output_type": "execute_result"
    }
   ],
   "source": [
    "\"<RECURSION> <start>\""
   ]
  },
  {
   "cell_type": "code",
   "execution_count": 12,
   "metadata": {},
   "outputs": [
    {
     "data": {
      "text/plain": [
       "'<CONDITIONAL> <RECURSION> <base case> True'"
      ]
     },
     "execution_count": 12,
     "metadata": {},
     "output_type": "execute_result"
    }
   ],
   "source": [
    "\"<CONDITIONAL> <RECURSION> <base case> {}\".format(\n",
    "    nParameter==1)"
   ]
  },
  {
   "cell_type": "code",
   "execution_count": 13,
   "metadata": {},
   "outputs": [
    {
     "data": {
      "text/plain": [
       "'<RECURSION> <FUNCTION/METHOD> <invoke> fCircular'"
      ]
     },
     "execution_count": 13,
     "metadata": {},
     "output_type": "execute_result"
    }
   ],
   "source": [
    "nStackActivationFrames=__name__\n",
    "\"<RECURSION> <FUNCTION/METHOD> <invoke> {}\".format(\n",
    "    nUserDefinedFunction)"
   ]
  },
  {
   "cell_type": "code",
   "execution_count": 14,
   "metadata": {},
   "outputs": [
    {
     "data": {
      "text/plain": [
       "'<RECURSION> <FUNCTION/METHOD> <signature> fCircular(2))'"
      ]
     },
     "execution_count": 14,
     "metadata": {},
     "output_type": "execute_result"
    }
   ],
   "source": [
    "nParameter+=1\n",
    "nFunctionMethodSignature=nUserDefinedFunction+\"(\"+str(nParameter)+\")\"\n",
    "\"<RECURSION> <FUNCTION/METHOD> <signature> {})\".format(\n",
    "    nFunctionMethodSignature)"
   ]
  },
  {
   "cell_type": "code",
   "execution_count": 15,
   "metadata": {},
   "outputs": [
    {
     "data": {
      "text/plain": [
       "'<STACK> <push> fCircular(2) <activation frame(s)> __main__, fCircular(1), fCircular(2) <time/active> 3'"
      ]
     },
     "execution_count": 15,
     "metadata": {},
     "output_type": "execute_result"
    }
   ],
   "source": [
    "nStackTime+=1\n",
    "nStackActivationFrame+=\", \"+nFunctionMethodSignature\n",
    "\"<STACK> <push> {} <activation frame(s)> {} <time/active> {}\".format(\n",
    "    nFunctionMethodSignature,nStackActivationFrame,nStackTime)"
   ]
  },
  {
   "cell_type": "code",
   "execution_count": 16,
   "metadata": {},
   "outputs": [
    {
     "data": {
      "text/plain": [
       "'<CONDITIONAL> <RECURSION> <base case> False'"
      ]
     },
     "execution_count": 16,
     "metadata": {},
     "output_type": "execute_result"
    }
   ],
   "source": [
    "\"<CONDITIONAL> <RECURSION> <base case> {}\".format(\n",
    "    nParameter==1)"
   ]
  },
  {
   "cell_type": "code",
   "execution_count": 17,
   "metadata": {},
   "outputs": [
    {
     "data": {
      "text/plain": [
       "'<RECURSION> <FUNCTION/METHOD> <invoke> fCircular'"
      ]
     },
     "execution_count": 17,
     "metadata": {},
     "output_type": "execute_result"
    }
   ],
   "source": [
    "nStackActivationFrames=__name__\n",
    "\"<RECURSION> <FUNCTION/METHOD> <invoke> {}\".format(\n",
    "    nUserDefinedFunction)"
   ]
  },
  {
   "cell_type": "code",
   "execution_count": 18,
   "metadata": {},
   "outputs": [
    {
     "data": {
      "text/plain": [
       "'<RECURSION> <FUNCTION/METHOD> <signature> fCircular(1))'"
      ]
     },
     "execution_count": 18,
     "metadata": {},
     "output_type": "execute_result"
    }
   ],
   "source": [
    "nParameter-=1\n",
    "nFunctionMethodSignature=nUserDefinedFunction+\"(\"+str(nParameter)+\")\"\n",
    "\"<RECURSION> <FUNCTION/METHOD> <signature> {})\".format(\n",
    "    nFunctionMethodSignature)"
   ]
  },
  {
   "cell_type": "code",
   "execution_count": 19,
   "metadata": {},
   "outputs": [
    {
     "data": {
      "text/plain": [
       "'<STACK> <push> fCircular(1) <activation frame(s)> __main__, fCircular(1), fCircular(2), fCircular(1) <time/active> 4'"
      ]
     },
     "execution_count": 19,
     "metadata": {},
     "output_type": "execute_result"
    }
   ],
   "source": [
    "nStackTime+=1\n",
    "nStackActivationFrame+=\", \"+nFunctionMethodSignature\n",
    "\"<STACK> <push> {} <activation frame(s)> {} <time/active> {}\".format(\n",
    "    nFunctionMethodSignature,nStackActivationFrame,nStackTime)"
   ]
  },
  {
   "cell_type": "code",
   "execution_count": 20,
   "metadata": {},
   "outputs": [
    {
     "data": {
      "text/plain": [
       "'<CONDITIONAL> <RECURSION> <base case> True'"
      ]
     },
     "execution_count": 20,
     "metadata": {},
     "output_type": "execute_result"
    }
   ],
   "source": [
    "\"<CONDITIONAL> <RECURSION> <base case> {}\".format(\n",
    "    nParameter==1)"
   ]
  },
  {
   "cell_type": "code",
   "execution_count": 21,
   "metadata": {},
   "outputs": [
    {
     "data": {
      "text/plain": [
       "'<RECURSION> <FUNCTION/METHOD> <invoke> fCircular'"
      ]
     },
     "execution_count": 21,
     "metadata": {},
     "output_type": "execute_result"
    }
   ],
   "source": [
    "nStackActivationFrames=__name__\n",
    "\"<RECURSION> <FUNCTION/METHOD> <invoke> {}\".format(\n",
    "    nUserDefinedFunction)"
   ]
  },
  {
   "cell_type": "code",
   "execution_count": 22,
   "metadata": {},
   "outputs": [
    {
     "data": {
      "text/plain": [
       "'<RECURSION> <FUNCTION/METHOD> <signature> fCircular(2))'"
      ]
     },
     "execution_count": 22,
     "metadata": {},
     "output_type": "execute_result"
    }
   ],
   "source": [
    "nParameter+=1\n",
    "nFunctionMethodSignature=nUserDefinedFunction+\"(\"+str(nParameter)+\")\"\n",
    "\"<RECURSION> <FUNCTION/METHOD> <signature> {})\".format(\n",
    "    nFunctionMethodSignature)"
   ]
  },
  {
   "cell_type": "code",
   "execution_count": 23,
   "metadata": {},
   "outputs": [
    {
     "data": {
      "text/plain": [
       "'<STACK> <push> fCircular(2) <activation frame(s)> __main__, fCircular(1), fCircular(2), fCircular(1), fCircular(2) <time/active> 5'"
      ]
     },
     "execution_count": 23,
     "metadata": {},
     "output_type": "execute_result"
    }
   ],
   "source": [
    "nStackTime+=1\n",
    "nStackActivationFrame+=\", \"+nFunctionMethodSignature\n",
    "\"<STACK> <push> {} <activation frame(s)> {} <time/active> {}\".format(\n",
    "    nFunctionMethodSignature,nStackActivationFrame,nStackTime)"
   ]
  },
  {
   "cell_type": "code",
   "execution_count": 24,
   "metadata": {},
   "outputs": [
    {
     "data": {
      "text/plain": [
       "'<CONDITIONAL> <RECURSION> <base case> False'"
      ]
     },
     "execution_count": 24,
     "metadata": {},
     "output_type": "execute_result"
    }
   ],
   "source": [
    "\"<CONDITIONAL> <RECURSION> <base case> {}\".format(\n",
    "    nParameter==1)"
   ]
  },
  {
   "cell_type": "code",
   "execution_count": 25,
   "metadata": {},
   "outputs": [
    {
     "data": {
      "text/plain": [
       "'<RECURSION> <FUNCTION/METHOD> <signature> fCircular(1))'"
      ]
     },
     "execution_count": 25,
     "metadata": {},
     "output_type": "execute_result"
    }
   ],
   "source": [
    "nParameter-=1\n",
    "nFunctionMethodSignature=nUserDefinedFunction+\"(\"+str(nParameter)+\")\"\n",
    "\"<RECURSION> <FUNCTION/METHOD> <signature> {})\".format(\n",
    "    nFunctionMethodSignature)"
   ]
  },
  {
   "cell_type": "code",
   "execution_count": 26,
   "metadata": {},
   "outputs": [
    {
     "data": {
      "text/plain": [
       "'<STACK> <push> fCircular(1) <activation frame(s)> __main__, fCircular(1), fCircular(2), fCircular(1), fCircular(2), fCircular(1) <time/active> 6'"
      ]
     },
     "execution_count": 26,
     "metadata": {},
     "output_type": "execute_result"
    }
   ],
   "source": [
    "nStackTime+=1\n",
    "nStackActivationFrame+=\", \"+nFunctionMethodSignature\n",
    "\"<STACK> <push> {} <activation frame(s)> {} <time/active> {}\".format(\n",
    "    nFunctionMethodSignature,nStackActivationFrame,nStackTime)"
   ]
  },
  {
   "cell_type": "code",
   "execution_count": 27,
   "metadata": {},
   "outputs": [
    {
     "data": {
      "text/plain": [
       "3000"
      ]
     },
     "execution_count": 27,
     "metadata": {},
     "output_type": "execute_result"
    }
   ],
   "source": [
    "import sys\n",
    "sys.getrecursionlimit()"
   ]
  },
  {
   "cell_type": "code",
   "execution_count": 28,
   "metadata": {},
   "outputs": [
    {
     "data": {
      "text/plain": [
       "'<RecursionError: maximum recursion depth exceeded>'"
      ]
     },
     "execution_count": 28,
     "metadata": {},
     "output_type": "execute_result"
    }
   ],
   "source": [
    "\"<RecursionError: maximum recursion depth exceeded>\""
   ]
  },
  {
   "cell_type": "code",
   "execution_count": 29,
   "metadata": {},
   "outputs": [
    {
     "data": {
      "text/plain": [
       "'<RECURSION> <finish>'"
      ]
     },
     "execution_count": 29,
     "metadata": {},
     "output_type": "execute_result"
    }
   ],
   "source": [
    "\"<RECURSION> <finish>\""
   ]
  },
  {
   "cell_type": "markdown",
   "metadata": {},
   "source": [
    "- continue calling itself - back and forth until - **python** - **maximum** **recursion** **depth** **exceeded** in **comparison** - java - StackOverFlowError - recursive calls have taken up all available memory [6]"
   ]
  },
  {
   "cell_type": "code",
   "execution_count": 30,
   "metadata": {},
   "outputs": [
    {
     "ename": "RecursionError",
     "evalue": "maximum recursion depth exceeded in comparison",
     "output_type": "error",
     "traceback": [
      "\u001b[1;31m---------------------------------------------------------------------------\u001b[0m",
      "\u001b[1;31mRecursionError\u001b[0m                            Traceback (most recent call last)",
      "\u001b[1;32m<ipython-input-30-6b2b5b55603d>\u001b[0m in \u001b[0;36m<module>\u001b[1;34m\u001b[0m\n\u001b[0;32m      1\u001b[0m \u001b[1;31m# function fCircular - call\u001b[0m\u001b[1;33m\u001b[0m\u001b[1;33m\u001b[0m\u001b[1;33m\u001b[0m\u001b[0m\n\u001b[1;32m----> 2\u001b[1;33m \u001b[0mfCircular\u001b[0m\u001b[1;33m(\u001b[0m\u001b[0mnArgument\u001b[0m\u001b[1;33m)\u001b[0m\u001b[1;33m\u001b[0m\u001b[1;33m\u001b[0m\u001b[0m\n\u001b[0m",
      "\u001b[1;32m<ipython-input-2-b10cd7c13c76>\u001b[0m in \u001b[0;36mfCircular\u001b[1;34m(nParInteger)\u001b[0m\n\u001b[0;32m      2\u001b[0m \u001b[1;32mdef\u001b[0m \u001b[0mfCircular\u001b[0m\u001b[1;33m(\u001b[0m\u001b[0mnParInteger\u001b[0m\u001b[1;33m)\u001b[0m\u001b[1;33m:\u001b[0m\u001b[1;33m\u001b[0m\u001b[1;33m\u001b[0m\u001b[0m\n\u001b[0;32m      3\u001b[0m     \u001b[1;32mif\u001b[0m \u001b[0mnParInteger\u001b[0m\u001b[1;33m==\u001b[0m\u001b[1;36m1\u001b[0m\u001b[1;33m:\u001b[0m\u001b[1;33m\u001b[0m\u001b[1;33m\u001b[0m\u001b[0m\n\u001b[1;32m----> 4\u001b[1;33m         \u001b[0mfCircular\u001b[0m\u001b[1;33m(\u001b[0m\u001b[0mnParInteger\u001b[0m\u001b[1;33m+\u001b[0m\u001b[1;36m1\u001b[0m\u001b[1;33m)\u001b[0m\u001b[1;33m\u001b[0m\u001b[1;33m\u001b[0m\u001b[0m\n\u001b[0m\u001b[0;32m      5\u001b[0m     \u001b[0mfCircular\u001b[0m\u001b[1;33m(\u001b[0m\u001b[0mnParInteger\u001b[0m\u001b[1;33m-\u001b[0m\u001b[1;36m1\u001b[0m\u001b[1;33m)\u001b[0m\u001b[1;33m\u001b[0m\u001b[1;33m\u001b[0m\u001b[0m\n",
      "\u001b[1;32m<ipython-input-2-b10cd7c13c76>\u001b[0m in \u001b[0;36mfCircular\u001b[1;34m(nParInteger)\u001b[0m\n\u001b[0;32m      3\u001b[0m     \u001b[1;32mif\u001b[0m \u001b[0mnParInteger\u001b[0m\u001b[1;33m==\u001b[0m\u001b[1;36m1\u001b[0m\u001b[1;33m:\u001b[0m\u001b[1;33m\u001b[0m\u001b[1;33m\u001b[0m\u001b[0m\n\u001b[0;32m      4\u001b[0m         \u001b[0mfCircular\u001b[0m\u001b[1;33m(\u001b[0m\u001b[0mnParInteger\u001b[0m\u001b[1;33m+\u001b[0m\u001b[1;36m1\u001b[0m\u001b[1;33m)\u001b[0m\u001b[1;33m\u001b[0m\u001b[1;33m\u001b[0m\u001b[0m\n\u001b[1;32m----> 5\u001b[1;33m     \u001b[0mfCircular\u001b[0m\u001b[1;33m(\u001b[0m\u001b[0mnParInteger\u001b[0m\u001b[1;33m-\u001b[0m\u001b[1;36m1\u001b[0m\u001b[1;33m)\u001b[0m\u001b[1;33m\u001b[0m\u001b[1;33m\u001b[0m\u001b[0m\n\u001b[0m",
      "... last 2 frames repeated, from the frame below ...\n",
      "\u001b[1;32m<ipython-input-2-b10cd7c13c76>\u001b[0m in \u001b[0;36mfCircular\u001b[1;34m(nParInteger)\u001b[0m\n\u001b[0;32m      2\u001b[0m \u001b[1;32mdef\u001b[0m \u001b[0mfCircular\u001b[0m\u001b[1;33m(\u001b[0m\u001b[0mnParInteger\u001b[0m\u001b[1;33m)\u001b[0m\u001b[1;33m:\u001b[0m\u001b[1;33m\u001b[0m\u001b[1;33m\u001b[0m\u001b[0m\n\u001b[0;32m      3\u001b[0m     \u001b[1;32mif\u001b[0m \u001b[0mnParInteger\u001b[0m\u001b[1;33m==\u001b[0m\u001b[1;36m1\u001b[0m\u001b[1;33m:\u001b[0m\u001b[1;33m\u001b[0m\u001b[1;33m\u001b[0m\u001b[0m\n\u001b[1;32m----> 4\u001b[1;33m         \u001b[0mfCircular\u001b[0m\u001b[1;33m(\u001b[0m\u001b[0mnParInteger\u001b[0m\u001b[1;33m+\u001b[0m\u001b[1;36m1\u001b[0m\u001b[1;33m)\u001b[0m\u001b[1;33m\u001b[0m\u001b[1;33m\u001b[0m\u001b[0m\n\u001b[0m\u001b[0;32m      5\u001b[0m     \u001b[0mfCircular\u001b[0m\u001b[1;33m(\u001b[0m\u001b[0mnParInteger\u001b[0m\u001b[1;33m-\u001b[0m\u001b[1;36m1\u001b[0m\u001b[1;33m)\u001b[0m\u001b[1;33m\u001b[0m\u001b[1;33m\u001b[0m\u001b[0m\n",
      "\u001b[1;31mRecursionError\u001b[0m: maximum recursion depth exceeded in comparison"
     ]
    }
   ],
   "source": [
    "# function fCircular - call\n",
    "fCircular(nArgument)"
   ]
  },
  {
   "cell_type": "markdown",
   "metadata": {},
   "source": [
    "- **protect** **against** - circular - recursion - must make **progress** **towards** - **base** **case** or base cases - cases that are to be resolved recursively - the next call must be a case that makes progress towards the - base case [6]"
   ]
  },
  {
   "cell_type": "markdown",
   "metadata": {},
   "source": [
    "***\n",
    "# END"
   ]
  }
 ],
 "metadata": {
  "kernelspec": {
   "display_name": "Python 3",
   "language": "python",
   "name": "python3"
  },
  "language_info": {
   "codemirror_mode": {
    "name": "ipython",
    "version": 3
   },
   "file_extension": ".py",
   "mimetype": "text/x-python",
   "name": "python",
   "nbconvert_exporter": "python",
   "pygments_lexer": "ipython3",
   "version": "3.7.6"
  }
 },
 "nbformat": 4,
 "nbformat_minor": 4
}
