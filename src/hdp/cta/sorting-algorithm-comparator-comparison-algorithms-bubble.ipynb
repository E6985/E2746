{
 "cells": [
  {
   "cell_type": "markdown",
   "metadata": {},
   "source": [
    "# sorting-algorithm-comparator-comparison-algorithms-bubble\n",
    "> [TABLE OF CONTENTS](https://github.com/E6985/E2746/blob/master/README.md)\n",
    "***"
   ]
  },
  {
   "cell_type": "markdown",
   "metadata": {},
   "source": [
    "- **comparison-based** - sorting algorithm - famous - infamous - **named** for the way that **larger** **values** in a collection - **array** - list - **bubble** up to the **end** as the **sorting** **takes** **place** - around for a long time - first analysed formally as early as 1956 [6]"
   ]
  },
  {
   "cell_type": "markdown",
   "metadata": {},
   "source": [
    "- **in-place** - sorting algorithm - **space** **complexity** - **constant** space complexity - **1** - space needed for the algorithm to work is equal to the size of the input data set plus some additional amount of memory which is fixed - does not depend on the size of the input data set - additional working space required - just a few variables - to make the swaps between items - elements - in different positions - indices - identify an item - element - that is out of order - need some additional variables to use as working space - temporary variable - used to achieve the swap [6]"
   ]
  },
  {
   "cell_type": "markdown",
   "metadata": {},
   "source": [
    "- **average** case - **worst** **case** - **performance** - **runtime** - polynomial - **quadratic** - $n^2$ - run in $O(n^{2})$ time - size of the input data set essentially determines the expected running time - quadratic relationship - essentially between expected running time and the size of the input data set [6]"
   ]
  },
  {
   "cell_type": "markdown",
   "metadata": {},
   "source": [
    "- **best** case - **performance** - runtime - $n$ - **linear** - run in $O(n)$ time - does not happen often - consider only - average case - worst case - performance [6]"
   ]
  },
  {
   "cell_type": "markdown",
   "metadata": {},
   "source": [
    "<img src=\"img/06-09-00-in-place.png\" />"
   ]
  },
  {
   "cell_type": "markdown",
   "metadata": {},
   "source": [
    "| is proportional to | complexity:                |\n",
    "| ------------------ | -------------------------- |\n",
    "| T(n) ~ $log.n$     | logarithmic                |\n",
    "| T(n) ~ $n$         | linear                     |\n",
    "| T(n) ~ $n.log.n$   | linearithmic               |\n",
    "| T(n) ~ $n^2$       | quadratic (polynomial)     |\n",
    "| T(n) ~ $n^3$       | cubic (polynomial)         |\n",
    "| T(n) ~ $n^k$       | polynomial (k any integer) |\n",
    "| T(n) ~ $2^n$       | exponential                |\n",
    "| T(n) ~ $k^n; k>1$  | exponential                |"
   ]
  },
  {
   "cell_type": "markdown",
   "metadata": {},
   "source": [
    "<img src=\"img/03-07-01.png\" />"
   ]
  },
  {
   "cell_type": "markdown",
   "metadata": {},
   "source": [
    "- **stable** sorting algorithm - **preserve** **relative** **ordering** of items - **elements** - which are **already** **sorted** or elements that have the **same** **value** according to a - **comparator** **function** - actually appear in the same order in the sorted output as in the unsorted input [6]"
   ]
  },
  {
   "cell_type": "markdown",
   "metadata": {},
   "source": [
    "- **simple** - **understand** - **implement** - **explain** **conceptually** [6]"
   ]
  },
  {
   "cell_type": "markdown",
   "metadata": {},
   "source": [
    "- very **slow** - **impractical** for most problems - only practical **use** **case** is on **data** which is **nearly** **sorted** or for very **small** **input** data sets - insertion sort is probably even better for that [6]"
   ]
  },
  {
   "cell_type": "markdown",
   "metadata": {},
   "source": [
    "***\n",
    "# END"
   ]
  }
 ],
 "metadata": {
  "kernelspec": {
   "display_name": "Python 3",
   "language": "python",
   "name": "python3"
  },
  "language_info": {
   "codemirror_mode": {
    "name": "ipython",
    "version": 3
   },
   "file_extension": ".py",
   "mimetype": "text/x-python",
   "name": "python",
   "nbconvert_exporter": "python",
   "pygments_lexer": "ipython3",
   "version": "3.7.6"
  }
 },
 "nbformat": 4,
 "nbformat_minor": 4
}
