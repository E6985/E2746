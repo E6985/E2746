{
 "cells": [
  {
   "cell_type": "markdown",
   "metadata": {},
   "source": [
    "# sorting-algorithm-inversions\n",
    "> [TABLE OF CONTENTS](https://github.com/E6985/E2746/blob/master/README.md)\n",
    "***"
   ]
  },
  {
   "cell_type": "markdown",
   "metadata": {},
   "source": [
    "- concept - **inversion** - **solving** **problems** **within** sorting **algorithms** - important - **running** **time** of certain sorting algorithms - **insertion** **sort** - strongly **related** to the number of **inversions** that **occur** in the specific **input** instance [6]"
   ]
  },
  {
   "cell_type": "markdown",
   "metadata": {},
   "source": [
    "- **number** - of **inversions** in any collection - **array** - of items - **elements** - is **one** **measure** of how far it is from **being** **sorted** [6]"
   ]
  },
  {
   "cell_type": "markdown",
   "metadata": {},
   "source": [
    "- **inversion** - in collection - array - list - $A$ - ordered pair of positions - indices - $(i,j)$ - such that the position - index - $i$ - is less than the position - index - $j$ - albeit the item - element - that appears at position - index - $i$ - is greater than - item - element - which appears at position - index $j$ - according to the **definition** - **comparator** **function** - items - elements - at position - index - $i$ - $j$ - **out** **of** **order** [6]\n",
    "\n",
    "$i$ $<$ $j$ but $A[i]$ $>$ $A[j]$"
   ]
  },
  {
   "cell_type": "markdown",
   "metadata": {},
   "source": [
    "- collection - array - list - $[3,2,5]$ - one inversion - pair - $(3,2)$ - out of order [6]\n",
    "\n",
    "|list   |inversion(s)|pair  |sort     |\n",
    "|:-----:|:----------:|:----:|:-------:|\n",
    "|[3,2,5]|1           |(3,2) |[2,3,5]  |"
   ]
  },
  {
   "cell_type": "markdown",
   "metadata": {},
   "source": [
    "- collection - array - list - $[5,2,3]$ - two inversions - pairs - $(5,2))$ - $(5,3)$ - out of order [6]\n",
    "\n",
    "|list   |inversion(s)|pair  |sort     |\n",
    "|:-----:|:----------:|:----:|:-------:|\n",
    "|[5,2,3]|-           |(5,2) |[2,5,3]  |\n",
    "|[2,5,3]|2           |(5,3) |[2,3,5]  |"
   ]
  },
  {
   "cell_type": "markdown",
   "metadata": {},
   "source": [
    "- collection - array - list - $[3,2,5,1]$ - four inversions - pairs - $(3,2)$ - $(3,1)$ - $(2,1)$ - $(5,3)$ - out of order [6]\n",
    "\n",
    "|list     |inversion(s)|pair  |sort     |\n",
    "|:-------:|:----------:|:----:|:-------:|\n",
    "|[3,2,5,1]|-           |(3,2) |[2,3,5,1]|\n",
    "|[2,3,5,1]|-           |(3,1) |[2,1,5,3]|\n",
    "|[2,1,5,3]|-           |(2,1) |[1,2,5,3]|\n",
    "|[1,2,5,3]|4           |(5,3) |[1,2,3,5]|"
   ]
  },
  {
   "cell_type": "markdown",
   "metadata": {},
   "source": [
    "- concept - **inversion** - continues on - **applied** to **collections** - **arrays** - of **any** **arbitrary** **size** [6]"
   ]
  },
  {
   "cell_type": "markdown",
   "metadata": {},
   "source": [
    "***\n",
    "# END"
   ]
  }
 ],
 "metadata": {
  "kernelspec": {
   "display_name": "Python 3",
   "language": "python",
   "name": "python3"
  },
  "language_info": {
   "codemirror_mode": {
    "name": "ipython",
    "version": 3
   },
   "file_extension": ".py",
   "mimetype": "text/x-python",
   "name": "python",
   "nbconvert_exporter": "python",
   "pygments_lexer": "ipython3",
   "version": "3.7.6"
  }
 },
 "nbformat": 4,
 "nbformat_minor": 4
}
