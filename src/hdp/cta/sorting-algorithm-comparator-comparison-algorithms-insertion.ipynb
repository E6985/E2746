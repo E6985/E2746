{
 "cells": [
  {
   "cell_type": "markdown",
   "metadata": {},
   "source": [
    "# sorting-algorithm-comparator-comparison-algorithms-insertion\n",
    "> [TABLE OF CONTENTS](https://github.com/E6985/E2746/blob/master/README.md)\n",
    "***"
   ]
  },
  {
   "cell_type": "markdown",
   "metadata": {},
   "source": [
    "- **comparison-based** - sorting algorithm - bubblesort - quite easy to explain albeit not very intuitive - not how people would solve items - elements - in the real world - insertion - **similar** to the **method** **used** by **card** **players** when **sorting** **cards** - **intuitive** - relates to how humans sort items - elements - a lot of people use this method to do day to day sorting tasks [6]"
   ]
  },
  {
   "cell_type": "markdown",
   "metadata": {},
   "source": [
    "- **in-place** - sorting algorithm - **space** **complexity** - **constant** space complexity - **1** - space needed for the algorithm to work is equal to the size of the input data set plus some additional amount of memory which is fixed - does not depend on the size of the input data set [6]"
   ]
  },
  {
   "cell_type": "markdown",
   "metadata": {},
   "source": [
    "- **average** case - **worst** **case** - **performance** - **runtime** - polynomial - $n^2$ - **quadratic** - run in $O(n^{2})$ time - size of the input data set essentially determines the expected running time - quadratic relationship - essentially between expected running time and between the size of the input data set [6]"
   ]
  },
  {
   "cell_type": "markdown",
   "metadata": {},
   "source": [
    "- **best** case - **performance** - runtime - $n$ - **linear** - run in $O(n)$ time - does not happen often - concerned - algorithm - average case - worst case - performance [6]"
   ]
  },
  {
   "cell_type": "markdown",
   "metadata": {},
   "source": [
    "- **runs** in - $n+d$ **time** - &d& - **number** of **inversions** in the **input** instance [6]"
   ]
  },
  {
   "cell_type": "markdown",
   "metadata": {},
   "source": [
    "<img src=\"img/06-09-00-in-place.png\" />"
   ]
  },
  {
   "cell_type": "markdown",
   "metadata": {},
   "source": [
    "| is proportional to | complexity:                |\n",
    "| ------------------ | -------------------------- |\n",
    "| T(n) ~ $log.n$     | logarithmic                |\n",
    "| T(n) ~ $n$         | linear                     |\n",
    "| T(n) ~ $n.log.n$   | linearithmic               |\n",
    "| T(n) ~ $n^2$       | quadratic (polynomial)     |\n",
    "| T(n) ~ $n^3$       | cubic (polynomial)         |\n",
    "| T(n) ~ $n^k$       | polynomial (k any integer  |\n",
    "| T(n) ~ $2^n$       | exponential                |\n",
    "| T(n) ~ $k^n; k>1$  | exponential                |"
   ]
  },
  {
   "cell_type": "markdown",
   "metadata": {},
   "source": [
    "<img src=\"img/03-07-01.png\" />"
   ]
  },
  {
   "cell_type": "markdown",
   "metadata": {},
   "source": [
    "- **stable** sorting algorithm - **preserve** **relative** **ordering** of elements which are **already** **sorted** or elements that have the **same** **value** according to a - **comparator** **function** - actually appear in the same order in the sorted output as in the unsorted input [6]"
   ]
  },
  {
   "cell_type": "markdown",
   "metadata": {},
   "source": [
    "- extremely **inefficient** on **large** **random** **lists** [6]"
   ]
  },
  {
   "cell_type": "markdown",
   "metadata": {},
   "source": [
    "- **use** **case** - very **small** **input** data sets - five - ten - fifteen - items - elements - data sets - **already** **substantially** **sorted** - close to being sorted - very **low** **degree** of **inversions** [6]"
   ]
  },
  {
   "cell_type": "markdown",
   "metadata": {},
   "source": [
    "- **simple** - **understand** - **implement** - **explain** **conceptually** [6]"
   ]
  },
  {
   "cell_type": "markdown",
   "metadata": {},
   "source": [
    "- **works** by **splitting** a **list** of size - $n$ - **into** a - **head** - **sorted** **sublist** - and - **tail** - **unsorted** **sublist** [6]"
   ]
  },
  {
   "cell_type": "markdown",
   "metadata": {},
   "source": [
    "- use - **insertion** sort - **in** **tandem** with some **other** **algorithm** - **recursive** - first break the problem down to a small enough level -  using insertion sort quickly - taking care of the small problem instances without the expense of recursion - stepping all the way down to a base case which in recursive sorting algorithms typically continue until reaching a level whereby the input instances are one or zero in size - lot of active stack frames to get down to that level [6]"
   ]
  },
  {
   "cell_type": "markdown",
   "metadata": {},
   "source": [
    "- **writing** something - **neat** - **succinct** - has **decent** enough **performance** - **insertion** sort - is **good** **option** [6]"
   ]
  },
  {
   "cell_type": "markdown",
   "metadata": {},
   "source": [
    "***\n",
    "# END"
   ]
  }
 ],
 "metadata": {
  "kernelspec": {
   "display_name": "Python 3",
   "language": "python",
   "name": "python3"
  },
  "language_info": {
   "codemirror_mode": {
    "name": "ipython",
    "version": 3
   },
   "file_extension": ".py",
   "mimetype": "text/x-python",
   "name": "python",
   "nbconvert_exporter": "python",
   "pygments_lexer": "ipython3",
   "version": "3.7.6"
  }
 },
 "nbformat": 4,
 "nbformat_minor": 4
}
