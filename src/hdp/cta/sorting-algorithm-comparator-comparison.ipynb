{
 "cells": [
  {
   "cell_type": "markdown",
   "metadata": {},
   "source": [
    "# sorting-algorithm-comparator-comparison\n",
    "> [TABLE OF CONTENTS](https://github.com/E6985/E2746/blob/master/README.md)\n",
    "***"
   ]
  },
  {
   "cell_type": "markdown",
   "metadata": {},
   "source": [
    "- **comparator** **function** - **sorting** items - **elements** - by **comparing** **relative** **values** [6]"
   ]
  },
  {
   "cell_type": "markdown",
   "metadata": {},
   "source": [
    "- **comparison** **sort** - **specific** **class** of sorting **algorithm** - uses **comparison** **operations** only to **determine** which of **two** items - **elements** - should **appear** **first** in a **sorted** collection - **array** - list - based on some comparator function - two inputs - $a$ - $b$ - comparator function - tell whether item - element - $a$ - is valued - greater than - equal to - less than - item - element - $b$ [6]"
   ]
  },
  {
   "cell_type": "markdown",
   "metadata": {},
   "source": [
    "- **comparison-based** - sorting **algorithm** - **comparison** **type** **operation** between any two items - **elements** - which **appear** in a collection - **array** - only way to **gain** **information** about the total **order** is by comparing a pair of items - **elements** - at a time using the **order** **relation** - less than - equal to [6]"
   ]
  },
  {
   "cell_type": "markdown",
   "metadata": {},
   "source": [
    "- **class** of algorithm - **comparison-based** - incorporates many well known sorting algorithms - **bubble** - **selection** - **insertion** - **merge** - **quicksort** - **heapsort** [6]"
   ]
  },
  {
   "cell_type": "markdown",
   "metadata": {},
   "source": [
    "<img src=\"img/06-03-01.png\" />"
   ]
  },
  {
   "cell_type": "markdown",
   "metadata": {},
   "source": [
    "- **comparison-based** - sorts - probably **most** **widely** **applicable** to **diverse** types of **input** data - best all rounder [6]"
   ]
  },
  {
   "cell_type": "markdown",
   "metadata": {},
   "source": [
    "- **fundamental** to - algorithm analysis - computer science - relates to **comparison-based** sorting algorithms - **no** **algorithm** which **sorts** by **comparing** items - **elements** - can do better than - **linearithmic** - $n.log.n$ - in performance in the - average - worst case [6]"
   ]
  },
  {
   "cell_type": "markdown",
   "metadata": {},
   "source": [
    "- **comparison-based** - sorting algorithms - **limiting** factor - **linearithmic** - $n.log.n$ - **running** **time** in the **best** **case** - in terms of how efficient or how quickly these types of sorting algorithms can perform [6]"
   ]
  },
  {
   "cell_type": "markdown",
   "metadata": {},
   "source": [
    "- **exception** - sorting algorithms - **non-comparison-based** - **special** **conditions** - relate to the **types** of **values** that are going to be **sorted** - the **classes** of **input** data which are going to be **used** - think about the input instances - make certain guarantees about the input instances - know certain features of the input - counting sort - always use integer values as the sorting key - value going to sort on - can achieve a linear - $n$ - running time in the best case [6]"
   ]
  },
  {
   "cell_type": "markdown",
   "metadata": {},
   "source": [
    "- **possible** to **design** **non-comparison-based** - sorting algorithms - which have **better** - **worst** **case** - **times** than - **linearithmic** - $n.log.n$ - limit - being the **upper** **bound** on possible performance **for** **comparison-based** - sorting **algorithms** [6]"
   ]
  },
  {
   "cell_type": "markdown",
   "metadata": {},
   "source": [
    "| is proportional to | complexity:                |\n",
    "| ------------------ | -------------------------- |\n",
    "| T(n) ~ $log.n$     | logarithmic                |\n",
    "| T(n) ~ $n$         | linear                     |\n",
    "| T(n) ~ $n.log.n$   | linearithmic               |\n",
    "| T(n) ~ $n^2$       | quadratic (polynomial)     |\n",
    "| T(n) ~ $n^3$       | cubic (polynomial)         |\n",
    "| T(n) ~ $n^k$       | polynomial (k any integer  |\n",
    "| T(n) ~ $2^n$       | exponential                |\n",
    "| T(n) ~ $k^n; k>1$  | exponential                |"
   ]
  },
  {
   "cell_type": "markdown",
   "metadata": {},
   "source": [
    "<img src=\"img/03-07-01.png\" />"
   ]
  },
  {
   "cell_type": "markdown",
   "metadata": {},
   "source": [
    "- **non-comparison-based** - sorting algorithms - have **better** - **worst** **case** - **times** - bucket sort - counting sort - radix sort - albeit **less** **flexible** than **comparison-based** sorts - with comparions-based sort - no assumptions need to be made about the type of input - only assumption is that a comparator function can tell is one item - element - less than - equal to - greater than - another element [6]"
   ]
  },
  {
   "cell_type": "markdown",
   "metadata": {},
   "source": [
    "***\n",
    "# END"
   ]
  }
 ],
 "metadata": {
  "kernelspec": {
   "display_name": "Python 3",
   "language": "python",
   "name": "python3"
  },
  "language_info": {
   "codemirror_mode": {
    "name": "ipython",
    "version": 3
   },
   "file_extension": ".py",
   "mimetype": "text/x-python",
   "name": "python",
   "nbconvert_exporter": "python",
   "pygments_lexer": "ipython3",
   "version": "3.7.6"
  }
 },
 "nbformat": 4,
 "nbformat_minor": 4
}
