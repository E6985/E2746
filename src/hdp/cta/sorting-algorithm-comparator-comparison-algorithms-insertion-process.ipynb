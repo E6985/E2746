{
 "cells": [
  {
   "cell_type": "markdown",
   "metadata": {},
   "source": [
    "# sorting-algorithm-comparator-comparison-algorithms-insertion-process\n",
    "> [TABLE OF CONTENTS](https://github.com/E6985/E2746/blob/master/README.md)\n",
    "***"
   ]
  },
  {
   "cell_type": "markdown",
   "metadata": {},
   "source": [
    "- sorting a collection - array - **unsorted** **input** instance - collection - array - of integers - **some** **out** **of** **order** items - **elements** [6]\n",
    "\n",
    "$[7,5,2,3,1]$"
   ]
  },
  {
   "cell_type": "markdown",
   "metadata": {},
   "source": [
    "- **first** step - item - **element** - at position - **index** **one** - 1 - **value** - is the **key** [6]"
   ]
  },
  {
   "cell_type": "markdown",
   "metadata": {},
   "source": [
    "- **all** items - **elements** - to the **left** - if **greater** than - **key** - **value** - then **move** to the **right** - by **one** position - **index** - **insert** - **key** - now on left - sorted subarray [6]\n",
    "\n",
    "$7$ $>$ $key=5$ $move$ $...[1]=7$ $[0]=5$\n",
    "\n",
    "$[5,7,2,3,1]$"
   ]
  },
  {
   "cell_type": "markdown",
   "metadata": {},
   "source": [
    "- **next** step - item - **element** - at position - **index** **two** - 2 - value - is the **key** [6]"
   ]
  },
  {
   "cell_type": "markdown",
   "metadata": {},
   "source": [
    "- **all** items - **elements** - to the **left** - if **greater** than - **key** - **value** - then **move** to the **right** - by **one** position - **index** - **insert** - **key** - now on left - sorted subarray [6]\n",
    "\n",
    "$7$ $>$ $key=2$ $move$ $...[1]=2$ $[2]=7$\n",
    "\n",
    "$5$ $>$ $key=2$ $move$ $...[0]=2$ $[1]=5$\n",
    "\n",
    "$[2,5,7,3,1]$"
   ]
  },
  {
   "cell_type": "markdown",
   "metadata": {},
   "source": [
    "- **next** step - item - **element** - at position - **index** **three** - 3 - **value** is the **key** [6]"
   ]
  },
  {
   "cell_type": "markdown",
   "metadata": {},
   "source": [
    "- **all** items - **elements** - to the **left** - if **greater** than - **key** - **value** - then **move** to the **right** - by **one** position - **index** - **insert** - **key** - now on left - sorted subarray [6]\n",
    "\n",
    "$7$ $>$ $key=3$ $move$ $...[2]=3$ $[3]=7$\n",
    "\n",
    "$5$ $>$ $key=3$ $move$ $...[1]=3$ $[2]=5$\n",
    "\n",
    "$[2,3,5,7,1]$"
   ]
  },
  {
   "cell_type": "markdown",
   "metadata": {},
   "source": [
    "- **next** step - item - **element** - at position - **index** **four** - 4 - **value** is the **key** [6]"
   ]
  },
  {
   "cell_type": "markdown",
   "metadata": {},
   "source": [
    "- **all** items - **elements** - to the **left** - if **greater** than - **key** - **value** - then **move** to the **right** - by **one** position - **index** - **insert** - **key** - now on left - sorted subarray [6]\n",
    "\n",
    "$7$ $>$ $key=1$ $move$ $...[3]=1$ $[4]=7$\n",
    "\n",
    "$5$ $>$ $key=1$ $move$ $...[2]=1$ $[3]=5$\n",
    "\n",
    "$3$ $>$ $key=1$ $move$ $...[1]=1$ $[2]=3$\n",
    "\n",
    "$2$ $>$ $key=1$ $move$ $...[0]=1$ $[1]=2$\n",
    "\n",
    "$[1,2,3,5,7]$"
   ]
  },
  {
   "cell_type": "markdown",
   "metadata": {},
   "source": [
    "- collection - **array**  - **sorted** - **each** **step** - **head** - **sorted** **subarray** increases in size on the **left** - **tail** - **unsorted** **subarray** decreases in size on the **right** [6]"
   ]
  },
  {
   "cell_type": "markdown",
   "metadata": {},
   "source": [
    "<img src=\"img/06-24.png\" />"
   ]
  },
  {
   "cell_type": "markdown",
   "metadata": {},
   "source": [
    "***\n",
    "# END"
   ]
  }
 ],
 "metadata": {
  "kernelspec": {
   "display_name": "Python 3",
   "language": "python",
   "name": "python3"
  },
  "language_info": {
   "codemirror_mode": {
    "name": "ipython",
    "version": 3
   },
   "file_extension": ".py",
   "mimetype": "text/x-python",
   "name": "python",
   "nbconvert_exporter": "python",
   "pygments_lexer": "ipython3",
   "version": "3.7.6"
  }
 },
 "nbformat": 4,
 "nbformat_minor": 4
}
