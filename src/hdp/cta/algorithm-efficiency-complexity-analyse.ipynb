{
 "cells": [
  {
   "cell_type": "markdown",
   "metadata": {},
   "source": [
    "# algorithm-efficiency-complexity-analyse\n",
    "> [TABLE OF CONTENTS](https://github.com/E6985/E2746/blob/master/README.md)\n",
    "***"
   ]
  },
  {
   "cell_type": "markdown",
   "metadata": {},
   "source": [
    "- analysing algorithm - **complexity** - **separate** - **algorithm** from its **implementation** - two **concepts** when analysing - complexity - i) input data **size** - n - the number of individual data items in a single data instance that is to be processed - ii) number of **elementary** **operations** - $f(n)$ - taken by an algorithm to complete operations - or - representing its running time [6]"
   ]
  },
  {
   "cell_type": "markdown",
   "metadata": {},
   "source": [
    "- elementary operations - simplicity of analyse - **assume** that all elementary **operations** take the **same** amount of - **time** - to complete - execute - all operations are equivalent in the amount of execution time - convenient assumption when analysing the complexity of algorithms mathematically albeit not true in practice due to - cpu architecture - differences in accessing cache versus random access memory versus swap/disk access time - elementary operations - addition - multiplication - division - accessing an array element - are all assumed to take the same amount of time albeit to access element zero in an array - element 1000 - element 2000 - in practice would have slightly different access times - for purposes of analysis - accessing any element in an array will take a consistent amount of time - the idea of consistent execution time for elementary operations would form the basis of the - random access machine - **ram** - **model** of computation [6]"
   ]
  },
  {
   "cell_type": "markdown",
   "metadata": {},
   "source": [
    "- function - $T(n)$ - represents the running time of a specific implementation of an algorithm - for convenient - function - $T(n)$ - equals to - some constant - $c$ - times - function - $f(n)$ - whereby - function - $f(n)$ - refers to the number of operations as a function of the input size - $n$ - of the data set [6]"
   ]
  },
  {
   "cell_type": "markdown",
   "metadata": {},
   "source": [
    "$T(n)$ = $c*f(n)$"
   ]
  },
  {
   "cell_type": "markdown",
   "metadata": {},
   "source": [
    "- constant factor - $c$ - rarely be determined in practice - depends on the - specific implementation details - specifc platform - the algorithm is running upon - constant - be some conbination of factors such as the specific - computers - operating system - programming language - how the compiler translates the code into machine code - used for the specific implementation of an algorithm [6]"
   ]
  },
  {
   "cell_type": "markdown",
   "metadata": {},
   "source": [
    "***\n",
    "# END"
   ]
  }
 ],
 "metadata": {
  "kernelspec": {
   "display_name": "Python 3",
   "language": "python",
   "name": "python3"
  },
  "language_info": {
   "codemirror_mode": {
    "name": "ipython",
    "version": 3
   },
   "file_extension": ".py",
   "mimetype": "text/x-python",
   "name": "python",
   "nbconvert_exporter": "python",
   "pygments_lexer": "ipython3",
   "version": "3.7.6"
  }
 },
 "nbformat": 4,
 "nbformat_minor": 4
}
