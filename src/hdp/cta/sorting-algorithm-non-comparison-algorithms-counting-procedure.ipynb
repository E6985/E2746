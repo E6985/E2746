{
 "cells": [
  {
   "cell_type": "markdown",
   "metadata": {},
   "source": [
    "# sorting-algorithm-non-comparison-algorithms-counting-procedure\n",
    "> [TABLE OF CONTENTS](https://github.com/E6985/E2746/blob/master/README.md)\n",
    "***"
   ]
  },
  {
   "cell_type": "markdown",
   "metadata": {},
   "source": [
    "- **first** - if **not** **known** - **determine** **key** **range** - $k$ - of the **input** collection - **array** [6]"
   ]
  },
  {
   "cell_type": "markdown",
   "metadata": {},
   "source": [
    "- **next** - **initialise** a collection - **array** - **count** - of **size** - $k$ - **number** of **discrete** **key** **values** which are **possible** - number of discrete sort keys which are possible [6]"
   ]
  },
  {
   "cell_type": "markdown",
   "metadata": {},
   "source": [
    "- **initialised** collection - **array** - **count** - **counting** the **number** of **times** that **each** **key** **value** **appears** in the **input** instance - could have multiple instances of the same key value in the input instance - hence - counting sort - **count** how many **times** **each** **specific** **key** **value** **occurs** - good if there is a lot of **duplicate** **keys** [6]"
   ]
  },
  {
   "cell_type": "markdown",
   "metadata": {},
   "source": [
    "- **next** - **initialise** a collection - **array** - **results** - **size** - $n$ - used it to build the **sorted** **output** [6]"
   ]
  },
  {
   "cell_type": "markdown",
   "metadata": {},
   "source": [
    "- **space** **complexity** - **working** **memory** - is the collection - **array** - **count** - **size** - $k$ - collection - **array** - **results** - **size** - $n$ - going to **store** **results** of the **sorted** **output** - $n+k$ [6]"
   ]
  },
  {
   "cell_type": "markdown",
   "metadata": {},
   "source": [
    "- **next** - **iterate** through the **input** collection - **array** - **count** - **record** the **number** of **times** that each **distinct** **key** **value** **occurs** in the **input** instance - **histogram** of **frequencies** - records how often something happened [6]"
   ]
  },
  {
   "cell_type": "markdown",
   "metadata": {},
   "source": [
    "- **next** - **construct** the **sorted** collection - **array** - **results** - **based** on the **histogram** of **key** **frequencies** **stored** in the collection - **array** - **count** [6]"
   ]
  },
  {
   "cell_type": "markdown",
   "metadata": {},
   "source": [
    "- **referring** to the **ordering** of the **keys** in the **original** **input** - will **ensure** that **stability** is **preserved** - if two different key values - two items - elements - have the key value - number two - then know that if one appears on the right of the other then that ordering would be preserved **after** the **sorting** **procedure** - can **take** that **into** **account** **when** **implementing** - **counting** **sort** [6]"
   ]
  },
  {
   "cell_type": "markdown",
   "metadata": {},
   "source": [
    "***\n",
    "# END"
   ]
  }
 ],
 "metadata": {
  "kernelspec": {
   "display_name": "Python 3",
   "language": "python",
   "name": "python3"
  },
  "language_info": {
   "codemirror_mode": {
    "name": "ipython",
    "version": 3
   },
   "file_extension": ".py",
   "mimetype": "text/x-python",
   "name": "python",
   "nbconvert_exporter": "python",
   "pygments_lexer": "ipython3",
   "version": "3.7.6"
  }
 },
 "nbformat": 4,
 "nbformat_minor": 4
}
