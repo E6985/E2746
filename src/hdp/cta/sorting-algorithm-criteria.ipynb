{
 "cells": [
  {
   "cell_type": "markdown",
   "metadata": {},
   "source": [
    "# sorting-algorithm-criteria\n",
    "> [TABLE OF CONTENTS](https://github.com/E6985/E2746/blob/master/README.md)\n",
    "***"
   ]
  },
  {
   "cell_type": "markdown",
   "metadata": {},
   "source": [
    "- **insertion** **sort** - i) **small** **number** of items - **elements** - to be sorted - the order of five to ten items - elements - ii) items  **elements** - **mostly** **sorted** already - degree of **inversions** [6]"
   ]
  },
  {
   "cell_type": "markdown",
   "metadata": {},
   "source": [
    "- **heap** sort - **concern** - **performance** - **worst** **case** scenario - **good** **guarantees** in the worst case [6]"
   ]
  },
  {
   "cell_type": "markdown",
   "metadata": {},
   "source": [
    "- **quicksort** - **average** **case** - behaviour - good general purpose sorting algorithm - **without** **assuming** too much about the **classes** of **input** **instances** [6]"
   ]
  },
  {
   "cell_type": "markdown",
   "metadata": {},
   "source": [
    "- **bucket** **sort** - know in **advance** - **input** instances of the data - input instances are **very** **uniform** - **dense** **universe** [6]"
   ]
  },
  {
   "cell_type": "markdown",
   "metadata": {},
   "source": [
    "- **insertion** **sort** - **compact** - **small** algorithm - require very **little** **code** to be written [6]"
   ]
  },
  {
   "cell_type": "markdown",
   "metadata": {},
   "source": [
    "- **merge** **sort** - **guaranteed** to be **stable** - **preserves** good all **around** **efficiency** [6]"
   ]
  },
  {
   "cell_type": "markdown",
   "metadata": {},
   "source": [
    "<img src=\"img/06-04.png\" />"
   ]
  },
  {
   "cell_type": "markdown",
   "metadata": {},
   "source": [
    "***\n",
    "# END"
   ]
  }
 ],
 "metadata": {
  "kernelspec": {
   "display_name": "Python 3",
   "language": "python",
   "name": "python3"
  },
  "language_info": {
   "codemirror_mode": {
    "name": "ipython",
    "version": 3
   },
   "file_extension": ".py",
   "mimetype": "text/x-python",
   "name": "python",
   "nbconvert_exporter": "python",
   "pygments_lexer": "ipython3",
   "version": "3.7.6"
  }
 },
 "nbformat": 4,
 "nbformat_minor": 4
}
