{
 "cells": [
  {
   "cell_type": "markdown",
   "metadata": {},
   "source": [
    "# search-types-linear\n",
    "> [TABLE OF CONTENTS](https://github.com/E6985/E2746/blob/master/README.md)\n",
    "***"
   ]
  },
  {
   "cell_type": "markdown",
   "metadata": {},
   "source": [
    "- **linear** **searches** - **simple** **naive** **search** **algorithm** - **known** as **sequential** **search** - absolutely **trivial** to **implement** [6]"
   ]
  },
  {
   "cell_type": "markdown",
   "metadata": {},
   "source": [
    "- **constitutes** - **brute** **force** **approach** - to **locate** a **single** **target** **value** in a collection - **array** - brute force in terms of algorithms - **inefficient** [6]"
   ]
  },
  {
   "cell_type": "markdown",
   "metadata": {},
   "source": [
    "- **even** **though** it is a **brute** **force** **algorithm** - **could** **have** **some** **applications** in the **real** **world** - could be **useful** in **certain** **instances** [6]"
   ]
  },
  {
   "cell_type": "markdown",
   "metadata": {},
   "source": [
    "- **procedure** - **begin** at the **first** position - **index** - item - **element** - **zero** - in a collection - **array** - then **inspect** each item - **element** - in the collection - array - **inturn** **until** the **target** **value** **found** [6]"
   ]
  },
  {
   "cell_type": "markdown",
   "metadata": {},
   "source": [
    "- **procedure** - **iterated** **through** all items - **elements** - in the collection - **array** - **target** **value** **not** **found** [6]"
   ]
  },
  {
   "cell_type": "markdown",
   "metadata": {},
   "source": [
    "- **appropriate** **algorithm** - when **do** **not** **know** whether the **input** **data** is **sorted** **beforehand** - most broadly applicable search algorithm - **no** **assumptions** **made** about the **type** of **data** [6]"
   ]
  },
  {
   "cell_type": "markdown",
   "metadata": {},
   "source": [
    "- **appropriate** **algorithm** - when the collection - **array** - to be **searched** is **small** - five - ten - fifteen - twenty - items - elements [6]"
   ]
  },
  {
   "cell_type": "markdown",
   "metadata": {},
   "source": [
    "- **given** **no** **assumptions** about the **contents** of the collection - **array** - **place** the **fewest** **restrictions** on the **type** of items - **elements** - to be **searched** [6]"
   ]
  },
  {
   "cell_type": "markdown",
   "metadata": {},
   "source": [
    "- **good** **algorithm** - if **do** **not** **assume** that the **data** is **sorted** **beforehand** [6]"
   ]
  },
  {
   "cell_type": "markdown",
   "metadata": {},
   "source": [
    "- **knowing** - **data** **sorted** **beforehand** - **binary** **search** would be a **better** **choice** [6]"
   ]
  },
  {
   "cell_type": "markdown",
   "metadata": {},
   "source": [
    "- **only** **requirement** - using **linear** **search** - have **presence** of a **match** **function** [6]"
   ]
  },
  {
   "cell_type": "markdown",
   "metadata": {},
   "source": [
    "- **match** **function** - **some** **definition** - **equals** or **equivalent** **to** - **determines** if the **target** items - **elements** - being **searched** - **matches** any items - **elements** - in the collection - **array** [6]"
   ]
  },
  {
   "cell_type": "markdown",
   "metadata": {},
   "source": [
    "- **use** **case** - **linear** **search** - **need** to **frequently** **search** through a collection - **array** - **locate** **some** item - **element** - **knowing** that the collection - **array** - **may** **or** **may** **not** be **ordered** - no guarantees - **maybe** - in the collection - **array** - **data** - **added** - **removed** - **updated** - at a **large** **rate** [6]"
   ]
  },
  {
   "cell_type": "markdown",
   "metadata": {},
   "source": [
    "- **with** - **without** - **further** **knowledge** of **all** the **information** that could be in the collection - **array** - using - **linear** **search** - **get** the **job** done in a **brute** **force** **manner** - **linear** - **time** - **not** the most **efficient** search algorithm albeit still reasonably quick [6]"
   ]
  },
  {
   "cell_type": "markdown",
   "metadata": {},
   "source": [
    "- if the collection - **array** - **accessible** **only** **through** an **iterator** - iterating through the collection - array - data structure - **one** item - **element** - at **a** **time** - have data structure whereby could not go into a specific index - look at the variable - but are **forced** to **iterate** **through** **everything** - **linear** **search** is the **only** **algorithm** that can be **used** in that **instance** [6]"
   ]
  },
  {
   "cell_type": "markdown",
   "metadata": {},
   "source": [
    "- **achieve** **constant** - $O(1)$ - **time** - **best** **case** - **achieve** **linear** - $n$ - **time** - **average** - **worst** **case** [6]"
   ]
  },
  {
   "cell_type": "markdown",
   "metadata": {},
   "source": [
    "- **assume** - **equally** **likely** that the **target** **value** - **found** at any collection - **array** - position - **index** - **if** the **size** of the **input** collection - **array** - **doubled** - should also expect that the **running** **time** would **approximately** **double** - **linear** **running** **time** [6]"
   ]
  },
  {
   "cell_type": "markdown",
   "metadata": {},
   "source": [
    "- **best** **case** - **occur** **if** the item - **element** - **sought** occurs at the **first** position - **index** - **worst** **case** - **last** position - **index** - **average** **case** - **somewhere** in the **middle** [6]"
   ]
  },
  {
   "cell_type": "markdown",
   "metadata": {},
   "source": [
    "- **on** **average** - **expect** to have size - $n/2$ - **operations** to **complete** **linear** **search** [6]"
   ]
  },
  {
   "cell_type": "markdown",
   "metadata": {},
   "source": [
    "- **still** **call** - **linear** - $O(n)$ - **time** given **divide** **by** **two** is a **constant** [6]"
   ]
  },
  {
   "cell_type": "markdown",
   "metadata": {},
   "source": [
    "| is proportional to | complexity:                |\n",
    "| ------------------ | -------------------------- |\n",
    "| T(n) ~ $log.n$     | logarithmic                |\n",
    "| T(n) ~ $n$         | linear                     |\n",
    "| T(n) ~ $n.log.n$   | linearithmic               |\n",
    "| T(n) ~ $n^2$       | quadratic (polynomial)     |\n",
    "| T(n) ~ $n^3$       | cubic (polynomial)         |\n",
    "| T(n) ~ $n^k$       | polynomial (k any integer) |\n",
    "| T(n) ~ $2^n$       | exponential                |\n",
    "| T(n) ~ $k^n; k>1$  | exponential                |"
   ]
  },
  {
   "cell_type": "markdown",
   "metadata": {},
   "source": [
    "<img src=\"img/03-07-01.png\" />"
   ]
  },
  {
   "cell_type": "markdown",
   "metadata": {},
   "source": [
    "- **constant** **space** **complexity** - **in-place** [6]"
   ]
  },
  {
   "cell_type": "markdown",
   "metadata": {},
   "source": [
    "***\n",
    "# END"
   ]
  }
 ],
 "metadata": {
  "kernelspec": {
   "display_name": "Python 3",
   "language": "python",
   "name": "python3"
  },
  "language_info": {
   "codemirror_mode": {
    "name": "ipython",
    "version": 3
   },
   "file_extension": ".py",
   "mimetype": "text/x-python",
   "name": "python",
   "nbconvert_exporter": "python",
   "pygments_lexer": "ipython3",
   "version": "3.7.6"
  }
 },
 "nbformat": 4,
 "nbformat_minor": 4
}
