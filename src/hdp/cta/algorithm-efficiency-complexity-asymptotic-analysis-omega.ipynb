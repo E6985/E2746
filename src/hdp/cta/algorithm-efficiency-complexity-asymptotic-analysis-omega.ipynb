{
 "cells": [
  {
   "cell_type": "markdown",
   "metadata": {},
   "source": [
    "# algorithm-efficiency-complexity-asymptotic-analysis-omega\n",
    "> [TABLE OF CONTENTS](https://github.com/E6985/E2746/blob/master/README.md)\n",
    "***"
   ]
  },
  {
   "cell_type": "markdown",
   "metadata": {},
   "source": [
    "- **notation** - $\\Omega$ - **describes** the **complexity** of an algorithm in the **best-case** scenario - best case may not occur often albeit still useful to analyse - see what - instances - classifications - of input sets - input instances - the algorithm will work at its full potential [6]"
   ]
  },
  {
   "cell_type": "markdown",
   "metadata": {},
   "source": [
    "- $\\Omega$ - **represents** the **lower** **bound** on the number of possible **operations** for a given algorithm - an algorithm that runs in - omega n time - $\\Omega(n)$ - **exhibits** a **linear** **growth** - running time - number of operations - as the number of input **elements** **increase** in the best case [6]"
   ]
  },
  {
   "cell_type": "markdown",
   "metadata": {},
   "source": [
    "***\n",
    "# END"
   ]
  }
 ],
 "metadata": {
  "kernelspec": {
   "display_name": "Python 3",
   "language": "python",
   "name": "python3"
  },
  "language_info": {
   "codemirror_mode": {
    "name": "ipython",
    "version": 3
   },
   "file_extension": ".py",
   "mimetype": "text/x-python",
   "name": "python",
   "nbconvert_exporter": "python",
   "pygments_lexer": "ipython3",
   "version": "3.7.6"
  }
 },
 "nbformat": 4,
 "nbformat_minor": 4
}
