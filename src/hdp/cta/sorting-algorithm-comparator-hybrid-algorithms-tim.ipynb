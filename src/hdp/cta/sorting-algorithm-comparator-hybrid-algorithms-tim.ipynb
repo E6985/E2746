{
 "cells": [
  {
   "cell_type": "markdown",
   "metadata": {},
   "source": [
    "# sorting-algorithm-comparator-hybrid-algorithms-tim\n",
    "> [TABLE OF CONTENTS](https://github.com/E6985/E2746/blob/master/README.md)\n",
    "***"
   ]
  },
  {
   "cell_type": "markdown",
   "metadata": {},
   "source": [
    "- **hybrid** - sorting algorithm - **combine** the **properties** of **two** **different** **algorithms** to **make** a **better** **algorithm** on **aggregate** - **timsort** - **stable** - proposed by Tim **Peters** - 2020 [6]"
   ]
  },
  {
   "cell_type": "markdown",
   "metadata": {},
   "source": [
    "- **implemented** **initially** for **use** as a **reference** **sorting** **algorithm** in **python** [6]"
   ]
  },
  {
   "cell_type": "markdown",
   "metadata": {},
   "source": [
    "- **derived** - **combination** - **merge** **sort** - with the **speed** of - **insertion** **sort** - on the **small** **input** **instances** - **plus** some **additional** **logic** included - **binary** **search** [6] "
   ]
  },
  {
   "cell_type": "markdown",
   "metadata": {},
   "source": [
    "- **finds** - **subsequences** - **runs** of the **data** - **already** **ordered** - **using** that **knowledge** to **sort** the **remainder** - more **efficiently** [6]"
   ]
  },
  {
   "cell_type": "markdown",
   "metadata": {},
   "source": [
    "- **merging** an **identified** **run** with the **existing** **runs** until **certain** **criteria** **satisfied** [6]"
   ]
  },
  {
   "cell_type": "markdown",
   "metadata": {},
   "source": [
    "- **algorithm** been **used** on the **android** **platform** - used in **python** since 2.3 - used for arrays on non-primitive types in **java** se 7 and **gnu** **octave** software - mathematical analysis software [6]"
   ]
  },
  {
   "cell_type": "markdown",
   "metadata": {},
   "source": [
    "<img src=\"img/06-03-01-0.png\" />\n",
    "<img src=\"img/06-03-01-2.png\" />"
   ]
  },
  {
   "cell_type": "markdown",
   "metadata": {},
   "source": [
    "***\n",
    "# END"
   ]
  }
 ],
 "metadata": {
  "kernelspec": {
   "display_name": "Python 3",
   "language": "python",
   "name": "python3"
  },
  "language_info": {
   "codemirror_mode": {
    "name": "ipython",
    "version": 3
   },
   "file_extension": ".py",
   "mimetype": "text/x-python",
   "name": "python",
   "nbconvert_exporter": "python",
   "pygments_lexer": "ipython3",
   "version": "3.7.6"
  }
 },
 "nbformat": 4,
 "nbformat_minor": 4
}
