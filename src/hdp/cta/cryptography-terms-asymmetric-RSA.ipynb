{
 "cells": [
  {
   "cell_type": "markdown",
   "metadata": {},
   "source": [
    "# cryptography-terms-asymmetric-RSA\n",
    "> [TABLE OF CONTENTS](https://github.com/E6985/E2746/blob/master/README.md)\n",
    "***"
   ]
  },
  {
   "cell_type": "markdown",
   "metadata": {},
   "source": [
    "- algorithm - **RSA** - **asymmetric** **cryptosystem** - security - privacy - **implemented** using - **public** **key** - **encryption** - **private** **key** - **decryption** - derived from - Ron Rivest Adi Shamire Len Adleman - published in 1978 - still secure - enhancements made over the years - robust system [6]"
   ]
  },
  {
   "cell_type": "markdown",
   "metadata": {},
   "source": [
    "- **block** **ciphering** **scheme** - blocks of - **plaintext** - $P$ - divided into **chunks** -  said chunks get **represented** as **integers** in some **range** of value - $0$ and $n$ $-$ $1$ - for some value - $n$ - both - plaintext - $P$ - ciphertext - $C$ - represented as integers within a range [6]"
   ]
  },
  {
   "cell_type": "markdown",
   "metadata": {},
   "source": [
    "- RSA - **underpinned** by - **number** **theory** based on - **Eulers** generalisation of **Fermats** **Theorem** - output from the result of these theorems are in the form of an - encryption system - decryption system [6]"
   ]
  },
  {
   "cell_type": "markdown",
   "metadata": {},
   "source": [
    "- format - **block** of - **plaintext** - $P$ - **message** - $M$ - gets **transformed** into **block** of - **ciphertext** - $C$ [6]"
   ]
  },
  {
   "cell_type": "markdown",
   "metadata": {},
   "source": [
    "- **enciphering** **transformation** - **ciphertext** - $C$ - raising the message - $M$ - to the power of some number - key - encryption key - $e$ - divide by - $n$ - remainder from this calculation - $mod$ $n$ - back to - ciphertext - $C$ [6]"
   ]
  },
  {
   "cell_type": "markdown",
   "metadata": {},
   "source": [
    "$C = M^{e}$ $mod$ $n$"
   ]
  },
  {
   "cell_type": "markdown",
   "metadata": {},
   "source": [
    "- **deciphering** **transformation** - **plaintext** - $P$ - message - $M$ - recipient - receives - ciphertext - $C$ - raised to the power of some number - key - decryption key - $d$ - divide by - $n$ - remainder from this calculation - $mod$ $n$ - back to - plaintext - $P$ - message - $M$ - encryption key - $e$ - decryption key - $d$ - not same [6]"
   ]
  },
  {
   "cell_type": "markdown",
   "metadata": {},
   "source": [
    "$M = C^{d}$ $mod$ $n$"
   ]
  },
  {
   "cell_type": "markdown",
   "metadata": {},
   "source": [
    "- **signatures** - other **property** - message - $M$ - raised to the power of - key - encryption key - $e$ - raised to the power of - key - decryption key - $d$ - divide by - $n$ - remainder from this calculation - $mod$ $n$ - back to - **plaintext** - $P$ - message - $M$ [6]"
   ]
  },
  {
   "cell_type": "markdown",
   "metadata": {},
   "source": [
    "$(M^{e})^{d}$ $mod$ $n$ = $M^{ed}$ $mod$ $n$"
   ]
  },
  {
   "cell_type": "markdown",
   "metadata": {},
   "source": [
    "- **algorithm** - **RSA** - **properties** - i) **publicly** **known** - value of number - $n$ - ii) publicly known - value of number - key - encryption key - $e$ - iii) **recipient** **only** - knows - value of numnber - key - **decryption** **key** - $d$ [6]"
   ]
  },
  {
   "cell_type": "markdown",
   "metadata": {},
   "source": [
    "<img src=\"img/05-11.png\" />"
   ]
  },
  {
   "cell_type": "markdown",
   "metadata": {},
   "source": [
    "- **model** - enterprise - sets up system whereby users can be confident to transact - enterprise to implement security - deploying system - underpinned by - RSA - customers - advised system available - i) value of number - $n$ - ii) value of number - key - encryption key - $e$ - relevant - using these numbers to transact - enterprise has the corresponding value of number - key - decryption key $d$ - allowing the decryption of data sent - public key - {$e,n$} - private key - {$d,n$} [6]"
   ]
  },
  {
   "cell_type": "markdown",
   "metadata": {},
   "source": [
    "- requirement - values exist - $e$ - $d$ - $n$ - such that - plaintext - $P$ - message - $M$ - raised to the power of - key - encryption key - $e$ - raised to the power of - key - decryption key - $d$ - back again to the message - $M$ - divided by - $n$ - remainder from this calculation - $mod$ $n$ - for all - values - message - $M$ - less than - $n$ [6]\n",
    "\n",
    "$M^{ed}$ = $M$ $mod$ $n$ for all $M$ $<$ $n$"
   ]
  },
  {
   "cell_type": "markdown",
   "metadata": {},
   "source": [
    "- requirement - message - $M$ - raised to the power of - key - encryption key - $e$ - plus - ciphertext - $C$ - raised to the power of - key - decryption key - $d$ - can be calculated relatively easily for all values of - message - $M$ - less than $n$ - computation performed quickly - not computationally prohibited [6]"
   ]
  },
  {
   "cell_type": "markdown",
   "metadata": {},
   "source": [
    "- requirement - infeasible to determine - key - decryption key - $d$ - given knowledge of just - key - encryption key - $e$ - $n$ - publicly known - public key - {$e,n$} - infeasible to determine - key - decryption key - $d$ [6]"
   ]
  },
  {
   "cell_type": "markdown",
   "metadata": {},
   "source": [
    "- employer scenario - employee - pin - value - 2345 - not sending across network - plaintext - $P$ - encrypt - wrap up using - key - **challenge** - employer - recipient - **agree** in **advance** what the **key** actually is before **sending** over an **unsecure** network - **symmetric** cryptographic system [6]"
   ]
  },
  {
   "cell_type": "markdown",
   "metadata": {},
   "source": [
    "- **RSA** - **solves** problem - allows - **key** - be **publicly** **known** - employer implements a security system based on - RSA algorithm - tell all -  when sending private data - password - encrypt - using RSA - relevant public key information - software configured - RSA - requirements met - employee types pin - local not going out onto the network - need value for - $e$ - $n$ - publicly available [6]"
   ]
  },
  {
   "cell_type": "code",
   "execution_count": 1,
   "metadata": {},
   "outputs": [],
   "source": [
    "nPub_e=7"
   ]
  },
  {
   "cell_type": "code",
   "execution_count": 2,
   "metadata": {},
   "outputs": [],
   "source": [
    "nPub_n=33"
   ]
  },
  {
   "cell_type": "code",
   "execution_count": 3,
   "metadata": {},
   "outputs": [],
   "source": [
    "nPri_pin=2,3,4,5"
   ]
  },
  {
   "cell_type": "markdown",
   "metadata": {},
   "source": [
    "$C = P^{e}$ $mod$ $n$"
   ]
  },
  {
   "cell_type": "code",
   "execution_count": 4,
   "metadata": {},
   "outputs": [
    {
     "data": {
      "text/plain": [
       "'<plaintext (P)> 2 <encrypts> <Ciphertext (C)> 29'"
      ]
     },
     "execution_count": 4,
     "metadata": {},
     "output_type": "execute_result"
    }
   ],
   "source": [
    "nC1=((nPri_pin[0])**nPub_e)%nPub_n\n",
    "\"<plaintext (P)> {} <encrypts> <Ciphertext (C)> {}\".format(nPri_pin[0],nC1)"
   ]
  },
  {
   "cell_type": "code",
   "execution_count": 5,
   "metadata": {},
   "outputs": [
    {
     "data": {
      "text/plain": [
       "'<plaintext (P)> 3 <encrypts> <Ciphertext (C)> 9'"
      ]
     },
     "execution_count": 5,
     "metadata": {},
     "output_type": "execute_result"
    }
   ],
   "source": [
    "nC2=((nPri_pin[1])**nPub_e)%nPub_n\n",
    "\"<plaintext (P)> {} <encrypts> <Ciphertext (C)> {}\".format(nPri_pin[1],nC2)"
   ]
  },
  {
   "cell_type": "code",
   "execution_count": 6,
   "metadata": {},
   "outputs": [
    {
     "data": {
      "text/plain": [
       "'<plaintext (P)> 4 <encrypts> <Ciphertext (C)> 16'"
      ]
     },
     "execution_count": 6,
     "metadata": {},
     "output_type": "execute_result"
    }
   ],
   "source": [
    "nC3=((nPri_pin[2])**nPub_e)%nPub_n\n",
    "\"<plaintext (P)> {} <encrypts> <Ciphertext (C)> {}\".format(nPri_pin[2],nC3)"
   ]
  },
  {
   "cell_type": "code",
   "execution_count": 7,
   "metadata": {},
   "outputs": [
    {
     "data": {
      "text/plain": [
       "'<plaintext (P)> 5 <encrypts> <Ciphertext (C)> 14'"
      ]
     },
     "execution_count": 7,
     "metadata": {},
     "output_type": "execute_result"
    }
   ],
   "source": [
    "nC4=((nPri_pin[3])**nPub_e)%nPub_n\n",
    "\"<plaintext (P)> {} <encrypts> <Ciphertext (C)> {}\".format(nPri_pin[3],nC4)"
   ]
  },
  {
   "cell_type": "code",
   "execution_count": 8,
   "metadata": {},
   "outputs": [
    {
     "data": {
      "text/plain": [
       "'<plaintext (P)> (2, 3, 4, 5)'"
      ]
     },
     "execution_count": 8,
     "metadata": {},
     "output_type": "execute_result"
    }
   ],
   "source": [
    "\"<plaintext (P)> {}\".format(nPri_pin)"
   ]
  },
  {
   "cell_type": "code",
   "execution_count": 9,
   "metadata": {},
   "outputs": [
    {
     "data": {
      "text/plain": [
       "'<Ciphertext (C) = Encr(P)> (29, 9, 16, 14)'"
      ]
     },
     "execution_count": 9,
     "metadata": {},
     "output_type": "execute_result"
    }
   ],
   "source": [
    "nCiphertext=nC1,nC2,nC3,nC4\n",
    "\"<Ciphertext (C) = Encr(P)> {}\".format(nCiphertext)"
   ]
  },
  {
   "cell_type": "markdown",
   "metadata": {},
   "source": [
    "- **adversary** - listening on the connnection - capture packet - encrypted - pin [6]\n",
    "\n",
    "29 - 9 - 16 - 14 \n",
    "\n",
    "- publicly know - algorithm output - RSA [6]\n",
    "\n",
    "$C = P^{e}$ $mod$ $n$\n",
    "\n",
    "- publicly known - public key {$e,n$} [6]\n",
    "\n",
    "7 - 33\n",
    "\n",
    "- **not** **able** to **obtain** **plaintext** - $P$ - in a **reasonable** **amount** of **time** - assuming numbers - {$e,n$} - get larger - hundreds of digits long - decrypting - only be done in a reasonable amount of time if - private - secret - key - $d$ - known - not publicly available - straightforward if known [6]"
   ]
  },
  {
   "cell_type": "markdown",
   "metadata": {},
   "source": [
    "$P = C^{d}$ $mod$ $n$"
   ]
  },
  {
   "cell_type": "code",
   "execution_count": 10,
   "metadata": {},
   "outputs": [
    {
     "data": {
      "text/plain": [
       "'<decryption key> <not public> 3'"
      ]
     },
     "execution_count": 10,
     "metadata": {},
     "output_type": "execute_result"
    }
   ],
   "source": [
    "nPri_d=3\n",
    "\"<decryption key> <not public> {}\".format(nPri_d)"
   ]
  },
  {
   "cell_type": "code",
   "execution_count": 11,
   "metadata": {},
   "outputs": [
    {
     "data": {
      "text/plain": [
       "'<Ciphertext (C)> 29 <decrypts> <plaintext (P)> 2'"
      ]
     },
     "execution_count": 11,
     "metadata": {},
     "output_type": "execute_result"
    }
   ],
   "source": [
    "nP1=((nCiphertext[0])**nPri_d)%nPub_n\n",
    "\"<Ciphertext (C)> {} <decrypts> <plaintext (P)> {}\".format(nCiphertext[0],nP1)"
   ]
  },
  {
   "cell_type": "code",
   "execution_count": 12,
   "metadata": {},
   "outputs": [
    {
     "data": {
      "text/plain": [
       "'<Ciphertext (C)> 9 <decrypts> <plaintext (P)> 3'"
      ]
     },
     "execution_count": 12,
     "metadata": {},
     "output_type": "execute_result"
    }
   ],
   "source": [
    "nP2=((nCiphertext[1])**nPri_d)%nPub_n\n",
    "\"<Ciphertext (C)> {} <decrypts> <plaintext (P)> {}\".format(nCiphertext[1],nP2)"
   ]
  },
  {
   "cell_type": "code",
   "execution_count": 13,
   "metadata": {},
   "outputs": [
    {
     "data": {
      "text/plain": [
       "'<Ciphertext (C)> 16 <decrypts> <plaintext (P)> 4'"
      ]
     },
     "execution_count": 13,
     "metadata": {},
     "output_type": "execute_result"
    }
   ],
   "source": [
    "nP3=((nCiphertext[2])**nPri_d)%nPub_n\n",
    "\"<Ciphertext (C)> {} <decrypts> <plaintext (P)> {}\".format(nCiphertext[2],nP3)"
   ]
  },
  {
   "cell_type": "code",
   "execution_count": 14,
   "metadata": {},
   "outputs": [
    {
     "data": {
      "text/plain": [
       "'<Ciphertext (C)> 14 <decrypts> <plaintext (P)> 5'"
      ]
     },
     "execution_count": 14,
     "metadata": {},
     "output_type": "execute_result"
    }
   ],
   "source": [
    "nP4=((nCiphertext[3])**nPri_d)%nPub_n\n",
    "\"<Ciphertext (C)> {} <decrypts> <plaintext (P)> {}\".format(nCiphertext[3],nP4)"
   ]
  },
  {
   "cell_type": "code",
   "execution_count": 15,
   "metadata": {},
   "outputs": [
    {
     "data": {
      "text/plain": [
       "'<Ciphertext (C) = Encr(P)> (29, 9, 16, 14)'"
      ]
     },
     "execution_count": 15,
     "metadata": {},
     "output_type": "execute_result"
    }
   ],
   "source": [
    "nCiphertext=nC1,nC2,nC3,nC4\n",
    "\"<Ciphertext (C) = Encr(P)> {}\".format(nCiphertext)"
   ]
  },
  {
   "cell_type": "code",
   "execution_count": 16,
   "metadata": {},
   "outputs": [
    {
     "data": {
      "text/plain": [
       "'<plaintext (P)> (2, 3, 4, 5)'"
      ]
     },
     "execution_count": 16,
     "metadata": {},
     "output_type": "execute_result"
    }
   ],
   "source": [
    "\"<plaintext (P)> {}\".format(nPri_pin)"
   ]
  },
  {
   "cell_type": "markdown",
   "metadata": {},
   "source": [
    "- **knowledge** of - i) encryption algorithm - **RSA** - ii) **encryption** **key** - $e$ - $n$ - iii) **ciphertext** - $C$ - **not** sufficient to get **back** - **plaintext** - $P$ - in a **reasonable** amount of **time** - must also know - decryption key - private key - $d$ [6]"
   ]
  },
  {
   "cell_type": "markdown",
   "metadata": {},
   "source": [
    "- **process** of - **RSA** - **plus** - **encryption** **key** - $e$ - can be **made** **public** without compromising the security of the system - **solves** problem - **key** **distribution** [6]"
   ]
  },
  {
   "cell_type": "markdown",
   "metadata": {},
   "source": [
    "***\n",
    "# END"
   ]
  }
 ],
 "metadata": {
  "kernelspec": {
   "display_name": "Python 3",
   "language": "python",
   "name": "python3"
  },
  "language_info": {
   "codemirror_mode": {
    "name": "ipython",
    "version": 3
   },
   "file_extension": ".py",
   "mimetype": "text/x-python",
   "name": "python",
   "nbconvert_exporter": "python",
   "pygments_lexer": "ipython3",
   "version": "3.7.6"
  }
 },
 "nbformat": 4,
 "nbformat_minor": 4
}
