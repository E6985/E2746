{
 "cells": [
  {
   "cell_type": "markdown",
   "metadata": {},
   "source": [
    "# algorithm-efficiency-complexity-analyse-evaluate-O-polynomial-n\n",
    "> [TABLE OF CONTENTS](https://github.com/E6985/E2746/blob/master/README.md)\n",
    "***"
   ]
  },
  {
   "cell_type": "markdown",
   "metadata": {},
   "source": [
    "- notation - $O(n^{2})$ - **quadratic** - algorithm - when executed - quadratic - **time** - **worst-case** - performance is directly **proportional** to the **square** of the **size** of the **input** data set - $n$ - directly proportional to - $(n^{2})$ [6]"
   ]
  },
  {
   "cell_type": "markdown",
   "metadata": {},
   "source": [
    "- class of **complexity** is common with algorithms that involve **nested** **iterations** over an input data set - nested for loops - outer for loop - inner for loop - iterating twice through an array - nested iterations - **deeper** nested iterations will **result** in **higher** **orders** - $O(n^{3})$ - $O(n^{4})$ - the number of nestings will give rise to the power on the input data - $n$ [6]"
   ]
  },
  {
   "cell_type": "markdown",
   "metadata": {},
   "source": [
    "- function - fDuplicates - situation whereby worst-case - execution time - will depend on the square on the number of elements in the array - nArrTest1 - nArrTest2 - will occur given the - nested for loop - structure - execution time - function - fDuplicates - is constant in the best-case - happens if two duplicate elements are at array index position - zero - one - first two positions in the input data set - $n$ [6]"
   ]
  },
  {
   "cell_type": "markdown",
   "metadata": {},
   "source": [
    "- function - fDuplicates - parameter - nParElements - outer for loop - iterate through each element in the array - name - nEachValueOuter - inner for loop - doing the same iteration - name - nEachValueInner - iterate through all elements checking if there are duplicate elements or if there is - a - duplicate - found [6]"
   ]
  },
  {
   "cell_type": "markdown",
   "metadata": {},
   "source": [
    "- worst-case - execution time - iterate through all - nEachValueOuter - then for every element iterated and compare to all the others - find that it does not match any - lead to - $(n^{2})$ - execution - avoid self comparsion - avoid false positives - in the case whereby - name - nEachValueOuter - equals - name - nEachValueInner - would be comparing the same element to itself - would return - True - if this is excluded - catches case [6]\n",
    "\n",
    "```python\n",
    "if nEachValueOuter==nEachValueInner:\n",
    "    continue\n",
    "```"
   ]
  },
  {
   "cell_type": "code",
   "execution_count": 1,
   "metadata": {},
   "outputs": [],
   "source": [
    "# define function - fDuplicates\n",
    "def fDuplicates(nParElements):\n",
    "    for nEachValueOuter in range(0,len(nParElements)):\n",
    "        for nEachValueInner in range(0,len(nParElements)):\n",
    "            if nEachValueOuter==nEachValueInner:\n",
    "                continue\n",
    "            if nParElements[nEachValueOuter]==nParElements[nEachValueInner]:\n",
    "                return True\n",
    "    return False"
   ]
  },
  {
   "cell_type": "markdown",
   "metadata": {},
   "source": [
    "- input data - $n$ - array - nArrTest1 - includes a duplicate - 2 - return - True [6]"
   ]
  },
  {
   "cell_type": "code",
   "execution_count": 2,
   "metadata": {},
   "outputs": [],
   "source": [
    "nArrTest1=[0,2,1,2]"
   ]
  },
  {
   "cell_type": "code",
   "execution_count": 3,
   "metadata": {},
   "outputs": [
    {
     "data": {
      "text/plain": [
       "True"
      ]
     },
     "execution_count": 3,
     "metadata": {},
     "output_type": "execute_result"
    }
   ],
   "source": [
    "# call function - fDuplicates\n",
    "fDuplicates(nArrTest1)"
   ]
  },
  {
   "cell_type": "markdown",
   "metadata": {},
   "source": [
    "- input data - $n$ - array - nArrTest2 - no duplicates - return - False [6]"
   ]
  },
  {
   "cell_type": "code",
   "execution_count": 4,
   "metadata": {},
   "outputs": [],
   "source": [
    "nArrTest2=[1,2,3,4]"
   ]
  },
  {
   "cell_type": "code",
   "execution_count": 5,
   "metadata": {},
   "outputs": [
    {
     "data": {
      "text/plain": [
       "False"
      ]
     },
     "execution_count": 5,
     "metadata": {},
     "output_type": "execute_result"
    }
   ],
   "source": [
    "# call function - fDuplicates\n",
    "fDuplicates(nArrTest2)"
   ]
  },
  {
   "cell_type": "markdown",
   "metadata": {},
   "source": [
    "***\n",
    "# END"
   ]
  }
 ],
 "metadata": {
  "kernelspec": {
   "display_name": "Python 3",
   "language": "python",
   "name": "python3"
  },
  "language_info": {
   "codemirror_mode": {
    "name": "ipython",
    "version": 3
   },
   "file_extension": ".py",
   "mimetype": "text/x-python",
   "name": "python",
   "nbconvert_exporter": "python",
   "pygments_lexer": "ipython3",
   "version": "3.7.6"
  }
 },
 "nbformat": 4,
 "nbformat_minor": 4
}
