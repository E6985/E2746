{
 "cells": [
  {
   "cell_type": "markdown",
   "metadata": {},
   "source": [
    "# algorithm-efficiency-complexity-asymptotic-big-O\n",
    "> [TABLE OF CONTENTS](https://github.com/E6985/E2746/blob/master/README.md)\n",
    "***"
   ]
  },
  {
   "cell_type": "markdown",
   "metadata": {},
   "source": [
    "- big O notation - with a capital latin letter O - not a zero - is a **symbolism** used in - complexity theory - mathematics - computer science - describes the asymptotic behaviours of functions - big O notation measures how quickly a function grows or declines - also called Landaus symbol after the German number theoretician Edmund Landau who invented the notation - the growth rate of a function is also called its **order** - the capitalised greek letter - omicron - was originally used - has fallen out of favour and the capitalised latin letter - O - is now commonly used - algoroithm x runs in $O(n^{2})$ time [8]"
   ]
  },
  {
   "cell_type": "markdown",
   "metadata": {},
   "source": [
    "- big O notation is used in computer science to describe the complexity of an algorithm in the **worst-case** scenario - can be used to describe the execution time required or the space used - eg - in memory or on disk by an algorithm - can be thought of as a measure of the **expected** - **efficiency** - of an algorithm - note that for small sizes of - n - all algorithms are efficient - ie - fast enough to be used for real time applications - when evaluating the complexity of algorithms can say that if their big O notations are similar their complexity in terms of time/space requirements is similar in the worst case - if algorithm - a - has a less complex big O notation than algorithm - b - can infer that it is much more efficient in terms of space/time requirements at least in the worst case [8]"
   ]
  },
  {
   "cell_type": "markdown",
   "metadata": {},
   "source": [
    "- suppose $𝑓(𝑥)$ and $𝑔(𝑥)$ are two functions defined on some subset of the set of real numbers\n",
    "    \n",
    "<img src=\"img/03-1-05.png\" />\n",
    "\n",
    "- if and only if there exist constants $𝑁$ and $𝐶$ such that\n",
    "\n",
    "<img src=\"img/03-1-06.png\" />\n",
    "\n",
    "- intuitively this means that $f(x)$ does not grow more quickly than $g(x)$ - note that - N - is size of the input set which is large enough for the higher order term to begin to dominate [8]"
   ]
  },
  {
   "cell_type": "markdown",
   "metadata": {},
   "source": [
    "- note that when using big O notation - aim to identify the tightest **upper** **bound** possible - an algorithm that is $𝑂(𝑛^{2})$ is also $𝑂(𝑛^{3})$ - but the former information is more useful - specifying an upper bound which is higher than necessary is like saying - this task will take at most one week to complete - when the true maximum time to complete the task is in fact five minute [8]"
   ]
  },
  {
   "cell_type": "markdown",
   "metadata": {},
   "source": [
    "***\n",
    "# END"
   ]
  }
 ],
 "metadata": {
  "kernelspec": {
   "display_name": "Python 3",
   "language": "python",
   "name": "python3"
  },
  "language_info": {
   "codemirror_mode": {
    "name": "ipython",
    "version": 3
   },
   "file_extension": ".py",
   "mimetype": "text/x-python",
   "name": "python",
   "nbconvert_exporter": "python",
   "pygments_lexer": "ipython3",
   "version": "3.7.6"
  }
 },
 "nbformat": 4,
 "nbformat_minor": 4
}
