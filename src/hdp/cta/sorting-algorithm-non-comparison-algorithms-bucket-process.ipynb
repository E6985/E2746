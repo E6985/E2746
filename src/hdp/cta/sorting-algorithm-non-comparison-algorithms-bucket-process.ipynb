{
 "cells": [
  {
   "cell_type": "markdown",
   "metadata": {},
   "source": [
    "# sorting-algorithm-non-comparison-algorithms-bucket-process\n",
    "> [TABLE OF CONTENTS](https://github.com/E6985/E2746/blob/master/README.md)\n",
    "***"
   ]
  },
  {
   "cell_type": "markdown",
   "metadata": {},
   "source": [
    "- **input** instance - input collection - **unsorted** **array** [6]\n",
    "\n",
    "$[7,5,20,13,1,27,4,16,21]$"
   ]
  },
  {
   "cell_type": "markdown",
   "metadata": {},
   "source": [
    "- chosen - **picked** - - **parameters** - **size** of **buckets** - **number** of **buckets** - **ranges** **taken** - **depend** on the **types** of **input** instances **expected** to receive [6]"
   ]
  },
  {
   "cell_type": "markdown",
   "metadata": {},
   "source": [
    "- **call** - **bucket** **sort** - **bucket** **integer** **keys** - 0-9 - **get** **all** items - **elements** - which are **in** the **range** [6] "
   ]
  },
  {
   "cell_type": "markdown",
   "metadata": {},
   "source": [
    "- sake of simplicity - three buckets - integer keys - 0-9 - integer keys - 10-19 - integer keys - 20-29\n",
    "\n",
    "$bucket$ $0-9$ ...$7,5,1,4$\n",
    "\n",
    "$bucket$ $10-19$ ...$16,13$\n",
    "\n",
    "$bucket$ $20-29$ ...$20,27,21$"
   ]
  },
  {
   "cell_type": "markdown",
   "metadata": {},
   "source": [
    "<img src=\"img/06-40.png\" />"
   ]
  },
  {
   "cell_type": "markdown",
   "metadata": {},
   "source": [
    "- **each** **bucket** still **have** items - **elements** - **out** **of** **order** - need to **do** some other **operation** - need to **solve** those items - **elements** - **into** the **correct** **order** [6]\n",
    "\n",
    "$bucket$ $0-9$ ...$7,5,1,4$"
   ]
  },
  {
   "cell_type": "markdown",
   "metadata": {},
   "source": [
    "- **option** - **keep** **calling** the **bucket** **sort** **algorithm** - **recursively** - split those into - bucket integer keys - 0-4 - bucket integer keys - 5-9 [6]\n",
    "\n",
    "$bucket$ $0-4$ ...$1,4$\n",
    "\n",
    "$bucket$ $5-9$ ...$7,5$"
   ]
  },
  {
   "cell_type": "markdown",
   "metadata": {},
   "source": [
    "- **keep** **going** **down** - **end** up with **buckets** that have only **one** item - **element** - then **recombine** - **like** merge sort - **merge** **step** [6]\n",
    "\n",
    "$bucket$ $0-2$ ...$1$\n",
    "\n",
    "$bucket$ $2-4$ ...$4$\n",
    "\n",
    "$bucket$ $4-6$ ...$5$\n",
    "\n",
    "$bucket$ $7-9$ ...$7$"
   ]
  },
  {
   "cell_type": "markdown",
   "metadata": {},
   "source": [
    "- **option** - **get** **down** to a **small** enough **input** instance - **use** **another** **algorithm** - **insertion** **sort** - good candidate [6]"
   ]
  },
  {
   "cell_type": "markdown",
   "metadata": {},
   "source": [
    "<img src=\"img/06-40-1.png\" />"
   ]
  },
  {
   "cell_type": "markdown",
   "metadata": {},
   "source": [
    "- **between** - items - **elements** - in **buckets** - **and** - the **step** - some **other** **sorting** **operation** is **employed** - **insertion** **sort** - **or** - **could** be **recursive** **calls** [6]\n",
    "\n",
    "$bucket$ $0-9$ ...$7,5,1,4$"
   ]
  },
  {
   "cell_type": "markdown",
   "metadata": {},
   "source": [
    "<img src=\"img/06-40-2.png\" />"
   ]
  },
  {
   "cell_type": "markdown",
   "metadata": {},
   "source": [
    "- call - sorting algorithm - albeit only two items - elements - result in correct positions - indices [6]\n",
    "\n",
    "$bucket$ $10-19$ ...$16,13$"
   ]
  },
  {
   "cell_type": "markdown",
   "metadata": {},
   "source": [
    "<img src=\"img/06-40-3.png\" />"
   ]
  },
  {
   "cell_type": "markdown",
   "metadata": {},
   "source": [
    "- call - sorting algorithm - insertion sort - albeit only three items - elements - result in correct positions - indices [6]\n",
    "\n",
    "$bucket$ $20-29$ ...$20,27,21$"
   ]
  },
  {
   "cell_type": "markdown",
   "metadata": {},
   "source": [
    "<img src=\"img/06-40-4.png\" />"
   ]
  },
  {
   "cell_type": "markdown",
   "metadata": {},
   "source": [
    "- **finally** - get the items - **elements** - **in** **all** **buckets** - **join** the collection - **array** - **back** **together** [6]"
   ]
  },
  {
   "cell_type": "markdown",
   "metadata": {},
   "source": [
    "- **know** - **buckets** are **all** **in** **order** with **respect** **to** **each** **other** - **know** **everything** **within** those **buckets** are in the **correct** order as well - so its **just** a **simple** **combine** **operation** [6]"
   ]
  },
  {
   "cell_type": "markdown",
   "metadata": {},
   "source": [
    "<img src=\"img/06-40-5.png\" />"
   ]
  },
  {
   "cell_type": "markdown",
   "metadata": {},
   "source": [
    "***\n",
    "# END"
   ]
  }
 ],
 "metadata": {
  "kernelspec": {
   "display_name": "Python 3",
   "language": "python",
   "name": "python3"
  },
  "language_info": {
   "codemirror_mode": {
    "name": "ipython",
    "version": 3
   },
   "file_extension": ".py",
   "mimetype": "text/x-python",
   "name": "python",
   "nbconvert_exporter": "python",
   "pygments_lexer": "ipython3",
   "version": "3.7.6"
  }
 },
 "nbformat": 4,
 "nbformat_minor": 4
}
