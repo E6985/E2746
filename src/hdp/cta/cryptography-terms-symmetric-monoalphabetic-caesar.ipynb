{
 "cells": [
  {
   "cell_type": "markdown",
   "metadata": {},
   "source": [
    "# cryptography-terms-symmetric-monoalphabetic-caesar\n",
    "> [TABLE OF CONTENTS](https://github.com/E6985/E2746/blob/master/README.md)\n",
    "***"
   ]
  },
  {
   "cell_type": "markdown",
   "metadata": {},
   "source": [
    "- **offset** - shift - by two - **displace** **character** to be **encrypted** [6]\n",
    "\n",
    "\n",
    "| Character     | Encrypt (offset) |\n",
    "| ------------- |:----------------:|\n",
    "| A             | C                |\n",
    "| B             | D                |\n",
    "| ...           | ...              |\n",
    "| Z             | B                |"
   ]
  },
  {
   "cell_type": "markdown",
   "metadata": {},
   "source": [
    "- IPO - **input** - **plaintext** - $P$ - **offset** - $n$ - **processing** - **algorithm** - for each character - mathematical representation - replace by character plus offset - shift - converting character - numeric value - ASCI - A - 65 - offset - 2 - ASCII - C - 67 - **output** - **ciphertext** - $C$ [6]\n",
    "\n",
    "| I                     | P                          | O                     |\n",
    "|:---------------------:|:--------------------------:|:---------------------:|\n",
    "| (P)                   | algorithm                  | (C)                   |"
   ]
  },
  {
   "cell_type": "markdown",
   "metadata": {},
   "source": [
    "- **encryption** - numeric value - **plaintext** - $P$ - **plus** - **offset** - $n$ - **divided** by - $26$ - **remainder** from this calculation - $mod$ $26$ - twenty-six letters in the alphabet - require wrap around - character - Z - plus offset - 2 - encoded as - B - otherwise encoded as non-character code [6]\n",
    "\n",
    "$(P+n)$ $mod$ $26$"
   ]
  },
  {
   "cell_type": "markdown",
   "metadata": {},
   "source": [
    "<img src=\"img/ascii.png\" />"
   ]
  },
  {
   "cell_type": "markdown",
   "metadata": {},
   "source": [
    "- **decryption** - **output** from **encryption** - **ciphertext** - $C$ - **algorithm** **input** - need **offset** - **output** - **plaintext** - $P$ [6]"
   ]
  },
  {
   "cell_type": "code",
   "execution_count": 1,
   "metadata": {},
   "outputs": [],
   "source": [
    "# define function - fCaesarEncrypt\n",
    "def fCaesarEncrypt(nParPlaintext,nParOffset):\n",
    "    nCiphertext=\"\"\n",
    "    for nEachValue in nParPlaintext:\n",
    "        nNumericValue=ord(nEachValue)\n",
    "        if nEachValue.isupper():\n",
    "            # nAdjusted=((nNumericValue+nParOffset-65)%26)+65\n",
    "            nAdjusted=((nNumericValue+nParOffset-ord(\"A\"))%26)+ord(\"A\")\n",
    "            nCiphertext+=chr(nAdjusted)\n",
    "        elif nNumericValue==ord(\" \"): # chr(32) = ord(\" \")\n",
    "            nCiphertext+=nEachValue\n",
    "        else:\n",
    "            # nAdjusted=((nNumericValue+nParOffset-97)%26)+97\n",
    "            nAdjusted=((nNumericValue+nParOffset-ord(nParPlaintext[0]))%26)+ord(nParPlaintext[0])\n",
    "            nCiphertext+=chr(nAdjusted)\n",
    "    return nCiphertext"
   ]
  },
  {
   "cell_type": "code",
   "execution_count": 2,
   "metadata": {},
   "outputs": [],
   "source": [
    "nArgP=\"a Z\"\n",
    "nArgOffset=2\n",
    "nUserDefinedFunction=fCaesarEncrypt.__name__\n",
    "nParP=nArgP\n",
    "nParOffset=nArgOffset\n",
    "nCiphertext=\"\"\n",
    "nEachValue=0\n",
    "nI=0 # character index\n",
    "nResult=\"\""
   ]
  },
  {
   "cell_type": "code",
   "execution_count": 3,
   "metadata": {},
   "outputs": [
    {
     "data": {
      "text/plain": [
       "'<function name> fCaesarEncrypt'"
      ]
     },
     "execution_count": 3,
     "metadata": {},
     "output_type": "execute_result"
    }
   ],
   "source": [
    "\"<function name> {}\".format(nUserDefinedFunction)"
   ]
  },
  {
   "cell_type": "code",
   "execution_count": 4,
   "metadata": {},
   "outputs": [
    {
     "data": {
      "text/plain": [
       "'<fCaesarEncrypt argument(s)> <plaintext (P)> a Z <offset> 2'"
      ]
     },
     "execution_count": 4,
     "metadata": {},
     "output_type": "execute_result"
    }
   ],
   "source": [
    "\"<{} argument(s)> <plaintext (P)> {} <offset> {}\".format(nUserDefinedFunction,nArgP,nArgOffset)"
   ]
  },
  {
   "cell_type": "code",
   "execution_count": 5,
   "metadata": {},
   "outputs": [
    {
     "data": {
      "text/plain": [
       "'<fCaesarEncrypt signature> fCaesarEncrypt(a Z,2)'"
      ]
     },
     "execution_count": 5,
     "metadata": {},
     "output_type": "execute_result"
    }
   ],
   "source": [
    "\"<{} signature> {}({},{})\".format(nUserDefinedFunction,nUserDefinedFunction,nParP,nParOffset)"
   ]
  },
  {
   "cell_type": "markdown",
   "metadata": {},
   "source": [
    "```python\n",
    "def fCaesarEncrypt(nParPlaintext,nParOffset):\n",
    "```"
   ]
  },
  {
   "cell_type": "code",
   "execution_count": 6,
   "metadata": {},
   "outputs": [
    {
     "data": {
      "text/plain": [
       "'<fCaesarEncrypt parameter(s)> \"a Z\", 2'"
      ]
     },
     "execution_count": 6,
     "metadata": {},
     "output_type": "execute_result"
    }
   ],
   "source": [
    "\"<{} parameter(s)> \\\"{}\\\", {}\".format(nUserDefinedFunction,nParP,nParOffset)"
   ]
  },
  {
   "cell_type": "code",
   "execution_count": 7,
   "metadata": {},
   "outputs": [
    {
     "data": {
      "text/plain": [
       "'<Ciphertext (C) return initialised>'"
      ]
     },
     "execution_count": 7,
     "metadata": {},
     "output_type": "execute_result"
    }
   ],
   "source": [
    "\"<Ciphertext (C) return initialised>\""
   ]
  },
  {
   "cell_type": "markdown",
   "metadata": {},
   "source": [
    "```python\n",
    "nCiphertext=\"\"\n",
    "```"
   ]
  },
  {
   "cell_type": "code",
   "execution_count": 8,
   "metadata": {},
   "outputs": [
    {
     "data": {
      "text/plain": [
       "'<each character> in <plaintext (P)> \"a Z\" <iteration step> 1'"
      ]
     },
     "execution_count": 8,
     "metadata": {},
     "output_type": "execute_result"
    }
   ],
   "source": [
    "nEachValue+=1\n",
    "if nEachValue<(1+len(nParP)):\n",
    "    nResult=\"<each character> in <plaintext (P)> \\\"{}\\\" <iteration step> {}\".format(nParP,nEachValue)\n",
    "else:\n",
    "    nResult=\"<exit loop>\"\n",
    "nResult"
   ]
  },
  {
   "cell_type": "markdown",
   "metadata": {},
   "source": [
    "```python\n",
    "for nEachValue in nParPlaintext:\n",
    "```"
   ]
  },
  {
   "cell_type": "code",
   "execution_count": 9,
   "metadata": {},
   "outputs": [
    {
     "data": {
      "text/plain": [
       "'<character> \"a\" in <plaintext (P)> \"a Z\" <ASCII> 97'"
      ]
     },
     "execution_count": 9,
     "metadata": {},
     "output_type": "execute_result"
    }
   ],
   "source": [
    "nNumericValue=ord(nArgP[nI])\n",
    "\"<character> \\\"{}\\\" in <plaintext (P)> \\\"{}\\\" <ASCII> {}\".format(nParP[nI],nParP,nNumericValue)"
   ]
  },
  {
   "cell_type": "markdown",
   "metadata": {},
   "source": [
    "```python\n",
    "nNumericValue=ord(nEachValue)\n",
    "```"
   ]
  },
  {
   "cell_type": "code",
   "execution_count": 10,
   "metadata": {},
   "outputs": [
    {
     "data": {
      "text/plain": [
       "'<character> \"a\" in <plaintext (P)> \"a Z\" <upper> False'"
      ]
     },
     "execution_count": 10,
     "metadata": {},
     "output_type": "execute_result"
    }
   ],
   "source": [
    "\"<character> \\\"{}\\\" in <plaintext (P)> \\\"{}\\\" <upper> {}\".format(nParP[nI],nParP,nParP[nI].isupper())"
   ]
  },
  {
   "cell_type": "markdown",
   "metadata": {},
   "source": [
    "```python\n",
    "if nEachValue.isupper():\n",
    "```"
   ]
  },
  {
   "cell_type": "code",
   "execution_count": 11,
   "metadata": {},
   "outputs": [
    {
     "data": {
      "text/plain": [
       "'<character> \"a\" in <plaintext (P)> \"a Z\" <[SPACE]> False'"
      ]
     },
     "execution_count": 11,
     "metadata": {},
     "output_type": "execute_result"
    }
   ],
   "source": [
    "\"<character> \\\"{}\\\" in <plaintext (P)> \\\"{}\\\" <[SPACE]> {}\".format(nParP[nI],nParP,ord(nParP[nI])==ord(\" \"))"
   ]
  },
  {
   "cell_type": "markdown",
   "metadata": {},
   "source": [
    "```python\n",
    "elif nNumericValue==ord(\" \"): # chr(32) = ord(\" \")\n",
    "```"
   ]
  },
  {
   "cell_type": "markdown",
   "metadata": {},
   "source": [
    "```python\n",
    "else:\n",
    "```"
   ]
  },
  {
   "cell_type": "code",
   "execution_count": 12,
   "metadata": {
    "scrolled": true
   },
   "outputs": [
    {
     "data": {
      "text/plain": [
       "'<character> \"a\" <ASCII> 97 <offset> 2 <ciphertext (C)> 99'"
      ]
     },
     "execution_count": 12,
     "metadata": {},
     "output_type": "execute_result"
    }
   ],
   "source": [
    "nAdjusted=((nNumericValue+nParOffset-ord(nParP[nI]))%26)+ord(nParP[nI])\n",
    "\"<character> \\\"{}\\\" <ASCII> {} <offset> {} <ciphertext (C)> {}\".format(nParP[nI],nNumericValue,nParOffset,nAdjusted)"
   ]
  },
  {
   "cell_type": "markdown",
   "metadata": {},
   "source": [
    "```python\n",
    "# nAdjusted=((nNumericValue+nParOffset-97)%26)+97\n",
    "nAdjusted=((nNumericValue+nParOffsetord(nParPlaintext[0]))%26)+ord(nParPlaintext[0])```"
   ]
  },
  {
   "cell_type": "code",
   "execution_count": 13,
   "metadata": {},
   "outputs": [
    {
     "data": {
      "text/plain": [
       "'<ciphertext (C)> 99 <concatenate> <character> \"c\"'"
      ]
     },
     "execution_count": 13,
     "metadata": {},
     "output_type": "execute_result"
    }
   ],
   "source": [
    "nCiphertext+=chr(nAdjusted)\n",
    "\"<ciphertext (C)> {} <concatenate> <character> \\\"{}\\\"\".format(nAdjusted,nCiphertext)"
   ]
  },
  {
   "cell_type": "markdown",
   "metadata": {},
   "source": [
    "```python\n",
    "nCiphertext+=chr(nAdjusted)\n",
    "```"
   ]
  },
  {
   "cell_type": "code",
   "execution_count": 14,
   "metadata": {},
   "outputs": [
    {
     "data": {
      "text/plain": [
       "'<each character> in <plaintext (P)> \"a Z\" <iteration step> 2'"
      ]
     },
     "execution_count": 14,
     "metadata": {},
     "output_type": "execute_result"
    }
   ],
   "source": [
    "nEachValue+=1\n",
    "nI+=1\n",
    "if nEachValue<(1+len(nParP)):\n",
    "    nResult=\"<each character> in <plaintext (P)> \\\"{}\\\" <iteration step> {}\".format(nParP,nEachValue)\n",
    "else:\n",
    "    nResult=\"<exit loop>\"\n",
    "nResult"
   ]
  },
  {
   "cell_type": "markdown",
   "metadata": {},
   "source": [
    "```python\n",
    "for nEachValue in nParPlaintext:\n",
    "```"
   ]
  },
  {
   "cell_type": "code",
   "execution_count": 15,
   "metadata": {},
   "outputs": [
    {
     "data": {
      "text/plain": [
       "'<character> \" \" in <plaintext (P)> \"a Z\" <ASCII> 32'"
      ]
     },
     "execution_count": 15,
     "metadata": {},
     "output_type": "execute_result"
    }
   ],
   "source": [
    "nNumericValue=ord(nArgP[nI])\n",
    "\"<character> \\\"{}\\\" in <plaintext (P)> \\\"{}\\\" <ASCII> {}\".format(nParP[nI],nParP,nNumericValue)"
   ]
  },
  {
   "cell_type": "markdown",
   "metadata": {},
   "source": [
    "```python\n",
    "nNumericValue=ord(nEachValue)\n",
    "```"
   ]
  },
  {
   "cell_type": "code",
   "execution_count": 16,
   "metadata": {},
   "outputs": [
    {
     "data": {
      "text/plain": [
       "'<character> \" \" in <plaintext (P)> \"a Z\" <upper> False'"
      ]
     },
     "execution_count": 16,
     "metadata": {},
     "output_type": "execute_result"
    }
   ],
   "source": [
    "\"<character> \\\"{}\\\" in <plaintext (P)> \\\"{}\\\" <upper> {}\".format(nParP[nI],nParP,ord(nParP[nI])==nParP[nI].isupper())"
   ]
  },
  {
   "cell_type": "markdown",
   "metadata": {},
   "source": [
    "```python\n",
    "if nEachValue.isupper():\n",
    "```"
   ]
  },
  {
   "cell_type": "code",
   "execution_count": 17,
   "metadata": {},
   "outputs": [
    {
     "data": {
      "text/plain": [
       "'<character> \" \" in <plaintext (P)> \"a Z\" <[SPACE]> True'"
      ]
     },
     "execution_count": 17,
     "metadata": {},
     "output_type": "execute_result"
    }
   ],
   "source": [
    "\"<character> \\\"{}\\\" in <plaintext (P)> \\\"{}\\\" <[SPACE]> {}\".format(nParP[nI],nParP,ord(nParP[nI])==ord(\" \"))"
   ]
  },
  {
   "cell_type": "markdown",
   "metadata": {},
   "source": [
    "```python\n",
    "elif nNumericValue==ord(\" \"): # chr(32) = ord(\" \")\n",
    "```"
   ]
  },
  {
   "cell_type": "code",
   "execution_count": 18,
   "metadata": {},
   "outputs": [
    {
     "data": {
      "text/plain": [
       "'<character> \" \" <ASCII> 32 <no offset> <ciphertext (C)> 34'"
      ]
     },
     "execution_count": 18,
     "metadata": {},
     "output_type": "execute_result"
    }
   ],
   "source": [
    "nAdjusted=((nNumericValue+nParOffset-ord(nParP[nI]))%26)+ord(nParP[nI])\n",
    "\"<character> \\\"{}\\\" <ASCII> {} <no offset> <ciphertext (C)> {}\".format(nParP[nI],nNumericValue,nAdjusted)"
   ]
  },
  {
   "cell_type": "code",
   "execution_count": 19,
   "metadata": {},
   "outputs": [
    {
     "data": {
      "text/plain": [
       "'<ciphertext (C)> 34 <concatenate> <character> \"c \"'"
      ]
     },
     "execution_count": 19,
     "metadata": {},
     "output_type": "execute_result"
    }
   ],
   "source": [
    "nCiphertext+=nParP[nI]\n",
    "\"<ciphertext (C)> {} <concatenate> <character> \\\"{}\\\"\".format(nAdjusted,nCiphertext)"
   ]
  },
  {
   "cell_type": "markdown",
   "metadata": {},
   "source": [
    "```python\n",
    "nCiphertext+=nEachValue\n",
    "```"
   ]
  },
  {
   "cell_type": "code",
   "execution_count": 20,
   "metadata": {},
   "outputs": [
    {
     "data": {
      "text/plain": [
       "'<each character> in <plaintext (P)> \"a Z\" <iteration step> 3'"
      ]
     },
     "execution_count": 20,
     "metadata": {},
     "output_type": "execute_result"
    }
   ],
   "source": [
    "nEachValue+=1\n",
    "nI+=1\n",
    "if nEachValue<(1+len(nParP)):\n",
    "    nResult=\"<each character> in <plaintext (P)> \\\"{}\\\" <iteration step> {}\".format(nParP,nEachValue)\n",
    "else:\n",
    "    nResult=\"<exit loop>\"\n",
    "nResult"
   ]
  },
  {
   "cell_type": "markdown",
   "metadata": {},
   "source": [
    "```python\n",
    "for nEachValue in nParPlaintext:\n",
    "```"
   ]
  },
  {
   "cell_type": "code",
   "execution_count": 21,
   "metadata": {},
   "outputs": [
    {
     "data": {
      "text/plain": [
       "'<character> \"Z\" in <plaintext (P)> \"a Z\" <ASCII> 90'"
      ]
     },
     "execution_count": 21,
     "metadata": {},
     "output_type": "execute_result"
    }
   ],
   "source": [
    "nNumericValue=ord(nArgP[nI])\n",
    "\"<character> \\\"{}\\\" in <plaintext (P)> \\\"{}\\\" <ASCII> {}\".format(nParP[nI],nParP,nNumericValue)"
   ]
  },
  {
   "cell_type": "markdown",
   "metadata": {},
   "source": [
    "```python\n",
    "nNumericValue=ord(nEachValue)\n",
    "```"
   ]
  },
  {
   "cell_type": "code",
   "execution_count": 22,
   "metadata": {},
   "outputs": [
    {
     "data": {
      "text/plain": [
       "'<character> \"Z\" in <plaintext (P)> \"a Z\" <upper> True'"
      ]
     },
     "execution_count": 22,
     "metadata": {},
     "output_type": "execute_result"
    }
   ],
   "source": [
    "\"<character> \\\"{}\\\" in <plaintext (P)> \\\"{}\\\" <upper> {}\".format(nParP[nI],nParP,nParP[nI].isupper())"
   ]
  },
  {
   "cell_type": "markdown",
   "metadata": {},
   "source": [
    "```python\n",
    "if nEachValue.isupper():\n",
    "```"
   ]
  },
  {
   "cell_type": "code",
   "execution_count": 23,
   "metadata": {},
   "outputs": [
    {
     "data": {
      "text/plain": [
       "'<character> \"Z\" <ASCII> 90 <offset> 2 <ciphertext (C)> 66'"
      ]
     },
     "execution_count": 23,
     "metadata": {},
     "output_type": "execute_result"
    }
   ],
   "source": [
    "nAdjusted=((nNumericValue+nParOffset-ord(\"A\"))%26)+ord(\"A\")\n",
    "\"<character> \\\"{}\\\" <ASCII> {} <offset> {} <ciphertext (C)> {}\".format(nParP[nI],nNumericValue,nParOffset,nAdjusted)"
   ]
  },
  {
   "cell_type": "markdown",
   "metadata": {},
   "source": [
    "```python\n",
    "# nAdjusted=((nNumericValue+nParOffset-65)%26)+65\n",
    "nAdjusted=((nNumericValue+nParOffset-ord(\"A\"))%26)+ord(\"A\")\n",
    "```"
   ]
  },
  {
   "cell_type": "code",
   "execution_count": 24,
   "metadata": {},
   "outputs": [
    {
     "data": {
      "text/plain": [
       "'<ciphertext (C)> 66 <concatenate> <character> \"c B\"'"
      ]
     },
     "execution_count": 24,
     "metadata": {},
     "output_type": "execute_result"
    }
   ],
   "source": [
    "nCiphertext+=chr(nAdjusted)\n",
    "\"<ciphertext (C)> {} <concatenate> <character> \\\"{}\\\"\".format(nAdjusted,nCiphertext)"
   ]
  },
  {
   "cell_type": "markdown",
   "metadata": {},
   "source": [
    "```python\n",
    "nCiphertext+=chr(nAdjusted)\n",
    "```"
   ]
  },
  {
   "cell_type": "code",
   "execution_count": 25,
   "metadata": {},
   "outputs": [
    {
     "data": {
      "text/plain": [
       "'<exit loop>'"
      ]
     },
     "execution_count": 25,
     "metadata": {},
     "output_type": "execute_result"
    }
   ],
   "source": [
    "nEachValue+=1\n",
    "if nEachValue<(1+len(nParP)):\n",
    "    nResult=\"<each character> in <plaintext (P)> \\\"{}\\\" <iteration step> {}\".format(nParP,nEachValue)\n",
    "else:\n",
    "    nResult=\"<exit loop>\"\n",
    "nResult"
   ]
  },
  {
   "cell_type": "markdown",
   "metadata": {},
   "source": [
    "```python\n",
    "for nEachValue in nParPlaintext:\n",
    "```"
   ]
  },
  {
   "cell_type": "code",
   "execution_count": 26,
   "metadata": {},
   "outputs": [
    {
     "data": {
      "text/plain": [
       "'<ciphertext (C)> c B <RETURNED>'"
      ]
     },
     "execution_count": 26,
     "metadata": {},
     "output_type": "execute_result"
    }
   ],
   "source": [
    "\"<ciphertext (C)> {} <RETURNED>\".format(nCiphertext)"
   ]
  },
  {
   "cell_type": "code",
   "execution_count": 27,
   "metadata": {},
   "outputs": [
    {
     "data": {
      "text/plain": [
       "'c B'"
      ]
     },
     "execution_count": 27,
     "metadata": {},
     "output_type": "execute_result"
    }
   ],
   "source": [
    "nCiphertext"
   ]
  },
  {
   "cell_type": "markdown",
   "metadata": {},
   "source": [
    "```python\n",
    "return nCiphertext\n",
    "```"
   ]
  },
  {
   "cell_type": "code",
   "execution_count": 28,
   "metadata": {},
   "outputs": [
    {
     "data": {
      "text/plain": [
       "'c B'"
      ]
     },
     "execution_count": 28,
     "metadata": {},
     "output_type": "execute_result"
    }
   ],
   "source": [
    "# call fufAnction - fCaesarEncrypt\n",
    "fCaesarEncrypt(nArgP,nArgOffset)"
   ]
  },
  {
   "cell_type": "code",
   "execution_count": 29,
   "metadata": {},
   "outputs": [
    {
     "data": {
      "text/plain": [
       "'<ACTIVATION FRAME-POP OFF STACK> __main__'"
      ]
     },
     "execution_count": 29,
     "metadata": {},
     "output_type": "execute_result"
    }
   ],
   "source": [
    "\"<ACTIVATION FRAME-POP OFF STACK> {}\".format(__name__)"
   ]
  },
  {
   "cell_type": "markdown",
   "metadata": {},
   "source": [
    "***\n",
    "# END"
   ]
  }
 ],
 "metadata": {
  "kernelspec": {
   "display_name": "Python 3",
   "language": "python",
   "name": "python3"
  },
  "language_info": {
   "codemirror_mode": {
    "name": "ipython",
    "version": 3
   },
   "file_extension": ".py",
   "mimetype": "text/x-python",
   "name": "python",
   "nbconvert_exporter": "python",
   "pygments_lexer": "ipython3",
   "version": "3.7.6"
  }
 },
 "nbformat": 4,
 "nbformat_minor": 4
}
