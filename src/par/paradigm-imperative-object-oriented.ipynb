{
 "cells": [
  {
   "cell_type": "markdown",
   "metadata": {},
   "source": [
    "# paradigm-imperative-object-oriented\n",
    "> [TABLE OF CONTENTS](https://github.com/E6985/E2746/blob/master/README.md)\n",
    "***"
   ]
  },
  {
   "cell_type": "markdown",
   "metadata": {},
   "source": [
    "- means of structuring programs so that - properties - behaviours - are bundled into individual - objects - an object could represent - person - with properties - name - age - address - with behaviours  - walking - talking - breathing - running - an object could represent - an email - with properties - recipient list - subject - body - with behaviours - adding attachments - sending - object-oriented programming is an approach for modelling concrete real world things - cars - approach for modelling relations between things - companies and employees - students and teachers - object-oriented programming models real-world entities as software objects - these software objects have - some data associated with them - can perform certain functions [3.1]"
   ]
  },
  {
   "cell_type": "markdown",
   "metadata": {},
   "source": [
    "&#x1F534; [5]"
   ]
  },
  {
   "cell_type": "markdown",
   "metadata": {},
   "source": [
    "***\n",
    "# END"
   ]
  }
 ],
 "metadata": {
  "kernelspec": {
   "display_name": "Python 3",
   "language": "python",
   "name": "python3"
  },
  "language_info": {
   "codemirror_mode": {
    "name": "ipython",
    "version": 3
   },
   "file_extension": ".py",
   "mimetype": "text/x-python",
   "name": "python",
   "nbconvert_exporter": "python",
   "pygments_lexer": "ipython3",
   "version": "3.7.6"
  }
 },
 "nbformat": 4,
 "nbformat_minor": 4
}
